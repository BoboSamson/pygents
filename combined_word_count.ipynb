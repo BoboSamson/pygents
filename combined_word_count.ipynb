{
 "cells": [
  {
   "cell_type": "code",
   "execution_count": 1,
   "id": "f767e44f-3004-443d-acba-a29c77752864",
   "metadata": {},
   "outputs": [
    {
     "name": "stdout",
     "output_type": "stream",
     "text": [
      "Combined word frequencies saved to 'combined_word_frequencies.csv'.\n"
     ]
    }
   ],
   "source": [
    "import csv\n",
    "\n",
    "# Input file containing word frequencies\n",
    "input_file = \"word_frequencies.csv\"\n",
    "\n",
    "# Output file with combined word frequencies\n",
    "output_file = \"combined_word_frequencies.csv\"\n",
    "\n",
    "# Dictionary to store cumulative word counts\n",
    "word_counts = {}\n",
    "\n",
    "# Process the input file and update word counts\n",
    "with open(input_file, \"r\") as infile, open(output_file, \"w\", newline=\"\") as outfile:\n",
    "    reader = csv.reader(infile)\n",
    "    writer = csv.writer(outfile)\n",
    "    \n",
    "    # Write header to the output file\n",
    "    writer.writerow([\"word\", \"count\"])\n",
    "    \n",
    "    # Skip header in the input file\n",
    "    next(reader, None)\n",
    "    \n",
    "    # Process each line in the input file\n",
    "    for row in reader:\n",
    "        if len(row) == 2:  # Ensure row has two columns\n",
    "            word, count = row[0].strip().lower(), int(row[1])\n",
    "            \n",
    "            # Update the word count in the dictionary\n",
    "            if word in word_counts:\n",
    "                word_counts[word] += count\n",
    "            else:\n",
    "                word_counts[word] = count\n",
    "            \n",
    "            # Incremental writing to the output file\n",
    "            # Write and remove words from memory when the dictionary grows large\n",
    "            if len(word_counts) > 10000:  # Adjust threshold as needed\n",
    "                for w, c in list(word_counts.items()):\n",
    "                    writer.writerow([w, c])\n",
    "                word_counts.clear()\n",
    "    \n",
    "    # Write remaining words in memory to the output file\n",
    "    for word, count in word_counts.items():\n",
    "        writer.writerow([word, count])\n",
    "\n",
    "print(f\"Combined word frequencies saved to '{output_file}'.\")\n"
   ]
  },
  {
   "cell_type": "code",
   "execution_count": null,
   "id": "6441b188-bf3a-4b93-a3d4-39f1ae14d5f9",
   "metadata": {},
   "outputs": [],
   "source": []
  }
 ],
 "metadata": {
  "kernelspec": {
   "display_name": "Python 3 (ipykernel)",
   "language": "python",
   "name": "python3"
  },
  "language_info": {
   "codemirror_mode": {
    "name": "ipython",
    "version": 3
   },
   "file_extension": ".py",
   "mimetype": "text/x-python",
   "name": "python",
   "nbconvert_exporter": "python",
   "pygments_lexer": "ipython3",
   "version": "3.10.12"
  }
 },
 "nbformat": 4,
 "nbformat_minor": 5
}
