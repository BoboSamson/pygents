{
 "cells": [
  {
   "cell_type": "code",
   "execution_count": 1,
   "id": "4fadc558",
   "metadata": {},
   "outputs": [],
   "source": [
    "import os, sys\n",
    "cwd = os.getcwd()\n",
    "project_path = cwd[:cwd.find('pygents')+7]\n",
    "if project_path not in sys.path: sys.path.append(project_path)\n",
    "os.chdir(project_path)\n",
    "\n",
    "#force reimport\n",
    "if 'pygents.util' in sys.modules:\n",
    "    del sys.modules['pygents.util']\n",
    "if 'pygents.text' in sys.modules:\n",
    "    del sys.modules['pygents.text']\n",
    "if 'pygents.plot' in sys.modules:\n",
    "    del sys.modules['pygents.plot']\n",
    "if 'pygents.token' in sys.modules:\n",
    "    del sys.modules['pygents.token']\n",
    "\n",
    "\n",
    "from pygents.token import *\n",
    "from pygents.text import *\n",
    "from pygents.util import *\n",
    "from pygents.plot import * \n"
   ]
  },
  {
   "cell_type": "code",
   "execution_count": 2,
   "id": "41c7571e",
   "metadata": {},
   "outputs": [
    {
     "name": "stdout",
     "output_type": "stream",
     "text": [
      "(['1', '2'], ['1', '2', '3'], array([[11., 12., 13.],\n",
      "       [21., 22.,  0.]]))\n"
     ]
    }
   ],
   "source": [
    "\n",
    "print(list2matrix([[1,1,11],[1,2,12],[1,3,13],[2,1,21],[2,2,22]]))\n"
   ]
  },
  {
   "cell_type": "code",
   "execution_count": 3,
   "id": "1060e5ea",
   "metadata": {},
   "outputs": [
    {
     "data": {
      "image/png": "[encoded data removed]",
      "text/plain": [
       "<Figure size 1440x36 with 2 Axes>"
      ]
     },
     "metadata": {
      "needs_background": "light"
     },
     "output_type": "display_data"
    },
    {
     "name": "stdout",
     "output_type": "stream",
     "text": [
      "['1', '2'] ['1', '2', '3'] [[11. 12. 13.]\n",
      " [21. 22.  0.]]\n"
     ]
    },
    {
     "data": {
      "image/png": "[encoded data removed]",
      "text/plain": [
       "<Figure size 1440x36 with 2 Axes>"
      ]
     },
     "metadata": {
      "needs_background": "light"
     },
     "output_type": "display_data"
    },
    {
     "data": {
      "image/png": "[encoded data removed]",
      "text/plain": [
       "<Figure size 1440x36 with 2 Axes>"
      ]
     },
     "metadata": {
      "needs_background": "light"
     },
     "output_type": "display_data"
    }
   ],
   "source": [
    "matrix_plot(['a','b'],['1','2','3'],[[1,2,3],[4,5,6]],6,'Test')\n",
    "\n",
    "r,c,m = list2matrix([[1,1,11],[1,2,12],[1,3,13],[2,1,21],[2,2,22]])\n",
    "print(r,c,m)\n",
    "matrix_plot(r,c,m,22,'Test')\n",
    "\n",
    "r,c,m = list2matrix([[[1,1],1,11],[[1,1],2,12],[[1,1],3,13],[[2,2],1,21],[[2,2],2,22]])\n",
    "matrix_plot(r,c,m,22,'Test')\n"
   ]
  },
  {
   "cell_type": "code",
   "execution_count": null,
   "id": "0b82cef3",
   "metadata": {},
   "outputs": [],
   "source": []
  }
 ],
 "metadata": {
  "kernelspec": {
   "display_name": "Python 3 (ipykernel)",
   "language": "python",
   "name": "python3"
  },
  "language_info": {
   "codemirror_mode": {
    "name": "ipython",
    "version": 3
   },
   "file_extension": ".py",
   "mimetype": "text/x-python",
   "name": "python",
   "nbconvert_exporter": "python",
   "pygments_lexer": "ipython3",
   "version": "3.7.7"
  }
 },
 "nbformat": 4,
 "nbformat_minor": 5
}
