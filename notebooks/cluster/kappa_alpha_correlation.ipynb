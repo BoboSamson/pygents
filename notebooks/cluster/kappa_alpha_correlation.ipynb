{
 "cells": [
  {
   "cell_type": "code",
   "execution_count": 35,
   "id": "e1f4ee8d",
   "metadata": {},
   "outputs": [],
   "source": [
    "import pandas as pd\n",
    "import numpy as np\n",
    "from statsmodels.stats import inter_rater as irr\n",
    "import krippendorff as kd\n"
   ]
  },
  {
   "cell_type": "raw",
   "id": "545fdb40",
   "metadata": {},
   "source": [
    "- https://en.wikipedia.org/wiki/Fleiss%27_kappa\n",
    "- https://stackoverflow.com/questions/51919897/is-fleiss-kappa-a-reliable-measure-for-interannotator-agreement-the-following-r\n",
    "- https://bmcmedresmethodol.biomedcentral.com/articles/10.1186/s12874-016-0200-9\n",
    "- https://www.statsmodels.org/dev/generated/statsmodels.stats.inter_rater.fleiss_kappa.html\n"
   ]
  },
  {
   "cell_type": "code",
   "execution_count": 44,
   "id": "b571a3d9",
   "metadata": {},
   "outputs": [
    {
     "name": "stdout",
     "output_type": "stream",
     "text": [
      "FK=1.0     KA=1.0    PC=1.0\n",
      "FK=0.78     KA=0.79    PC=0.8\n",
      "FK=0.58     KA=0.6    PC=0.65\n",
      "FK=0.34     KA=0.37    PC=0.36\n",
      "FK=0.17     KA=0.21    PC=0.22\n",
      "FK=-0.01     KA=0.04    PC=0.09\n"
     ]
    }
   ],
   "source": [
    "import numpy as np\n",
    "from statsmodels.stats import inter_rater as irr\n",
    "import krippendorff as kd\n",
    "\n",
    "def most_frequent(List):\n",
    "    return max(set(List), key = List.count)\n",
    "\n",
    "machine_ratings1 = [ # perfect agreement\n",
    "[1,1,0,1,0,1,1,0,1,0], # verb A\n",
    "[1,1,0,1,0,1,1,0,1,0], # distortion X\n",
    "]\n",
    "\n",
    "machine_ratings2 = [ # Substantial agreement\n",
    "[1,1,0,1,0,1,1,0,1,1], # verb A\n",
    "[1,1,0,1,0,1,1,0,1,0], # distortion X\n",
    "]\n",
    "\n",
    "machine_ratings3 = [ # Moderate agreement\n",
    "[1,1,0,1,0,1,1,0,1,1], # verb A\n",
    "[1,1,0,1,0,1,1,0,0,0], # distortion X\n",
    "]\n",
    "\n",
    "machine_ratings4 = [ # Fair agreement\n",
    "[1,1,0,1,0,1,1,0,1,1], # verb A\n",
    "[1,1,0,1,0,1,1,1,0,0], # distortion X\n",
    "]\n",
    "\n",
    "machine_ratings5 = [ # Slight agreement\n",
    "[1,1,0,1,0,1,1,0,1,1], # verb A\n",
    "[1,1,0,1,0,1,0,1,0,0], # distortion X\n",
    "]\n",
    "\n",
    "machine_ratings6 = [ # No agreement\n",
    "[1,1,0,1,0,1,1,0,1,1], # verb A\n",
    "[1,1,0,1,0,0,0,1,0,0], # distortion X\n",
    "]\n",
    "\n",
    "for machine_ratings in [machine_ratings1,machine_ratings2,machine_ratings3,machine_ratings4,machine_ratings5,machine_ratings6]:\n",
    "\n",
    "    machine_ratings_by_sample = np.transpose(machine_ratings)\n",
    "\n",
    "    machine_agg = irr.aggregate_raters(machine_ratings_by_sample) # returns a tuple (data, categories)\n",
    "\n",
    "    machine_f_k = irr.fleiss_kappa(machine_agg[0], method='fleiss')\n",
    "    machine_k_a = kd.alpha(machine_ratings,level_of_measurement='nominal')  \n",
    "    df = pd.DataFrame({'relationship':machine_ratings[0],'distortion':machine_ratings[1]})\n",
    "    PC = df['relationship'].corr(df['distortion']) # Pearson Correlation\n",
    " \n",
    "    print(f'FK={round(machine_f_k,2)}     KA={round(machine_k_a,2)}    PC={round(PC,2)}')\n"
   ]
  },
  {
   "cell_type": "code",
   "execution_count": 39,
   "id": "d317ca12",
   "metadata": {},
   "outputs": [
    {
     "data": {
      "text/plain": [
       "1.0"
      ]
     },
     "execution_count": 39,
     "metadata": {},
     "output_type": "execute_result"
    }
   ],
   "source": [
    "df = pd.DataFrame({'relationship':machine_ratings[0],'distortion':machine_ratings[0]})\n",
    "df['relationship'].corr(df['distortion'])"
   ]
  },
  {
   "cell_type": "raw",
   "id": "cb6ef990",
   "metadata": {},
   "source": [
    "TODO:\n",
    "1) Recompute matrices/heatmaps fof FK, KA, PC based on the above\n",
    "1-a) With high level relationships (love, hate, etc.)\n",
    "1-b) With fine grained relationships (love1, love2, ... hate1, hate2, etc.)\n",
    "2) Make color legends scaled from 0.0 to 1.0 as follows:\n",
    "sns.heatmap(matrix, xticklabels=col_labels, yticklabels=row_labels, \n",
    "                    vmin = 0.0, \n",
    "                    vmax = 1.0, \n",
    "                    cmap='RdYlGn', dpi = 300, annot=True)\n",
    "3) Have all relationships sorted alphabetically in all charts/plots\n",
    "4) Have distortions sorted as: No ..., General ..., the others alphabetically\n",
    "5) End up with (at least) the following 6 plots\n",
    "high level FK\n",
    "high level KA\n",
    "high level PC\n",
    "fine grained FK\n",
    "fine grained KA\n",
    "fine grained PC\n",
    "... (I am not sure about Cramer_V, its up to you)\n",
    "6) Look int requirements and get ready for submission to https://aaai.org/conference/aaai/aaai-26/aisi-call/\n",
    "\n",
    "\n",
    "\n",
    "\n"
   ]
  }
 ],
 "metadata": {
  "kernelspec": {
   "display_name": "Python 3 (ipykernel)",
   "language": "python",
   "name": "python3"
  },
  "language_info": {
   "codemirror_mode": {
    "name": "ipython",
    "version": 3
   },
   "file_extension": ".py",
   "mimetype": "text/x-python",
   "name": "python",
   "nbconvert_exporter": "python",
   "pygments_lexer": "ipython3",
   "version": "3.11.11"
  }
 },
 "nbformat": 4,
 "nbformat_minor": 5
}
