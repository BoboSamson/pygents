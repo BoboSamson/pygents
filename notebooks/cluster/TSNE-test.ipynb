{
 "cells": [
  {
   "cell_type": "markdown",
   "id": "8f3d03d6",
   "metadata": {},
   "source": [
    "https://goodboychan.github.io/python/datacamp/machine_learning/visualization/2020/06/01/02-Visualization-with-hierarchical-clustering-and-t-SNE.html\n"
   ]
  },
  {
   "cell_type": "code",
   "execution_count": 7,
   "id": "6ad88894",
   "metadata": {},
   "outputs": [],
   "source": [
    "import os, sys\n",
    "cwd = os.getcwd()\n",
    "project_path = cwd[:cwd.find('pygents')+7]\n",
    "if project_path not in sys.path: sys.path.append(project_path)\n",
    "os.chdir(project_path) \n",
    "\n",
    "import pandas as pd\n",
    "import matplotlib.pyplot as plt\n"
   ]
  },
  {
   "cell_type": "code",
   "execution_count": 25,
   "id": "ace1ea96",
   "metadata": {},
   "outputs": [],
   "source": [
    "data = [\n",
    "    [1,1,1,1,1,1],\n",
    "    [1,2,1,1,1,1],\n",
    "    [1,1,2,1,1,1],\n",
    "    [10,10,11,9,9,9],\n",
    "    [10,12,11,9,9,9],\n",
    "    [10,11,12,9,9,9],\n",
    "    [100,100,101,99,99,99],\n",
    "    [100,102,101,99,99,99],\n",
    "    [100,101,102,99,99,99],\n",
    "]\n",
    "labels = ['a','a','a','b','b','b','c','c','c']\n",
    "\n",
    "df = pd.DataFrame(data,columns=['a','b','c','x','y','z'])\n",
    "\n",
    "samples = df.iloc[:, :-1].values\n",
    "variety_numbers = df.iloc[:, -1].values\n"
   ]
  },
  {
   "cell_type": "code",
   "execution_count": 27,
   "id": "5743c76b",
   "metadata": {},
   "outputs": [
    {
     "name": "stderr",
     "output_type": "stream",
     "text": [
      "/Users/akolonin/Documents/aigents/pygents/env/lib/python3.7/site-packages/sklearn/manifold/_t_sne.py:986: FutureWarning: The PCA initialization in TSNE will change to have the standard deviation of PC1 equal to 1e-4 in 1.2. This will ensure better convergence.\n",
      "  FutureWarning,\n"
     ]
    },
    {
     "data": {
      "image/png": "[encoded data removed]",
      "text/plain": [
       "<Figure size 432x288 with 1 Axes>"
      ]
     },
     "metadata": {
      "needs_background": "light"
     },
     "output_type": "display_data"
    }
   ],
   "source": [
    "from sklearn.manifold import TSNE\n",
    "\n",
    "# Create a TSNE instance: model\n",
    "model = TSNE(learning_rate=200,init='pca')\n",
    "\n",
    "# Apply fit_transform to samples: tsne_features\n",
    "tsne_features = model.fit_transform(samples)\n",
    "\n",
    "# Select the 0th feature: xs\n",
    "xs = tsne_features[:, 0]\n",
    "\n",
    "# Select the 1st feature: ys\n",
    "ys = tsne_features[:, 1]\n",
    "\n",
    "# Scatter plot, coloring by variety_numbers\n",
    "plt.scatter(xs, ys, c=variety_numbers);\n",
    "\n",
    "for i, txt in enumerate(labels):\n",
    "    plt.annotate(txt, (xs[i], ys[i]))"
   ]
  },
  {
   "cell_type": "code",
   "execution_count": 17,
   "id": "05b93f75",
   "metadata": {},
   "outputs": [
    {
     "data": {
      "text/plain": [
       "array([[-59.320145 , -28.064068 ],\n",
       "       [ 24.922049 , -92.36121  ],\n",
       "       [ 81.74397  ,  69.422806 ],\n",
       "       [-24.20217  ,  71.923775 ],\n",
       "       [ 27.049719 ,  -2.2379847],\n",
       "       [112.10461  , -32.110943 ]], dtype=float32)"
      ]
     },
     "execution_count": 17,
     "metadata": {},
     "output_type": "execute_result"
    }
   ],
   "source": [
    "tsne_features"
   ]
  },
  {
   "cell_type": "code",
   "execution_count": null,
   "id": "cd57074c",
   "metadata": {},
   "outputs": [],
   "source": []
  }
 ],
 "metadata": {
  "kernelspec": {
   "display_name": "Python 3 (ipykernel)",
   "language": "python",
   "name": "python3"
  },
  "language_info": {
   "codemirror_mode": {
    "name": "ipython",
    "version": 3
   },
   "file_extension": ".py",
   "mimetype": "text/x-python",
   "name": "python",
   "nbconvert_exporter": "python",
   "pygments_lexer": "ipython3",
   "version": "3.7.7"
  }
 },
 "nbformat": 4,
 "nbformat_minor": 5
}
