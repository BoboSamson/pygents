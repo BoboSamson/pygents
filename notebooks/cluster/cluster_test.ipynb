{
 "cells": [
  {
   "cell_type": "code",
   "execution_count": null,
   "id": "0fe0d364",
   "metadata": {},
   "outputs": [],
   "source": []
  },
  {
   "cell_type": "code",
   "execution_count": 42,
   "id": "0be7eebf",
   "metadata": {},
   "outputs": [],
   "source": [
    "import os, sys\n",
    "cwd = os.getcwd()\n",
    "project_path = cwd[:cwd.find('pygents')+7]\n",
    "if project_path not in sys.path: sys.path.append(project_path)\n",
    "os.chdir(project_path) \n",
    "\n",
    "#https://stackoverflow.com/questions/41827983/right-way-to-calculate-the-cosine-similarity-of-two-word-frequency-dictionaries\n",
    "#https://realpython.com/python-counter/\n",
    "\n",
    "#from scipy.spatial.distance import cosine\n",
    "#from sklearn.metrics.pairwise import cosine_similarity\n",
    "\n",
    "import pandas as pd\n",
    "\n",
    "#force reimport\n",
    "if 'pygents.util' in sys.modules:\n",
    "    del sys.modules['pygents.util']\n",
    "if 'pygents.text' in sys.modules:\n",
    "    del sys.modules['pygents.text']\n",
    "if 'pygents.plot' in sys.modules:\n",
    "    del sys.modules['pygents.plot']\n",
    "if 'pygents.token' in sys.modules:\n",
    "    del sys.modules['pygents.token']\n",
    "\n",
    "from pygents.token import *\n",
    "from pygents.text import *\n",
    "from pygents.util import *\n",
    "from pygents.plot import plot_bars, plot_dict, matrix_plot\n"
   ]
  },
  {
   "cell_type": "code",
   "execution_count": 59,
   "id": "38ce8b74",
   "metadata": {},
   "outputs": [],
   "source": [
    "import math\n",
    "\n",
    "def cosine_dic_parts(dic1,dic2):\n",
    "    numerator = 0\n",
    "    dena = 0\n",
    "    for key1,val1 in dic1.items():\n",
    "        numerator += val1*dic2.get(key1,0.0)\n",
    "        dena += val1*val1\n",
    "    denb = 0\n",
    "    for val2 in dic2.values():\n",
    "        denb += val2*val2\n",
    "    return numerator, dena, denb\n",
    "\n",
    "def cosine_dic(dic1,dic2):\n",
    "    numerator, dena, denb = cosine_dic_parts(dic1,dic2)\n",
    "    return numerator/math.sqrt(dena*denb)\n",
    "\n",
    "x0 = {'c':3,'a':1,'b':2}\n",
    "x1 = {'a':1,'b':2,'c':3}\n",
    "x2 = {'a':1,'b':2,'c':0}\n",
    "x3 = {'a':1,'b':2,'d':3}\n",
    "x4 = {'a':1,'e':2,'d':3}\n",
    "x5 = {'a':999,'e':2,'d':3}\n",
    "x6 = {'a':0.1,'e':2,'d':3}\n",
    "x7 = {'f':1,'e':2,'d':3}\n",
    "assert str(cosine_dic(x0,x1)) == \"1.0\"\n",
    "assert str(cosine_dic(x0,x2)) == \"0.5976143046671968\"\n",
    "assert str(cosine_dic(x1,x2)) == \"0.5976143046671968\"\n",
    "assert str(cosine_dic(x1,x3)) == \"0.35714285714285715\"\n",
    "assert str(cosine_dic(x1,x4)) == \"0.07142857142857142\"\n",
    "assert str(cosine_dic(x1,x5)) == \"0.26725950125174264\"\n",
    "assert str(cosine_dic(x1,x6)) == \"0.007409643851431125\"\n",
    "assert str(cosine_dic(x1,x7)) == \"0.0\"\n",
    "\n",
    "# computes cosine distance based on 2 dicts corresponding to \n",
    "# two vectors in complementary two segments of bi-segment vector space\n",
    "def cosine_dic2(dica1,dicb1,dica2,dicb2):\n",
    "    numerator1, dena1, denb1 = cosine_dic_parts(dica1,dicb1)\n",
    "    numerator2, dena2, denb2 = cosine_dic_parts(dica2,dicb2)\n",
    "    return (numerator1+numerator2)/math.sqrt((dena1+dena2)*(denb1+denb2))\n",
    "assert str(cosine_dic2(x0,x1,{},{})) == \"1.0\"\n",
    "assert str(cosine_dic2(x0,x2,{},{})) == \"0.5976143046671968\"\n",
    "assert str(cosine_dic2(x1,x2,{},{})) == \"0.5976143046671968\"\n",
    "assert str(cosine_dic2(x1,x3,{},{})) == \"0.35714285714285715\"\n",
    "assert str(cosine_dic2(x1,x4,{},{})) == \"0.07142857142857142\"\n",
    "assert str(cosine_dic2(x1,x5,{},{})) == \"0.26725950125174264\"\n",
    "assert str(cosine_dic2(x1,x6,{},{})) == \"0.007409643851431125\"\n",
    "assert str(cosine_dic2(x1,x7,{},{})) == \"0.0\"\n",
    "assert str(cosine_dic2(x0,x1,x0,x1)) == \"1.0\"\n",
    "assert str(cosine_dic2(x1,x7,x1,x7)) == \"0.0\"\n",
    "\n"
   ]
  },
  {
   "cell_type": "code",
   "execution_count": null,
   "id": "f844f898",
   "metadata": {},
   "outputs": [],
   "source": []
  },
  {
   "cell_type": "code",
   "execution_count": 60,
   "id": "916a6dad",
   "metadata": {},
   "outputs": [
    {
     "name": "stdout",
     "output_type": "stream",
     "text": [
      "1.0\n",
      "0.5976143046671968\n",
      "0.5976143046671968\n",
      "0.35714285714285715\n",
      "0.07142857142857142\n",
      "0.26725950125174264\n",
      "0.007409643851431125\n",
      "0.0\n"
     ]
    }
   ],
   "source": [
    "print(cosine_dic(x0,x1))\n",
    "print(cosine_dic(x0,x2))\n",
    "print(cosine_dic(x1,x2))\n",
    "print(cosine_dic(x1,x3))\n",
    "print(cosine_dic(x1,x4))\n",
    "print(cosine_dic(x1,x5))\n",
    "print(cosine_dic(x1,x6))\n",
    "print(cosine_dic(x1,x7))\n"
   ]
  },
  {
   "cell_type": "code",
   "execution_count": null,
   "id": "def5c0db",
   "metadata": {},
   "outputs": [],
   "source": []
  },
  {
   "cell_type": "code",
   "execution_count": 61,
   "id": "542282db",
   "metadata": {},
   "outputs": [],
   "source": [
    "brown_chars = FreedomTokenizer(name='data/models/brown_nolines_chars_7a',max_n=7,mode='chars',debug=False)\n",
    "model_compress_with_loss(brown_chars.model,0.0001)\n"
   ]
  },
  {
   "cell_type": "code",
   "execution_count": 62,
   "id": "33d22aea",
   "metadata": {},
   "outputs": [
    {
     "name": "stdout",
     "output_type": "stream",
     "text": [
      "0.9999222003602027\n",
      "0.9907565768001892\n",
      "0.12763480631061797\n",
      "0.8811401825208185\n",
      "0.22319366970832127\n",
      "0.31534753618812983\n",
      "0.7720141235753476\n",
      "0.8849807028305376\n"
     ]
    }
   ],
   "source": [
    "print(cosine_dic(brown_chars.model[1]['.'],brown_chars.model[1][',']))\n",
    "print(cosine_dic(brown_chars.model[2]['.'],brown_chars.model[2][',']))\n",
    "\n",
    "print(cosine_dic(brown_chars.model[1]['.'],brown_chars.model[1][' ']))\n",
    "print(cosine_dic(brown_chars.model[2]['.'],brown_chars.model[2][' ']))\n",
    "\n",
    "print(cosine_dic(brown_chars.model[1]['.'],brown_chars.model[1]['a']))\n",
    "print(cosine_dic(brown_chars.model[2]['.'],brown_chars.model[2]['a']))\n",
    "\n",
    "print(cosine_dic(brown_chars.model[1]['o'],brown_chars.model[1]['a']))\n",
    "print(cosine_dic(brown_chars.model[2]['o'],brown_chars.model[2]['a']))\n"
   ]
  },
  {
   "cell_type": "code",
   "execution_count": 64,
   "id": "9ed183bb",
   "metadata": {},
   "outputs": [],
   "source": [
    "def compute_similiarities(model,arity=1):\n",
    "    lst = []\n",
    "    for a in model[0]:\n",
    "        if len(a) == arity:\n",
    "            a1 = model[1][a]\n",
    "            a2 = model[2][a]\n",
    "            for b in model[0]:\n",
    "                if len(b) == arity:\n",
    "                    b1 = model[1][b]\n",
    "                    b2 = model[2][b]\n",
    "                    s = cosine_dic2(a1,b1,a2,b2)\n",
    "                    lst.append((a,b,s))\n",
    "    return lst\n",
    "            "
   ]
  },
  {
   "cell_type": "code",
   "execution_count": null,
   "id": "f541b2aa",
   "metadata": {},
   "outputs": [],
   "source": []
  },
  {
   "cell_type": "code",
   "execution_count": null,
   "id": "a57128a5",
   "metadata": {},
   "outputs": [],
   "source": []
  },
  {
   "cell_type": "code",
   "execution_count": null,
   "id": "2a37c1df",
   "metadata": {},
   "outputs": [],
   "source": []
  }
 ],
 "metadata": {
  "kernelspec": {
   "display_name": "Python 3 (ipykernel)",
   "language": "python",
   "name": "python3"
  },
  "language_info": {
   "codemirror_mode": {
    "name": "ipython",
    "version": 3
   },
   "file_extension": ".py",
   "mimetype": "text/x-python",
   "name": "python",
   "nbconvert_exporter": "python",
   "pygments_lexer": "ipython3",
   "version": "3.7.7"
  }
 },
 "nbformat": 4,
 "nbformat_minor": 5
}
