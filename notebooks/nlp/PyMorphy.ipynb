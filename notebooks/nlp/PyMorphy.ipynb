{
 "cells": [
  {
   "cell_type": "code",
   "execution_count": 42,
   "id": "comparable-scroll",
   "metadata": {},
   "outputs": [],
   "source": [
    "#https://pymorphy2.readthedocs.io/en/stable/user/guide.html#inflection\n",
    "#pip install pymorphy2\n",
    "\n",
    "import pandas as pd\n",
    "import pymorphy2\n",
    "morph = pymorphy2.MorphAnalyzer()\n",
    "\n",
    "#print([word.word for word in morph.parse('вера')[0].lexeme])\n",
    "\n",
    "def word_forms(word):\n",
    "    ws = [word.word for word in morph.parse(word)[0].lexeme]\n",
    "    return ' '.join(ws)\n",
    "        \n",
    "df = pd.read_csv(\"positive.txt\",skiprows=1,names=['word'])\n",
    "forms = []\n",
    "for i,r in df.iterrows():\n",
    "    forms.append(word_forms(r['word']))\n",
    "    \n",
    "pd.DataFrame(forms,columns=['forms']).to_csv(\"positive_forms.txt\")\n"
   ]
  },
  {
   "cell_type": "code",
   "execution_count": 45,
   "id": "rural-personality",
   "metadata": {},
   "outputs": [
    {
     "data": {
      "text/plain": [
       "'страсть'"
      ]
     },
     "execution_count": 45,
     "metadata": {},
     "output_type": "execute_result"
    }
   ],
   "source": [
    "word_forms('страсть')"
   ]
  },
  {
   "cell_type": "code",
   "execution_count": 46,
   "id": "purple-sheriff",
   "metadata": {},
   "outputs": [
    {
     "data": {
      "text/plain": [
       "['страсть']"
      ]
     },
     "execution_count": 46,
     "metadata": {},
     "output_type": "execute_result"
    }
   ],
   "source": [
    "[word.word for word in morph.parse('страсть')[0].lexeme]"
   ]
  },
  {
   "cell_type": "code",
   "execution_count": null,
   "id": "charming-clark",
   "metadata": {},
   "outputs": [],
   "source": []
  }
 ],
 "metadata": {
  "kernelspec": {
   "display_name": "Python 3",
   "language": "python",
   "name": "python3"
  },
  "language_info": {
   "codemirror_mode": {
    "name": "ipython",
    "version": 3
   },
   "file_extension": ".py",
   "mimetype": "text/x-python",
   "name": "python",
   "nbconvert_exporter": "python",
   "pygments_lexer": "ipython3",
   "version": "3.7.7"
  }
 },
 "nbformat": 4,
 "nbformat_minor": 5
}
