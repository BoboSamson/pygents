{
 "cells": [
  {
   "cell_type": "code",
   "execution_count": 1,
   "id": "66ee7500",
   "metadata": {},
   "outputs": [],
   "source": [
    "import os, sys\n",
    "cwd = os.getcwd()\n",
    "project_path = cwd[:cwd.find('pygents')+7]\n",
    "if project_path not in sys.path: sys.path.append(project_path)\n",
    "os.chdir(project_path) \n",
    "\n",
    "import pickle\n",
    "import pandas as pd\n",
    "\n",
    "#force reimport\n",
    "if 'pygents.util' in sys.modules:\n",
    "    del sys.modules['pygents.util']\n",
    "if 'pygents.text' in sys.modules:\n",
    "    del sys.modules['pygents.text']\n",
    "if 'pygents.plot' in sys.modules:\n",
    "    del sys.modules['pygents.plot']\n",
    "if 'pygents.token' in sys.modules:\n",
    "    del sys.modules['pygents.token']\n",
    "if 'pygents.token_plot' in sys.modules:\n",
    "    del sys.modules['pygents.token_plot']\n",
    "\n",
    "\n",
    "from pygents.token import *\n",
    "from pygents.text import tokenize_with_lexicon\n",
    "from pygents.plot import plot_bars, plot_dict, matrix_plot\n",
    "from pygents.token_plot import *"
   ]
  },
  {
   "cell_type": "code",
   "execution_count": 2,
   "id": "0230c615",
   "metadata": {},
   "outputs": [],
   "source": [
    "def compact_whitespaces(s):\n",
    "    s = s.strip()\n",
    "    s = s.replace('\\n',' ')\n",
    "    s = s.replace('\\r',' ')\n",
    "    s = s.replace('\\t',' ')\n",
    "    oldlen = len(s)\n",
    "    while True: \n",
    "        s = s.replace('  ',' ')\n",
    "        l = len(s) \n",
    "        if l == oldlen:\n",
    "            break\n",
    "        oldlen = l\n",
    "    return s\n",
    "\n",
    "assert compact_whitespaces(\"  a  b\\tc\\n\\rd \\te\\t\\tg  \") == 'a b c d e g'   \n",
    "assert compact_whitespaces(\"   aa    aa.    bb bb! cc cc? dd dd.   \") == 'aa aa. bb bb! cc cc? dd dd.'\n"
   ]
  },
  {
   "cell_type": "code",
   "execution_count": 22,
   "id": "8ea09b45",
   "metadata": {},
   "outputs": [],
   "source": [
    "def sentencinize_with_patterns(patterns,text,cased=False,compact=True):\n",
    "    # handle list of text\n",
    "    if type(text) == list:\n",
    "        chunks = []\n",
    "        for chunk in text:\n",
    "            chunks.extend(sentencinize_with_patterns(patterns,chunk,cased,compact))\n",
    "        return chunks\n",
    "    \n",
    "    # handle single text - recursively with the every pattern\n",
    "    alex = [pat+\" \" for pat in patterns]\n",
    "    alex.sort(key=len,reverse=True) # append patterns with spaces sorted by len in reverse\n",
    "    if compact:\n",
    "        text = compact_whitespaces(text)\n",
    "    if cased: #if need to spend time on lowercasing non-lowercased text\n",
    "        text = text.lower()\n",
    "    tokens = []\n",
    "    start = 0\n",
    "    cur = 0\n",
    "    length = len(text)\n",
    "    while cur < length:\n",
    "        subtext = text[cur:]\n",
    "        #print(subtext)\n",
    "        for al in alex:\n",
    "            matched = False\n",
    "            if subtext.startswith(al):\n",
    "                tokens.append(text[start:cur+len(al)-1])\n",
    "                cur += len(al)\n",
    "                start = cur\n",
    "                matched = True\n",
    "                break\n",
    "        if not matched:\n",
    "            cur += 1\n",
    "    if start < cur:\n",
    "        tokens.append(text[start:cur])\n",
    "    return tokens\n",
    "\n",
    "assert str(sentencinize_with_patterns([\".\",\"?\",\"!\"],\"aa aa. bb bb! cc cc? dd dd\")) == \"['aa aa.', 'bb bb!', 'cc cc?', 'dd dd']\"\n",
    "assert str(sentencinize_with_patterns([\".\",\"?\",\"!\"],\"aa aa. bb bb! cc cc? dd dd.\")) == \"['aa aa.', 'bb bb!', 'cc cc?', 'dd dd.']\"\n",
    "assert str(sentencinize_with_patterns([\".\",\"?\",\"!\"],\"   aa    aa.    bb bb! cc cc? dd dd.   \")) == \"['aa aa.', 'bb bb!', 'cc cc?', 'dd dd.']\"\n"
   ]
  },
  {
   "cell_type": "code",
   "execution_count": 49,
   "id": "ce9e711b",
   "metadata": {},
   "outputs": [],
   "source": [
    "def load_text_lines(path,compact=True,lower=True,debug=False):\n",
    "    with open(path,errors='ignore') as f:\n",
    "        lines = []\n",
    "        for l in f.readlines():\n",
    "            if compact:\n",
    "                l = compact_whitespaces(l)\n",
    "            if lower:\n",
    "                l = l.lower()\n",
    "            lines.append(l)\n",
    "        return lines\n"
   ]
  },
  {
   "cell_type": "code",
   "execution_count": 50,
   "id": "4b02179a",
   "metadata": {},
   "outputs": [
    {
     "name": "stdout",
     "output_type": "stream",
     "text": [
      "100\n"
     ]
    },
    {
     "data": {
      "text/html": [
       "<div>\n",
       "<style scoped>\n",
       "    .dataframe tbody tr th:only-of-type {\n",
       "        vertical-align: middle;\n",
       "    }\n",
       "\n",
       "    .dataframe tbody tr th {\n",
       "        vertical-align: top;\n",
       "    }\n",
       "\n",
       "    .dataframe thead th {\n",
       "        text-align: right;\n",
       "    }\n",
       "</style>\n",
       "<table border=\"1\" class=\"dataframe\">\n",
       "  <thead>\n",
       "    <tr style=\"text-align: right;\">\n",
       "      <th></th>\n",
       "      <th>en</th>\n",
       "    </tr>\n",
       "  </thead>\n",
       "  <tbody>\n",
       "    <tr>\n",
       "      <th>0</th>\n",
       "      <td>What about medical insurance? As for my family...</td>\n",
       "    </tr>\n",
       "    <tr>\n",
       "      <th>1</th>\n",
       "      <td>For those who have insurance, according to the...</td>\n",
       "    </tr>\n",
       "    <tr>\n",
       "      <th>2</th>\n",
       "      <td>Need to realize the importance of having insur...</td>\n",
       "    </tr>\n",
       "    <tr>\n",
       "      <th>3</th>\n",
       "      <td>In fact, this phenomenon is indeed very common...</td>\n",
       "    </tr>\n",
       "    <tr>\n",
       "      <th>4</th>\n",
       "      <td>It is really necessary for this generation of ...</td>\n",
       "    </tr>\n",
       "    <tr>\n",
       "      <th>...</th>\n",
       "      <td>...</td>\n",
       "    </tr>\n",
       "    <tr>\n",
       "      <th>95</th>\n",
       "      <td>Ant Insurance does not only offer car insuranc...</td>\n",
       "    </tr>\n",
       "    <tr>\n",
       "      <th>96</th>\n",
       "      <td>However, when buying a house, except for the d...</td>\n",
       "    </tr>\n",
       "    <tr>\n",
       "      <th>97</th>\n",
       "      <td>This kind of financial investment has certain ...</td>\n",
       "    </tr>\n",
       "    <tr>\n",
       "      <th>98</th>\n",
       "      <td>If your investment orientation is right, then ...</td>\n",
       "    </tr>\n",
       "    <tr>\n",
       "      <th>99</th>\n",
       "      <td>One more insurance means one more protection.</td>\n",
       "    </tr>\n",
       "  </tbody>\n",
       "</table>\n",
       "<p>100 rows × 1 columns</p>\n",
       "</div>"
      ],
      "text/plain": [
       "                                                   en\n",
       "0   What about medical insurance? As for my family...\n",
       "1   For those who have insurance, according to the...\n",
       "2   Need to realize the importance of having insur...\n",
       "3   In fact, this phenomenon is indeed very common...\n",
       "4   It is really necessary for this generation of ...\n",
       "..                                                ...\n",
       "95  Ant Insurance does not only offer car insuranc...\n",
       "96  However, when buying a house, except for the d...\n",
       "97  This kind of financial investment has certain ...\n",
       "98  If your investment orientation is right, then ...\n",
       "99      One more insurance means one more protection.\n",
       "\n",
       "[100 rows x 1 columns]"
      ]
     },
     "execution_count": 50,
     "metadata": {},
     "output_type": "execute_result"
    }
   ],
   "source": [
    "path = '../../nlp/corpora/Chinese/'\n",
    "test_df = pd.read_csv(os.path.join(path,'magicdata/zh_en_ru_100/CORPUS_ZH_EN_RU.txt'),delimiter='\\t')\n",
    "test_texts = list(test_df['en'])\n",
    "print(len(test_texts))\n",
    "test_df[['en']]\n"
   ]
  },
  {
   "cell_type": "code",
   "execution_count": 51,
   "id": "f78ea938",
   "metadata": {},
   "outputs": [
    {
     "name": "stdout",
     "output_type": "stream",
     "text": [
      "100\n",
      "105\n"
     ]
    }
   ],
   "source": [
    "test_sents = sentencinize_with_patterns([\".\",\"?\",\"!\"],test_texts)\n",
    "print(len(test_texts))\n",
    "print(len(test_sents))\n"
   ]
  },
  {
   "cell_type": "code",
   "execution_count": 52,
   "id": "ac8894fe",
   "metadata": {},
   "outputs": [
    {
     "data": {
      "text/plain": [
       "['What about medical insurance?',\n",
       " 'As for my family, either an adult or a child will buy insurance.',\n",
       " 'For those who have insurance, according to the insurance contract, they will get a compensation of 300 thousand yuan.',\n",
       " 'Need to realize the importance of having insurance.',\n",
       " 'In fact, this phenomenon is indeed very common, for instance, for personal accident insurance, the more you buy, the more you insure.']"
      ]
     },
     "execution_count": 52,
     "metadata": {},
     "output_type": "execute_result"
    }
   ],
   "source": [
    "sentencinize_with_patterns([\".\",\"?\",\"!\"],test_texts[0:4])"
   ]
  },
  {
   "cell_type": "code",
   "execution_count": 53,
   "id": "be766939",
   "metadata": {},
   "outputs": [
    {
     "name": "stdout",
     "output_type": "stream",
     "text": [
      "14342\n",
      "the fulton county grand jury said friday an investigation of atlanta's recent primary election produced \"no evidence\" that any irregularities took place.\n",
      "the jury further said in term-end presentments that the city executive committee, which had over-all charge of the election, \"deserves the praise and thanks of the city of atlanta\" for the manner in which the election was conducted.\n",
      "the september-october term jury had been charged by fulton superior court judge durwood pye to investigate reports of possible \"irregularities\" in the hard-fought primary which was won by mayor-nominate ivan allen jr..\n",
      "\"only a relative handful of such reports was received\", the jury said, \"considering the widespread interest in the election, the number of voters and the size of this city\".\n",
      "the jury said it did find that many of georgia's registration and election laws \"are outmoded or inadequate and often ambiguous\".\n",
      "it recommended that fulton legislators act \"to have these laws studied and revised to the end of modernizing and improving them\".\n",
      "the grand jury commented on a number of other topics, among them the atlanta and fulton county purchasing departments which it said \"are well operated and follow generally accepted practices which inure to the best interest of both governments\".\n",
      "#merger proposed#\n",
      "however, the jury said it believes \"these two offices should be combined to achieve greater efficiency and reduce the cost of administration\".\n",
      "the city purchasing department, the jury said, \"is lacking in experienced clerical personnel as a result of city personnel policies\". it urged that the city \"take steps to remedy\" this problem.\n",
      "implementation of georgia's automobile title law was also recommended by the outgoing jury.\n",
      "it urged that the next legislature \"provide enabling funds and re-set the effective date so that an orderly implementation of the law may be effected\".\n",
      "the grand jury took a swipe at the state welfare department's handling of federal funds granted for child welfare services in foster homes.\n",
      "\"this is one of the major items in the fulton county general assistance program\", the jury said, but the state welfare department \"has seen fit to distribute these funds through the welfare departments of all the counties in the state with the exception of fulton county, which receives none of this money.\n",
      "the jurors said they realize \"a proportionate distribution of these funds might disable this program in our less populous counties\".\n",
      "nevertheless, \"we feel that in the future fulton county should receive some portion of these available funds\", the jurors said. \"failure to do this will continue to place a disproportionate burden\" on fulton taxpayers.\n",
      "the jury also commented on the fulton ordinary's court which has been under fire for its practices in the appointment of appraisers, guardians and administrators and the awarding of fees and compensation.\n",
      "#wards protected#\n",
      "the jury said it found the court \"has incorporated into its operating procedures the recommendations\" of two previous grand juries, the atlanta bar association and an interim citizens committee.\n",
      "\"these actions should serve to protect in fact and in effect the court's wards from undue costs and its appointed and elected servants from unmeritorious criticisms\", the jury said.\n",
      "regarding atlanta's new multi-million-dollar airport, the jury recommended \"that when the new management takes charge jan. 1 the airport be operated in a manner that will eliminate political influences\".\n",
      "the jury did not elaborate, but it added that \"there should be periodic surveillance of the pricing practices of the concessionaires for the purpose of keeping the prices reasonable\".\n",
      "#ask jail deputies#\n",
      "on other matters, the jury recommended that: _(1)_ four additional deputies be employed at the fulton county jail and \"a doctor, medical intern or extern be employed for night and weekend duty at the jail\". _(2)_ fulton legislators \"work with city officials to pass enabling legislation that will permit the establishment of a fair and equitable\" pension plan for city employes.\n",
      "the jury praised the administration and operation of the atlanta police department, the fulton tax commissioner's office, the bellwood and alpharetta prison farms, grady hospital and the fulton health department.\n",
      "mayor william b. hartsfield filed suit for divorce from his wife, pearl williams hartsfield, in fulton superior court friday. his petition charged mental cruelty.\n",
      "the couple was married aug. 2, 1913. they have a son, william berry jr., and a daughter, mrs. j. m. cheshire of griffin.\n",
      "attorneys for the mayor said that an amicable property settlement has been agreed upon.\n",
      "the petition listed the mayor's occupation as \"attorney\" and his age as 71. it listed his wife's age as 74 and place of birth as opelika, ala..\n",
      "the petition said that the couple has not lived together as man and wife for more than a year.\n",
      "the hartsfield home is at 637 e. pelham rd. ~ne.\n",
      "henry l. bowden was listed on the petition as the mayor's attorney.\n",
      "hartsfield has been mayor of atlanta, with exception of one brief interlude, since 1937. his political career goes back to his election to city council in 1923.\n",
      "the mayor's present term of office expires jan. 1. he will be succeeded by ivan allen jr., who became a candidate in the sept. 13 primary after mayor hartsfield announced that he would not run for reelection.\n",
      "georgia republicans are getting strong encouragement to enter a candidate in the 1962 governor's race, a top official said wednesday.\n",
      "robert snodgrass, state ~gop chairman, said a meeting held tuesday night in blue ridge brought enthusiastic responses from the audience.\n",
      "state party chairman james w. dorsey added that enthusiasm was picking up for a state rally to be held sept. 8 in savannah at which newly elected texas sen. john tower will be the featured speaker.\n",
      "in the blue ridge meeting, the audience was warned that entering a candidate for governor would force it to take petitions out into voting precincts to obtain the signatures of registered voters.\n",
      "despite the warning, there was a unanimous vote to enter a candidate, according to republicans who attended.\n",
      "when the crowd was asked whether it wanted to wait one more term to make the race, it voted no- and there were no dissents.\n",
      "the largest hurdle the republicans would have to face is a state law which says that before making a first race, one of two alternative courses must be taken: _1._ five per cent of the voters in each county must sign petitions requesting that the republicans be allowed to place names of candidates on the general election ballot, or _2._ the republicans must hold a primary under the county unit system- a system which the party opposes in its platform.\n",
      "sam caldwell, state highway department public relations director, resigned tuesday to work for lt. gov. garland byrd's campaign.\n",
      "caldwell's resignation had been expected for some time. he will be succeeded by rob ledford of gainesville, who has been an assistant more than three years. when the gubernatorial campaign starts, caldwell is expected to become a campaign coordinator for byrd.\n",
      "the georgia legislature will wind up its 1961 session monday and head for home- where some of the highway bond money it approved will follow shortly.\n",
      "before adjournment monday afternoon, the senate is expected to approve a study of the number of legislators allotted to rural and urban areas to determine what adjustments should be made.\n",
      "gov. vandiver is expected to make the traditional visit to both chambers as they work toward adjournment. vandiver likely will mention the $100 million highway bond issue approved earlier in the session as his first priority item.\n",
      "#construction bonds#\n",
      "meanwhile, it was learned the state highway department is very near being ready to issue the first $30 million worth of highway reconstruction bonds.\n",
      "the bond issue will go to the state courts for a friendly test suit to test the validity of the act, and then the sales will begin and contracts let for repair work on some of georgia's most heavily traveled highways.\n",
      "a highway department source said there also is a plan there to issue some $3 million to $4 million worth of rural roads authority bonds for rural road construction work.\n",
      "#a revolving fund#\n",
      "the department apparently intends to make the rural roads authority a revolving fund under which new bonds would be issued every time a portion of the old ones are paid off by tax authorities.\n",
      "vandiver opened his race for governor in 1958 with a battle in the legislature against the issuance of $50 million worth of additional rural roads bonds proposed by then gov. marvin griffin.\n",
      "the highway department source told the constitution, however, that vandiver has not been consulted yet about the plans to issue the new rural roads bonds.\n",
      "schley county rep. b. d. pelham will offer a resolution monday in the house to rescind the body's action of friday in voting itself a $10 per day increase in expense allowances.\n",
      "pelham said sunday night there was research being done on whether the \"quickie\" vote on the increase can be repealed outright or whether notice would have to first be given that reconsideration of the action would be sought.\n",
      "while emphasizing that technical details were not fully worked out, pelham said his resolution would seek to set aside the privilege resolution which the house voted through 87-31.\n",
      "a similar resolution passed in the senate by a vote of 29-5. as of sunday night, there was no word of a resolution being offered there to rescind the action.\n",
      "pelham pointed out that georgia voters last november rejected a constitutional amendment to allow legislators to vote on pay raises for future legislature sessions.\n",
      "a veteran jackson county legislator will ask the georgia house monday to back federal aid to education, something it has consistently opposed in the past.\n",
      "rep. mac barber of commerce is asking the house in a privilege resolution to \"endorse increased federal support for public education, provided that such funds be received and expended\" as state funds.\n",
      "barber, who is in his 13th year as a legislator, said there \"are some members of our congressional delegation in washington who would like to see it (the resolution) passed\". but he added that none of georgia's congressmen specifically asked him to offer the resolution.\n",
      "the resolution, which barber tossed into the house hopper friday, will be formally read monday. it says that \"in the event congress does provide this increase in federal funds\", the state board of education should be directed to \"give priority\" to teacher pay raises. _colquitt_- after a long, hot controversy, miller county has a new school superintendent, elected, as a policeman put it, in the \"coolest election i ever saw in this county\".\n",
      "the new school superintendent is harry davis, a veteran agriculture teacher, who defeated felix bush, a school principal and chairman of the miller county democratic executive committee.\n",
      "davis received 1,119 votes in saturday's election, and bush got 402. ordinary carey williams, armed with a pistol, stood by at the polls to insure order.\n",
      "\"this was the coolest, calmest election i ever saw\", colquitt policeman tom williams said. \"being at the polls was just like being at church. i didn't smell a drop of liquor, and we didn't have a bit of trouble\".\n",
      "the campaign leading to the election was not so quiet, however. it was marked by controversy, anonymous midnight phone calls and veiled threats of violence.\n",
      "the former county school superintendent, george p. callan, shot himself to death march 18, four days after he resigned his post in a dispute with the county school board.\n",
      "during the election campaign, both candidates, davis and bush, reportedly received anonymous telephone calls. ordinary williams said he, too, was subjected to anonymous calls soon after he scheduled the election.\n",
      "many local citizens feared that there would be irregularities at the polls, and williams got himself a permit to carry a gun and promised an orderly election.\n",
      "sheriff felix tabb said the ordinary apparently made good his promise.\n",
      "\"everything went real smooth\", the sheriff said. \"there wasn't a bit of trouble\". _austin, texas_- committee approval of gov. price daniel's \"abandoned property\" act seemed certain thursday despite the adamant protests of texas bankers.\n",
      "daniel personally led the fight for the measure, which he had watered down considerably since its rejection by two previous legislatures, in a public hearing before the house committee on revenue and taxation.\n",
      "under committee rules, it went automatically to a subcommittee for one week. but questions with which committee members taunted bankers appearing as witnesses left little doubt that they will recommend passage of it.\n",
      "daniel termed \"extremely conservative\" his estimate that it would produce 17 million dollars to help erase an anticipated deficit of 63 million dollars at the end of the current fiscal year next aug. 31.\n",
      "he told the committee the measure would merely provide means of enforcing the escheat law which has been on the books \"since texas was a republic\". it permits the state to take over bank accounts, stocks and other personal property of persons missing for seven years or more.\n",
      "the bill, which daniel said he drafted personally, would force banks, insurance firms, pipeline companies and other corporations to report such property to the state treasurer. the escheat law cannot be enforced now because it is almost impossible to locate such property, daniel declared.\n",
      "dewey lawrence, a tyler lawyer representing the texas bankers association, sounded the opposition keynote when he said it would force banks to violate their contractual obligations with depositors and undermine the confidence of bank customers.\n",
      "\"if you destroy confidence in banks, you do something to the economy\", he said. \"you take out of circulation many millions of dollars\".\n",
      "rep. charles e. hughes of sherman, sponsor of the bill, said a failure to enact it would amount \"to making a gift out of the taxpayers' pockets to banks, insurance and pipeline companies\".\n",
      "his contention was denied by several bankers, including scott hudson of sherman, gaynor b. jones of houston, j. b. brady of harlingen and howard cox of austin.\n",
      "cox argued that the bill is \"probably unconstitutional\" since, he said, it would impair contracts.\n",
      "he also complained that not enough notice was given on the hearing, since the bill was introduced only last monday.\n",
      "_austin, texas_- senators unanimously approved thursday the bill of sen. george parkhouse of dallas authorizing establishment of day schools for the deaf in dallas and the four other largest counties.\n",
      "the bill is designed to provide special schooling for more deaf students in the scholastic age at a reduced cost to the state.\n",
      "there was no debate as the senate passed the bill on to the house.\n",
      "it would authorize the texas education agency to establish county-wide day schools for the deaf in counties of 300,000 or more population, require deaf children between 6 and 13 years of age to attend the day schools, permitting older ones to attend the residential texas school for the deaf here.\n",
      "operating budget for the day schools in the five counties of dallas, harris, bexar, tarrant and el paso would be $451,500, which would be a savings of $157,460 yearly after the first year's capital outlay of $88,000 was absorbed, parkhouse told the senate.\n",
      "the ~tea estimated there would be 182 scholastics to attend the day school in dallas county, saving them from coming to austin to live in the state deaf school. #@#\n",
      "{dallas may get} to hear a debate on horse race parimutuels soon between reps. v. e. (red) berry and joe ratcliff.\n",
      "while details are still be to worked out, ratcliff said he expects to tell home folks in dallas why he thinks berry's proposed constitutional amendment should be rejected.\n",
      "\"we're getting more 'pro' letters than 'con' on horse race betting\", said ratcliff. \"but i believe if people were better informed on this question, most of them would oppose it also. i'm willing to stake my political career on it\".\n",
      "rep. berry, an ex-gambler from san antonio, got elected on his advocacy of betting on the ponies. a house committee which heard his local option proposal is expected to give it a favorable report, although the resolution faces hard sledding later. #@#\n",
      "{the house} passed finally, and sent to the senate, a bill extending the state health department's authority to give planning assistance to cities. #@#\n",
      "{the senate} quickly whipped through its meager fare of house bills approved by committees, passing the three on the calendar. one validated acts of school districts. another enlarged authority of the beaumont navigation district.\n",
      "the third amended the enabling act for creation of the lamar county hospital district, for which a special constitutional amendment previously was adopted. #@#\n",
      "{without dissent}, senators passed a bill by sen. a. r. schwartz of galveston authorizing establishment in the future of a school for the mentally retarded in the gulf coast district. money for its construction will be sought later on but in the meantime the state hospital board can accept gifts and donations of a site. #@#\n",
      "{two tax revision} bills were passed. one, by sen. louis crump of san saba, would aid more than 17,000 retailers who pay a group of miscellaneous excise taxes by eliminating the requirement that each return be notarized. instead, retailers would sign a certificate of correctness, violation of which would carry a penalty of one to five years in prison, plus a $1,000 fine. it was one of a series of recommendations by the texas research league. #@#\n",
      "{the other bill}, by sen. a. m. aikin jr. of paris, would relieve real estate brokers, who pay their own annual licensing fee, from the $12 annual occupation license on brokers in such as stocks and bonds. #@#\n",
      "{natural gas} public utility companies would be given the right of eminent domain, under a bill by sen. frank owen /3, of el paso, to acquire sites for underground storage reservoirs for gas. #@#\n"
     ]
    }
   ],
   "source": [
    "lines = load_text_lines('data/corpora/Brown/brown_nolines_en.txt')\n",
    "print(len(lines))\n",
    "for l in lines[0:100]:\n",
    "    print(l)\n"
   ]
  },
  {
   "cell_type": "code",
   "execution_count": 54,
   "id": "32539ee7",
   "metadata": {},
   "outputs": [
    {
     "name": "stdout",
     "output_type": "stream",
     "text": [
      "57200\n",
      "the fulton county grand jury said friday an investigation of atlanta's recent primary election produced \"no evidence\" that any irregularities took place.\n",
      "the jury further said in term-end presentments that the city executive committee, which had over-all charge of the election, \"deserves the praise and thanks of the city of atlanta\" for the manner in which the election was conducted.\n",
      "the september-october term jury had been charged by fulton superior court judge durwood pye to investigate reports of possible \"irregularities\" in the hard-fought primary which was won by mayor-nominate ivan allen jr..\n",
      "\"only a relative handful of such reports was received\", the jury said, \"considering the widespread interest in the election, the number of voters and the size of this city\".\n",
      "the jury said it did find that many of georgia's registration and election laws \"are outmoded or inadequate and often ambiguous\".\n",
      "it recommended that fulton legislators act \"to have these laws studied and revised to the end of modernizing and improving them\".\n",
      "the grand jury commented on a number of other topics, among them the atlanta and fulton county purchasing departments which it said \"are well operated and follow generally accepted practices which inure to the best interest of both governments\".\n",
      "#merger proposed#\n",
      "however, the jury said it believes \"these two offices should be combined to achieve greater efficiency and reduce the cost of administration\".\n",
      "the city purchasing department, the jury said, \"is lacking in experienced clerical personnel as a result of city personnel policies\".\n",
      "it urged that the city \"take steps to remedy\" this problem.\n",
      "implementation of georgia's automobile title law was also recommended by the outgoing jury.\n",
      "it urged that the next legislature \"provide enabling funds and re-set the effective date so that an orderly implementation of the law may be effected\".\n",
      "the grand jury took a swipe at the state welfare department's handling of federal funds granted for child welfare services in foster homes.\n",
      "\"this is one of the major items in the fulton county general assistance program\", the jury said, but the state welfare department \"has seen fit to distribute these funds through the welfare departments of all the counties in the state with the exception of fulton county, which receives none of this money.\n",
      "the jurors said they realize \"a proportionate distribution of these funds might disable this program in our less populous counties\".\n",
      "nevertheless, \"we feel that in the future fulton county should receive some portion of these available funds\", the jurors said.\n",
      "\"failure to do this will continue to place a disproportionate burden\" on fulton taxpayers.\n",
      "the jury also commented on the fulton ordinary's court which has been under fire for its practices in the appointment of appraisers, guardians and administrators and the awarding of fees and compensation.\n",
      "#wards protected#\n",
      "the jury said it found the court \"has incorporated into its operating procedures the recommendations\" of two previous grand juries, the atlanta bar association and an interim citizens committee.\n",
      "\"these actions should serve to protect in fact and in effect the court's wards from undue costs and its appointed and elected servants from unmeritorious criticisms\", the jury said.\n",
      "regarding atlanta's new multi-million-dollar airport, the jury recommended \"that when the new management takes charge jan.\n",
      "1 the airport be operated in a manner that will eliminate political influences\".\n",
      "the jury did not elaborate, but it added that \"there should be periodic surveillance of the pricing practices of the concessionaires for the purpose of keeping the prices reasonable\".\n",
      "#ask jail deputies#\n",
      "on other matters, the jury recommended that: _(1)_ four additional deputies be employed at the fulton county jail and \"a doctor, medical intern or extern be employed for night and weekend duty at the jail\".\n",
      "_(2)_ fulton legislators \"work with city officials to pass enabling legislation that will permit the establishment of a fair and equitable\" pension plan for city employes.\n",
      "the jury praised the administration and operation of the atlanta police department, the fulton tax commissioner's office, the bellwood and alpharetta prison farms, grady hospital and the fulton health department.\n",
      "mayor william b.\n",
      "hartsfield filed suit for divorce from his wife, pearl williams hartsfield, in fulton superior court friday.\n",
      "his petition charged mental cruelty.\n",
      "the couple was married aug.\n",
      "2, 1913.\n",
      "they have a son, william berry jr., and a daughter, mrs.\n",
      "j.\n",
      "m.\n",
      "cheshire of griffin.\n",
      "attorneys for the mayor said that an amicable property settlement has been agreed upon.\n",
      "the petition listed the mayor's occupation as \"attorney\" and his age as 71.\n",
      "it listed his wife's age as 74 and place of birth as opelika, ala..\n",
      "the petition said that the couple has not lived together as man and wife for more than a year.\n",
      "the hartsfield home is at 637 e.\n",
      "pelham rd.\n",
      "~ne.\n",
      "henry l.\n",
      "bowden was listed on the petition as the mayor's attorney.\n",
      "hartsfield has been mayor of atlanta, with exception of one brief interlude, since 1937.\n",
      "his political career goes back to his election to city council in 1923.\n",
      "the mayor's present term of office expires jan.\n",
      "1.\n",
      "he will be succeeded by ivan allen jr., who became a candidate in the sept.\n",
      "13 primary after mayor hartsfield announced that he would not run for reelection.\n",
      "georgia republicans are getting strong encouragement to enter a candidate in the 1962 governor's race, a top official said wednesday.\n",
      "robert snodgrass, state ~gop chairman, said a meeting held tuesday night in blue ridge brought enthusiastic responses from the audience.\n",
      "state party chairman james w.\n",
      "dorsey added that enthusiasm was picking up for a state rally to be held sept.\n",
      "8 in savannah at which newly elected texas sen.\n",
      "john tower will be the featured speaker.\n",
      "in the blue ridge meeting, the audience was warned that entering a candidate for governor would force it to take petitions out into voting precincts to obtain the signatures of registered voters.\n",
      "despite the warning, there was a unanimous vote to enter a candidate, according to republicans who attended.\n",
      "when the crowd was asked whether it wanted to wait one more term to make the race, it voted no- and there were no dissents.\n",
      "the largest hurdle the republicans would have to face is a state law which says that before making a first race, one of two alternative courses must be taken: _1._ five per cent of the voters in each county must sign petitions requesting that the republicans be allowed to place names of candidates on the general election ballot, or _2._ the republicans must hold a primary under the county unit system- a system which the party opposes in its platform.\n",
      "sam caldwell, state highway department public relations director, resigned tuesday to work for lt.\n",
      "gov.\n",
      "garland byrd's campaign.\n",
      "caldwell's resignation had been expected for some time.\n",
      "he will be succeeded by rob ledford of gainesville, who has been an assistant more than three years.\n",
      "when the gubernatorial campaign starts, caldwell is expected to become a campaign coordinator for byrd.\n",
      "the georgia legislature will wind up its 1961 session monday and head for home- where some of the highway bond money it approved will follow shortly.\n",
      "before adjournment monday afternoon, the senate is expected to approve a study of the number of legislators allotted to rural and urban areas to determine what adjustments should be made.\n",
      "gov.\n",
      "vandiver is expected to make the traditional visit to both chambers as they work toward adjournment.\n",
      "vandiver likely will mention the $100 million highway bond issue approved earlier in the session as his first priority item.\n",
      "#construction bonds#\n",
      "meanwhile, it was learned the state highway department is very near being ready to issue the first $30 million worth of highway reconstruction bonds.\n",
      "the bond issue will go to the state courts for a friendly test suit to test the validity of the act, and then the sales will begin and contracts let for repair work on some of georgia's most heavily traveled highways.\n",
      "a highway department source said there also is a plan there to issue some $3 million to $4 million worth of rural roads authority bonds for rural road construction work.\n",
      "#a revolving fund#\n",
      "the department apparently intends to make the rural roads authority a revolving fund under which new bonds would be issued every time a portion of the old ones are paid off by tax authorities.\n",
      "vandiver opened his race for governor in 1958 with a battle in the legislature against the issuance of $50 million worth of additional rural roads bonds proposed by then gov.\n",
      "marvin griffin.\n",
      "the highway department source told the constitution, however, that vandiver has not been consulted yet about the plans to issue the new rural roads bonds.\n",
      "schley county rep.\n",
      "b.\n",
      "d.\n",
      "pelham will offer a resolution monday in the house to rescind the body's action of friday in voting itself a $10 per day increase in expense allowances.\n",
      "pelham said sunday night there was research being done on whether the \"quickie\" vote on the increase can be repealed outright or whether notice would have to first be given that reconsideration of the action would be sought.\n",
      "while emphasizing that technical details were not fully worked out, pelham said his resolution would seek to set aside the privilege resolution which the house voted through 87-31.\n",
      "a similar resolution passed in the senate by a vote of 29-5.\n",
      "as of sunday night, there was no word of a resolution being offered there to rescind the action.\n",
      "pelham pointed out that georgia voters last november rejected a constitutional amendment to allow legislators to vote on pay raises for future legislature sessions.\n",
      "a veteran jackson county legislator will ask the georgia house monday to back federal aid to education, something it has consistently opposed in the past.\n",
      "rep.\n",
      "mac barber of commerce is asking the house in a privilege resolution to \"endorse increased federal support for public education, provided that such funds be received and expended\" as state funds.\n",
      "barber, who is in his 13th year as a legislator, said there \"are some members of our congressional delegation in washington who would like to see it (the resolution) passed\".\n",
      "but he added that none of georgia's congressmen specifically asked him to offer the resolution.\n",
      "the resolution, which barber tossed into the house hopper friday, will be formally read monday.\n",
      "it says that \"in the event congress does provide this increase in federal funds\", the state board of education should be directed to \"give priority\" to teacher pay raises.\n",
      "_colquitt_- after a long, hot controversy, miller county has a new school superintendent, elected, as a policeman put it, in the \"coolest election i ever saw in this county\".\n"
     ]
    }
   ],
   "source": [
    "sents = sentencinize_with_patterns([\".\",\"?\",\"!\"],lines)\n",
    "print(len(sents))\n",
    "for l in sents[0:100]:\n",
    "    print(l)"
   ]
  },
  {
   "cell_type": "code",
   "execution_count": 41,
   "id": "20ab1c2d",
   "metadata": {},
   "outputs": [],
   "source": [
    "tokenizer = DelimiterTokenizer()"
   ]
  },
  {
   "cell_type": "code",
   "execution_count": 61,
   "id": "b5cc62f7",
   "metadata": {},
   "outputs": [
    {
     "name": "stdout",
     "output_type": "stream",
     "text": [
      "5971746\n"
     ]
    }
   ],
   "source": [
    "text = \" \".join(lines)\n",
    "print(len(text))"
   ]
  },
  {
   "cell_type": "code",
   "execution_count": 60,
   "id": "735536ae",
   "metadata": {},
   "outputs": [
    {
     "name": "stdout",
     "output_type": "stream",
     "text": [
      "2172559\n",
      "2.748715224764897\n"
     ]
    }
   ],
   "source": [
    "toks = tokenizer.tokenize(text)\n",
    "print(len(toks))\n",
    "print(len(text)/len(toks))\n"
   ]
  },
  {
   "cell_type": "code",
   "execution_count": null,
   "id": "7b4a7812",
   "metadata": {},
   "outputs": [],
   "source": []
  },
  {
   "cell_type": "code",
   "execution_count": null,
   "id": "4778fef8",
   "metadata": {},
   "outputs": [],
   "source": []
  },
  {
   "cell_type": "code",
   "execution_count": null,
   "id": "5f7a7af5",
   "metadata": {},
   "outputs": [],
   "source": []
  },
  {
   "cell_type": "code",
   "execution_count": 57,
   "id": "9f764593",
   "metadata": {},
   "outputs": [
    {
     "data": {
      "text/plain": [
       "'the fulton county grand jury said friday an investigation of atlanta\\'s recent primary election produced \"no evidence\" that any irregularities took place. the jury further said in term-end presentments that the city executive committee, which had over-all charge of the election, \"deserves the praise and thanks of the city of atlanta\" for the manner in which the election was conducted. the september-october term jury had been charged by fulton superior court judge durwood pye to investigate report'"
      ]
     },
     "execution_count": 57,
     "metadata": {},
     "output_type": "execute_result"
    }
   ],
   "source": [
    "text[:500]\n"
   ]
  },
  {
   "cell_type": "code",
   "execution_count": 59,
   "id": "51cc14c8",
   "metadata": {},
   "outputs": [
    {
     "name": "stdout",
     "output_type": "stream",
     "text": [
      "['the', ' ', 'fulton', ' ', 'county', ' ', 'grand', ' ', 'jury', ' ', 'said', ' ', 'friday', ' ', 'an', ' ', 'investigation', ' ', 'of', ' ', \"atlanta's\", ' ', 'recent', ' ', 'primary', ' ', 'election', ' ', 'produced', ' ', '\"', 'no', ' ', 'evidence', '\"', ' ', 'that', ' ', 'any', ' ', 'irregularities', ' ', 'took', ' ', 'place', '.', ' ', 'the', ' ', 'jury', ' ', 'further', ' ', 'said', ' ', 'in', ' ', 'term-end', ' ', 'presentments', ' ', 'that', ' ', 'the', ' ', 'city', ' ', 'executive', ' ', 'committee', ',', ' ', 'which', ' ', 'had', ' ', 'over-all', ' ', 'charge', ' ', 'of', ' ', 'the', ' ', 'election', ',', ' ', '\"', 'deserves', ' ', 'the', ' ', 'praise', ' ', 'and', ' ', 'thanks', ' ', 'of', ' ', 'the', ' ', 'city', ' ', 'of', ' ', 'atlanta', '\"', ' ', 'for', ' ', 'the', ' ', 'manner', ' ', 'in', ' ', 'which', ' ', 'the', ' ', 'election', ' ', 'was', ' ', 'conducted', '.', ' ', 'the', ' ', 'september-october', ' ', 'term', ' ', 'jury', ' ', 'had', ' ', 'been', ' ', 'charged', ' ', 'by', ' ', 'fulton', ' ', 'superior', ' ', 'court', ' ', 'judge', ' ', 'durwood', ' ', 'pye', ' ', 'to', ' ', 'investigate', ' ', 'report']\n"
     ]
    }
   ],
   "source": [
    "print(tokenizer.tokenize(text[:500]))\n"
   ]
  },
  {
   "cell_type": "code",
   "execution_count": null,
   "id": "a697a764",
   "metadata": {},
   "outputs": [],
   "source": []
  },
  {
   "cell_type": "code",
   "execution_count": null,
   "id": "bb3a54b3",
   "metadata": {},
   "outputs": [],
   "source": []
  },
  {
   "cell_type": "code",
   "execution_count": null,
   "id": "bd49907f",
   "metadata": {},
   "outputs": [],
   "source": []
  },
  {
   "cell_type": "code",
   "execution_count": null,
   "id": "bde04042",
   "metadata": {},
   "outputs": [],
   "source": []
  },
  {
   "cell_type": "code",
   "execution_count": 34,
   "id": "9a7af71f",
   "metadata": {},
   "outputs": [
    {
     "name": "stderr",
     "output_type": "stream",
     "text": [
      "[nltk_data] Error loading punkt: <urlopen error [Errno 8] nodename nor\n",
      "[nltk_data]     servname provided, or not known>\n"
     ]
    }
   ],
   "source": [
    "#https://towardsdatascience.com/5-simple-ways-to-tokenize-text-in-python-92c6804edfc4\n",
    "#https://www.oreilly.com/content/how-can-i-tokenize-a-sentence-with-python/\n",
    "import nltk\n",
    "\n",
    "#TODO run this to make it working\n",
    "nltk.download('punkt')\n",
    "SENT_DETECTOR = nltk.data.load('tokenizers/punkt/english.pickle')\n",
    "\n",
    "#def text_to_sentences(text):\n",
    "#    return nltk.sent_tokenize(text)\n"
   ]
  },
  {
   "cell_type": "code",
   "execution_count": null,
   "id": "bb23907d",
   "metadata": {},
   "outputs": [],
   "source": []
  },
  {
   "cell_type": "code",
   "execution_count": null,
   "id": "a3baa5ba",
   "metadata": {},
   "outputs": [],
   "source": []
  },
  {
   "cell_type": "code",
   "execution_count": null,
   "id": "f5e10a40",
   "metadata": {},
   "outputs": [],
   "source": []
  },
  {
   "cell_type": "code",
   "execution_count": null,
   "id": "625cc2b9",
   "metadata": {},
   "outputs": [],
   "source": []
  },
  {
   "cell_type": "code",
   "execution_count": 8,
   "id": "2825da1a",
   "metadata": {},
   "outputs": [],
   "source": [
    "#TODO:\n",
    " \n",
    "# Exceptions on false breaking on \". \" on Brown!?\n",
    "# Sentencinoze Brown with NLTK!?\n",
    "\n"
   ]
  }
 ],
 "metadata": {
  "kernelspec": {
   "display_name": "Python 3 (ipykernel)",
   "language": "python",
   "name": "python3"
  },
  "language_info": {
   "codemirror_mode": {
    "name": "ipython",
    "version": 3
   },
   "file_extension": ".py",
   "mimetype": "text/x-python",
   "name": "python",
   "nbconvert_exporter": "python",
   "pygments_lexer": "ipython3",
   "version": "3.7.7"
  }
 },
 "nbformat": 4,
 "nbformat_minor": 5
}
