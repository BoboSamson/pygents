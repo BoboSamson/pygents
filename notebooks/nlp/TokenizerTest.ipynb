{
 "cells": [
  {
   "cell_type": "code",
   "execution_count": 1,
   "id": "6076d11d",
   "metadata": {},
   "outputs": [],
   "source": [
    "import os, sys\n",
    "cwd = os.getcwd()\n",
    "project_path = cwd[:cwd.find('pygents')+7]\n",
    "if project_path not in sys.path: sys.path.append(project_path)\n",
    "os.chdir(project_path) \n",
    "\n",
    "from importlib import reload  # Python 3.4+\n",
    "\n",
    "import pickle\n",
    "\n",
    "from pygents.tokens import Tokenizer \n",
    "from pygents.text import preprocess_text, grams_count_with_char_freedoms\n",
    "from pygents.text import counters_init\n"
   ]
  },
  {
   "cell_type": "code",
   "execution_count": 2,
   "id": "7a32f767",
   "metadata": {},
   "outputs": [],
   "source": [
    "assert str(Tokenizer().tokenize(\"ab c\")) == \"['ab', 'c']\""
   ]
  },
  {
   "cell_type": "code",
   "execution_count": null,
   "id": "682f92d9",
   "metadata": {},
   "outputs": [],
   "source": []
  },
  {
   "cell_type": "code",
   "execution_count": null,
   "id": "cb35f87d",
   "metadata": {},
   "outputs": [],
   "source": []
  },
  {
   "cell_type": "code",
   "execution_count": null,
   "id": "01833e5c",
   "metadata": {},
   "outputs": [],
   "source": []
  },
  {
   "cell_type": "code",
   "execution_count": 3,
   "id": "060d72a6",
   "metadata": {},
   "outputs": [],
   "source": []
  },
  {
   "cell_type": "code",
   "execution_count": null,
   "id": "2af71ae6",
   "metadata": {},
   "outputs": [],
   "source": []
  },
  {
   "cell_type": "code",
   "execution_count": null,
   "id": "ffaa84a0",
   "metadata": {},
   "outputs": [],
   "source": []
  },
  {
   "cell_type": "code",
   "execution_count": 4,
   "id": "ea9991b7",
   "metadata": {},
   "outputs": [
    {
     "name": "stdout",
     "output_type": "stream",
     "text": [
      "p\n",
      "+ p i\n",
      "i\n",
      "+ i g\n",
      "- i p\n",
      "g\n",
      "- g i\n",
      "pi\n",
      "+ pi g\n",
      "ig\n",
      "- ig p\n",
      "{'p': {'i': 1}, 'i': {'g': 1}, 'pi': {'g': 1}}\n",
      "{'i': {'p': 1}, 'g': {'i': 1}, 'ig': {'p': 1}}\n"
     ]
    }
   ],
   "source": [
    "\n",
    "#TODO to utils\n",
    "\n",
    "#TODO metrics on tokens, F1\n",
    "\n",
    "def count_subelements(element):\n",
    "    count = 0\n",
    "    if isinstance(element, list) or isinstance(element, tuple):\n",
    "        for child in element:\n",
    "            count += count_subelements(child)\n",
    "    elif isinstance(element, dict):\n",
    "        for key in element:\n",
    "            count += count_subelements(element[key])\n",
    "    else:\n",
    "        count = 1\n",
    "    return count \n",
    "assert count_subelements(['1',2,[[3,'4',{'x':['5',6],'y':(7,'8')},{'z':{'p':9,'q':['10']}}]]]) == 10\n",
    "\n",
    "\n",
    "class FreedomTokenizer(Tokenizer):\n",
    "\n",
    "    def __init__(self, name=None, max_n=7, debug=False):\n",
    "        Tokenizer.__init__(self,debug=debug)\n",
    "        self.max_n = max_n\n",
    "        self.model = pickle.load(open(name, 'rb')) if name is not None else [{},{},{}] \n",
    "\n",
    "    def train(self,texts,max_n=None):\n",
    "        if max_n is None:\n",
    "            max_n = self.max_n\n",
    "        model = counters_init(max_n) \n",
    "        for text in texts:\n",
    "            text = preprocess_text(text)\n",
    "            chars = list(text)\n",
    "            for n in range(max_n):\n",
    "                grams_count_with_char_freedoms(model[0],model[1],model[2],chars,n+1,debug=self.debug)\n",
    "        #merge n-specific models into joint ones\n",
    "        for i in range(3):\n",
    "            for d in model[i]:\n",
    "                self.model[i].update(d)\n",
    "        return self\n",
    "        \n",
    "    def tokenize(self,text):\n",
    "        #TODO\n",
    "        return text.split()\n",
    "\n",
    "    def count_params(self):\n",
    "        return count_subelements(self.model)\n",
    "    \n",
    "#TODO unittest \"pig\",\"pig\"/\"ding\",\"dong\"\n",
    "\n",
    "_test_tokenizer = FreedomTokenizer(max_n=2,debug=True).train([\"pig\"])\n",
    "assert _test_tokenizer.count_params() == 11\n",
    "print(str(_test_tokenizer.model[1]))\n",
    "print(str(_test_tokenizer.model[2]))\n",
    "#assert str(_test_tokenizer.model) == \"[{'p': 1, 'i': 1, 'g': 1, 'pi': 1, 'ig': 1}, {'p': {'g': 1}, 'i': {'g': 1}, 'pi': {'g': 1}}, {'i': {'p': 1}, 'g': {'i': 1}, 'ig': {'p': 1}}]\"\n",
    "\n",
    "#_test_tokenizer = FreedomTokenizer(max_n=2).train([\"ding\",\"dong\"])\n",
    "\n",
    "#print(str(_test_tokenizer.model[1]))\n",
    "#print(str(_test_tokenizer.model[2]))\n",
    "#print(str(_test_tokenizer.model))\n",
    "\n",
    "#print( _test_tokenizer.count_params() ) #== 11\n",
    "\n"
   ]
  },
  {
   "cell_type": "code",
   "execution_count": null,
   "id": "bab0988f",
   "metadata": {},
   "outputs": [],
   "source": []
  },
  {
   "cell_type": "code",
   "execution_count": null,
   "id": "e8ad096b",
   "metadata": {},
   "outputs": [],
   "source": []
  },
  {
   "cell_type": "code",
   "execution_count": null,
   "id": "c3f5a3cd",
   "metadata": {},
   "outputs": [],
   "source": []
  },
  {
   "cell_type": "code",
   "execution_count": null,
   "id": "1a404145",
   "metadata": {},
   "outputs": [],
   "source": []
  },
  {
   "cell_type": "code",
   "execution_count": null,
   "id": "79d69854",
   "metadata": {},
   "outputs": [],
   "source": []
  }
 ],
 "metadata": {
  "kernelspec": {
   "display_name": "Python 3 (ipykernel)",
   "language": "python",
   "name": "python3"
  },
  "language_info": {
   "codemirror_mode": {
    "name": "ipython",
    "version": 3
   },
   "file_extension": ".py",
   "mimetype": "text/x-python",
   "name": "python",
   "nbconvert_exporter": "python",
   "pygments_lexer": "ipython3",
   "version": "3.7.7"
  }
 },
 "nbformat": 4,
 "nbformat_minor": 5
}
