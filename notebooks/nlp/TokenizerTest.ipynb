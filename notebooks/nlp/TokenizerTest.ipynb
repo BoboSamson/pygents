{
 "cells": [
  {
   "cell_type": "code",
   "execution_count": 1,
   "id": "a01f79b3",
   "metadata": {},
   "outputs": [],
   "source": [
    "import os, sys\n",
    "cwd = os.getcwd()\n",
    "project_path = cwd[:cwd.find('pygents')+7]\n",
    "if project_path not in sys.path: sys.path.append(project_path)\n",
    "os.chdir(project_path) \n",
    "\n",
    "from importlib import reload  # Python 3.4+\n",
    "\n",
    "import pickle\n",
    "\n",
    "from pygents.token import Tokenizer \n",
    "from pygents.text import preprocess_text, grams_count_with_char_freedoms\n",
    "from pygents.text import counters_init\n",
    "from pygents.util import count_subelements\n"
   ]
  },
  {
   "cell_type": "code",
   "execution_count": 2,
   "id": "93624f1d",
   "metadata": {},
   "outputs": [],
   "source": [
    "assert str(Tokenizer().tokenize(\"ab c\")) == \"['ab', 'c']\""
   ]
  },
  {
   "cell_type": "code",
   "execution_count": null,
   "id": "0ee4e49f",
   "metadata": {},
   "outputs": [],
   "source": []
  },
  {
   "cell_type": "code",
   "execution_count": null,
   "id": "b5ef2b50",
   "metadata": {},
   "outputs": [],
   "source": []
  },
  {
   "cell_type": "code",
   "execution_count": null,
   "id": "037b62b6",
   "metadata": {},
   "outputs": [],
   "source": []
  },
  {
   "cell_type": "code",
   "execution_count": null,
   "id": "48a09914",
   "metadata": {},
   "outputs": [],
   "source": []
  },
  {
   "cell_type": "code",
   "execution_count": null,
   "id": "4fe93b4a",
   "metadata": {},
   "outputs": [],
   "source": []
  },
  {
   "cell_type": "code",
   "execution_count": null,
   "id": "7475c6e8",
   "metadata": {},
   "outputs": [],
   "source": []
  },
  {
   "cell_type": "code",
   "execution_count": 14,
   "id": "fe8d0098",
   "metadata": {},
   "outputs": [],
   "source": [
    "#TODO metrics on tokens, F1\n",
    "\n",
    "class FreedomTokenizer(Tokenizer):\n",
    "\n",
    "    def __init__(self, name=None, max_n=7, debug=False):\n",
    "        Tokenizer.__init__(self,debug=debug)\n",
    "        self.max_n = max_n\n",
    "        self.model = pickle.load(open(name, 'rb')) if name is not None else [{},{},{}] \n",
    "\n",
    "    def train(self,texts,max_n=None):\n",
    "        if max_n is None:\n",
    "            max_n = self.max_n\n",
    "        model = counters_init(max_n) \n",
    "        for text in texts:\n",
    "            text = preprocess_text(text)\n",
    "            chars = list(text)\n",
    "            for n in range(max_n):\n",
    "                grams_count_with_char_freedoms(model[0],model[1],model[2],chars,n+1,debug=self.debug)\n",
    "        #merge n-specific models into joint ones\n",
    "        for i in range(3):\n",
    "            for d in model[i]:\n",
    "                self.model[i].update(d)\n",
    "        return self\n",
    "        \n",
    "    def tokenize(self,text):\n",
    "        #TODO\n",
    "        return text.split()\n",
    "\n",
    "    def count_params(self):\n",
    "        return count_subelements(self.model)\n",
    "    \n",
    "_test_tokenizer = FreedomTokenizer(max_n=2,debug=False).train([\"pig\"])\n",
    "assert _test_tokenizer.count_params() == 11\n",
    "assert str(_test_tokenizer.model) == \"[{'p': 1, 'i': 1, 'g': 1, 'pi': 1, 'ig': 1}, {'p': {'i': 1}, 'i': {'g': 1}, 'pi': {'g': 1}}, {'i': {'p': 1}, 'g': {'i': 1}, 'ig': {'p': 1}}]\"\n",
    "_test_tokenizer = FreedomTokenizer(max_n=2).train([\"ding\",\"dong\"])\n",
    "#print(_test_tokenizer.count_params())\n",
    "assert _test_tokenizer.count_params() == 28\n",
    "#print(str(_test_tokenizer.model[0]))\n",
    "#print(str(_test_tokenizer.model[1]))\n",
    "#print(str(_test_tokenizer.model[2]))\n",
    "#print(str(_test_tokenizer.model))\n",
    "assert str(_test_tokenizer.model) == \"[{'d': 2, 'i': 1, 'n': 2, 'g': 2, 'o': 1, 'di': 1, 'in': 1, 'ng': 2, 'do': 1, 'on': 1}, {'d': {'i': 1, 'o': 1}, 'i': {'n': 1}, 'n': {'g': 2}, 'o': {'n': 1}, 'di': {'n': 1}, 'in': {'g': 1}, 'do': {'n': 1}, 'on': {'g': 1}}, {'i': {'d': 1}, 'n': {'i': 1, 'o': 1}, 'g': {'n': 2}, 'o': {'d': 1}, 'in': {'d': 1}, 'ng': {'i': 1, 'o': 1}, 'on': {'d': 1}}]\"\n"
   ]
  },
  {
   "cell_type": "code",
   "execution_count": null,
   "id": "98e9b111",
   "metadata": {},
   "outputs": [],
   "source": []
  },
  {
   "cell_type": "code",
   "execution_count": null,
   "id": "fd379d54",
   "metadata": {},
   "outputs": [],
   "source": []
  },
  {
   "cell_type": "code",
   "execution_count": null,
   "id": "e56553ad",
   "metadata": {},
   "outputs": [],
   "source": []
  },
  {
   "cell_type": "code",
   "execution_count": null,
   "id": "64743651",
   "metadata": {},
   "outputs": [],
   "source": []
  },
  {
   "cell_type": "code",
   "execution_count": null,
   "id": "029cd6cb",
   "metadata": {},
   "outputs": [],
   "source": []
  }
 ],
 "metadata": {
  "kernelspec": {
   "display_name": "Python 3 (ipykernel)",
   "language": "python",
   "name": "python3"
  },
  "language_info": {
   "codemirror_mode": {
    "name": "ipython",
    "version": 3
   },
   "file_extension": ".py",
   "mimetype": "text/x-python",
   "name": "python",
   "nbconvert_exporter": "python",
   "pygments_lexer": "ipython3",
   "version": "3.7.7"
  }
 },
 "nbformat": 4,
 "nbformat_minor": 5
}
