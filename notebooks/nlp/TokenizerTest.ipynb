{
 "cells": [
  {
   "cell_type": "code",
   "execution_count": 1,
   "id": "9ac66213",
   "metadata": {},
   "outputs": [],
   "source": [
    "import os, sys\n",
    "cwd = os.getcwd()\n",
    "project_path = cwd[:cwd.find('pygents')+7]\n",
    "if project_path not in sys.path: sys.path.append(project_path)\n",
    "os.chdir(project_path) \n",
    "\n",
    "from importlib import reload  # Python 3.4+\n",
    "\n",
    "from pygents.tokens import Tokenizer \n"
   ]
  },
  {
   "cell_type": "code",
   "execution_count": 2,
   "id": "185d4b8e",
   "metadata": {},
   "outputs": [],
   "source": [
    "assert str(Tokenizer().tokenize(\"ab c\")) == \"['ab', 'c']\""
   ]
  },
  {
   "cell_type": "code",
   "execution_count": null,
   "id": "26518f6b",
   "metadata": {},
   "outputs": [],
   "source": []
  },
  {
   "cell_type": "code",
   "execution_count": 16,
   "id": "15dd10cf",
   "metadata": {},
   "outputs": [],
   "source": [
    "import pickle\n",
    "\n",
    "#TODO metrics oon tokens, F1\n",
    "\n",
    "#TODO to tokens\n",
    "def count_subelements(element):\n",
    "    count = 0\n",
    "    if isinstance(element, list) or isinstance(element, tuple):\n",
    "        for child in element:\n",
    "            count += count_subelements(child)\n",
    "    elif isinstance(element, dict):\n",
    "        for key in element:\n",
    "            count += count_subelements(element[key])\n",
    "    else:\n",
    "        count = 1\n",
    "    return count \n",
    "assert count_subelements(['1',2,[[3,'4',{'x':['5',6],'y':(7,'8')},{'z':{'p':9,'q':['10']}}]]]) == 10\n",
    "\n",
    "class FreedomTokenizer(Tokenizer):\n",
    "\n",
    "    def __init__(self, name=None, debug=True):\n",
    "        Tokenizer.__init__(debug=debug)\n",
    "        self.model = pickle.load(open(name, 'rb')) if name is not None else [{},{},{}] \n",
    "\n",
    "    def train(self,texts):\n",
    "        for text in texts:\n",
    "        #TODO\n",
    "            pass\n",
    "        \n",
    "    def tokenize(self,text):\n",
    "        #TODO\n",
    "        return text.split()\n",
    "\n",
    "    def count_params(self):\n",
    "        count_subelements(self.model)\n",
    "    \n",
    "#TODO unittest \"pig\",\"pig\"/\"ding\",\"dong\"\n"
   ]
  },
  {
   "cell_type": "code",
   "execution_count": null,
   "id": "75474b2f",
   "metadata": {},
   "outputs": [],
   "source": []
  },
  {
   "cell_type": "code",
   "execution_count": null,
   "id": "5ead1e65",
   "metadata": {},
   "outputs": [],
   "source": []
  },
  {
   "cell_type": "code",
   "execution_count": null,
   "id": "405b0e4d",
   "metadata": {},
   "outputs": [],
   "source": []
  },
  {
   "cell_type": "code",
   "execution_count": null,
   "id": "45370486",
   "metadata": {},
   "outputs": [],
   "source": []
  },
  {
   "cell_type": "code",
   "execution_count": null,
   "id": "99f3ae8c",
   "metadata": {},
   "outputs": [],
   "source": []
  }
 ],
 "metadata": {
  "kernelspec": {
   "display_name": "Python 3 (ipykernel)",
   "language": "python",
   "name": "python3"
  },
  "language_info": {
   "codemirror_mode": {
    "name": "ipython",
    "version": 3
   },
   "file_extension": ".py",
   "mimetype": "text/x-python",
   "name": "python",
   "nbconvert_exporter": "python",
   "pygments_lexer": "ipython3",
   "version": "3.7.7"
  }
 },
 "nbformat": 4,
 "nbformat_minor": 5
}
