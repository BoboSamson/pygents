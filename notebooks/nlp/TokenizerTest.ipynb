{
 "cells": [
  {
   "cell_type": "code",
   "execution_count": 1,
   "id": "f9135f89",
   "metadata": {},
   "outputs": [],
   "source": [
    "import os, sys\n",
    "cwd = os.getcwd()\n",
    "project_path = cwd[:cwd.find('pygents')+7]\n",
    "if project_path not in sys.path: sys.path.append(project_path)\n",
    "os.chdir(project_path) \n",
    "\n",
    "from importlib import reload  # Python 3.4+\n",
    "\n",
    "from pygents.tokens import Tokenizer \n"
   ]
  },
  {
   "cell_type": "code",
   "execution_count": 2,
   "id": "f6a0444c",
   "metadata": {},
   "outputs": [],
   "source": [
    "assert str(Tokenizer().tokenize(\"ab c\")) == \"['ab', 'c']\""
   ]
  },
  {
   "cell_type": "code",
   "execution_count": null,
   "id": "5871aec3",
   "metadata": {},
   "outputs": [],
   "source": []
  },
  {
   "cell_type": "code",
   "execution_count": 3,
   "id": "4e00d511",
   "metadata": {},
   "outputs": [],
   "source": [
    "import pickle\n",
    "\n",
    "class FreedomTokenizer(Tokenizer):\n",
    "\n",
    "    def __init__(self, name=None, debug=True):\n",
    "        Tokenizer.__init__(debug=debug)\n",
    "        self.model = pickle.load(open(name, 'rb')) if name is not None else [{},{},{}] \n",
    "\n",
    "    def tokenize(self,text):\n",
    "        #TODO\n",
    "        return text.split()\n"
   ]
  },
  {
   "cell_type": "code",
   "execution_count": null,
   "id": "b575c4cd",
   "metadata": {},
   "outputs": [],
   "source": []
  },
  {
   "cell_type": "code",
   "execution_count": null,
   "id": "04856220",
   "metadata": {},
   "outputs": [],
   "source": []
  },
  {
   "cell_type": "code",
   "execution_count": null,
   "id": "17a6b58d",
   "metadata": {},
   "outputs": [],
   "source": []
  },
  {
   "cell_type": "code",
   "execution_count": null,
   "id": "34e11077",
   "metadata": {},
   "outputs": [],
   "source": []
  }
 ],
 "metadata": {
  "kernelspec": {
   "display_name": "Python 3 (ipykernel)",
   "language": "python",
   "name": "python3"
  },
  "language_info": {
   "codemirror_mode": {
    "name": "ipython",
    "version": 3
   },
   "file_extension": ".py",
   "mimetype": "text/x-python",
   "name": "python",
   "nbconvert_exporter": "python",
   "pygments_lexer": "ipython3",
   "version": "3.7.7"
  }
 },
 "nbformat": 4,
 "nbformat_minor": 5
}
