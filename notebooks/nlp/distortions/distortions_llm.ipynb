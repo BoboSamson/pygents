{
 "cells": [
  {
   "cell_type": "code",
   "execution_count": 4,
   "id": "946a1038",
   "metadata": {},
   "outputs": [],
   "source": [
    "import os, sys\n",
    "cwd = os.getcwd()\n",
    "project_path = cwd[:cwd.find('pygents')+7]\n",
    "if project_path not in sys.path: sys.path.append(project_path)\n",
    "os.chdir(project_path)\n",
    "\n",
    "import pandas as pd\n",
    "import numpy as np\n",
    "\n",
    "# !pip install emoji==1.6.3\n",
    "# !pip install scipy\n",
    "from pygents.util import calc_f1"
   ]
  },
  {
   "cell_type": "markdown",
   "id": "ed121480",
   "metadata": {},
   "source": [
    "## Cursory check of LLM capacity to detect distortions"
   ]
  },
  {
   "cell_type": "code",
   "execution_count": 5,
   "id": "c6be2044",
   "metadata": {},
   "outputs": [],
   "source": [
    "from langchain_ollama.chat_models import ChatOllama\n",
    "default_chat_model = \"llama3.2\"\n",
    "\n",
    "llm = ChatOllama(model=default_chat_model, base_url=\"http://localhost:11434\")  # Explicitly set base_url"
   ]
  },
  {
   "cell_type": "code",
   "execution_count": 18,
   "id": "8294bd83-4d90-44ca-a9fa-9d42176d3c96",
   "metadata": {},
   "outputs": [],
   "source": [
    "def evaluator_llm(text,threshold=0):\n",
    "    query = f\"Be concise. Does this text have cognitive distortions in it \\\"{text}\\\"?\"\n",
    "    r = llm.invoke(query).content\n",
    "    return r.lower().startswith(\"yes\")\n"
   ]
  },
  {
   "cell_type": "code",
   "execution_count": 19,
   "id": "30797322-67b7-4da9-bb09-366c439e3b15",
   "metadata": {},
   "outputs": [
    {
     "name": "stdout",
     "output_type": "stream",
     "text": [
      "True: Be concise. Does this text have cognitive distortions in it \"I am such a failure I never do anything right.\"?\n",
      "True: Be concise. Does this text have cognitive distortions in it \"I am a software developer doing coding.\"?\n",
      "True: Be concise. Does this text have cognitive distortions in it \"I am a man sitting on the chair behind the table.\"?\n",
      "False: Be concise. Does this text have cognitive distortions in it \"There is a chair behind the table.\"?\n"
     ]
    }
   ],
   "source": [
    "texts = [\n",
    "    \"I am such a failure I never do anything right.\",\n",
    "    \"I am a software developer doing coding.\",\n",
    "    \"I am a man sitting on the chair behind the table.\",\n",
    "    \"There is a chair behind the table.\"\n",
    "]\n",
    "for r in texts:\n",
    "    q = f\"Be concise. Does this text have cognitive distortions in it \\\"{r}\\\"?\"\n",
    "    d = evaluator_llm(r)\n",
    "    print(f\"{d}: {q}\")\n",
    "    \n",
    "    "
   ]
  },
  {
   "cell_type": "code",
   "execution_count": null,
   "id": "6736fea7-cf58-4b73-9f31-be764656bde4",
   "metadata": {},
   "outputs": [],
   "source": []
  },
  {
   "cell_type": "markdown",
   "id": "7011f9e4",
   "metadata": {},
   "source": [
    "## Explore performance of \"our out of the box\" model with dataset 1 (original binary)"
   ]
  },
  {
   "cell_type": "code",
   "execution_count": 20,
   "id": "87acaf39",
   "metadata": {},
   "outputs": [
    {
     "data": {
      "text/html": [
       "<div>\n",
       "<style scoped>\n",
       "    .dataframe tbody tr th:only-of-type {\n",
       "        vertical-align: middle;\n",
       "    }\n",
       "\n",
       "    .dataframe tbody tr th {\n",
       "        vertical-align: top;\n",
       "    }\n",
       "\n",
       "    .dataframe thead th {\n",
       "        text-align: right;\n",
       "    }\n",
       "</style>\n",
       "<table border=\"1\" class=\"dataframe\">\n",
       "  <thead>\n",
       "    <tr style=\"text-align: right;\">\n",
       "      <th></th>\n",
       "      <th>Text</th>\n",
       "      <th>N/A text</th>\n",
       "      <th>Label</th>\n",
       "      <th>N/A label</th>\n",
       "    </tr>\n",
       "  </thead>\n",
       "  <tbody>\n",
       "    <tr>\n",
       "      <th>0</th>\n",
       "      <td>I'm such a failure I never do anything right.</td>\n",
       "      <td>NaN</td>\n",
       "      <td>Distortion</td>\n",
       "      <td>NaN</td>\n",
       "    </tr>\n",
       "    <tr>\n",
       "      <th>1</th>\n",
       "      <td>Nobody likes me because I'm not interesting.</td>\n",
       "      <td>NaN</td>\n",
       "      <td>Distortion</td>\n",
       "      <td>NaN</td>\n",
       "    </tr>\n",
       "    <tr>\n",
       "      <th>2</th>\n",
       "      <td>I can't try new things because I'll just mess...</td>\n",
       "      <td>NaN</td>\n",
       "      <td>Distortion</td>\n",
       "      <td>NaN</td>\n",
       "    </tr>\n",
       "    <tr>\n",
       "      <th>3</th>\n",
       "      <td>My boss didn't say 'good morning' she must be...</td>\n",
       "      <td>NaN</td>\n",
       "      <td>Distortion</td>\n",
       "      <td>NaN</td>\n",
       "    </tr>\n",
       "    <tr>\n",
       "      <th>4</th>\n",
       "      <td>My friend didn't invite me to the party I mus...</td>\n",
       "      <td>NaN</td>\n",
       "      <td>Distortion</td>\n",
       "      <td>NaN</td>\n",
       "    </tr>\n",
       "    <tr>\n",
       "      <th>5</th>\n",
       "      <td>I didn't get the job so I must be incompetent.</td>\n",
       "      <td>NaN</td>\n",
       "      <td>Distortion</td>\n",
       "      <td>NaN</td>\n",
       "    </tr>\n",
       "    <tr>\n",
       "      <th>6</th>\n",
       "      <td>I'm always unlucky. Good things only happen t...</td>\n",
       "      <td>NaN</td>\n",
       "      <td>Distortion</td>\n",
       "      <td>NaN</td>\n",
       "    </tr>\n",
       "    <tr>\n",
       "      <th>7</th>\n",
       "      <td>Everyone thinks I'm stupid because I made a m...</td>\n",
       "      <td>NaN</td>\n",
       "      <td>Distortion</td>\n",
       "      <td>NaN</td>\n",
       "    </tr>\n",
       "    <tr>\n",
       "      <th>8</th>\n",
       "      <td>I'll never be successful because I failed my ...</td>\n",
       "      <td>NaN</td>\n",
       "      <td>Distortion</td>\n",
       "      <td>NaN</td>\n",
       "    </tr>\n",
       "    <tr>\n",
       "      <th>9</th>\n",
       "      <td>Nobody cares about me because they didn't ask...</td>\n",
       "      <td>NaN</td>\n",
       "      <td>Distortion</td>\n",
       "      <td>NaN</td>\n",
       "    </tr>\n",
       "  </tbody>\n",
       "</table>\n",
       "</div>"
      ],
      "text/plain": [
       "                                                Text  N/A text       Label  \\\n",
       "0      I'm such a failure I never do anything right.       NaN  Distortion   \n",
       "1       Nobody likes me because I'm not interesting.       NaN  Distortion   \n",
       "2   I can't try new things because I'll just mess...       NaN  Distortion   \n",
       "3   My boss didn't say 'good morning' she must be...       NaN  Distortion   \n",
       "4   My friend didn't invite me to the party I mus...       NaN  Distortion   \n",
       "5     I didn't get the job so I must be incompetent.       NaN  Distortion   \n",
       "6   I'm always unlucky. Good things only happen t...       NaN  Distortion   \n",
       "7   Everyone thinks I'm stupid because I made a m...       NaN  Distortion   \n",
       "8   I'll never be successful because I failed my ...       NaN  Distortion   \n",
       "9   Nobody cares about me because they didn't ask...       NaN  Distortion   \n",
       "\n",
       "   N/A label  \n",
       "0        NaN  \n",
       "1        NaN  \n",
       "2        NaN  \n",
       "3        NaN  \n",
       "4        NaN  \n",
       "5        NaN  \n",
       "6        NaN  \n",
       "7        NaN  \n",
       "8        NaN  \n",
       "9        NaN  "
      ]
     },
     "execution_count": 20,
     "metadata": {},
     "output_type": "execute_result"
    }
   ],
   "source": [
    "binary_dataset_file_path = \"./data/corpora/English/distortions/halilbabacan/raw_Cognitive_distortions.csv\" \n",
    "df = pd.read_csv(binary_dataset_file_path)\n",
    "df.insert(1, \"N/A text\", value = np.nan)\n",
    "df.insert(3, \"N/A label\", value = np.nan)\n",
    "df.head(10)\n"
   ]
  },
  {
   "cell_type": "code",
   "execution_count": 21,
   "id": "8250ca79",
   "metadata": {},
   "outputs": [],
   "source": [
    "from pygents.aigents_api import TextMetrics\n",
    "#from pygents.util import vector_proximity\n",
    "\n",
    "\n",
    "def language_metrics(lang,metrics_list):\n",
    "    metrics = {}\n",
    "    for m in metrics_list:\n",
    "        metrics[m] = './data/dict/' + lang + '/' + m + '.txt'\n",
    "    return metrics\n",
    "\n",
    "\n",
    "distortion_labels = ['positive','negative','rude',\n",
    "'catastrophizing','dichotomous-reasoning','disqualifying-positive','emotional-reasoning','fortune-telling',\n",
    "'labeling','magnification','mental-filtering','mindreading','overgeneralizing','personalizing','should-statement']\n",
    "tm = TextMetrics(language_metrics('en',distortion_labels),debug=False)\n",
    "\n",
    "def f1_from_counts(true_positive, true_negative, false_positive, false_negative):\n",
    "    precision = true_positive / (true_positive + false_positive) if (true_positive + false_positive) > 0 else 0\n",
    "    recall = true_positive / (true_positive + false_negative) if (true_positive + false_negative) > 0 else 0\n",
    "    return 2 * precision * recall / (precision + recall) if precision > 0 or recall > 0 else 0 \n",
    "\n",
    "def evaluate_df(df,evaluator,threshold,debug=False):\n",
    "    true_positive = 0\n",
    "    true_negative = 0\n",
    "    false_positive = 0\n",
    "    false_negative = 0\n",
    "    for _, row in df.iterrows():\n",
    "        # Text definition: first, check the 2nd column; if NaN, take the text from the 1st column.\n",
    "        text = row.iloc[1] if pd.notna(row.iloc[1]) else row.iloc[0]\n",
    "        primary_distortion = row.iloc[2]  # The main cognitive distortion from the 3rd column\n",
    "        secondary_distortion = row.iloc[3] if pd.notna(row.iloc[3]) else None  # The secondary distortion from the 4th column, if it exists\n",
    "        ground_distortion = False if primary_distortion == 'No Distortion' else True\n",
    "                       \n",
    "        our_distortion = evaluator(text,threshold)\n",
    "        \n",
    "        # https://en.wikipedia.org/wiki/F-score\n",
    "        if ground_distortion == True and our_distortion == True:\n",
    "            true_positive += 1\n",
    "        if ground_distortion == False and our_distortion == True:\n",
    "            false_positive += 1\n",
    "        if ground_distortion == False and our_distortion == False:\n",
    "            true_negative += 1\n",
    "        if ground_distortion == True and our_distortion == False:\n",
    "            false_negative += 1\n",
    "\n",
    "        if debug:\n",
    "            print(ground_distortion,our_distortion,text[:20],metrics)\n",
    "\n",
    "    return f1_from_counts(true_positive, true_negative, false_positive, false_negative) \n",
    "\n",
    "\n",
    "def our_evaluator_any(text,threshold):\n",
    "    metrics = tm.get_sentiment_words(text)\n",
    "    for m in metrics:\n",
    "        if metrics[m] > threshold:\n",
    "            return True\n",
    "    return False\n",
    "\n",
    "def our_evaluator_avg(text,threshold):\n",
    "    metrics = tm.get_sentiment_words(text)\n",
    "    l = list(metrics.values())\n",
    "    avg = sum(l) / len(l) if  len(l) > 0 else 0\n",
    "    if avg > threshold:\n",
    "        return True\n",
    "    return False\n",
    "  "
   ]
  },
  {
   "cell_type": "code",
   "execution_count": 22,
   "id": "8f1b65ef",
   "metadata": {},
   "outputs": [
    {
     "name": "stdout",
     "output_type": "stream",
     "text": [
      "0.0 0.8443643512450851\n",
      "0.01 0.8443643512450851\n",
      "0.05 0.8443643512450851\n",
      "0.1 0.8443643512450851\n",
      "0.2 0.8445027035883992\n",
      "0.4 0.8444669365721997\n",
      "0.6 0.5569898379566054\n",
      "0.8 0.013021830716200687\n"
     ]
    }
   ],
   "source": [
    "for threshold in [0.0,0.01,0.05,0.1,0.2,0.4,0.6,0.8]:\n",
    "    f1 = evaluate_df(df,our_evaluator_any,threshold)\n",
    "    print(threshold, f1)"
   ]
  },
  {
   "cell_type": "code",
   "execution_count": 23,
   "id": "a0549bf9",
   "metadata": {},
   "outputs": [
    {
     "name": "stdout",
     "output_type": "stream",
     "text": [
      "0.0 0.8443643512450851\n",
      "0.01 0.8443643512450851\n",
      "0.05 0.8443643512450851\n",
      "0.1 0.8443643512450851\n",
      "0.2 0.8447795443369939\n",
      "0.4 0.886836935166994\n",
      "0.6 0.18404478656403078\n",
      "0.8 0.007680491551459293\n"
     ]
    }
   ],
   "source": [
    "for threshold in [0.0,0.01,0.05,0.1,0.2,0.4,0.6,0.8]:\n",
    "    f1 = evaluate_df(df,our_evaluator_avg,threshold)\n",
    "    print(threshold, f1)"
   ]
  },
  {
   "cell_type": "code",
   "execution_count": null,
   "id": "21fdf002",
   "metadata": {},
   "outputs": [],
   "source": []
  }
 ],
 "metadata": {
  "kernelspec": {
   "display_name": "Python 3 (ipykernel)",
   "language": "python",
   "name": "python3"
  },
  "language_info": {
   "codemirror_mode": {
    "name": "ipython",
    "version": 3
   },
   "file_extension": ".py",
   "mimetype": "text/x-python",
   "name": "python",
   "nbconvert_exporter": "python",
   "pygments_lexer": "ipython3",
   "version": "3.11.0"
  }
 },
 "nbformat": 4,
 "nbformat_minor": 5
}
