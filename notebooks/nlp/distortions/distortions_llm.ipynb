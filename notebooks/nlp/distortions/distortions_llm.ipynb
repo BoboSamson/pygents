{
 "cells": [
  {
   "cell_type": "code",
   "execution_count": 1,
   "id": "5fd67e63",
   "metadata": {},
   "outputs": [],
   "source": [
    "import os, sys\n",
    "cwd = os.getcwd()\n",
    "project_path = cwd[:cwd.find('pygents')+7]\n",
    "if project_path not in sys.path: sys.path.append(project_path)\n",
    "os.chdir(project_path)\n",
    "\n",
    "import pandas as pd\n",
    "import numpy as np\n",
    "\n",
    "from pygents.util import calc_f1"
   ]
  },
  {
   "cell_type": "markdown",
   "id": "b18ee214",
   "metadata": {},
   "source": [
    "## Cursory check of LLM capacity to detect distortions"
   ]
  },
  {
   "cell_type": "code",
   "execution_count": 4,
   "id": "09a3a415",
   "metadata": {},
   "outputs": [
    {
     "name": "stdout",
     "output_type": "stream",
     "text": [
      "Requirement already satisfied: typing_extensions in c:\\src\\pygents\\env\\lib\\site-packages (4.7.1)\n"
     ]
    },
    {
     "name": "stderr",
     "output_type": "stream",
     "text": [
      "\n",
      "[notice] A new release of pip available: 22.3.1 -> 24.3.1\n",
      "[notice] To update, run: python.exe -m pip install --upgrade pip\n"
     ]
    }
   ],
   "source": [
    "!pip install typing_extensions"
   ]
  },
  {
   "cell_type": "code",
   "execution_count": 5,
   "id": "c6be2044",
   "metadata": {
    "scrolled": false
   },
   "outputs": [
    {
     "ename": "ImportError",
     "evalue": "cannot import name 'TypeIs' from 'typing_extensions' (C:\\src\\pygents\\env\\lib\\site-packages\\typing_extensions.py)",
     "output_type": "error",
     "traceback": [
      "\u001b[1;31m---------------------------------------------------------------------------\u001b[0m",
      "\u001b[1;31mImportError\u001b[0m                               Traceback (most recent call last)",
      "Cell \u001b[1;32mIn[5], line 1\u001b[0m\n\u001b[1;32m----> 1\u001b[0m \u001b[38;5;28;01mfrom\u001b[39;00m \u001b[38;5;21;01mlangchain_ollama\u001b[39;00m\u001b[38;5;21;01m.\u001b[39;00m\u001b[38;5;21;01mchat_models\u001b[39;00m \u001b[38;5;28;01mimport\u001b[39;00m ChatOllama\n\u001b[0;32m      2\u001b[0m default_chat_model \u001b[38;5;241m=\u001b[39m \u001b[38;5;124m\"\u001b[39m\u001b[38;5;124mllama3.2\u001b[39m\u001b[38;5;124m\"\u001b[39m\n\u001b[0;32m      4\u001b[0m llm \u001b[38;5;241m=\u001b[39m ChatOllama(model\u001b[38;5;241m=\u001b[39mdefault_chat_model, base_url\u001b[38;5;241m=\u001b[39m\u001b[38;5;124m\"\u001b[39m\u001b[38;5;124mhttp://localhost:11434\u001b[39m\u001b[38;5;124m\"\u001b[39m)  \u001b[38;5;66;03m# Explicitly set base_url\u001b[39;00m\n",
      "File \u001b[1;32mC:\\src\\pygents\\env\\lib\\site-packages\\langchain_ollama\\__init__.py:9\u001b[0m\n\u001b[0;32m      1\u001b[0m \u001b[38;5;124;03m\"\"\"This is the langchain_ollama package.\u001b[39;00m\n\u001b[0;32m      2\u001b[0m \n\u001b[0;32m      3\u001b[0m \u001b[38;5;124;03mIt provides infrastructure for interacting with the Ollama service.\u001b[39;00m\n\u001b[0;32m      4\u001b[0m \u001b[38;5;124;03m\"\"\"\u001b[39;00m\n\u001b[0;32m      7\u001b[0m \u001b[38;5;28;01mfrom\u001b[39;00m \u001b[38;5;21;01mimportlib\u001b[39;00m \u001b[38;5;28;01mimport\u001b[39;00m metadata\n\u001b[1;32m----> 9\u001b[0m \u001b[38;5;28;01mfrom\u001b[39;00m \u001b[38;5;21;01mlangchain_ollama\u001b[39;00m\u001b[38;5;21;01m.\u001b[39;00m\u001b[38;5;21;01mchat_models\u001b[39;00m \u001b[38;5;28;01mimport\u001b[39;00m ChatOllama\n\u001b[0;32m     10\u001b[0m \u001b[38;5;28;01mfrom\u001b[39;00m \u001b[38;5;21;01mlangchain_ollama\u001b[39;00m\u001b[38;5;21;01m.\u001b[39;00m\u001b[38;5;21;01membeddings\u001b[39;00m \u001b[38;5;28;01mimport\u001b[39;00m OllamaEmbeddings\n\u001b[0;32m     11\u001b[0m \u001b[38;5;28;01mfrom\u001b[39;00m \u001b[38;5;21;01mlangchain_ollama\u001b[39;00m\u001b[38;5;21;01m.\u001b[39;00m\u001b[38;5;21;01mllms\u001b[39;00m \u001b[38;5;28;01mimport\u001b[39;00m OllamaLLM\n",
      "File \u001b[1;32mC:\\src\\pygents\\env\\lib\\site-packages\\langchain_ollama\\chat_models.py:22\u001b[0m\n\u001b[0;32m      5\u001b[0m \u001b[38;5;28;01mfrom\u001b[39;00m \u001b[38;5;21;01mtyping\u001b[39;00m \u001b[38;5;28;01mimport\u001b[39;00m (\n\u001b[0;32m      6\u001b[0m     Any,\n\u001b[0;32m      7\u001b[0m     AsyncIterator,\n\u001b[1;32m   (...)\u001b[0m\n\u001b[0;32m     18\u001b[0m     cast,\n\u001b[0;32m     19\u001b[0m )\n\u001b[0;32m     20\u001b[0m \u001b[38;5;28;01mfrom\u001b[39;00m \u001b[38;5;21;01muuid\u001b[39;00m \u001b[38;5;28;01mimport\u001b[39;00m uuid4\n\u001b[1;32m---> 22\u001b[0m \u001b[38;5;28;01mfrom\u001b[39;00m \u001b[38;5;21;01mlangchain_core\u001b[39;00m\u001b[38;5;21;01m.\u001b[39;00m\u001b[38;5;21;01mcallbacks\u001b[39;00m \u001b[38;5;28;01mimport\u001b[39;00m (\n\u001b[0;32m     23\u001b[0m     CallbackManagerForLLMRun,\n\u001b[0;32m     24\u001b[0m )\n\u001b[0;32m     25\u001b[0m \u001b[38;5;28;01mfrom\u001b[39;00m \u001b[38;5;21;01mlangchain_core\u001b[39;00m\u001b[38;5;21;01m.\u001b[39;00m\u001b[38;5;21;01mcallbacks\u001b[39;00m\u001b[38;5;21;01m.\u001b[39;00m\u001b[38;5;21;01mmanager\u001b[39;00m \u001b[38;5;28;01mimport\u001b[39;00m AsyncCallbackManagerForLLMRun\n\u001b[0;32m     26\u001b[0m \u001b[38;5;28;01mfrom\u001b[39;00m \u001b[38;5;21;01mlangchain_core\u001b[39;00m\u001b[38;5;21;01m.\u001b[39;00m\u001b[38;5;21;01mexceptions\u001b[39;00m \u001b[38;5;28;01mimport\u001b[39;00m OutputParserException\n",
      "File \u001b[1;32mC:\\src\\pygents\\env\\lib\\site-packages\\langchain_core\\callbacks\\__init__.py:22\u001b[0m\n\u001b[0;32m      1\u001b[0m \u001b[38;5;124;03m\"\"\"**Callback handlers** allow listening to events in LangChain.\u001b[39;00m\n\u001b[0;32m      2\u001b[0m \n\u001b[0;32m      3\u001b[0m \u001b[38;5;124;03m**Class hierarchy:**\u001b[39;00m\n\u001b[1;32m   (...)\u001b[0m\n\u001b[0;32m      7\u001b[0m \u001b[38;5;124;03m    BaseCallbackHandler --> <name>CallbackHandler  # Example: AimCallbackHandler\u001b[39;00m\n\u001b[0;32m      8\u001b[0m \u001b[38;5;124;03m\"\"\"\u001b[39;00m\n\u001b[0;32m     10\u001b[0m \u001b[38;5;28;01mfrom\u001b[39;00m \u001b[38;5;21;01mlangchain_core\u001b[39;00m\u001b[38;5;21;01m.\u001b[39;00m\u001b[38;5;21;01mcallbacks\u001b[39;00m\u001b[38;5;21;01m.\u001b[39;00m\u001b[38;5;21;01mbase\u001b[39;00m \u001b[38;5;28;01mimport\u001b[39;00m (\n\u001b[0;32m     11\u001b[0m     AsyncCallbackHandler,\n\u001b[0;32m     12\u001b[0m     BaseCallbackHandler,\n\u001b[1;32m   (...)\u001b[0m\n\u001b[0;32m     20\u001b[0m     ToolManagerMixin,\n\u001b[0;32m     21\u001b[0m )\n\u001b[1;32m---> 22\u001b[0m \u001b[38;5;28;01mfrom\u001b[39;00m \u001b[38;5;21;01mlangchain_core\u001b[39;00m\u001b[38;5;21;01m.\u001b[39;00m\u001b[38;5;21;01mcallbacks\u001b[39;00m\u001b[38;5;21;01m.\u001b[39;00m\u001b[38;5;21;01mfile\u001b[39;00m \u001b[38;5;28;01mimport\u001b[39;00m FileCallbackHandler\n\u001b[0;32m     23\u001b[0m \u001b[38;5;28;01mfrom\u001b[39;00m \u001b[38;5;21;01mlangchain_core\u001b[39;00m\u001b[38;5;21;01m.\u001b[39;00m\u001b[38;5;21;01mcallbacks\u001b[39;00m\u001b[38;5;21;01m.\u001b[39;00m\u001b[38;5;21;01mmanager\u001b[39;00m \u001b[38;5;28;01mimport\u001b[39;00m (\n\u001b[0;32m     24\u001b[0m     AsyncCallbackManager,\n\u001b[0;32m     25\u001b[0m     AsyncCallbackManagerForChainGroup,\n\u001b[1;32m   (...)\u001b[0m\n\u001b[0;32m     42\u001b[0m     dispatch_custom_event,\n\u001b[0;32m     43\u001b[0m )\n\u001b[0;32m     44\u001b[0m \u001b[38;5;28;01mfrom\u001b[39;00m \u001b[38;5;21;01mlangchain_core\u001b[39;00m\u001b[38;5;21;01m.\u001b[39;00m\u001b[38;5;21;01mcallbacks\u001b[39;00m\u001b[38;5;21;01m.\u001b[39;00m\u001b[38;5;21;01mstdout\u001b[39;00m \u001b[38;5;28;01mimport\u001b[39;00m StdOutCallbackHandler\n",
      "File \u001b[1;32mC:\\src\\pygents\\env\\lib\\site-packages\\langchain_core\\callbacks\\file.py:7\u001b[0m\n\u001b[0;32m      3\u001b[0m \u001b[38;5;28;01mfrom\u001b[39;00m \u001b[38;5;21;01m__future__\u001b[39;00m \u001b[38;5;28;01mimport\u001b[39;00m annotations\n\u001b[0;32m      5\u001b[0m \u001b[38;5;28;01mfrom\u001b[39;00m \u001b[38;5;21;01mtyping\u001b[39;00m \u001b[38;5;28;01mimport\u001b[39;00m Any, Optional, TextIO, cast\n\u001b[1;32m----> 7\u001b[0m \u001b[38;5;28;01mfrom\u001b[39;00m \u001b[38;5;21;01mlangchain_core\u001b[39;00m\u001b[38;5;21;01m.\u001b[39;00m\u001b[38;5;21;01magents\u001b[39;00m \u001b[38;5;28;01mimport\u001b[39;00m AgentAction, AgentFinish\n\u001b[0;32m      8\u001b[0m \u001b[38;5;28;01mfrom\u001b[39;00m \u001b[38;5;21;01mlangchain_core\u001b[39;00m\u001b[38;5;21;01m.\u001b[39;00m\u001b[38;5;21;01mcallbacks\u001b[39;00m \u001b[38;5;28;01mimport\u001b[39;00m BaseCallbackHandler\n\u001b[0;32m      9\u001b[0m \u001b[38;5;28;01mfrom\u001b[39;00m \u001b[38;5;21;01mlangchain_core\u001b[39;00m\u001b[38;5;21;01m.\u001b[39;00m\u001b[38;5;21;01mutils\u001b[39;00m\u001b[38;5;21;01m.\u001b[39;00m\u001b[38;5;21;01minput\u001b[39;00m \u001b[38;5;28;01mimport\u001b[39;00m print_text\n",
      "File \u001b[1;32mC:\\src\\pygents\\env\\lib\\site-packages\\langchain_core\\agents.py:31\u001b[0m\n\u001b[0;32m     28\u001b[0m \u001b[38;5;28;01mfrom\u001b[39;00m \u001b[38;5;21;01mcollections\u001b[39;00m\u001b[38;5;21;01m.\u001b[39;00m\u001b[38;5;21;01mabc\u001b[39;00m \u001b[38;5;28;01mimport\u001b[39;00m Sequence\n\u001b[0;32m     29\u001b[0m \u001b[38;5;28;01mfrom\u001b[39;00m \u001b[38;5;21;01mtyping\u001b[39;00m \u001b[38;5;28;01mimport\u001b[39;00m Any, Literal, Union\n\u001b[1;32m---> 31\u001b[0m \u001b[38;5;28;01mfrom\u001b[39;00m \u001b[38;5;21;01mlangchain_core\u001b[39;00m\u001b[38;5;21;01m.\u001b[39;00m\u001b[38;5;21;01mload\u001b[39;00m\u001b[38;5;21;01m.\u001b[39;00m\u001b[38;5;21;01mserializable\u001b[39;00m \u001b[38;5;28;01mimport\u001b[39;00m Serializable\n\u001b[0;32m     32\u001b[0m \u001b[38;5;28;01mfrom\u001b[39;00m \u001b[38;5;21;01mlangchain_core\u001b[39;00m\u001b[38;5;21;01m.\u001b[39;00m\u001b[38;5;21;01mmessages\u001b[39;00m \u001b[38;5;28;01mimport\u001b[39;00m (\n\u001b[0;32m     33\u001b[0m     AIMessage,\n\u001b[0;32m     34\u001b[0m     BaseMessage,\n\u001b[0;32m     35\u001b[0m     FunctionMessage,\n\u001b[0;32m     36\u001b[0m     HumanMessage,\n\u001b[0;32m     37\u001b[0m )\n\u001b[0;32m     40\u001b[0m \u001b[38;5;28;01mclass\u001b[39;00m \u001b[38;5;21;01mAgentAction\u001b[39;00m(Serializable):\n",
      "File \u001b[1;32mC:\\src\\pygents\\env\\lib\\site-packages\\langchain_core\\load\\__init__.py:3\u001b[0m\n\u001b[0;32m      1\u001b[0m \u001b[38;5;124;03m\"\"\"**Load** module helps with serialization and deserialization.\"\"\"\u001b[39;00m\n\u001b[1;32m----> 3\u001b[0m \u001b[38;5;28;01mfrom\u001b[39;00m \u001b[38;5;21;01mlangchain_core\u001b[39;00m\u001b[38;5;21;01m.\u001b[39;00m\u001b[38;5;21;01mload\u001b[39;00m\u001b[38;5;21;01m.\u001b[39;00m\u001b[38;5;21;01mdump\u001b[39;00m \u001b[38;5;28;01mimport\u001b[39;00m dumpd, dumps\n\u001b[0;32m      4\u001b[0m \u001b[38;5;28;01mfrom\u001b[39;00m \u001b[38;5;21;01mlangchain_core\u001b[39;00m\u001b[38;5;21;01m.\u001b[39;00m\u001b[38;5;21;01mload\u001b[39;00m\u001b[38;5;21;01m.\u001b[39;00m\u001b[38;5;21;01mload\u001b[39;00m \u001b[38;5;28;01mimport\u001b[39;00m load, loads\n\u001b[0;32m      5\u001b[0m \u001b[38;5;28;01mfrom\u001b[39;00m \u001b[38;5;21;01mlangchain_core\u001b[39;00m\u001b[38;5;21;01m.\u001b[39;00m\u001b[38;5;21;01mload\u001b[39;00m\u001b[38;5;21;01m.\u001b[39;00m\u001b[38;5;21;01mserializable\u001b[39;00m \u001b[38;5;28;01mimport\u001b[39;00m Serializable\n",
      "File \u001b[1;32mC:\\src\\pygents\\env\\lib\\site-packages\\langchain_core\\load\\dump.py:4\u001b[0m\n\u001b[0;32m      1\u001b[0m \u001b[38;5;28;01mimport\u001b[39;00m \u001b[38;5;21;01mjson\u001b[39;00m\n\u001b[0;32m      2\u001b[0m \u001b[38;5;28;01mfrom\u001b[39;00m \u001b[38;5;21;01mtyping\u001b[39;00m \u001b[38;5;28;01mimport\u001b[39;00m Any\n\u001b[1;32m----> 4\u001b[0m \u001b[38;5;28;01mfrom\u001b[39;00m \u001b[38;5;21;01mlangchain_core\u001b[39;00m\u001b[38;5;21;01m.\u001b[39;00m\u001b[38;5;21;01mload\u001b[39;00m\u001b[38;5;21;01m.\u001b[39;00m\u001b[38;5;21;01mserializable\u001b[39;00m \u001b[38;5;28;01mimport\u001b[39;00m Serializable, to_json_not_implemented\n\u001b[0;32m      7\u001b[0m \u001b[38;5;28;01mdef\u001b[39;00m \u001b[38;5;21mdefault\u001b[39m(obj: Any) \u001b[38;5;241m-\u001b[39m\u001b[38;5;241m>\u001b[39m Any:\n\u001b[0;32m      8\u001b[0m \u001b[38;5;250m    \u001b[39m\u001b[38;5;124;03m\"\"\"Return a default value for a Serializable object or\u001b[39;00m\n\u001b[0;32m      9\u001b[0m \u001b[38;5;124;03m    a SerializedNotImplemented object.\u001b[39;00m\n\u001b[0;32m     10\u001b[0m \n\u001b[1;32m   (...)\u001b[0m\n\u001b[0;32m     15\u001b[0m \u001b[38;5;124;03m        A json serializable object or a SerializedNotImplemented object.\u001b[39;00m\n\u001b[0;32m     16\u001b[0m \u001b[38;5;124;03m    \"\"\"\u001b[39;00m\n",
      "File \u001b[1;32mC:\\src\\pygents\\env\\lib\\site-packages\\langchain_core\\load\\serializable.py:12\u001b[0m\n\u001b[0;32m      2\u001b[0m \u001b[38;5;28;01mfrom\u001b[39;00m \u001b[38;5;21;01mabc\u001b[39;00m \u001b[38;5;28;01mimport\u001b[39;00m ABC\n\u001b[0;32m      3\u001b[0m \u001b[38;5;28;01mfrom\u001b[39;00m \u001b[38;5;21;01mtyping\u001b[39;00m \u001b[38;5;28;01mimport\u001b[39;00m (\n\u001b[0;32m      4\u001b[0m     Any,\n\u001b[0;32m      5\u001b[0m     Literal,\n\u001b[1;32m   (...)\u001b[0m\n\u001b[0;32m      9\u001b[0m     cast,\n\u001b[0;32m     10\u001b[0m )\n\u001b[1;32m---> 12\u001b[0m \u001b[38;5;28;01mfrom\u001b[39;00m \u001b[38;5;21;01mpydantic\u001b[39;00m \u001b[38;5;28;01mimport\u001b[39;00m BaseModel, ConfigDict\n\u001b[0;32m     13\u001b[0m \u001b[38;5;28;01mfrom\u001b[39;00m \u001b[38;5;21;01mpydantic\u001b[39;00m\u001b[38;5;21;01m.\u001b[39;00m\u001b[38;5;21;01mfields\u001b[39;00m \u001b[38;5;28;01mimport\u001b[39;00m FieldInfo\n\u001b[0;32m     14\u001b[0m \u001b[38;5;28;01mfrom\u001b[39;00m \u001b[38;5;21;01mtyping_extensions\u001b[39;00m \u001b[38;5;28;01mimport\u001b[39;00m NotRequired\n",
      "File \u001b[1;32mC:\\src\\pygents\\env\\lib\\site-packages\\pydantic\\__init__.py:421\u001b[0m, in \u001b[0;36m__getattr__\u001b[1;34m(attr_name)\u001b[0m\n\u001b[0;32m    419\u001b[0m     \u001b[38;5;28;01mreturn\u001b[39;00m result\n\u001b[0;32m    420\u001b[0m \u001b[38;5;28;01melse\u001b[39;00m:\n\u001b[1;32m--> 421\u001b[0m     module \u001b[38;5;241m=\u001b[39m \u001b[43mimport_module\u001b[49m\u001b[43m(\u001b[49m\u001b[43mmodule_name\u001b[49m\u001b[43m,\u001b[49m\u001b[43m \u001b[49m\u001b[43mpackage\u001b[49m\u001b[38;5;241;43m=\u001b[39;49m\u001b[43mpackage\u001b[49m\u001b[43m)\u001b[49m\n\u001b[0;32m    422\u001b[0m     result \u001b[38;5;241m=\u001b[39m \u001b[38;5;28mgetattr\u001b[39m(module, attr_name)\n\u001b[0;32m    423\u001b[0m     g \u001b[38;5;241m=\u001b[39m \u001b[38;5;28mglobals\u001b[39m()\n",
      "File \u001b[1;32mC:\\Program Files\\WindowsApps\\PythonSoftwareFoundation.Python.3.10_3.10.3056.0_x64__qbz5n2kfra8p0\\lib\\importlib\\__init__.py:126\u001b[0m, in \u001b[0;36mimport_module\u001b[1;34m(name, package)\u001b[0m\n\u001b[0;32m    124\u001b[0m             \u001b[38;5;28;01mbreak\u001b[39;00m\n\u001b[0;32m    125\u001b[0m         level \u001b[38;5;241m+\u001b[39m\u001b[38;5;241m=\u001b[39m \u001b[38;5;241m1\u001b[39m\n\u001b[1;32m--> 126\u001b[0m \u001b[38;5;28;01mreturn\u001b[39;00m \u001b[43m_bootstrap\u001b[49m\u001b[38;5;241;43m.\u001b[39;49m\u001b[43m_gcd_import\u001b[49m\u001b[43m(\u001b[49m\u001b[43mname\u001b[49m\u001b[43m[\u001b[49m\u001b[43mlevel\u001b[49m\u001b[43m:\u001b[49m\u001b[43m]\u001b[49m\u001b[43m,\u001b[49m\u001b[43m \u001b[49m\u001b[43mpackage\u001b[49m\u001b[43m,\u001b[49m\u001b[43m \u001b[49m\u001b[43mlevel\u001b[49m\u001b[43m)\u001b[49m\n",
      "File \u001b[1;32mC:\\src\\pygents\\env\\lib\\site-packages\\pydantic\\main.py:34\u001b[0m\n\u001b[0;32m     31\u001b[0m \u001b[38;5;28;01mfrom\u001b[39;00m \u001b[38;5;21;01mpydantic_core\u001b[39;00m \u001b[38;5;28;01mimport\u001b[39;00m PydanticUndefined\n\u001b[0;32m     32\u001b[0m \u001b[38;5;28;01mfrom\u001b[39;00m \u001b[38;5;21;01mtyping_extensions\u001b[39;00m \u001b[38;5;28;01mimport\u001b[39;00m Self, TypeAlias, Unpack\n\u001b[1;32m---> 34\u001b[0m \u001b[38;5;28;01mfrom\u001b[39;00m \u001b[38;5;21;01m.\u001b[39;00m\u001b[38;5;21;01m_internal\u001b[39;00m \u001b[38;5;28;01mimport\u001b[39;00m (\n\u001b[0;32m     35\u001b[0m     _config,\n\u001b[0;32m     36\u001b[0m     _decorators,\n\u001b[0;32m     37\u001b[0m     _fields,\n\u001b[0;32m     38\u001b[0m     _forward_ref,\n\u001b[0;32m     39\u001b[0m     _generics,\n\u001b[0;32m     40\u001b[0m     _import_utils,\n\u001b[0;32m     41\u001b[0m     _mock_val_ser,\n\u001b[0;32m     42\u001b[0m     _model_construction,\n\u001b[0;32m     43\u001b[0m     _namespace_utils,\n\u001b[0;32m     44\u001b[0m     _repr,\n\u001b[0;32m     45\u001b[0m     _typing_extra,\n\u001b[0;32m     46\u001b[0m     _utils,\n\u001b[0;32m     47\u001b[0m )\n\u001b[0;32m     48\u001b[0m \u001b[38;5;28;01mfrom\u001b[39;00m \u001b[38;5;21;01m.\u001b[39;00m\u001b[38;5;21;01m_migration\u001b[39;00m \u001b[38;5;28;01mimport\u001b[39;00m getattr_migration\n\u001b[0;32m     49\u001b[0m \u001b[38;5;28;01mfrom\u001b[39;00m \u001b[38;5;21;01m.\u001b[39;00m\u001b[38;5;21;01maliases\u001b[39;00m \u001b[38;5;28;01mimport\u001b[39;00m AliasChoices, AliasPath\n",
      "File \u001b[1;32mC:\\src\\pygents\\env\\lib\\site-packages\\pydantic\\_internal\\_decorators.py:16\u001b[0m\n\u001b[0;32m     13\u001b[0m \u001b[38;5;28;01mfrom\u001b[39;00m \u001b[38;5;21;01mtyping_extensions\u001b[39;00m \u001b[38;5;28;01mimport\u001b[39;00m Literal, TypeAlias, is_typeddict\n\u001b[0;32m     15\u001b[0m \u001b[38;5;28;01mfrom\u001b[39;00m \u001b[38;5;21;01m.\u001b[39;00m\u001b[38;5;21;01m.\u001b[39;00m\u001b[38;5;21;01merrors\u001b[39;00m \u001b[38;5;28;01mimport\u001b[39;00m PydanticUserError\n\u001b[1;32m---> 16\u001b[0m \u001b[38;5;28;01mfrom\u001b[39;00m \u001b[38;5;21;01m.\u001b[39;00m\u001b[38;5;21;01m_core_utils\u001b[39;00m \u001b[38;5;28;01mimport\u001b[39;00m get_type_ref\n\u001b[0;32m     17\u001b[0m \u001b[38;5;28;01mfrom\u001b[39;00m \u001b[38;5;21;01m.\u001b[39;00m\u001b[38;5;21;01m_internal_dataclass\u001b[39;00m \u001b[38;5;28;01mimport\u001b[39;00m slots_true\n\u001b[0;32m     18\u001b[0m \u001b[38;5;28;01mfrom\u001b[39;00m \u001b[38;5;21;01m.\u001b[39;00m\u001b[38;5;21;01m_namespace_utils\u001b[39;00m \u001b[38;5;28;01mimport\u001b[39;00m GlobalsNamespace, MappingNamespace\n",
      "File \u001b[1;32mC:\\src\\pygents\\env\\lib\\site-packages\\pydantic\\_internal\\_core_utils.py:12\u001b[0m\n\u001b[0;32m      9\u001b[0m \u001b[38;5;28;01mfrom\u001b[39;00m \u001b[38;5;21;01mtyping_extensions\u001b[39;00m \u001b[38;5;28;01mimport\u001b[39;00m TypeGuard, get_args, get_origin\n\u001b[0;32m     11\u001b[0m \u001b[38;5;28;01mfrom\u001b[39;00m \u001b[38;5;21;01m.\u001b[39;00m\u001b[38;5;21;01m.\u001b[39;00m\u001b[38;5;21;01merrors\u001b[39;00m \u001b[38;5;28;01mimport\u001b[39;00m PydanticUserError\n\u001b[1;32m---> 12\u001b[0m \u001b[38;5;28;01mfrom\u001b[39;00m \u001b[38;5;21;01m.\u001b[39;00m \u001b[38;5;28;01mimport\u001b[39;00m _repr\n\u001b[0;32m     13\u001b[0m \u001b[38;5;28;01mfrom\u001b[39;00m \u001b[38;5;21;01m.\u001b[39;00m\u001b[38;5;21;01m_core_metadata\u001b[39;00m \u001b[38;5;28;01mimport\u001b[39;00m CoreMetadata\n\u001b[0;32m     14\u001b[0m \u001b[38;5;28;01mfrom\u001b[39;00m \u001b[38;5;21;01m.\u001b[39;00m\u001b[38;5;21;01m_typing_extra\u001b[39;00m \u001b[38;5;28;01mimport\u001b[39;00m is_generic_alias, is_type_alias_type\n",
      "File \u001b[1;32mC:\\src\\pygents\\env\\lib\\site-packages\\pydantic\\_internal\\_repr.py:11\u001b[0m\n\u001b[0;32m      7\u001b[0m \u001b[38;5;28;01mfrom\u001b[39;00m \u001b[38;5;21;01mtyping\u001b[39;00m \u001b[38;5;28;01mimport\u001b[39;00m Any\n\u001b[0;32m      9\u001b[0m \u001b[38;5;28;01mimport\u001b[39;00m \u001b[38;5;21;01mtyping_extensions\u001b[39;00m\n\u001b[1;32m---> 11\u001b[0m \u001b[38;5;28;01mfrom\u001b[39;00m \u001b[38;5;21;01m.\u001b[39;00m \u001b[38;5;28;01mimport\u001b[39;00m _typing_extra\n\u001b[0;32m     13\u001b[0m \u001b[38;5;28;01mif\u001b[39;00m typing\u001b[38;5;241m.\u001b[39mTYPE_CHECKING:\n\u001b[0;32m     14\u001b[0m     ReprArgs: typing_extensions\u001b[38;5;241m.\u001b[39mTypeAlias \u001b[38;5;241m=\u001b[39m \u001b[38;5;124m'\u001b[39m\u001b[38;5;124mtyping.Iterable[tuple[str | None, Any]]\u001b[39m\u001b[38;5;124m'\u001b[39m\n",
      "File \u001b[1;32mC:\\src\\pygents\\env\\lib\\site-packages\\pydantic\\_internal\\_typing_extra.py:15\u001b[0m\n\u001b[0;32m     12\u001b[0m \u001b[38;5;28;01mfrom\u001b[39;00m \u001b[38;5;21;01mtyping\u001b[39;00m \u001b[38;5;28;01mimport\u001b[39;00m TYPE_CHECKING, Any, Callable\n\u001b[0;32m     14\u001b[0m \u001b[38;5;28;01mimport\u001b[39;00m \u001b[38;5;21;01mtyping_extensions\u001b[39;00m\n\u001b[1;32m---> 15\u001b[0m \u001b[38;5;28;01mfrom\u001b[39;00m \u001b[38;5;21;01mtyping_extensions\u001b[39;00m \u001b[38;5;28;01mimport\u001b[39;00m TypeIs, deprecated, get_args, get_origin\n\u001b[0;32m     17\u001b[0m \u001b[38;5;28;01mfrom\u001b[39;00m \u001b[38;5;21;01m.\u001b[39;00m\u001b[38;5;21;01m_namespace_utils\u001b[39;00m \u001b[38;5;28;01mimport\u001b[39;00m GlobalsNamespace, MappingNamespace, NsResolver, get_module_ns_of\n\u001b[0;32m     19\u001b[0m \u001b[38;5;28;01mif\u001b[39;00m sys\u001b[38;5;241m.\u001b[39mversion_info \u001b[38;5;241m<\u001b[39m (\u001b[38;5;241m3\u001b[39m, \u001b[38;5;241m10\u001b[39m):\n",
      "\u001b[1;31mImportError\u001b[0m: cannot import name 'TypeIs' from 'typing_extensions' (C:\\src\\pygents\\env\\lib\\site-packages\\typing_extensions.py)"
     ]
    }
   ],
   "source": [
    "from langchain_ollama.chat_models import ChatOllama\n",
    "default_chat_model = \"llama3.2\"\n",
    "\n",
    "llm = ChatOllama(model=default_chat_model, base_url=\"http://localhost:11434\")  # Explicitly set base_url"
   ]
  },
  {
   "cell_type": "code",
   "execution_count": null,
   "id": "70be7143",
   "metadata": {},
   "outputs": [],
   "source": [
    "query = 'Be concise. Does this text have cognitive distortions in it \"I am such a failure I never do anything right.\"?'\n",
    "\n",
    "llm.invoke(query).content"
   ]
  },
  {
   "cell_type": "code",
   "execution_count": null,
   "id": "0b98eaf8",
   "metadata": {},
   "outputs": [],
   "source": [
    "query = 'Be concise. Does this text have cognitive distortions in it \"I am a software developer doing coding.\"?'\n",
    "\n",
    "llm.invoke(query).content\n"
   ]
  },
  {
   "cell_type": "code",
   "execution_count": null,
   "id": "09db8c91",
   "metadata": {},
   "outputs": [],
   "source": [
    "query = 'Be concise. Does this text have cognitive distortions in it \"I am a man sitting on the chair behind the table.\"?'\n",
    "\n",
    "llm.invoke(query).content\n"
   ]
  },
  {
   "cell_type": "code",
   "execution_count": null,
   "id": "e3da97a9",
   "metadata": {},
   "outputs": [],
   "source": [
    "query = 'Be concise. Does this text have cognitive distortions in it \"There is a chair behind the table.\"?'\n",
    "\n",
    "llm.invoke(query).content\n"
   ]
  },
  {
   "cell_type": "markdown",
   "id": "c11fe1ff",
   "metadata": {},
   "source": [
    "## Explore performance of \"our out of the box\" model with dataset 1 (original binary)"
   ]
  },
  {
   "cell_type": "code",
   "execution_count": null,
   "id": "01ab336c",
   "metadata": {},
   "outputs": [],
   "source": [
    "binary_dataset_file_path = \"./data/corpora/English/distortions/halilbabacan/raw_Cognitive_distortions.csv\" \n",
    "df = pd.read_csv(binary_dataset_file_path)\n",
    "df.insert(1, \"N/A text\", value = np.nan)\n",
    "df.insert(3, \"N/A label\", value = np.nan)\n",
    "df.head(10)\n"
   ]
  },
  {
   "cell_type": "code",
   "execution_count": null,
   "id": "4e7b5b34",
   "metadata": {},
   "outputs": [],
   "source": [
    "from pygents.aigents_api import TextMetrics\n",
    "#from pygents.util import vector_proximity\n",
    "\n",
    "\n",
    "def language_metrics(lang,metrics_list):\n",
    "    metrics = {}\n",
    "    for m in metrics_list:\n",
    "        metrics[m] = './data/dict/' + lang + '/' + m + '.txt'\n",
    "    return metrics\n",
    "\n",
    "\n",
    "distortion_labels = ['positive','negative','rude',\n",
    "'catastrophizing','dichotomous-reasoning','disqualifying-positive','emotional-reasoning','fortune-telling',\n",
    "'labeling','magnification','mental-filtering','mindreading','overgeneralizing','personalizing','should-statement']\n",
    "tm = TextMetrics(language_metrics('en',distortion_labels),debug=False)\n",
    "\n",
    "def f1_from_counts(true_positive, true_negative, false_positive, false_negative):\n",
    "    precision = true_positive / (true_positive + false_positive) if (true_positive + false_positive) > 0 else 0\n",
    "    recall = true_positive / (true_positive + false_negative) if (true_positive + false_negative) > 0 else 0\n",
    "    return 2 * precision * recall / (precision + recall) if precision > 0 or recall > 0 else 0 \n",
    "\n",
    "def evaluate_df(df,evaluator,threshold,debug=False):\n",
    "    true_positive = 0\n",
    "    true_negative = 0\n",
    "    false_positive = 0\n",
    "    false_negative = 0\n",
    "    for _, row in df.iterrows():\n",
    "        # Text definition: first, check the 2nd column; if NaN, take the text from the 1st column.\n",
    "        text = row.iloc[1] if pd.notna(row.iloc[1]) else row.iloc[0]\n",
    "        primary_distortion = row.iloc[2]  # The main cognitive distortion from the 3rd column\n",
    "        secondary_distortion = row.iloc[3] if pd.notna(row.iloc[3]) else None  # The secondary distortion from the 4th column, if it exists\n",
    "        ground_distortion = False if primary_distortion == 'No Distortion' else True\n",
    "                       \n",
    "        our_distortion = evaluator(text,threshold)\n",
    "        \n",
    "        # https://en.wikipedia.org/wiki/F-score\n",
    "        if ground_distortion == True and our_distortion == True:\n",
    "            true_positive += 1\n",
    "        if ground_distortion == False and our_distortion == True:\n",
    "            false_positive += 1\n",
    "        if ground_distortion == False and our_distortion == False:\n",
    "            true_negative += 1\n",
    "        if ground_distortion == True and our_distortion == False:\n",
    "            false_negative += 1\n",
    "\n",
    "        if debug:\n",
    "            print(ground_distortion,our_distortion,text[:20],metrics)\n",
    "\n",
    "    return f1_from_counts(true_positive, true_negative, false_positive, false_negative) \n",
    "\n",
    "\n",
    "def our_evaluator_any(text,threshold):\n",
    "    metrics = tm.get_sentiment_words(text)\n",
    "    for m in metrics:\n",
    "        if metrics[m] > threshold:\n",
    "            return True\n",
    "    return False\n",
    "\n",
    "def our_evaluator_avg(text,threshold):\n",
    "    metrics = tm.get_sentiment_words(text)\n",
    "    l = list(metrics.values())\n",
    "    avg = sum(l) / len(l) if  len(l) > 0 else 0\n",
    "    if avg > threshold:\n",
    "        return True\n",
    "    return False\n",
    "  "
   ]
  },
  {
   "cell_type": "code",
   "execution_count": null,
   "id": "9748586c",
   "metadata": {},
   "outputs": [],
   "source": [
    "for threshold in [0.0,0.01,0.05,0.1,0.2,0.4,0.6,0.8]:\n",
    "    f1 = evaluate_df(df,our_evaluator_any,threshold)\n",
    "    print(threshold, f1)"
   ]
  },
  {
   "cell_type": "code",
   "execution_count": null,
   "id": "2708d7fe",
   "metadata": {},
   "outputs": [],
   "source": [
    "for threshold in [0.0,0.01,0.05,0.1,0.2,0.4,0.6,0.8]:\n",
    "    f1 = evaluate_df(df,our_evaluator_avg,threshold)\n",
    "    print(threshold, f1)"
   ]
  },
  {
   "cell_type": "code",
   "execution_count": null,
   "id": "a3b02771",
   "metadata": {},
   "outputs": [],
   "source": []
  }
 ],
 "metadata": {
  "kernelspec": {
   "display_name": "Python 3 (ipykernel)",
   "language": "python",
   "name": "python3"
  },
  "language_info": {
   "codemirror_mode": {
    "name": "ipython",
    "version": 3
   },
   "file_extension": ".py",
   "mimetype": "text/x-python",
   "name": "python",
   "nbconvert_exporter": "python",
   "pygments_lexer": "ipython3",
   "version": "3.10.11"
  }
 },
 "nbformat": 4,
 "nbformat_minor": 5
}
