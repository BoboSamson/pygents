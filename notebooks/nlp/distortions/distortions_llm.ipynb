{
 "cells": [
  {
   "cell_type": "code",
   "execution_count": 3,
   "id": "d7339a09",
   "metadata": {},
   "outputs": [],
   "source": [
    "from langchain_ollama.chat_models import ChatOllama\n",
    "default_chat_model = \"llama3.2\"\n",
    "\n",
    "llm = ChatOllama(model=default_chat_model, base_url=\"http://localhost:11434\")  # Explicitly set base_url"
   ]
  },
  {
   "cell_type": "code",
   "execution_count": 7,
   "id": "0773fe08",
   "metadata": {},
   "outputs": [
    {
     "data": {
      "text/plain": [
       "\"I don't have real-time access to current weather conditions. However, I can suggest some ways for you to find out the current weather in your area.\\n\\n1. Check online weather websites: You can check websites like AccuWeather, Weather.com, or the National Weather Service (NWS) for current weather conditions and forecasts.\\n2. Use a mobile app: There are many mobile apps available that provide real-time weather information, such as Dark Sky, Weather Underground, or The Weather Channel.\\n3. Tune into local news: Local news stations often provide weather updates during their broadcasts.\\n4. Check social media: Many weather enthusiasts and meteorologists share weather updates on social media platforms like Twitter.\\n\\nIf you tell me your location, I can try to provide you with general information about the typical weather patterns for that area.\""
      ]
     },
     "execution_count": 7,
     "metadata": {},
     "output_type": "execute_result"
    }
   ],
   "source": [
    "query = \"How is the weather?\"\n",
    "\n",
    "llm.invoke(query).content"
   ]
  },
  {
   "cell_type": "code",
   "execution_count": 9,
   "id": "15cea7e3",
   "metadata": {},
   "outputs": [
    {
     "data": {
      "text/plain": [
       "'Yes, this text contains an absolute thought pattern and exaggeration (\"such a failure\"), which is a common example of cognitive distortion known as the \"all-or-nothing thinking\" or the \"black-and-white fallacy\".'"
      ]
     },
     "execution_count": 9,
     "metadata": {},
     "output_type": "execute_result"
    }
   ],
   "source": [
    "query = 'Be concise. Does this text have cognitive distortions in it \"I am such a failure I never do anything right.\"?'\n",
    "\n",
    "llm.invoke(query).content"
   ]
  },
  {
   "cell_type": "code",
   "execution_count": 10,
   "id": "1103f342",
   "metadata": {},
   "outputs": [
    {
     "data": {
      "text/plain": [
       "'Yes, it has an implicit assumption that the person is also knowledgeable about computer science and programming concepts (e.g., \"software developer\"). This can be seen as a cognitive distortion called \"overgeneralization\".'"
      ]
     },
     "execution_count": 10,
     "metadata": {},
     "output_type": "execute_result"
    }
   ],
   "source": [
    "query = 'Be concise. Does this text have cognitive distortions in it \"I am a software develper doing coding.\"?'\n",
    "\n",
    "llm.invoke(query).content\n"
   ]
  },
  {
   "cell_type": "code",
   "execution_count": 11,
   "id": "60b82922",
   "metadata": {},
   "outputs": [
    {
     "data": {
      "text/plain": [
       "'Yes, this statement contains an example of the fundamental attribution error (FAE), where the speaker is overemphasizing their own characteristics and underemphasizing situational factors.'"
      ]
     },
     "execution_count": 11,
     "metadata": {},
     "output_type": "execute_result"
    }
   ],
   "source": [
    "query = 'Be concise. Does this text have cognitive distortions in it \"I am a man sitting on the chair behind the table.\"?'\n",
    "\n",
    "llm.invoke(query).content\n"
   ]
  },
  {
   "cell_type": "code",
   "execution_count": null,
   "id": "9add31fc",
   "metadata": {},
   "outputs": [],
   "source": []
  }
 ],
 "metadata": {
  "kernelspec": {
   "display_name": "Python 3 (ipykernel)",
   "language": "python",
   "name": "python3"
  },
  "language_info": {
   "codemirror_mode": {
    "name": "ipython",
    "version": 3
   },
   "file_extension": ".py",
   "mimetype": "text/x-python",
   "name": "python",
   "nbconvert_exporter": "python",
   "pygments_lexer": "ipython3",
   "version": "3.10.11"
  }
 },
 "nbformat": 4,
 "nbformat_minor": 5
}
