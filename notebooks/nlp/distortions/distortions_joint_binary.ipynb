{
 "cells": [
  {
   "cell_type": "code",
   "execution_count": 1,
   "id": "7c4c1e9a-69c0-4f16-8889-9fd2cc03a8d0",
   "metadata": {},
   "outputs": [],
   "source": [
    "import os, sys\n",
    "cwd = os.getcwd()\n",
    "project_path = cwd[:cwd.find('pygents')+7]\n",
    "if project_path not in sys.path: sys.path.append(project_path)\n",
    "os.chdir(project_path)\n",
    "\n",
    "import datetime as dt\n",
    "import matplotlib.pyplot as plt\n",
    "import seaborn as sns\n",
    "import pandas as pd\n",
    "import numpy as np\n",
    "\n",
    "from pygents.plot import plot_dict\n"
   ]
  },
  {
   "cell_type": "code",
   "execution_count": 2,
   "id": "eae42564-baf6-4b19-9edf-59354245c144",
   "metadata": {},
   "outputs": [],
   "source": [
    "# Dataset: Unclassified distortions (halilbabacan)\n",
    "# Paper: https://papers.ssrn.com/sol3/papers.cfm?abstract_id=4582307\n",
    "# Data: https://huggingface.co/datasets/halilbabacan/autotrain-data-cognitive_distortions\n",
    "# https://huggingface.co/datasets/halilbabacan/autotrain-data-cognitive_distortions/tree/main/raw\n",
    "# https://huggingface.co/datasets/halilbabacan/autotrain-data-cognitive_distortions/blob/main/raw/Cognitive_distortions.csv\n",
    "    \n",
    "binary_dataset_file_path = \"./data/corpora/English/distortions/halilbabacan/raw_Cognitive_distortions.csv\" "
   ]
  },
  {
   "cell_type": "code",
   "execution_count": 3,
   "id": "af9afa6d-367a-4f8b-b315-85ab05c33b3a",
   "metadata": {},
   "outputs": [
    {
     "name": "stdout",
     "output_type": "stream",
     "text": [
      "Warning: Looks like you're using an outdated `kagglehub` version (installed: 0.3.6), please consider upgrading to the latest version (0.3.10).\n",
      "Path to dataset files: C:\\Users\\anton\\.cache\\kagglehub\\datasets\\sagarikashreevastava\\cognitive-distortion-detetction-dataset\\versions\\1\n"
     ]
    }
   ],
   "source": [
    "# Dataset: Multiple Distorions (sagarikashreevastava)\n",
    "# Paper: https://aclanthology.org/2021.clpsych-1.17/\n",
    "# Data: https://www.kaggle.com/datasets/sagarikashreevastava/cognitive-distortion-detetction-dataset\n",
    "\n",
    "# !pip install kagglehub\n",
    "import kagglehub\n",
    "multiclass_dataset_path = kagglehub.dataset_download(\"sagarikashreevastava/cognitive-distortion-detetction-dataset\")\n",
    "print(\"Path to dataset files:\", multiclass_dataset_path)\n",
    "multiclass_dataset_file_path = multiclass_dataset_path + \"/Annotated_data.csv\"\n"
   ]
  },
  {
   "cell_type": "markdown",
   "id": "7011f9e4",
   "metadata": {},
   "source": [
    "## Explore performance of \"our out of the box\" model with dataset 1 (original binary)"
   ]
  },
  {
   "cell_type": "code",
   "execution_count": 4,
   "id": "87acaf39",
   "metadata": {},
   "outputs": [
    {
     "data": {
      "text/html": [
       "<div>\n",
       "<style scoped>\n",
       "    .dataframe tbody tr th:only-of-type {\n",
       "        vertical-align: middle;\n",
       "    }\n",
       "\n",
       "    .dataframe tbody tr th {\n",
       "        vertical-align: top;\n",
       "    }\n",
       "\n",
       "    .dataframe thead th {\n",
       "        text-align: right;\n",
       "    }\n",
       "</style>\n",
       "<table border=\"1\" class=\"dataframe\">\n",
       "  <thead>\n",
       "    <tr style=\"text-align: right;\">\n",
       "      <th></th>\n",
       "      <th>Patient Question</th>\n",
       "      <th>Distorted part</th>\n",
       "      <th>Dominant Distortion</th>\n",
       "      <th>Secondary Distortion (Optional)l</th>\n",
       "    </tr>\n",
       "  </thead>\n",
       "  <tbody>\n",
       "    <tr>\n",
       "      <th>0</th>\n",
       "      <td>I'm such a failure I never do anything right.</td>\n",
       "      <td>NaN</td>\n",
       "      <td>Distortion</td>\n",
       "      <td>NaN</td>\n",
       "    </tr>\n",
       "    <tr>\n",
       "      <th>1</th>\n",
       "      <td>Nobody likes me because I'm not interesting.</td>\n",
       "      <td>NaN</td>\n",
       "      <td>Distortion</td>\n",
       "      <td>NaN</td>\n",
       "    </tr>\n",
       "    <tr>\n",
       "      <th>2</th>\n",
       "      <td>I can't try new things because I'll just mess...</td>\n",
       "      <td>NaN</td>\n",
       "      <td>Distortion</td>\n",
       "      <td>NaN</td>\n",
       "    </tr>\n",
       "    <tr>\n",
       "      <th>3</th>\n",
       "      <td>My boss didn't say 'good morning' she must be...</td>\n",
       "      <td>NaN</td>\n",
       "      <td>Distortion</td>\n",
       "      <td>NaN</td>\n",
       "    </tr>\n",
       "    <tr>\n",
       "      <th>4</th>\n",
       "      <td>My friend didn't invite me to the party I mus...</td>\n",
       "      <td>NaN</td>\n",
       "      <td>Distortion</td>\n",
       "      <td>NaN</td>\n",
       "    </tr>\n",
       "    <tr>\n",
       "      <th>...</th>\n",
       "      <td>...</td>\n",
       "      <td>...</td>\n",
       "      <td>...</td>\n",
       "      <td>...</td>\n",
       "    </tr>\n",
       "    <tr>\n",
       "      <th>3522</th>\n",
       "      <td>Since then whenever my mother is out alone I b...</td>\n",
       "      <td>NaN</td>\n",
       "      <td>Distortion</td>\n",
       "      <td>NaN</td>\n",
       "    </tr>\n",
       "    <tr>\n",
       "      <th>3523</th>\n",
       "      <td>My family hate him but they didn’t met him at ...</td>\n",
       "      <td>NaN</td>\n",
       "      <td>Distortion</td>\n",
       "      <td>NaN</td>\n",
       "    </tr>\n",
       "    <tr>\n",
       "      <th>3524</th>\n",
       "      <td>However I am not happy at the least only half ...</td>\n",
       "      <td>NaN</td>\n",
       "      <td>Distortion</td>\n",
       "      <td>NaN</td>\n",
       "    </tr>\n",
       "    <tr>\n",
       "      <th>3525</th>\n",
       "      <td>Now I am at university my peers around me all ...</td>\n",
       "      <td>NaN</td>\n",
       "      <td>Distortion</td>\n",
       "      <td>NaN</td>\n",
       "    </tr>\n",
       "    <tr>\n",
       "      <th>3526</th>\n",
       "      <td>He claims he’s severely depressed and has outb...</td>\n",
       "      <td>NaN</td>\n",
       "      <td>Distortion</td>\n",
       "      <td>NaN</td>\n",
       "    </tr>\n",
       "  </tbody>\n",
       "</table>\n",
       "<p>3527 rows × 4 columns</p>\n",
       "</div>"
      ],
      "text/plain": [
       "                                       Patient Question  Distorted part  \\\n",
       "0         I'm such a failure I never do anything right.             NaN   \n",
       "1          Nobody likes me because I'm not interesting.             NaN   \n",
       "2      I can't try new things because I'll just mess...             NaN   \n",
       "3      My boss didn't say 'good morning' she must be...             NaN   \n",
       "4      My friend didn't invite me to the party I mus...             NaN   \n",
       "...                                                 ...             ...   \n",
       "3522  Since then whenever my mother is out alone I b...             NaN   \n",
       "3523  My family hate him but they didn’t met him at ...             NaN   \n",
       "3524  However I am not happy at the least only half ...             NaN   \n",
       "3525  Now I am at university my peers around me all ...             NaN   \n",
       "3526  He claims he’s severely depressed and has outb...             NaN   \n",
       "\n",
       "     Dominant Distortion  Secondary Distortion (Optional)l  \n",
       "0             Distortion                               NaN  \n",
       "1             Distortion                               NaN  \n",
       "2             Distortion                               NaN  \n",
       "3             Distortion                               NaN  \n",
       "4             Distortion                               NaN  \n",
       "...                  ...                               ...  \n",
       "3522          Distortion                               NaN  \n",
       "3523          Distortion                               NaN  \n",
       "3524          Distortion                               NaN  \n",
       "3525          Distortion                               NaN  \n",
       "3526          Distortion                               NaN  \n",
       "\n",
       "[3527 rows x 4 columns]"
      ]
     },
     "execution_count": 4,
     "metadata": {},
     "output_type": "execute_result"
    }
   ],
   "source": [
    "df1 = pd.read_csv(binary_dataset_file_path)\n",
    "df1 = df1.rename(columns={'Text': 'Patient Question', 'Label': 'Dominant Distortion'})\n",
    "df1.insert(1, \"Distorted part\", value = np.nan)\n",
    "df1.insert(3, \"Secondary Distortion (Optional)l\", value = np.nan)\n",
    "df1\n"
   ]
  },
  {
   "cell_type": "code",
   "execution_count": 5,
   "id": "8250ca79",
   "metadata": {},
   "outputs": [],
   "source": [
    "from pygents.aigents_api import TextMetrics\n",
    "#from pygents.util import vector_proximity\n",
    "\n",
    "\n",
    "def language_metrics(lang,metrics_list,path='./data/dict/'):\n",
    "    metrics = {}\n",
    "    for m in metrics_list:\n",
    "        metrics[m] = path + lang + '/' + m + '.txt'\n",
    "    return metrics\n",
    "\n",
    "\n",
    "distortion_labels = ['positive','negative','rude',\n",
    "'catastrophizing','dichotomous-reasoning','disqualifying-positive','emotional-reasoning','fortune-telling',\n",
    "'labeling','magnification','mental-filtering','mindreading','overgeneralizing','personalizing','should-statement']\n",
    "tm = TextMetrics(language_metrics('en',distortion_labels),debug=False)\n",
    "\n",
    "def f1_from_counts(true_positive, true_negative, false_positive, false_negative):\n",
    "    precision = true_positive / (true_positive + false_positive) if (true_positive + false_positive) > 0 else 0\n",
    "    recall = true_positive / (true_positive + false_negative) if (true_positive + false_negative) > 0 else 0\n",
    "    return 2 * precision * recall / (precision + recall) if precision > 0 or recall > 0 else 0 \n",
    "\n",
    "def evaluate_df_counts(df,evaluator,threshold,debug=False):\n",
    "    true_positive = 0\n",
    "    true_negative = 0\n",
    "    false_positive = 0\n",
    "    false_negative = 0\n",
    "    for _, row in df.iterrows():\n",
    "        # Text definition: first, check the 2nd column; if NaN, take the text from the 1st column.\n",
    "        text = row.iloc[1] if pd.notna(row.iloc[1]) else row.iloc[0]\n",
    "        primary_distortion = row.iloc[2]  # The main cognitive distortion from the 3rd column\n",
    "        secondary_distortion = row.iloc[3] if pd.notna(row.iloc[3]) else None  # The secondary distortion from the 4th column, if it exists\n",
    "        ground_distortion = False if primary_distortion == 'No Distortion' else True\n",
    "                       \n",
    "        our_distortion = evaluator(text,threshold)\n",
    "        \n",
    "        # https://en.wikipedia.org/wiki/F-score\n",
    "        if ground_distortion == True and our_distortion == True:\n",
    "            true_positive += 1\n",
    "        if ground_distortion == False and our_distortion == True:\n",
    "            false_positive += 1\n",
    "        if ground_distortion == False and our_distortion == False:\n",
    "            true_negative += 1\n",
    "        if ground_distortion == True and our_distortion == False:\n",
    "            false_negative += 1\n",
    "\n",
    "        if debug:\n",
    "            print(ground_distortion,our_distortion,text[:20],metrics)\n",
    "\n",
    "    return true_positive, true_negative, false_positive, false_negative\n",
    "\n",
    "def evaluate_df(df,evaluator,threshold,debug=False):\n",
    "    true_positive, true_negative, false_positive, false_negative = evaluate_df_counts(df,evaluator,threshold,debug)\n",
    "    return f1_from_counts(true_positive, true_negative, false_positive, false_negative) \n",
    "\n",
    "def evaluate_df_acc_f1(df,evaluator,threshold,debug=False):\n",
    "    true_positive, true_negative, false_positive, false_negative = evaluate_df_counts(df,evaluator,threshold,debug)\n",
    "    return (true_positive + true_negative) / len(df), f1_from_counts(true_positive, true_negative, false_positive, false_negative) \n",
    "\n",
    "def our_evaluator_any(text,threshold):\n",
    "    metrics = tm.get_sentiment_words(text)\n",
    "    for m in metrics:\n",
    "        if metrics[m] > threshold:\n",
    "            return True\n",
    "    return False\n",
    "\n",
    "def our_evaluator_avg(text,threshold):\n",
    "    metrics = tm.get_sentiment_words(text)\n",
    "    l = list(metrics.values())\n",
    "    avg = sum(l) / len(l) if  len(l) > 0 else 0\n",
    "    if avg > threshold:\n",
    "        return True\n",
    "    return False\n",
    "  "
   ]
  },
  {
   "cell_type": "code",
   "execution_count": 6,
   "id": "8f1b65ef",
   "metadata": {},
   "outputs": [
    {
     "name": "stdout",
     "output_type": "stream",
     "text": [
      "Any distortion:\n",
      "0.0 0.7306492770059541 0.8443643512450851\n",
      "0.01 0.7306492770059541 0.8443643512450851\n",
      "0.05 0.7306492770059541 0.8443643512450851\n",
      "0.1 0.7306492770059541 0.8443643512450851\n",
      "0.2 0.7309328040827899 0.8445027035883992\n",
      "0.4 0.7385880351573575 0.8444669365721997\n",
      "0.6 0.5426708250637936 0.5569898379566054\n",
      "0.8 0.26935072299404594 0.013021830716200687\n",
      "Average distortion:\n",
      "0.0 0.7306492770059541 0.8443643512450851\n",
      "0.01 0.7306492770059541 0.8443643512450851\n",
      "0.05 0.7306492770059541 0.8443643512450851\n",
      "0.1 0.7306492770059541 0.8443643512450851\n",
      "0.2 0.7314998582364616 0.8447795443369939\n",
      "0.4 0.8366884037425574 0.886836935166994\n",
      "0.6 0.33881485681882617 0.18404478656403078\n",
      "0.8 0.2673660334561951 0.007680491551459293\n"
     ]
    }
   ],
   "source": [
    "print('Any distortion:')\n",
    "for threshold in [0.0,0.01,0.05,0.1,0.2,0.4,0.6,0.8]:\n",
    "    acc, f1 = evaluate_df_acc_f1(df1,our_evaluator_any,threshold)\n",
    "    print(threshold, acc, f1)\n",
    "print('Average distortion:')\n",
    "for threshold in [0.0,0.01,0.05,0.1,0.2,0.4,0.6,0.8]:\n",
    "    acc, f1 = evaluate_df_acc_f1(df1,our_evaluator_avg,threshold)\n",
    "    print(threshold, acc, f1)"
   ]
  },
  {
   "cell_type": "code",
   "execution_count": 7,
   "id": "41365056-913d-4c98-a05a-2254228e05b6",
   "metadata": {},
   "outputs": [
    {
     "name": "stdout",
     "output_type": "stream",
     "text": [
      "2594 933 3527\n"
     ]
    }
   ],
   "source": [
    "yes = 0\n",
    "no = 0\n",
    "for _, row in df1.iterrows():\n",
    "        # Text definition: first, check the 2nd column; if NaN, take the text from the 1st column.\n",
    "    text = row.iloc[1] if pd.notna(row.iloc[1]) else row.iloc[0]\n",
    "    primary_distortion = row.iloc[2]  # The main cognitive distortion from the 3rd column\n",
    "    if primary_distortion == 'No Distortion':\n",
    "        no += 1\n",
    "    else:\n",
    "        yes += 1\n",
    "print(yes,no,len(df1))"
   ]
  },
  {
   "cell_type": "markdown",
   "id": "f7e04700-6bee-40a8-a420-8b74921a4094",
   "metadata": {},
   "source": [
    "## Explore performance of \"our out of the box\" model with dataset 2 (original multi-class)"
   ]
  },
  {
   "cell_type": "code",
   "execution_count": 8,
   "id": "e212dace-643a-4b58-afea-b6b8ea652617",
   "metadata": {},
   "outputs": [
    {
     "data": {
      "text/html": [
       "<div>\n",
       "<style scoped>\n",
       "    .dataframe tbody tr th:only-of-type {\n",
       "        vertical-align: middle;\n",
       "    }\n",
       "\n",
       "    .dataframe tbody tr th {\n",
       "        vertical-align: top;\n",
       "    }\n",
       "\n",
       "    .dataframe thead th {\n",
       "        text-align: right;\n",
       "    }\n",
       "</style>\n",
       "<table border=\"1\" class=\"dataframe\">\n",
       "  <thead>\n",
       "    <tr style=\"text-align: right;\">\n",
       "      <th></th>\n",
       "      <th>Patient Question</th>\n",
       "      <th>Distorted part</th>\n",
       "      <th>Dominant Distortion</th>\n",
       "      <th>Secondary Distortion (Optional)</th>\n",
       "    </tr>\n",
       "  </thead>\n",
       "  <tbody>\n",
       "    <tr>\n",
       "      <th>0</th>\n",
       "      <td>Hello, I have a beautiful,smart,outgoing and a...</td>\n",
       "      <td>The voice are always fimilar (someone she know...</td>\n",
       "      <td>Personalization</td>\n",
       "      <td>NaN</td>\n",
       "    </tr>\n",
       "    <tr>\n",
       "      <th>1</th>\n",
       "      <td>Since I was about 16 years old I’ve had these ...</td>\n",
       "      <td>I feel trapped inside my disgusting self and l...</td>\n",
       "      <td>Labeling</td>\n",
       "      <td>Emotional Reasoning</td>\n",
       "    </tr>\n",
       "    <tr>\n",
       "      <th>2</th>\n",
       "      <td>So I’ve been dating on and off this guy for a...</td>\n",
       "      <td>NaN</td>\n",
       "      <td>No Distortion</td>\n",
       "      <td>NaN</td>\n",
       "    </tr>\n",
       "    <tr>\n",
       "      <th>3</th>\n",
       "      <td>My parents got divorced in 2004. My mother has...</td>\n",
       "      <td>NaN</td>\n",
       "      <td>No Distortion</td>\n",
       "      <td>NaN</td>\n",
       "    </tr>\n",
       "    <tr>\n",
       "      <th>4</th>\n",
       "      <td>I don’t really know how to explain the situati...</td>\n",
       "      <td>I refused to go because I didn’t know if it wa...</td>\n",
       "      <td>Fortune-telling</td>\n",
       "      <td>Emotional Reasoning</td>\n",
       "    </tr>\n",
       "    <tr>\n",
       "      <th>...</th>\n",
       "      <td>...</td>\n",
       "      <td>...</td>\n",
       "      <td>...</td>\n",
       "      <td>...</td>\n",
       "    </tr>\n",
       "    <tr>\n",
       "      <th>2525</th>\n",
       "      <td>I’m a 21 year old female. I spent most of my l...</td>\n",
       "      <td>NaN</td>\n",
       "      <td>No Distortion</td>\n",
       "      <td>NaN</td>\n",
       "    </tr>\n",
       "    <tr>\n",
       "      <th>2526</th>\n",
       "      <td>I am 21 female and have not had any friends fo...</td>\n",
       "      <td>Now I am at university my peers around me all ...</td>\n",
       "      <td>Overgeneralization</td>\n",
       "      <td>NaN</td>\n",
       "    </tr>\n",
       "    <tr>\n",
       "      <th>2527</th>\n",
       "      <td>From the U.S.: My brother is 19 years old and ...</td>\n",
       "      <td>He claims he’s severely depressed and has outb...</td>\n",
       "      <td>Mental filter</td>\n",
       "      <td>Mind Reading</td>\n",
       "    </tr>\n",
       "    <tr>\n",
       "      <th>2528</th>\n",
       "      <td>From the U.S.: I am a 21 year old woman who ha...</td>\n",
       "      <td>NaN</td>\n",
       "      <td>No Distortion</td>\n",
       "      <td>NaN</td>\n",
       "    </tr>\n",
       "    <tr>\n",
       "      <th>2529</th>\n",
       "      <td>I recently moved out on my ex-roommate because...</td>\n",
       "      <td>NaN</td>\n",
       "      <td>No Distortion</td>\n",
       "      <td>NaN</td>\n",
       "    </tr>\n",
       "  </tbody>\n",
       "</table>\n",
       "<p>2530 rows × 4 columns</p>\n",
       "</div>"
      ],
      "text/plain": [
       "                                       Patient Question  \\\n",
       "0     Hello, I have a beautiful,smart,outgoing and a...   \n",
       "1     Since I was about 16 years old I’ve had these ...   \n",
       "2      So I’ve been dating on and off this guy for a...   \n",
       "3     My parents got divorced in 2004. My mother has...   \n",
       "4     I don’t really know how to explain the situati...   \n",
       "...                                                 ...   \n",
       "2525  I’m a 21 year old female. I spent most of my l...   \n",
       "2526  I am 21 female and have not had any friends fo...   \n",
       "2527  From the U.S.: My brother is 19 years old and ...   \n",
       "2528  From the U.S.: I am a 21 year old woman who ha...   \n",
       "2529  I recently moved out on my ex-roommate because...   \n",
       "\n",
       "                                         Distorted part Dominant Distortion  \\\n",
       "0     The voice are always fimilar (someone she know...     Personalization   \n",
       "1     I feel trapped inside my disgusting self and l...            Labeling   \n",
       "2                                                   NaN       No Distortion   \n",
       "3                                                   NaN       No Distortion   \n",
       "4     I refused to go because I didn’t know if it wa...     Fortune-telling   \n",
       "...                                                 ...                 ...   \n",
       "2525                                                NaN       No Distortion   \n",
       "2526  Now I am at university my peers around me all ...  Overgeneralization   \n",
       "2527  He claims he’s severely depressed and has outb...       Mental filter   \n",
       "2528                                                NaN       No Distortion   \n",
       "2529                                                NaN       No Distortion   \n",
       "\n",
       "     Secondary Distortion (Optional)  \n",
       "0                                NaN  \n",
       "1                Emotional Reasoning  \n",
       "2                                NaN  \n",
       "3                                NaN  \n",
       "4                Emotional Reasoning  \n",
       "...                              ...  \n",
       "2525                             NaN  \n",
       "2526                             NaN  \n",
       "2527                    Mind Reading  \n",
       "2528                             NaN  \n",
       "2529                             NaN  \n",
       "\n",
       "[2530 rows x 4 columns]"
      ]
     },
     "execution_count": 8,
     "metadata": {},
     "output_type": "execute_result"
    }
   ],
   "source": [
    "df2 = pd.read_csv(multiclass_dataset_file_path) \n",
    "df2 = df2.drop('Id_Number', axis=1) # delete columnb with id \n",
    "df2"
   ]
  },
  {
   "cell_type": "code",
   "execution_count": 9,
   "id": "45f0fb75-125c-4b89-b3d9-e6ae94091965",
   "metadata": {},
   "outputs": [
    {
     "name": "stdout",
     "output_type": "stream",
     "text": [
      "Any distortion:\n",
      "0.0 0.6245059288537549 0.7688564476885645\n",
      "0.01 0.6245059288537549 0.7688564476885645\n",
      "0.05 0.6245059288537549 0.7688564476885645\n",
      "0.1 0.6245059288537549 0.7688564476885645\n",
      "0.2 0.6252964426877471 0.7692307692307692\n",
      "0.4 0.6438735177865612 0.7668822768434671\n",
      "0.6 0.49486166007905136 0.34928716904276985\n",
      "0.8 0.37114624505928856 0.007485963817841547\n",
      "Average distortion:\n",
      "0.0 0.6245059288537549 0.7688564476885645\n",
      "0.01 0.6245059288537549 0.7688564476885645\n",
      "0.05 0.6245059288537549 0.7688564476885645\n",
      "0.1 0.6245059288537549 0.7688564476885645\n",
      "0.2 0.6272727272727273 0.7701681696319767\n",
      "0.4 0.7549407114624506 0.7886843899113838\n",
      "0.6 0.4075098814229249 0.11667648791985859\n",
      "0.8 0.37035573122529647 0.004996876951905059\n"
     ]
    }
   ],
   "source": [
    "print('Any distortion:')\n",
    "for threshold in [0.0,0.01,0.05,0.1,0.2,0.4,0.6,0.8]:\n",
    "    acc,f1 = evaluate_df_acc_f1(df2,our_evaluator_any,threshold)\n",
    "    print(threshold,acc,  f1)\n",
    "print('Average distortion:')\n",
    "for threshold in [0.0,0.01,0.05,0.1,0.2,0.4,0.6,0.8]:\n",
    "    acc, f1 = evaluate_df_acc_f1(df2,our_evaluator_avg,threshold)\n",
    "    print(threshold, acc, f1)"
   ]
  },
  {
   "cell_type": "markdown",
   "id": "501043f5-9570-4cac-988d-6b3cc6bb5804",
   "metadata": {},
   "source": [
    "## Explore performance of \"our out of the box\" model with dataset 3 (joint 1 + 2)"
   ]
  },
  {
   "cell_type": "code",
   "execution_count": 10,
   "id": "bcd4f977-0737-426f-a7c3-be9e20a42525",
   "metadata": {},
   "outputs": [
    {
     "data": {
      "text/html": [
       "<div>\n",
       "<style scoped>\n",
       "    .dataframe tbody tr th:only-of-type {\n",
       "        vertical-align: middle;\n",
       "    }\n",
       "\n",
       "    .dataframe tbody tr th {\n",
       "        vertical-align: top;\n",
       "    }\n",
       "\n",
       "    .dataframe thead th {\n",
       "        text-align: right;\n",
       "    }\n",
       "</style>\n",
       "<table border=\"1\" class=\"dataframe\">\n",
       "  <thead>\n",
       "    <tr style=\"text-align: right;\">\n",
       "      <th></th>\n",
       "      <th>Patient Question</th>\n",
       "      <th>Distorted part</th>\n",
       "      <th>Dominant Distortion</th>\n",
       "      <th>Secondary Distortion (Optional)l</th>\n",
       "      <th>Secondary Distortion (Optional)</th>\n",
       "    </tr>\n",
       "  </thead>\n",
       "  <tbody>\n",
       "    <tr>\n",
       "      <th>0</th>\n",
       "      <td>I'm such a failure I never do anything right.</td>\n",
       "      <td>NaN</td>\n",
       "      <td>Distortion</td>\n",
       "      <td>NaN</td>\n",
       "      <td>NaN</td>\n",
       "    </tr>\n",
       "    <tr>\n",
       "      <th>1</th>\n",
       "      <td>Nobody likes me because I'm not interesting.</td>\n",
       "      <td>NaN</td>\n",
       "      <td>Distortion</td>\n",
       "      <td>NaN</td>\n",
       "      <td>NaN</td>\n",
       "    </tr>\n",
       "    <tr>\n",
       "      <th>2</th>\n",
       "      <td>I can't try new things because I'll just mess...</td>\n",
       "      <td>NaN</td>\n",
       "      <td>Distortion</td>\n",
       "      <td>NaN</td>\n",
       "      <td>NaN</td>\n",
       "    </tr>\n",
       "    <tr>\n",
       "      <th>3</th>\n",
       "      <td>My boss didn't say 'good morning' she must be...</td>\n",
       "      <td>NaN</td>\n",
       "      <td>Distortion</td>\n",
       "      <td>NaN</td>\n",
       "      <td>NaN</td>\n",
       "    </tr>\n",
       "    <tr>\n",
       "      <th>4</th>\n",
       "      <td>My friend didn't invite me to the party I mus...</td>\n",
       "      <td>NaN</td>\n",
       "      <td>Distortion</td>\n",
       "      <td>NaN</td>\n",
       "      <td>NaN</td>\n",
       "    </tr>\n",
       "    <tr>\n",
       "      <th>...</th>\n",
       "      <td>...</td>\n",
       "      <td>...</td>\n",
       "      <td>...</td>\n",
       "      <td>...</td>\n",
       "      <td>...</td>\n",
       "    </tr>\n",
       "    <tr>\n",
       "      <th>6052</th>\n",
       "      <td>I’m a 21 year old female. I spent most of my l...</td>\n",
       "      <td>NaN</td>\n",
       "      <td>No Distortion</td>\n",
       "      <td>NaN</td>\n",
       "      <td>NaN</td>\n",
       "    </tr>\n",
       "    <tr>\n",
       "      <th>6053</th>\n",
       "      <td>I am 21 female and have not had any friends fo...</td>\n",
       "      <td>Now I am at university my peers around me all ...</td>\n",
       "      <td>Overgeneralization</td>\n",
       "      <td>NaN</td>\n",
       "      <td>NaN</td>\n",
       "    </tr>\n",
       "    <tr>\n",
       "      <th>6054</th>\n",
       "      <td>From the U.S.: My brother is 19 years old and ...</td>\n",
       "      <td>He claims he’s severely depressed and has outb...</td>\n",
       "      <td>Mental filter</td>\n",
       "      <td>NaN</td>\n",
       "      <td>Mind Reading</td>\n",
       "    </tr>\n",
       "    <tr>\n",
       "      <th>6055</th>\n",
       "      <td>From the U.S.: I am a 21 year old woman who ha...</td>\n",
       "      <td>NaN</td>\n",
       "      <td>No Distortion</td>\n",
       "      <td>NaN</td>\n",
       "      <td>NaN</td>\n",
       "    </tr>\n",
       "    <tr>\n",
       "      <th>6056</th>\n",
       "      <td>I recently moved out on my ex-roommate because...</td>\n",
       "      <td>NaN</td>\n",
       "      <td>No Distortion</td>\n",
       "      <td>NaN</td>\n",
       "      <td>NaN</td>\n",
       "    </tr>\n",
       "  </tbody>\n",
       "</table>\n",
       "<p>6057 rows × 5 columns</p>\n",
       "</div>"
      ],
      "text/plain": [
       "                                       Patient Question  \\\n",
       "0         I'm such a failure I never do anything right.   \n",
       "1          Nobody likes me because I'm not interesting.   \n",
       "2      I can't try new things because I'll just mess...   \n",
       "3      My boss didn't say 'good morning' she must be...   \n",
       "4      My friend didn't invite me to the party I mus...   \n",
       "...                                                 ...   \n",
       "6052  I’m a 21 year old female. I spent most of my l...   \n",
       "6053  I am 21 female and have not had any friends fo...   \n",
       "6054  From the U.S.: My brother is 19 years old and ...   \n",
       "6055  From the U.S.: I am a 21 year old woman who ha...   \n",
       "6056  I recently moved out on my ex-roommate because...   \n",
       "\n",
       "                                         Distorted part Dominant Distortion  \\\n",
       "0                                                   NaN          Distortion   \n",
       "1                                                   NaN          Distortion   \n",
       "2                                                   NaN          Distortion   \n",
       "3                                                   NaN          Distortion   \n",
       "4                                                   NaN          Distortion   \n",
       "...                                                 ...                 ...   \n",
       "6052                                                NaN       No Distortion   \n",
       "6053  Now I am at university my peers around me all ...  Overgeneralization   \n",
       "6054  He claims he’s severely depressed and has outb...       Mental filter   \n",
       "6055                                                NaN       No Distortion   \n",
       "6056                                                NaN       No Distortion   \n",
       "\n",
       "      Secondary Distortion (Optional)l Secondary Distortion (Optional)  \n",
       "0                                  NaN                             NaN  \n",
       "1                                  NaN                             NaN  \n",
       "2                                  NaN                             NaN  \n",
       "3                                  NaN                             NaN  \n",
       "4                                  NaN                             NaN  \n",
       "...                                ...                             ...  \n",
       "6052                               NaN                             NaN  \n",
       "6053                               NaN                             NaN  \n",
       "6054                               NaN                    Mind Reading  \n",
       "6055                               NaN                             NaN  \n",
       "6056                               NaN                             NaN  \n",
       "\n",
       "[6057 rows x 5 columns]"
      ]
     },
     "execution_count": 10,
     "metadata": {},
     "output_type": "execute_result"
    }
   ],
   "source": [
    "df3 = pd.concat([df1, df2], ignore_index=True)\n",
    "df3"
   ]
  },
  {
   "cell_type": "code",
   "execution_count": 11,
   "id": "2339366e-de54-4113-abf5-de27691a2e1f",
   "metadata": {},
   "outputs": [
    {
     "name": "stdout",
     "output_type": "stream",
     "text": [
      "Any distortion:\n",
      "0.0 0.686313356447086 0.8139808106520462\n",
      "0.01 0.686313356447086 0.8139808106520462\n",
      "0.05 0.686313356447086 0.8139808106520462\n",
      "0.1 0.686313356447086 0.8139808106520462\n",
      "0.2 0.6868086511474327 0.8142199588678876\n",
      "0.4 0.6990259204226514 0.8138466251404064\n",
      "0.6 0.5227010070992241 0.4842105263157895\n",
      "0.8 0.31187056298497606 0.010915994304698622\n",
      "Average distortion:\n",
      "0.0 0.686313356447086 0.8139808106520462\n",
      "0.01 0.686313356447086 0.8139808106520462\n",
      "0.05 0.686313356447086 0.8139808106520462\n",
      "0.1 0.686313356447086 0.8139808106520462\n",
      "0.2 0.687964338781575 0.814778518228146\n",
      "0.4 0.8025425127951131 0.8509471585244267\n",
      "0.6 0.3675086676572561 0.15894621295279912\n",
      "0.8 0.31038467888393595 0.006658739595719382\n"
     ]
    }
   ],
   "source": [
    "print('Any distortion:')\n",
    "any_res_acc = {}\n",
    "any_res = {}\n",
    "for threshold in [0.0,0.01,0.05,0.1,0.2,0.4,0.6,0.8]:\n",
    "    acc, f1 = evaluate_df_acc_f1(df3,our_evaluator_any,threshold)\n",
    "    any_res_acc[threshold] = acc\n",
    "    any_res[threshold] = f1\n",
    "    print(threshold, acc, f1)\n",
    "avg_res_acc = {}\n",
    "avg_res = {}\n",
    "print('Average distortion:')\n",
    "for threshold in [0.0,0.01,0.05,0.1,0.2,0.4,0.6,0.8]:\n",
    "    acc, f1 = evaluate_df_acc_f1(df3,our_evaluator_avg,threshold)\n",
    "    avg_res_acc[threshold] = acc\n",
    "    avg_res[threshold] = f1\n",
    "    print(threshold, acc, f1)\n",
    "    "
   ]
  },
  {
   "cell_type": "code",
   "execution_count": 12,
   "id": "e7714c41-2754-41dc-8034-37757a88b021",
   "metadata": {},
   "outputs": [
    {
     "name": "stdout",
     "output_type": "stream",
     "text": [
      "0.8179156908665105 0 0.5850828729281768 0.5821983766680423 0.5747922437673131\n"
     ]
    }
   ],
   "source": [
    "import random\n",
    "def our_evaluator_true(text,threshold):\n",
    "    return True\n",
    "def our_evaluator_false(text,threshold):\n",
    "    return False\n",
    "def our_evaluator_random(text,threshold):\n",
    "    return random.choice([True, False])\n",
    "f1_t = evaluate_df(df3,our_evaluator_true,0)\n",
    "f1_f = evaluate_df(df3,our_evaluator_false,0)\n",
    "f1_r1 = evaluate_df(df3,our_evaluator_random,0)\n",
    "f1_r2 = evaluate_df(df3,our_evaluator_random,0)\n",
    "f1_r3 = evaluate_df(df3,our_evaluator_random,0)\n",
    "print(f1_t,f1_f,f1_r1,f1_r2,f1_r3)"
   ]
  },
  {
   "cell_type": "code",
   "execution_count": 13,
   "id": "15319e70-5cc7-41d1-866b-35bca14b9930",
   "metadata": {},
   "outputs": [
    {
     "data": {
      "image/png": "[encoded data removed]",
      "text/plain": [
       "<Figure size 800x500 with 1 Axes>"
      ]
     },
     "metadata": {},
     "output_type": "display_data"
    },
    {
     "data": {
      "image/png": "[encoded data removed]",
      "text/plain": [
       "<Figure size 800x500 with 1 Axes>"
      ]
     },
     "metadata": {},
     "output_type": "display_data"
    },
    {
     "data": {
      "image/png": "[encoded data removed]",
      "text/plain": [
       "<Figure size 800x500 with 1 Axes>"
      ]
     },
     "metadata": {},
     "output_type": "display_data"
    },
    {
     "data": {
      "image/png": "[encoded data removed]",
      "text/plain": [
       "<Figure size 800x500 with 1 Axes>"
      ]
     },
     "metadata": {},
     "output_type": "display_data"
    }
   ],
   "source": [
    "import matplotlib.pyplot as plt\n",
    "\n",
    "def plot_dict_bars(dic,labels,values,title=None,head=None,dim=(8,5)):\n",
    "    df = pd.DataFrame([(key, dic[key]) for key in dic],columns=[labels,values])\n",
    "    #df.sort_values(values,ascending=False,inplace=True)\n",
    "    if head is not None:\n",
    "        df = df[:head]\n",
    "    if not dim is None:\n",
    "        plt.rcParams[\"figure.figsize\"] = dim\n",
    "    p = df[[labels,values]].plot.bar(x=labels); #p.invert_yaxis();\n",
    "    if title is not None:\n",
    "        plt.title(title)\n",
    "\n",
    "plot_dict_bars(any_res, labels=\"threshold\", values=\"F1\", title=f\"F1 (any distortion)\")\n",
    "plot_dict_bars(avg_res, labels=\"threshold\", values=\"F1\", title=f\"F1 (average distortion)\")\n",
    "plot_dict_bars(any_res_acc, labels=\"threshold\", values=\"Accuracy\", title=f\"Accuracy (any distortion)\")\n",
    "plot_dict_bars(avg_res_acc, labels=\"threshold\", values=\"Accuracy\", title=f\"Accuracy (average distortion)\")\n"
   ]
  },
  {
   "cell_type": "markdown",
   "id": "b46b5a8b",
   "metadata": {},
   "source": [
    "## Explore performance of \"our out of the box\" model with joined all \"distortions\" dictionary with dataset 3 (joint 1 + 2)\n",
    "\n",
    "\n",
    "Create joint dictionaries using commands:\n",
    "- cd ./data/dict/en/\n",
    "- rm distortion.txt\n",
    "- rm distortionnegative.txt\n",
    "- cat pos* neg* rud* cat* dic* disq* emo* for* lab* mag* men* min* ove* per* sho* > distortion.txt\n",
    "- cat      neg* rud* cat* dic* disq* emo* for* lab* mag* men* min* ove* per* sho* > distortionnegative.txt\n",
    "\n",
    "### Conclusions\n",
    "\n",
    "- \"our out of the box\" model works as the best (F1=0.85, Accuracy = 0.8)\n",
    "- non-logarithmic option just \"moves\" the optimal threshold and does not improve things\n",
    "- joining all specific distiortions into one unspecific distortion gets metrics down to \"Const(True)\" baseline and below (presumably, because more false positives introduced) \n",
    "- \"our out of the box\" model works as the best \"formally\" because of irrelevant emotional detections (\"positive\", \"negative\", \"rude\", \"contradictive\"), removing them makes things work worse that \"Const(True)\" because of massive false negatives"
   ]
  },
  {
   "cell_type": "code",
   "execution_count": 14,
   "id": "0cdcb383",
   "metadata": {},
   "outputs": [
    {
     "name": "stdout",
     "output_type": "stream",
     "text": [
      "All distortions:\n",
      "0.0 0.686313356447086 0.8139808106520462\n",
      "0.01 0.686313356447086 0.8139808106520462\n",
      "0.05 0.686313356447086 0.8139808106520462\n",
      "0.1 0.686313356447086 0.8139808106520462\n",
      "0.2 0.686313356447086 0.8139808106520462\n",
      "0.4 0.6823509988443124 0.8105180224542051\n",
      "0.6 0.7021627868581806 0.7865088757396449\n",
      "0.8 0.3607396400858511 0.14146341463414633\n"
     ]
    },
    {
     "data": {
      "image/png": "[encoded data removed]",
      "text/plain": [
       "<Figure size 800x500 with 1 Axes>"
      ]
     },
     "metadata": {},
     "output_type": "display_data"
    },
    {
     "data": {
      "image/png": "[encoded data removed]",
      "text/plain": [
       "<Figure size 800x500 with 1 Axes>"
      ]
     },
     "metadata": {},
     "output_type": "display_data"
    }
   ],
   "source": [
    "tm_all = TextMetrics(language_metrics('en',['distortion']),debug=False)\n",
    "def our_evaluator_all(text,threshold):\n",
    "    metrics = tm_all.get_sentiment_words(text)\n",
    "    l = list(metrics.values())\n",
    "    avg = sum(l) / len(l) if  len(l) > 0 else 0\n",
    "    if avg > threshold:\n",
    "        return True\n",
    "    return False\n",
    "\n",
    "all_res_acc = {}\n",
    "all_res = {}\n",
    "print('All distortions:')\n",
    "for threshold in [0.0,0.01,0.05,0.1,0.2,0.4,0.6,0.8]:\n",
    "    acc, f1 = evaluate_df_acc_f1(df3,our_evaluator_all,threshold)\n",
    "    all_res_acc[threshold] = acc\n",
    "    all_res[threshold] = f1\n",
    "    print(threshold, acc, f1)\n",
    "\n",
    "plot_dict_bars(all_res, labels=\"threshold\", values=\"F1\", title=f\"F1 (all distortions, logarithmic)\")\n",
    "plot_dict_bars(all_res_acc, labels=\"threshold\", values=\"Accuracy\", title=f\"Accuracy (all distortions, logarithmic)\")\n"
   ]
  },
  {
   "cell_type": "code",
   "execution_count": 15,
   "id": "5cd6a1f8",
   "metadata": {},
   "outputs": [
    {
     "name": "stdout",
     "output_type": "stream",
     "text": [
      "All distortions:\n",
      "0.0 0.686313356447086 0.8139808106520462\n",
      "0.01 0.686313356447086 0.8139808106520462\n",
      "0.05 0.6825160970777613 0.8105978528513739\n",
      "0.1 0.6803698200429256 0.7996274063340922\n",
      "0.2 0.6551097903252435 0.6937399208327226\n",
      "0.4 0.3495129602113257 0.1130121566861774\n",
      "0.6 0.30889879478289584 0.0023832221163012394\n",
      "0.8 0.30807330361565133 0\n"
     ]
    },
    {
     "data": {
      "image/png": "[encoded data removed]",
      "text/plain": [
       "<Figure size 800x500 with 1 Axes>"
      ]
     },
     "metadata": {},
     "output_type": "display_data"
    },
    {
     "data": {
      "image/png": "[encoded data removed]",
      "text/plain": [
       "<Figure size 800x500 with 1 Axes>"
      ]
     },
     "metadata": {},
     "output_type": "display_data"
    }
   ],
   "source": [
    "tm_all_nolog = TextMetrics(language_metrics('en',['distortion']),metric_logarithmic=False,debug=False)\n",
    "def our_evaluator_all_nolog(text,threshold):\n",
    "    metrics = tm_all_nolog.get_sentiment_words(text)\n",
    "    l = list(metrics.values())\n",
    "    avg = sum(l) / len(l) if  len(l) > 0 else 0\n",
    "    if avg > threshold:\n",
    "        return True\n",
    "    return False\n",
    "\n",
    "all_res_acc = {}\n",
    "all_res = {}\n",
    "print('All distortions:')\n",
    "for threshold in [0.0,0.01,0.05,0.1,0.2,0.4,0.6,0.8]:\n",
    "    acc, f1 = evaluate_df_acc_f1(df3,our_evaluator_all_nolog,threshold)\n",
    "    all_res_acc[threshold] = acc\n",
    "    all_res[threshold] = f1\n",
    "    print(threshold, acc, f1)\n",
    "\n",
    "plot_dict_bars(all_res, labels=\"threshold\", values=\"F1\", title=f\"F1 (all distortions, non-logarithmic)\")\n",
    "plot_dict_bars(all_res_acc, labels=\"threshold\", values=\"Accuracy\", title=f\"Accuracy (all distortions, non-logarithmic)\")\n"
   ]
  },
  {
   "cell_type": "code",
   "execution_count": 16,
   "id": "1ec5550f",
   "metadata": {},
   "outputs": [
    {
     "name": "stdout",
     "output_type": "stream",
     "text": [
      "All distortions:\n",
      "0.0 0.6683176490011556 0.8011875309252845\n",
      "0.01 0.6683176490011556 0.8011875309252845\n",
      "0.05 0.6683176490011556 0.8011875309252845\n",
      "0.1 0.6683176490011556 0.8011875309252845\n",
      "0.2 0.6702988278025425 0.8021008819740363\n",
      "0.4 0.6760772659732541 0.7962193601994184\n",
      "0.6 0.6027736503219415 0.6199052132701423\n",
      "0.8 0.3207858675912168 0.03608247422680412\n"
     ]
    },
    {
     "data": {
      "image/png": "[encoded data removed]",
      "text/plain": [
       "<Figure size 800x500 with 1 Axes>"
      ]
     },
     "metadata": {},
     "output_type": "display_data"
    },
    {
     "data": {
      "image/png": "[encoded data removed]",
      "text/plain": [
       "<Figure size 800x500 with 1 Axes>"
      ]
     },
     "metadata": {},
     "output_type": "display_data"
    }
   ],
   "source": [
    "tm_all_neg = TextMetrics(language_metrics('en',['distortionnegative']),debug=False)\n",
    "def our_evaluator_all_neg(text,threshold):\n",
    "    metrics = tm_all_neg.get_sentiment_words(text)\n",
    "    l = list(metrics.values())\n",
    "    avg = sum(l) / len(l) if  len(l) > 0 else 0\n",
    "    if avg > threshold:\n",
    "        return True\n",
    "    return False\n",
    "\n",
    "all_res_acc = {}\n",
    "all_res = {}\n",
    "print('All distortions:')\n",
    "for threshold in [0.0,0.01,0.05,0.1,0.2,0.4,0.6,0.8]:\n",
    "    acc, f1 = evaluate_df_acc_f1(df3,our_evaluator_all_neg,threshold)\n",
    "    all_res_acc[threshold] = acc\n",
    "    all_res[threshold] = f1\n",
    "    print(threshold, acc, f1)\n",
    "\n",
    "plot_dict_bars(all_res, labels=\"threshold\", values=\"F1\", title=f\"F1 (all distortions plus negative, logarithmic)\")\n",
    "plot_dict_bars(all_res_acc, labels=\"threshold\", values=\"Accuracy\", title=f\"Accuracy (all distortions plus negative, logarithmic)\")\n"
   ]
  },
  {
   "cell_type": "code",
   "execution_count": 17,
   "id": "8f92dbf4",
   "metadata": {},
   "outputs": [
    {
     "name": "stdout",
     "output_type": "stream",
     "text": [
      "Distortion :  I can't sing as well as my sister I'm talentless.\n",
      "all {} False\n",
      "avg {'positive': 0.5} True\n",
      "{'positive': [('well',)]}\n",
      "\n",
      "Distortion :  I can't play the guitar as well as my friend I'm talentless.\n",
      "all {} False\n",
      "avg {'positive': 0.47} True\n",
      "{'positive': [('well',)]}\n",
      "\n",
      "Distortion :  I didn't receive a bonus my work isn't appreciated.\n",
      "all {} False\n",
      "avg {'positive': 0.81} True\n",
      "{'positive': [('receive',), ('bonus',), ('work',), ('appreciated',)]}\n",
      "\n",
      "No Distortion :  So I’ve been dating on and off this guy for almost 3 years He is 3 years younger than me During our relationship we had always had issues First he wouldn’t call me he would prefer to go out with his friends than me he wouldn’t even remember the day of our anniversary or things like that we kind of tried to work all that out but I’ve always felt that he really doesn’t love and care about me even though he says he loves me Also he has lied to me during this time first once he went to a party and when I asked him if he did he lied to me in my face What bothered me was the fact that he had pictures dancing almost rubbing himself with another girl He lied in my face when I asked! After that we had trust issues and I told him that he would need to help me out to solve that and he said yeah he would make me trust him again Months later I found out he is talking to a girl over the internet and he even met her and when I asked him if he knew her he said no again lie to me in my face looking at my eyes After that he went away in a trip and disappear for the whole trip without trying to reach me and also told me that his phone didn’t have coverage there that’s why he didn’t take it…(another lie!) after all that I broke up with him…I think he doesn’t respect me because he is always adding girls on myspace and trying to meet girls…we meet 5 months after we broke up and now he is asking me for a second chance…we had sex once after the breakup I think he only looks for me whenever he wants to have sex…I still have feelings for him that’s why I always end up accepting whatever he says but I know it is not good… What do I do? Should I give him a second chance or just forget about him? He says he is gonna make it up that he has change an that now he is more mature but he had lied and hurt me so much that I feel that I love him but I have some anger towards him for making me cry so many times…why do I keep getting back with him every time he does something that hurts me? I Feel that I can get someone better someone that would make me happy and don’t hurt me that much…but I don’t know why I keep going back with him\n",
      "all {'distortionnegative': 0.52} True\n",
      "avg {'overgeneralizing': 0.16, 'negative': 0.45, 'dichotomous-reasoning': 0.18, 'positive': 0.48, 'rude': 0.04, 'should-statement': 0.04, 'contradictive': 0.46} False\n",
      "{'overgeneralizing': [('he', 'is', 'always'), ('i', 'always')], 'negative': [('go', 'out'), ('off',), ('issues',), ('out',), ('lied',), ('lied',), ('bothered',), ('lied',), ('issues',), ('out',), ('out',), ('no',), ('lie',), ('trip',), ('trip',), ('have',), ('lie',), ('broke',), ('broke',), ('breakup',), ('have',), ('have',), ('not',), ('forget',), ('lied',), ('hurt',), ('have',), ('anger',), ('cry',), ('hurts',), ('hurt',)], 'dichotomous-reasoning': [('always',), ('all',), ('always',), ('all',), ('only',), ('every',)], 'positive': [('first',), ('prefer',), ('like',), ('kind',), ('tried',), ('work',), ('love',), ('care',), ('loves',), ('first',), ('trust',), ('make',), ('trust',), ('whole',), ('reach',), ('up',), ('think',), ('respect',), ('adding',), ('meet',), ('meet',), ('up',), ('think',), ('up',), ('accepting',), ('know',), ('give',), ('just',), ('make',), ('up',), ('mature',), ('love',), ('making',), ('better',), ('make',), ('happy',), ('know',)], 'rude': [('sex',)], 'should-statement': [('should',)]}\n",
      "\n",
      "No Distortion : My parents got divorced in 2004 My mother has never recovered she has severe mood swings i think she may be bipolar When I was six years old in 1998 my father moved our family to Germany because he was in the army I had an amazing childhood When I was twelve in 2004 my father had to go to Iraq My mother thought it would be best if she moved my brother and I back to the US where we would have family support I was very depressed because my dad was my hero and I blamed my mom for everything that went wrong I felt like no one understood me mostly because we live in a very remote and rural part of the state When my dad came back he wanted a divorce from my mother A few years earlier my mother had to have surgery on her hip my dad left her in the hospital and met a woman at a bar They hooked up and my mom was devestated But he promised he’d never do it again\n",
      "all {'distortionnegative': 0.47} True\n",
      "avg {'personalizing': 0.16, 'negative': 0.41, 'dichotomous-reasoning': 0.29, 'positive': 0.47, 'magnification': 0.1, 'contradictive': 0.44} False\n",
      "{'personalizing': [('because', 'my')], 'negative': [('no', 'one'), ('never',), ('severe',), ('thought',), ('have',), ('depressed',), ('wrong',), ('have',), ('never',)], 'dichotomous-reasoning': [('no', 'one'), ('never',), ('everything',), ('never',)], 'positive': [('came', 'back'), ('think',), ('amazing',), ('best',), ('support',), ('hero',), ('mom',), ('like',), ('live',), ('wanted',), ('up',), ('mom',), ('promised',)], 'magnification': [('best',)]}\n",
      "\n",
      "No Distortion : Hello I have been friend with a guy since grade 6th We were in the same grade and best pals of each other Two years back I realized that I love him unconditionally and what all we shared was not merely friendship but I had other feelings for him First I thought the feelings were mutual and so did all our common friends told me But when I proposed the GUY he refused me and said he never felt so And everybody including his brother and cousin who are my good friends too have taken his feelings for me wrongly He was just a friend to me always and had no such feelings for me He certainly stopped talking to me No contacts at all for 8 months But I still loved him n I still do I was always concerned about him So kept a detail about him through his brother and friends but he fought with them too At a point of time he broke all his ties with everyone and entered a new life\n",
      "all {'distortionnegative': 0.57} True\n",
      "avg {'negative': 0.45, 'labeling': 0.16, 'positive': 0.32, 'magnification': 0.1, 'dichotomous-reasoning': 0.37, 'contradictive': 0.38} False\n",
      "{'negative': [('was', 'not'), ('have',), ('thought',), ('common',), ('refused',), ('have',), ('wrongly',), ('no',), ('no',), ('concerned',), ('broke',)], 'labeling': [('he', 'never')], 'positive': [('best',), ('love',), ('first',), ('good',), ('just',), ('loved',)], 'magnification': [('best',)], 'dichotomous-reasoning': [('all',), ('all',), ('everybody',), ('always',), ('all',), ('always',), ('all',), ('everyone',)]}\n",
      "\n",
      "No Distortion : I’m 14 years old and have social anxiety / depression When I was 5 years old my father was killed in a car crash After that my mother continued to work When I was 9 my mom and I were in a severe car accident She broke every bone on the right side of her body and I ruptured my spleen and fractured my leg\n",
      "all {'distortionnegative': 0.59} True\n",
      "avg {'negative': 0.56, 'positive': 0.37, 'dichotomous-reasoning': 0.2, 'contradictive': 0.46} False\n",
      "{'negative': [('have',), ('anxiety',), ('depression',), ('killed',), ('crash',), ('severe',), ('accident',), ('broke',)], 'positive': [('work',), ('mom',), ('right',)], 'dichotomous-reasoning': [('every',)]}\n",
      "\n",
      "No Distortion :  My Mother and I have had a rocky history mostly as a result of a childhood divorce (my mother cheated on my father who I have always been extremely close to and re-married immediately to a younger man) and her alcohol addiction Subsequently over the years she received treatment and changed her life and so we re-established a relationship and have grown close\n",
      "all {'distortionnegative': 0.54} True\n",
      "avg {'negative': 0.51, 'dichotomous-reasoning': 0.21, 'positive': 0.21, 'contradictive': 0.33} False\n",
      "{'negative': [('have',), ('rocky',), ('cheated',), ('have',), ('addiction',), ('have',)], 'dichotomous-reasoning': [('always',)], 'positive': [('extremely',)]}\n",
      "\n",
      "No Distortion : I started going to therapy in December after 3 other failed attempts I’ve been consistent in going and have really developed a rapport with my therapist In my past I have not been forthcoming with my feelings I tend to hide makeup stories of trauma to help cope with things that have happened I was violently raped in college and never told anyone about it\n",
      "all {'distortionnegative': 0.59} True\n",
      "avg {'positive': 0.37, 'negative': 0.59, 'rude': 0.2, 'dichotomous-reasoning': 0.2, 'contradictive': 0.47} False\n",
      "{'positive': [('started',), ('consistent',), ('rapport',)], 'negative': [('failed',), ('have',), ('have',), ('not',), ('trauma',), ('have',), ('violently',), ('raped',), ('never',)], 'rude': [('raped',)], 'dichotomous-reasoning': [('never',)]}\n",
      "\n",
      "No Distortion : 7 weeks ago my wife had a full hystorectomy done because she had really bad abdominal pains almost 2 weeks ago (wednesday) i came home from work and she was crying and was very emotional and wouldnt stop talking about her past and her family i expected this kind of behavior considering the surgery and comforted her this went on for a few days then she became fully convinced that our neighbor (her best friend) wanted her to call child protective services on her husband because of abuse the strange thing was she never actually talked to friend about it this idea then began taking over everything she did and she couldnt really fuction and was confused a lot of the time we also have twin boys which are 3yrs of age and she is a stay at home mother so finally her friend and i sat her down and had a long talk about her conserns regaurding her friend’s family (sunday) everything seemed to be fine after thatfor a couple days tuesday afternoon hit and i was to be away on a trip for 10 days i thought she was fine she was acting like herself again well on wednesday i got a call from my fist sergeant (i am in the air force) saying my wife was on base and asking for help because her friend’s husband was trying to hurt our kids she thought that while she and our boys were sleeping he broke into our house physically abused my sons then left she was convinced that my boys have bruises on them well she was escorted to the ER and i called a buddy of mine to watch the boys for me untill i was able to catch the next flight back home she has been in the hospital for 4 days and they are still trying to figure out what is wrong with her this was out of the blue i mean it was like a light switch that went off in her head even when i go and visit her she is absolutely convinced that her friend’s husband is trying to hurt our boys when in fact is our boys were never hurt and he isnt an abuser i guess my question is what can cause this she was normal up untill that one night i came home from work i miss my wife\n",
      "all {'distortionnegative': 0.51} True\n",
      "avg {'labeling': 0.18, 'negative': 0.46, 'positive': 0.35, 'magnification': 0.05, 'dichotomous-reasoning': 0.12, 'contradictive': 0.4} False\n",
      "{'labeling': [('she', 'is', 'a'), ('she', 'never')], 'negative': [('really', 'bad'), ('pains',), ('crying',), ('abuse',), ('strange',), ('confused',), ('have',), ('down',), ('trip',), ('thought',), ('fist',), ('base',), ('hurt',), ('thought',), ('broke',), ('abused',), ('have',), ('bruises',), ('out',), ('wrong',), ('out',), ('blue',), ('off',), ('head',), ('hurt',), ('never',), ('hurt',), ('miss',)], 'positive': [('work',), ('emotional',), ('kind',), ('best',), ('wanted',), ('protective',), ('idea',), ('taking',), ('fine',), ('fine',), ('like',), ('well',), ('well',), ('like',), ('up',), ('work',)], 'magnification': [('best',)], 'dichotomous-reasoning': [('everything',), ('everything',), ('never',)]}\n",
      "\n"
     ]
    }
   ],
   "source": [
    "threshold = 0.4\n",
    "count = 0\n",
    "for _, row in df3.iterrows():\n",
    "    text = row.iloc[1] if pd.notna(row.iloc[1]) else row.iloc[0]\n",
    "    primary_distortion = row.iloc[2]  # The main cognitive distortion from the 3rd column\n",
    "    secondary_distortion = row.iloc[3] if pd.notna(row.iloc[3]) else None  # The secondary distortion from the 4th column, if it exists\n",
    "    ground_distortion = False if primary_distortion == 'No Distortion' else True\n",
    "                       \n",
    "    our_distortion_all = our_evaluator_all_neg(text,0.4)\n",
    "    our_distortion_avg = our_evaluator_avg(text,0.4)\n",
    "    if our_distortion_all != our_distortion_avg and our_distortion_all != ground_distortion:\n",
    "        print(primary_distortion,\":\",text)\n",
    "        lists = {}\n",
    "        print(\"all\",tm_all_neg.get_sentiment_words(text),our_distortion_all)\n",
    "        print(\"avg\",tm.get_sentiment_words(text,lists=lists),our_distortion_avg)\n",
    "        print(lists)\n",
    "        print()\n",
    "        count += 1\n",
    "        if count == 10:\n",
    "            break\n"
   ]
  },
  {
   "cell_type": "markdown",
   "id": "8dec9179-8ec9-4096-9dc9-0e85db6ccecd",
   "metadata": {},
   "source": [
    "## Explore performance of \"our out of the box\" model with joined all \"distortions\" dictionary with dataset 3 (joint 1 + 2)\n",
    "### Multiclass View (overfitting)"
   ]
  },
  {
   "cell_type": "code",
   "execution_count": 18,
   "id": "44f94db0-3880-4db7-8969-538161d9ca14",
   "metadata": {},
   "outputs": [
    {
     "name": "stdout",
     "output_type": "stream",
     "text": [
      "Any distortion:\n",
      "0.0 0.6953937592867756 0.8195951892050455\n",
      "0.01 0.6953937592867756 0.8195951892050455\n",
      "0.05 0.6953937592867756 0.8195951892050455\n",
      "0.1 0.6953937592867756 0.8195951892050455\n",
      "0.2 0.6965494469209179 0.8201565557729942\n",
      "0.4 0.7132243684992571 0.8283427216128076\n",
      "0.5 0.7597820703318474 0.8520890515401036\n",
      "0.6 0.861812778603269 0.9092092417832736\n",
      "0.7 0.9625227010070992 0.9736322453246603\n",
      "0.8 0.9963678388641242 0.9973821989528796\n",
      "0.9 0.9985141158989599 0.9989258861439313\n",
      "0.99 0.9978537229651643 0.9984466483450831\n",
      "0.999 0.9978537229651643 0.9984466483450831\n",
      "Average distortion:\n",
      "0.0 0.6953937592867756 0.8195951892050455\n",
      "0.01 0.6953937592867756 0.8195951892050455\n",
      "0.05 0.6953937592867756 0.8195951892050455\n",
      "0.1 0.6953937592867756 0.8195951892050455\n",
      "0.2 0.6990259204226514 0.8213620774130328\n",
      "0.4 0.8205382202410434 0.8852043510402365\n",
      "0.5 0.9126630345055308 0.9406085101605478\n",
      "0.6 0.9648340762753839 0.9751255401144459\n",
      "0.7 0.9828297837213141 0.9875657580105212\n",
      "0.8 0.9739144791150735 0.9807972775887214\n",
      "0.9 0.9397391447911507 0.9544831026312508\n",
      "0.99 0.8755159319795278 0.9011536444677504\n",
      "0.999 0.873534753178141 0.8994222689075629\n"
     ]
    },
    {
     "data": {
      "image/png": "[encoded data removed]",
      "text/plain": [
       "<Figure size 800x500 with 1 Axes>"
      ]
     },
     "metadata": {},
     "output_type": "display_data"
    },
    {
     "data": {
      "image/png": "[encoded data removed]",
      "text/plain": [
       "<Figure size 800x500 with 1 Axes>"
      ]
     },
     "metadata": {},
     "output_type": "display_data"
    },
    {
     "data": {
      "image/png": "[encoded data removed]",
      "text/plain": [
       "<Figure size 800x500 with 1 Axes>"
      ]
     },
     "metadata": {},
     "output_type": "display_data"
    },
    {
     "data": {
      "image/png": "[encoded data removed]",
      "text/plain": [
       "<Figure size 800x500 with 1 Axes>"
      ]
     },
     "metadata": {},
     "output_type": "display_data"
    }
   ],
   "source": [
    "tm_new_log_all = TextMetrics(language_metrics('',['All-or-nothing thinking','Fortune-telling','Mental filter','Overgeneralization','Distortion',\n",
    "                                                'Labeling','Mind Reading','Personalization','Emotional Reasoning','Magnification',\n",
    "                                                'Should statements'],\n",
    "                                            path='./data/models/distortions/overfitting_combined/multiclass_view/'),\n",
    "                                            metric_logarithmic=True,debug=False,encoding=\"utf-8\")\n",
    "\n",
    "def our_evaluator_new_log_any(text,threshold):\n",
    "    metrics = tm_new_log_all.get_sentiment_words(text)\n",
    "    for m in metrics:\n",
    "        if metrics[m] > threshold:\n",
    "            return True\n",
    "    return False\n",
    "\n",
    "def our_evaluator_new_log_avg(text,threshold):\n",
    "    metrics = tm_new_log_all.get_sentiment_words(text)\n",
    "    l = list(metrics.values())\n",
    "    avg = sum(l) / len(l) if  len(l) > 0 else 0\n",
    "    if avg > threshold:\n",
    "        return True\n",
    "    return False\n",
    "\n",
    "thresholds = [0.0,0.01,0.05,0.1,0.2,0.4,0.5,0.6,0.7,0.8,0.9,0.99,0.999]\n",
    "\n",
    "print('Any distortion:')\n",
    "any_res_acc = {}\n",
    "any_res_f1 = {}\n",
    "for threshold in thresholds:\n",
    "    acc, f1 = evaluate_df_acc_f1(df3,our_evaluator_new_log_any,threshold)\n",
    "    any_res_acc[threshold] = acc\n",
    "    any_res_f1[threshold] = f1\n",
    "    print(threshold, acc, f1)\n",
    "avg_res_acc = {}\n",
    "avg_res_f1 = {}\n",
    "print('Average distortion:')\n",
    "for threshold in thresholds:\n",
    "    acc, f1 = evaluate_df_acc_f1(df3,our_evaluator_new_log_avg,threshold)\n",
    "    avg_res_acc[threshold] = acc\n",
    "    avg_res_f1[threshold] = f1\n",
    "    print(threshold, acc, f1)\n",
    "\n",
    "plot_dict_bars(any_res_f1, labels=\"threshold\", values=\"F1\", title=f\"F1 (any distortion)\")\n",
    "plot_dict_bars(avg_res_f1, labels=\"threshold\", values=\"F1\", title=f\"F1 (average distortion)\")\n",
    "plot_dict_bars(any_res_acc, labels=\"threshold\", values=\"Accuracy\", title=f\"Accuracy (any distortion)\")\n",
    "plot_dict_bars(avg_res_acc, labels=\"threshold\", values=\"Accuracy\", title=f\"Accuracy (average distortion)\")\n"
   ]
  },
  {
   "cell_type": "markdown",
   "id": "ad608685-317b-42ea-95e0-3e9fb4f5032e",
   "metadata": {},
   "source": [
    "### Binary View"
   ]
  },
  {
   "cell_type": "code",
   "execution_count": 19,
   "id": "4b1e4047-904d-4eea-b276-0833fb7d97bd",
   "metadata": {},
   "outputs": [
    {
     "name": "stdout",
     "output_type": "stream",
     "text": [
      "Average distortion:\n",
      "0.0 0.6919266963843487 0.8179156908665105\n",
      "0.01 0.6919266963843487 0.8179156908665105\n",
      "0.05 0.6919266963843487 0.8179156908665105\n",
      "0.1 0.6919266963843487 0.8179156908665105\n",
      "0.2 0.6919266963843487 0.8179156908665105\n",
      "0.4 0.6919266963843487 0.8179156908665105\n",
      "0.5 0.6919266963843487 0.8179156908665105\n",
      "0.6 0.6919266963843487 0.8179156908665105\n",
      "0.7 0.6925870893181443 0.8182350644279578\n",
      "0.8 0.7137196631996038 0.8280785246876858\n",
      "0.9 0.8656100379725937 0.9026548672566372\n",
      "0.99 0.32540861812778604 0.04888268156424581\n",
      "0.999 0.32540861812778604 0.04888268156424581\n"
     ]
    },
    {
     "data": {
      "image/png": "[encoded data removed]",
      "text/plain": [
       "<Figure size 800x500 with 1 Axes>"
      ]
     },
     "metadata": {},
     "output_type": "display_data"
    },
    {
     "data": {
      "image/png": "[encoded data removed]",
      "text/plain": [
       "<Figure size 800x500 with 1 Axes>"
      ]
     },
     "metadata": {},
     "output_type": "display_data"
    }
   ],
   "source": [
    "tm_new_log_one = TextMetrics(language_metrics('',['Distortion'],\n",
    "                                            path='./data/models/distortions/overfitting_combined/binary_view/'),\n",
    "                                            metric_logarithmic=True,debug=False,encoding=\"utf-8\")\n",
    "\n",
    "def our_evaluator_new_log_one(text,threshold):\n",
    "    metrics = tm_new_log_one.get_sentiment_words(text)\n",
    "    l = list(metrics.values())\n",
    "    avg = sum(l) / len(l) if  len(l) > 0 else 0\n",
    "    if avg > threshold:\n",
    "        return True\n",
    "    return False\n",
    "\n",
    "thresholds = [0.0,0.01,0.05,0.1,0.2,0.4,0.5,0.6,0.7,0.8,0.9,0.99,0.999]\n",
    "\n",
    "avg_res_acc = {}\n",
    "avg_res_f1 = {}\n",
    "print('Average distortion:')\n",
    "for threshold in thresholds:\n",
    "    acc, f1 = evaluate_df_acc_f1(df3,our_evaluator_new_log_one,threshold)\n",
    "    avg_res_acc[threshold] = acc\n",
    "    avg_res_f1[threshold] = f1\n",
    "    print(threshold, acc, f1)\n",
    "\n",
    "plot_dict_bars(avg_res_f1, labels=\"threshold\", values=\"F1\", title=f\"F1 (average distortion)\")\n",
    "plot_dict_bars(avg_res_acc, labels=\"threshold\", values=\"Accuracy\", title=f\"Accuracy (average distortion)\")\n"
   ]
  },
  {
   "cell_type": "markdown",
   "id": "8c03e9df-7b42-46de-b50d-9f4ca8387ea0",
   "metadata": {},
   "source": [
    "## Explore runtime performance of \"our out of the box\" model with dataset 3 (joint 1 + 2)\n",
    "\n",
    "See ./notebooks/nlp/distortions/distortions_llm.ipynb\n",
    "\n",
    "- OUR binary classification F1=0.85 (average distortion metric with sensitivity threshold 0.4)\n",
    "- LLM llama3.2:3b runtime performance ~1 sec / text (103 min / dataset 3, with 100% GPU use)\n",
    "- LLM qwen2:7b runtime performance ~1.9 sec / text (193 min / dataset 3, with 100% GPU use)\n",
    "- LLM qwen2.5:7b runtime performance ~1.5 sec / text (149 min / dataset 3, with 100% GPU use)\n",
    "- LLM qwen2.5:14b runtime performance ~7.4 sec / text (749 min / dataset 3, with 30%/70% CPU/GPU use)\n",
    "- OUR runtime performance ~0.7 msec / text (4 sec / dataset 3, ~1500 times faster, F1=0.85 2% ahead all LLM-s with F1=0.83/0.81)\n"
   ]
  },
  {
   "cell_type": "code",
   "execution_count": 20,
   "id": "4363fe21-fdef-4a02-a025-442df9f4e2dd",
   "metadata": {},
   "outputs": [
    {
     "name": "stdout",
     "output_type": "stream",
     "text": [
      "Aigents 0.8509471585244267 3.342457 0.0005518337460789169\n"
     ]
    }
   ],
   "source": [
    "t0 = dt.datetime.now()\n",
    "\n",
    "f1 = evaluate_df(df3,our_evaluator_avg,0.4,debug=False)\n",
    "\n",
    "t1 = dt.datetime.now()\n",
    "delta = t1 - t0\n",
    "print(\"Aigents\",f1,delta.total_seconds(),delta.total_seconds()/len(df3))\n"
   ]
  },
  {
   "cell_type": "code",
   "execution_count": 21,
   "id": "0bf7adcb-0b29-4e59-a288-ddaa9bd31c18",
   "metadata": {},
   "outputs": [
    {
     "name": "stdout",
     "output_type": "stream",
     "text": [
      "AigentsB 0.9026548672566372 1.172011 0.00019349694568268118\n"
     ]
    }
   ],
   "source": [
    "t0 = dt.datetime.now()\n",
    "\n",
    "f1 = evaluate_df(df3,our_evaluator_new_log_one,0.9,debug=False)\n",
    "\n",
    "t1 = dt.datetime.now()\n",
    "delta = t1 - t0\n",
    "print(\"AigentsB\",f1,delta.total_seconds(),delta.total_seconds()/len(df3))"
   ]
  },
  {
   "cell_type": "code",
   "execution_count": 22,
   "id": "c9eaef92-aecb-4b11-9df0-1accf91c0b13",
   "metadata": {},
   "outputs": [
    {
     "name": "stdout",
     "output_type": "stream",
     "text": [
      "AigentsB 0.9989258861439313 2.255729 0.00037241687303945847\n"
     ]
    }
   ],
   "source": [
    "t0 = dt.datetime.now()\n",
    "\n",
    "f1 = evaluate_df(df3,our_evaluator_new_log_any,0.9,debug=False)\n",
    "\n",
    "t1 = dt.datetime.now()\n",
    "delta = t1 - t0\n",
    "print(\"AigentsB\",f1,delta.total_seconds(),delta.total_seconds()/len(df3))"
   ]
  },
  {
   "cell_type": "code",
   "execution_count": 23,
   "id": "99f514d7-9bf8-4d66-80f3-cad5d05f27a9",
   "metadata": {},
   "outputs": [
    {
     "data": {
      "image/png": "[encoded data removed]",
      "text/plain": [
       "<Figure size 800x500 with 1 Axes>"
      ]
     },
     "metadata": {},
     "output_type": "display_data"
    }
   ],
   "source": [
    "plot_dict_bars({\"Const(True)\":0.81,\"Random\":0.58,\"Aigents(T=0.4)\":0.85,\"LLM:llama3.2:3B\":0.83,\"LLM:qwen2:7.6B\":0.81}, labels=\"models\", values=\"F1\", title=f\"F1 (binary classification)\")"
   ]
  },
  {
   "cell_type": "code",
   "execution_count": 24,
   "id": "f8b014e2-c65c-4a7c-9abe-d16899284435",
   "metadata": {},
   "outputs": [
    {
     "data": {
      "image/png": "[encoded data removed]",
      "text/plain": [
       "<Figure size 800x500 with 1 Axes>"
      ]
     },
     "metadata": {},
     "output_type": "display_data"
    }
   ],
   "source": [
    "plot_dict_bars({\"Const(True)\":0,\"Const(False)\":0,\"Random\":0,\"Aigents(T=0.4)\":0.0007,\"LLM:llama3.2:3B\":1.6,\"LLM:qwen2:7B\":1.9,\"LLM:qwen2.5:7B\":1.5,\"LLM:qwen2:14B\":7.4}, \n",
    "               labels=\"model\", values=\"seconds/text\", title=f\"Seconds/text (runtime performance)\")"
   ]
  },
  {
   "cell_type": "markdown",
   "id": "10a8a85a-a6e6-4295-9f74-a45e83bad896",
   "metadata": {},
   "source": [
    "## Sanity check how baseline Const(True) works for disbalanced binary dataset"
   ]
  },
  {
   "cell_type": "code",
   "execution_count": 25,
   "id": "fe848fe4-9b7e-4862-8ebf-741cbdeca5d2",
   "metadata": {},
   "outputs": [],
   "source": [
    "def binary_df_bias(df):\n",
    "    no = 0\n",
    "    yes = 0\n",
    "    err = 0\n",
    "    for _, row in df.iterrows():\n",
    "        primary_distortion = row.iloc[2]  # The main cognitive distortion from the 3rd column\n",
    "        if primary_distortion == 'No Distortion':\n",
    "            no += 1\n",
    "        else:\n",
    "            yes += 1\n",
    "    return yes, no\n",
    "        "
   ]
  },
  {
   "cell_type": "code",
   "execution_count": 26,
   "id": "8ff9d5c2-c48c-43fc-9635-9e2405f1eab4",
   "metadata": {},
   "outputs": [
    {
     "name": "stdout",
     "output_type": "stream",
     "text": [
      "4191 1866 6057 6057 0.6919266963843487\n"
     ]
    }
   ],
   "source": [
    "yes, no = binary_df_bias(df3)\n",
    "print(yes,no,yes+no,len(df3),yes/(yes+no))"
   ]
  },
  {
   "cell_type": "code",
   "execution_count": 27,
   "id": "7225118e-3f57-4f4c-a879-d68af2d31942",
   "metadata": {},
   "outputs": [
    {
     "data": {
      "text/plain": [
       "0.8179156908665105"
      ]
     },
     "execution_count": 27,
     "metadata": {},
     "output_type": "execute_result"
    }
   ],
   "source": [
    "# what if predict always true\n",
    "true_positive = yes\n",
    "true_negative = 0\n",
    "false_positive = no\n",
    "false_negative = 0\n",
    "f1_from_counts(true_positive, true_negative, false_positive, false_negative) \n"
   ]
  },
  {
   "cell_type": "markdown",
   "id": "408ab193-5f0f-454f-bc9b-ab2941bca028",
   "metadata": {},
   "source": [
    "## Evaluate 3 datasets individually"
   ]
  },
  {
   "cell_type": "code",
   "execution_count": 28,
   "id": "cab39812-9d25-4d8b-bcfa-8e07c2721504",
   "metadata": {},
   "outputs": [
    {
     "name": "stdout",
     "output_type": "stream",
     "text": [
      "6057\n",
      "2019\n",
      "2019\n",
      "2019\n"
     ]
    }
   ],
   "source": [
    "df3s = [ df3.iloc[:0,:].copy(), df3.iloc[:0,:].copy(), df3.iloc[:0,:].copy()]\n",
    "\n",
    "row_n = 0 \n",
    "for _, row in df3.iterrows():\n",
    "    r3 = row_n % 3\n",
    "    row_n += 1\n",
    "    df = df3s[r3]\n",
    "    df.loc[len(df)] = row\n",
    "\n",
    "print(len(df3))\n",
    "for df in df3s:\n",
    "    print(len(df))"
   ]
  },
  {
   "cell_type": "code",
   "execution_count": 29,
   "id": "c7c26c0c-e280-4f2b-8908-a7bbfe918015",
   "metadata": {},
   "outputs": [
    {
     "data": {
      "text/html": [
       "<div>\n",
       "<style scoped>\n",
       "    .dataframe tbody tr th:only-of-type {\n",
       "        vertical-align: middle;\n",
       "    }\n",
       "\n",
       "    .dataframe tbody tr th {\n",
       "        vertical-align: top;\n",
       "    }\n",
       "\n",
       "    .dataframe thead th {\n",
       "        text-align: right;\n",
       "    }\n",
       "</style>\n",
       "<table border=\"1\" class=\"dataframe\">\n",
       "  <thead>\n",
       "    <tr style=\"text-align: right;\">\n",
       "      <th></th>\n",
       "      <th>Patient Question</th>\n",
       "      <th>Distorted part</th>\n",
       "      <th>Dominant Distortion</th>\n",
       "      <th>Secondary Distortion (Optional)l</th>\n",
       "      <th>Secondary Distortion (Optional)</th>\n",
       "    </tr>\n",
       "  </thead>\n",
       "  <tbody>\n",
       "    <tr>\n",
       "      <th>0</th>\n",
       "      <td>I'm such a failure I never do anything right.</td>\n",
       "      <td>NaN</td>\n",
       "      <td>Distortion</td>\n",
       "      <td>NaN</td>\n",
       "      <td>NaN</td>\n",
       "    </tr>\n",
       "    <tr>\n",
       "      <th>1</th>\n",
       "      <td>My boss didn't say 'good morning' she must be...</td>\n",
       "      <td>NaN</td>\n",
       "      <td>Distortion</td>\n",
       "      <td>NaN</td>\n",
       "      <td>NaN</td>\n",
       "    </tr>\n",
       "    <tr>\n",
       "      <th>2</th>\n",
       "      <td>I'm always unlucky. Good things only happen t...</td>\n",
       "      <td>NaN</td>\n",
       "      <td>Distortion</td>\n",
       "      <td>NaN</td>\n",
       "      <td>NaN</td>\n",
       "    </tr>\n",
       "    <tr>\n",
       "      <th>3</th>\n",
       "      <td>Nobody cares about me because they didn't ask...</td>\n",
       "      <td>NaN</td>\n",
       "      <td>Distortion</td>\n",
       "      <td>NaN</td>\n",
       "      <td>NaN</td>\n",
       "    </tr>\n",
       "    <tr>\n",
       "      <th>4</th>\n",
       "      <td>I didn't get a reply to my email they must ha...</td>\n",
       "      <td>NaN</td>\n",
       "      <td>Distortion</td>\n",
       "      <td>NaN</td>\n",
       "      <td>NaN</td>\n",
       "    </tr>\n",
       "    <tr>\n",
       "      <th>...</th>\n",
       "      <td>...</td>\n",
       "      <td>...</td>\n",
       "      <td>...</td>\n",
       "      <td>...</td>\n",
       "      <td>...</td>\n",
       "    </tr>\n",
       "    <tr>\n",
       "      <th>2014</th>\n",
       "      <td>From the U.S.: I have had anxiety almost all o...</td>\n",
       "      <td>I have had anxiety almost all of my life but l...</td>\n",
       "      <td>Mental filter</td>\n",
       "      <td>NaN</td>\n",
       "      <td>NaN</td>\n",
       "    </tr>\n",
       "    <tr>\n",
       "      <th>2015</th>\n",
       "      <td>Since I can remember, I’ve always thought of m...</td>\n",
       "      <td>Since I can remember, I’ve always thought of m...</td>\n",
       "      <td>Labeling</td>\n",
       "      <td>NaN</td>\n",
       "      <td>Overgeneralization</td>\n",
       "    </tr>\n",
       "    <tr>\n",
       "      <th>2016</th>\n",
       "      <td>Hello, I’m currently a 14 year old girl (turni...</td>\n",
       "      <td>NaN</td>\n",
       "      <td>No Distortion</td>\n",
       "      <td>NaN</td>\n",
       "      <td>NaN</td>\n",
       "    </tr>\n",
       "    <tr>\n",
       "      <th>2017</th>\n",
       "      <td>From the U.S.: I’m a 12th grader in high schoo...</td>\n",
       "      <td>NaN</td>\n",
       "      <td>No Distortion</td>\n",
       "      <td>NaN</td>\n",
       "      <td>NaN</td>\n",
       "    </tr>\n",
       "    <tr>\n",
       "      <th>2018</th>\n",
       "      <td>From the U.S.: My brother is 19 years old and ...</td>\n",
       "      <td>He claims he’s severely depressed and has outb...</td>\n",
       "      <td>Mental filter</td>\n",
       "      <td>NaN</td>\n",
       "      <td>Mind Reading</td>\n",
       "    </tr>\n",
       "  </tbody>\n",
       "</table>\n",
       "<p>2019 rows × 5 columns</p>\n",
       "</div>"
      ],
      "text/plain": [
       "                                       Patient Question  \\\n",
       "0         I'm such a failure I never do anything right.   \n",
       "1      My boss didn't say 'good morning' she must be...   \n",
       "2      I'm always unlucky. Good things only happen t...   \n",
       "3      Nobody cares about me because they didn't ask...   \n",
       "4      I didn't get a reply to my email they must ha...   \n",
       "...                                                 ...   \n",
       "2014  From the U.S.: I have had anxiety almost all o...   \n",
       "2015  Since I can remember, I’ve always thought of m...   \n",
       "2016  Hello, I’m currently a 14 year old girl (turni...   \n",
       "2017  From the U.S.: I’m a 12th grader in high schoo...   \n",
       "2018  From the U.S.: My brother is 19 years old and ...   \n",
       "\n",
       "                                         Distorted part Dominant Distortion  \\\n",
       "0                                                   NaN          Distortion   \n",
       "1                                                   NaN          Distortion   \n",
       "2                                                   NaN          Distortion   \n",
       "3                                                   NaN          Distortion   \n",
       "4                                                   NaN          Distortion   \n",
       "...                                                 ...                 ...   \n",
       "2014  I have had anxiety almost all of my life but l...       Mental filter   \n",
       "2015  Since I can remember, I’ve always thought of m...            Labeling   \n",
       "2016                                                NaN       No Distortion   \n",
       "2017                                                NaN       No Distortion   \n",
       "2018  He claims he’s severely depressed and has outb...       Mental filter   \n",
       "\n",
       "     Secondary Distortion (Optional)l Secondary Distortion (Optional)  \n",
       "0                                 NaN                             NaN  \n",
       "1                                 NaN                             NaN  \n",
       "2                                 NaN                             NaN  \n",
       "3                                 NaN                             NaN  \n",
       "4                                 NaN                             NaN  \n",
       "...                               ...                             ...  \n",
       "2014                              NaN                             NaN  \n",
       "2015                              NaN              Overgeneralization  \n",
       "2016                              NaN                             NaN  \n",
       "2017                              NaN                             NaN  \n",
       "2018                              NaN                    Mind Reading  \n",
       "\n",
       "[2019 rows x 5 columns]"
      ]
     },
     "execution_count": 29,
     "metadata": {},
     "output_type": "execute_result"
    }
   ],
   "source": [
    "df3s[0]"
   ]
  },
  {
   "cell_type": "code",
   "execution_count": 30,
   "id": "276f885d-0cb2-4fc5-8867-d25cdbefebbe",
   "metadata": {},
   "outputs": [
    {
     "data": {
      "text/html": [
       "<div>\n",
       "<style scoped>\n",
       "    .dataframe tbody tr th:only-of-type {\n",
       "        vertical-align: middle;\n",
       "    }\n",
       "\n",
       "    .dataframe tbody tr th {\n",
       "        vertical-align: top;\n",
       "    }\n",
       "\n",
       "    .dataframe thead th {\n",
       "        text-align: right;\n",
       "    }\n",
       "</style>\n",
       "<table border=\"1\" class=\"dataframe\">\n",
       "  <thead>\n",
       "    <tr style=\"text-align: right;\">\n",
       "      <th></th>\n",
       "      <th>Patient Question</th>\n",
       "      <th>Distorted part</th>\n",
       "      <th>Dominant Distortion</th>\n",
       "      <th>Secondary Distortion (Optional)l</th>\n",
       "      <th>Secondary Distortion (Optional)</th>\n",
       "    </tr>\n",
       "  </thead>\n",
       "  <tbody>\n",
       "    <tr>\n",
       "      <th>0</th>\n",
       "      <td>Nobody likes me because I'm not interesting.</td>\n",
       "      <td>NaN</td>\n",
       "      <td>Distortion</td>\n",
       "      <td>NaN</td>\n",
       "      <td>NaN</td>\n",
       "    </tr>\n",
       "    <tr>\n",
       "      <th>1</th>\n",
       "      <td>My friend didn't invite me to the party I mus...</td>\n",
       "      <td>NaN</td>\n",
       "      <td>Distortion</td>\n",
       "      <td>NaN</td>\n",
       "      <td>NaN</td>\n",
       "    </tr>\n",
       "    <tr>\n",
       "      <th>2</th>\n",
       "      <td>Everyone thinks I'm stupid because I made a m...</td>\n",
       "      <td>NaN</td>\n",
       "      <td>Distortion</td>\n",
       "      <td>NaN</td>\n",
       "      <td>NaN</td>\n",
       "    </tr>\n",
       "    <tr>\n",
       "      <th>3</th>\n",
       "      <td>My partner didn't say 'I love you' today our ...</td>\n",
       "      <td>NaN</td>\n",
       "      <td>Distortion</td>\n",
       "      <td>NaN</td>\n",
       "      <td>NaN</td>\n",
       "    </tr>\n",
       "    <tr>\n",
       "      <th>4</th>\n",
       "      <td>My dog doesn't listen to me even he thinks I'...</td>\n",
       "      <td>NaN</td>\n",
       "      <td>Distortion</td>\n",
       "      <td>NaN</td>\n",
       "      <td>NaN</td>\n",
       "    </tr>\n",
       "    <tr>\n",
       "      <th>...</th>\n",
       "      <td>...</td>\n",
       "      <td>...</td>\n",
       "      <td>...</td>\n",
       "      <td>...</td>\n",
       "      <td>...</td>\n",
       "    </tr>\n",
       "    <tr>\n",
       "      <th>2014</th>\n",
       "      <td>From the U.S.: I was sexually assaulted from t...</td>\n",
       "      <td>NaN</td>\n",
       "      <td>No Distortion</td>\n",
       "      <td>NaN</td>\n",
       "      <td>NaN</td>\n",
       "    </tr>\n",
       "    <tr>\n",
       "      <th>2015</th>\n",
       "      <td>I feel overprotective about my mother because ...</td>\n",
       "      <td>Since then, whenever my mother is out alone, I...</td>\n",
       "      <td>All-or-nothing thinking</td>\n",
       "      <td>NaN</td>\n",
       "      <td>Overgeneralization</td>\n",
       "    </tr>\n",
       "    <tr>\n",
       "      <th>2016</th>\n",
       "      <td>From Lebanon: I am dealing with a big problem!...</td>\n",
       "      <td>My family hate him but they didn’t met him at ...</td>\n",
       "      <td>Magnification</td>\n",
       "      <td>NaN</td>\n",
       "      <td>NaN</td>\n",
       "    </tr>\n",
       "    <tr>\n",
       "      <th>2017</th>\n",
       "      <td>I’m a 21 year old female. I spent most of my l...</td>\n",
       "      <td>NaN</td>\n",
       "      <td>No Distortion</td>\n",
       "      <td>NaN</td>\n",
       "      <td>NaN</td>\n",
       "    </tr>\n",
       "    <tr>\n",
       "      <th>2018</th>\n",
       "      <td>From the U.S.: I am a 21 year old woman who ha...</td>\n",
       "      <td>NaN</td>\n",
       "      <td>No Distortion</td>\n",
       "      <td>NaN</td>\n",
       "      <td>NaN</td>\n",
       "    </tr>\n",
       "  </tbody>\n",
       "</table>\n",
       "<p>2019 rows × 5 columns</p>\n",
       "</div>"
      ],
      "text/plain": [
       "                                       Patient Question  \\\n",
       "0          Nobody likes me because I'm not interesting.   \n",
       "1      My friend didn't invite me to the party I mus...   \n",
       "2      Everyone thinks I'm stupid because I made a m...   \n",
       "3      My partner didn't say 'I love you' today our ...   \n",
       "4      My dog doesn't listen to me even he thinks I'...   \n",
       "...                                                 ...   \n",
       "2014  From the U.S.: I was sexually assaulted from t...   \n",
       "2015  I feel overprotective about my mother because ...   \n",
       "2016  From Lebanon: I am dealing with a big problem!...   \n",
       "2017  I’m a 21 year old female. I spent most of my l...   \n",
       "2018  From the U.S.: I am a 21 year old woman who ha...   \n",
       "\n",
       "                                         Distorted part  \\\n",
       "0                                                   NaN   \n",
       "1                                                   NaN   \n",
       "2                                                   NaN   \n",
       "3                                                   NaN   \n",
       "4                                                   NaN   \n",
       "...                                                 ...   \n",
       "2014                                                NaN   \n",
       "2015  Since then, whenever my mother is out alone, I...   \n",
       "2016  My family hate him but they didn’t met him at ...   \n",
       "2017                                                NaN   \n",
       "2018                                                NaN   \n",
       "\n",
       "          Dominant Distortion Secondary Distortion (Optional)l  \\\n",
       "0                  Distortion                              NaN   \n",
       "1                  Distortion                              NaN   \n",
       "2                  Distortion                              NaN   \n",
       "3                  Distortion                              NaN   \n",
       "4                  Distortion                              NaN   \n",
       "...                       ...                              ...   \n",
       "2014            No Distortion                              NaN   \n",
       "2015  All-or-nothing thinking                              NaN   \n",
       "2016            Magnification                              NaN   \n",
       "2017            No Distortion                              NaN   \n",
       "2018            No Distortion                              NaN   \n",
       "\n",
       "     Secondary Distortion (Optional)  \n",
       "0                                NaN  \n",
       "1                                NaN  \n",
       "2                                NaN  \n",
       "3                                NaN  \n",
       "4                                NaN  \n",
       "...                              ...  \n",
       "2014                             NaN  \n",
       "2015              Overgeneralization  \n",
       "2016                             NaN  \n",
       "2017                             NaN  \n",
       "2018                             NaN  \n",
       "\n",
       "[2019 rows x 5 columns]"
      ]
     },
     "execution_count": 30,
     "metadata": {},
     "output_type": "execute_result"
    }
   ],
   "source": [
    "df3s[1]"
   ]
  },
  {
   "cell_type": "code",
   "execution_count": 31,
   "id": "c42b9f46-11b0-4604-97d4-fec059710097",
   "metadata": {},
   "outputs": [
    {
     "data": {
      "text/html": [
       "<div>\n",
       "<style scoped>\n",
       "    .dataframe tbody tr th:only-of-type {\n",
       "        vertical-align: middle;\n",
       "    }\n",
       "\n",
       "    .dataframe tbody tr th {\n",
       "        vertical-align: top;\n",
       "    }\n",
       "\n",
       "    .dataframe thead th {\n",
       "        text-align: right;\n",
       "    }\n",
       "</style>\n",
       "<table border=\"1\" class=\"dataframe\">\n",
       "  <thead>\n",
       "    <tr style=\"text-align: right;\">\n",
       "      <th></th>\n",
       "      <th>Patient Question</th>\n",
       "      <th>Distorted part</th>\n",
       "      <th>Dominant Distortion</th>\n",
       "      <th>Secondary Distortion (Optional)l</th>\n",
       "      <th>Secondary Distortion (Optional)</th>\n",
       "    </tr>\n",
       "  </thead>\n",
       "  <tbody>\n",
       "    <tr>\n",
       "      <th>0</th>\n",
       "      <td>I can't try new things because I'll just mess...</td>\n",
       "      <td>NaN</td>\n",
       "      <td>Distortion</td>\n",
       "      <td>NaN</td>\n",
       "      <td>NaN</td>\n",
       "    </tr>\n",
       "    <tr>\n",
       "      <th>1</th>\n",
       "      <td>I didn't get the job so I must be incompetent.</td>\n",
       "      <td>NaN</td>\n",
       "      <td>Distortion</td>\n",
       "      <td>NaN</td>\n",
       "      <td>NaN</td>\n",
       "    </tr>\n",
       "    <tr>\n",
       "      <th>2</th>\n",
       "      <td>I'll never be successful because I failed my ...</td>\n",
       "      <td>NaN</td>\n",
       "      <td>Distortion</td>\n",
       "      <td>NaN</td>\n",
       "      <td>NaN</td>\n",
       "    </tr>\n",
       "    <tr>\n",
       "      <th>3</th>\n",
       "      <td>My child misbehaved at school I must be a bad...</td>\n",
       "      <td>NaN</td>\n",
       "      <td>Distortion</td>\n",
       "      <td>NaN</td>\n",
       "      <td>NaN</td>\n",
       "    </tr>\n",
       "    <tr>\n",
       "      <th>4</th>\n",
       "      <td>I can't do anything right I'm such a disappoi...</td>\n",
       "      <td>NaN</td>\n",
       "      <td>Distortion</td>\n",
       "      <td>NaN</td>\n",
       "      <td>NaN</td>\n",
       "    </tr>\n",
       "    <tr>\n",
       "      <th>...</th>\n",
       "      <td>...</td>\n",
       "      <td>...</td>\n",
       "      <td>...</td>\n",
       "      <td>...</td>\n",
       "      <td>...</td>\n",
       "    </tr>\n",
       "    <tr>\n",
       "      <th>2014</th>\n",
       "      <td>Hi, I’m a 13 year old trans guy and I’ve just ...</td>\n",
       "      <td>I think people here dislike me and judge me al...</td>\n",
       "      <td>Mind Reading</td>\n",
       "      <td>NaN</td>\n",
       "      <td>NaN</td>\n",
       "    </tr>\n",
       "    <tr>\n",
       "      <th>2015</th>\n",
       "      <td>Hi, for about 3 years now I have been feeling ...</td>\n",
       "      <td>NaN</td>\n",
       "      <td>No Distortion</td>\n",
       "      <td>NaN</td>\n",
       "      <td>NaN</td>\n",
       "    </tr>\n",
       "    <tr>\n",
       "      <th>2016</th>\n",
       "      <td>From the U.S.: I am a junior in high school, a...</td>\n",
       "      <td>However, I am not happy, at the least only hal...</td>\n",
       "      <td>Labeling</td>\n",
       "      <td>NaN</td>\n",
       "      <td>All-or-nothing thinking</td>\n",
       "    </tr>\n",
       "    <tr>\n",
       "      <th>2017</th>\n",
       "      <td>I am 21 female and have not had any friends fo...</td>\n",
       "      <td>Now I am at university my peers around me all ...</td>\n",
       "      <td>Overgeneralization</td>\n",
       "      <td>NaN</td>\n",
       "      <td>NaN</td>\n",
       "    </tr>\n",
       "    <tr>\n",
       "      <th>2018</th>\n",
       "      <td>I recently moved out on my ex-roommate because...</td>\n",
       "      <td>NaN</td>\n",
       "      <td>No Distortion</td>\n",
       "      <td>NaN</td>\n",
       "      <td>NaN</td>\n",
       "    </tr>\n",
       "  </tbody>\n",
       "</table>\n",
       "<p>2019 rows × 5 columns</p>\n",
       "</div>"
      ],
      "text/plain": [
       "                                       Patient Question  \\\n",
       "0      I can't try new things because I'll just mess...   \n",
       "1        I didn't get the job so I must be incompetent.   \n",
       "2      I'll never be successful because I failed my ...   \n",
       "3      My child misbehaved at school I must be a bad...   \n",
       "4      I can't do anything right I'm such a disappoi...   \n",
       "...                                                 ...   \n",
       "2014  Hi, I’m a 13 year old trans guy and I’ve just ...   \n",
       "2015  Hi, for about 3 years now I have been feeling ...   \n",
       "2016  From the U.S.: I am a junior in high school, a...   \n",
       "2017  I am 21 female and have not had any friends fo...   \n",
       "2018  I recently moved out on my ex-roommate because...   \n",
       "\n",
       "                                         Distorted part Dominant Distortion  \\\n",
       "0                                                   NaN          Distortion   \n",
       "1                                                   NaN          Distortion   \n",
       "2                                                   NaN          Distortion   \n",
       "3                                                   NaN          Distortion   \n",
       "4                                                   NaN          Distortion   \n",
       "...                                                 ...                 ...   \n",
       "2014  I think people here dislike me and judge me al...        Mind Reading   \n",
       "2015                                                NaN       No Distortion   \n",
       "2016  However, I am not happy, at the least only hal...            Labeling   \n",
       "2017  Now I am at university my peers around me all ...  Overgeneralization   \n",
       "2018                                                NaN       No Distortion   \n",
       "\n",
       "     Secondary Distortion (Optional)l Secondary Distortion (Optional)  \n",
       "0                                 NaN                             NaN  \n",
       "1                                 NaN                             NaN  \n",
       "2                                 NaN                             NaN  \n",
       "3                                 NaN                             NaN  \n",
       "4                                 NaN                             NaN  \n",
       "...                               ...                             ...  \n",
       "2014                              NaN                             NaN  \n",
       "2015                              NaN                             NaN  \n",
       "2016                              NaN         All-or-nothing thinking  \n",
       "2017                              NaN                             NaN  \n",
       "2018                              NaN                             NaN  \n",
       "\n",
       "[2019 rows x 5 columns]"
      ]
     },
     "execution_count": 31,
     "metadata": {},
     "output_type": "execute_result"
    }
   ],
   "source": [
    "df3s[2]"
   ]
  },
  {
   "cell_type": "code",
   "execution_count": 32,
   "id": "2fd8c401-dae7-47e9-ae9d-4e8fdeb16767",
   "metadata": {},
   "outputs": [
    {
     "name": "stdout",
     "output_type": "stream",
     "text": [
      "unbalanced F1 0.8237692979900961\n",
      "unbalanced F1 0.8154884130243473\n",
      "unbalanced F1 0.8144450968878449\n"
     ]
    },
    {
     "data": {
      "text/plain": [
       "[[0.8237692979900961, 0.8154884130243473, 0.8144450968878449],\n",
       " [0, 0, 0],\n",
       " [0.5764657646576467, 0.5715477680433876, 0.5681818181818182],\n",
       " [0.8568257491675916, 0.8434456928838951, 0.852508487363259],\n",
       " [0.8997867803837953, 0.9060693641618498, 0.902158273381295],\n",
       " [0.9992927864214993, 0.9985590778097982, 0.9989189189189188],\n",
       " [0.8345195729537366, 0.8227584152517128, 0.8257756563245823],\n",
       " [0.8089807555238775, 0.8086799276672695, 0.8053642624139181],\n",
       " [0.8155339805825242, 0.8156312625250501, 0.8212978369384359],\n",
       " [0.826025459688826, 0.8343904157857646, 0.8368495077355835]]"
      ]
     },
     "execution_count": 32,
     "metadata": {},
     "output_type": "execute_result"
    }
   ],
   "source": [
    "res_list = [[],[],[],[],[],[]]\n",
    "for n in range(3):\n",
    "    df = df3s[n]\n",
    "    yes, no = binary_df_bias(df)\n",
    "    print('unbalanced F1',f1_from_counts(yes, 0, no, 0))\n",
    "    f1_t = evaluate_df(df,our_evaluator_true,0)\n",
    "    f1_f = evaluate_df(df,our_evaluator_false,0)\n",
    "    f1_r = evaluate_df(df,our_evaluator_random,0)\n",
    "    f1_a = evaluate_df(df,our_evaluator_avg,0.4)\n",
    "    f1_a1 = evaluate_df(df,our_evaluator_new_log_one,0.9)\n",
    "    f1_aM = evaluate_df(df,our_evaluator_new_log_any,0.9)\n",
    "    res_list[0].append(f1_t)\n",
    "    res_list[1].append(f1_f)\n",
    "    res_list[2].append(f1_r)\n",
    "    res_list[3].append(f1_a)\n",
    "    res_list[4].append(f1_a1)\n",
    "    res_list[5].append(f1_aM)\n",
    "# add LLM data from ./notebooks/nlp/distortions/distortions_llm.ipynb\n",
    "res_list.append([0.8345195729537366, 0.8227584152517128, 0.8257756563245823])\n",
    "res_list.append([0.8089807555238775, 0.8086799276672695, 0.8053642624139181])\n",
    "res_list.append([0.8155339805825242, 0.8156312625250501, 0.8212978369384359])\n",
    "res_list.append([0.826025459688826, 0.8343904157857646, 0.8368495077355835])\n",
    "res_list\n"
   ]
  },
  {
   "cell_type": "code",
   "execution_count": 33,
   "id": "b871dc4a-f19e-4dde-a206-674472dc5295",
   "metadata": {},
   "outputs": [
    {
     "data": {
      "text/plain": [
       "0.8179156908665105"
      ]
     },
     "execution_count": 33,
     "metadata": {},
     "output_type": "execute_result"
    }
   ],
   "source": [
    "# sanity check with full dataset\n",
    "evaluate_df(df3,our_evaluator_avg,0.4)\n",
    "evaluate_df(df3,our_evaluator_true,0.4)\n"
   ]
  },
  {
   "cell_type": "code",
   "execution_count": 34,
   "id": "9cbca91b-9042-4196-8882-6ffad91a52ed",
   "metadata": {},
   "outputs": [
    {
     "data": {
      "text/plain": [
       "{0.8179009359674295: {'max': 0.8237692979900961, 'min': 0.8144450968878449},\n",
       " 0.0: {'max': 0, 'min': 0},\n",
       " 0.5720651169609509: {'max': 0.5764657646576467, 'min': 0.5681818181818182},\n",
       " 0.8509266431382486: {'max': 0.8568257491675916, 'min': 0.8434456928838951},\n",
       " 0.9026714726423134: {'max': 0.9060693641618498, 'min': 0.8997867803837953},\n",
       " 0.9989235943834055: {'max': 0.9992927864214993, 'min': 0.9985590778097982},\n",
       " 0.8276845481766771: {'max': 0.8345195729537366, 'min': 0.8227584152517128},\n",
       " 0.8076749818683551: {'max': 0.8089807555238775, 'min': 0.8053642624139181},\n",
       " 0.81748769334867: {'max': 0.8212978369384359, 'min': 0.8155339805825242},\n",
       " 0.8324217944033915: {'max': 0.8368495077355835, 'min': 0.826025459688826}}"
      ]
     },
     "execution_count": 34,
     "metadata": {},
     "output_type": "execute_result"
    }
   ],
   "source": [
    "algs = ['Const(True)','Const(False)','Random','Aigents(T=0.4)','AigentsB(T=0.9)','AigentsM(T=0.9)',\"LLM:llama3.2:3B\",\"LLM:qwen2:7B\",\"LLM:qwen2.5:7B\",\"LLM:qwen2.5:14B\"]\n",
    "avg = []\n",
    "error = {}\n",
    "for i in range(len(algs)):\n",
    "    average = sum(res_list[i])/3\n",
    "    a_min = min(res_list[i])\n",
    "    a_max = max(res_list[i])\n",
    "    avg.append(average)\n",
    "    error[average] = {'max':a_max,'min':a_min}\n",
    "error  "
   ]
  },
  {
   "cell_type": "code",
   "execution_count": 35,
   "id": "ca37264d-363a-448a-8f2e-4c5dd1565490",
   "metadata": {},
   "outputs": [
    {
     "data": {
      "text/html": [
       "<div>\n",
       "<style scoped>\n",
       "    .dataframe tbody tr th:only-of-type {\n",
       "        vertical-align: middle;\n",
       "    }\n",
       "\n",
       "    .dataframe tbody tr th {\n",
       "        vertical-align: top;\n",
       "    }\n",
       "\n",
       "    .dataframe thead th {\n",
       "        text-align: right;\n",
       "    }\n",
       "</style>\n",
       "<table border=\"1\" class=\"dataframe\">\n",
       "  <thead>\n",
       "    <tr style=\"text-align: right;\">\n",
       "      <th></th>\n",
       "      <th>Model</th>\n",
       "      <th>F1</th>\n",
       "    </tr>\n",
       "  </thead>\n",
       "  <tbody>\n",
       "    <tr>\n",
       "      <th>0</th>\n",
       "      <td>Const(True)</td>\n",
       "      <td>0.817901</td>\n",
       "    </tr>\n",
       "    <tr>\n",
       "      <th>1</th>\n",
       "      <td>Const(False)</td>\n",
       "      <td>0.000000</td>\n",
       "    </tr>\n",
       "    <tr>\n",
       "      <th>2</th>\n",
       "      <td>Random</td>\n",
       "      <td>0.572065</td>\n",
       "    </tr>\n",
       "    <tr>\n",
       "      <th>3</th>\n",
       "      <td>Aigents(T=0.4)</td>\n",
       "      <td>0.850927</td>\n",
       "    </tr>\n",
       "    <tr>\n",
       "      <th>4</th>\n",
       "      <td>AigentsB(T=0.9)</td>\n",
       "      <td>0.902671</td>\n",
       "    </tr>\n",
       "    <tr>\n",
       "      <th>5</th>\n",
       "      <td>AigentsM(T=0.9)</td>\n",
       "      <td>0.998924</td>\n",
       "    </tr>\n",
       "    <tr>\n",
       "      <th>6</th>\n",
       "      <td>LLM:llama3.2:3B</td>\n",
       "      <td>0.827685</td>\n",
       "    </tr>\n",
       "    <tr>\n",
       "      <th>7</th>\n",
       "      <td>LLM:qwen2:7B</td>\n",
       "      <td>0.807675</td>\n",
       "    </tr>\n",
       "    <tr>\n",
       "      <th>8</th>\n",
       "      <td>LLM:qwen2.5:7B</td>\n",
       "      <td>0.817488</td>\n",
       "    </tr>\n",
       "    <tr>\n",
       "      <th>9</th>\n",
       "      <td>LLM:qwen2.5:14B</td>\n",
       "      <td>0.832422</td>\n",
       "    </tr>\n",
       "  </tbody>\n",
       "</table>\n",
       "</div>"
      ],
      "text/plain": [
       "             Model        F1\n",
       "0      Const(True)  0.817901\n",
       "1     Const(False)  0.000000\n",
       "2           Random  0.572065\n",
       "3   Aigents(T=0.4)  0.850927\n",
       "4  AigentsB(T=0.9)  0.902671\n",
       "5  AigentsM(T=0.9)  0.998924\n",
       "6  LLM:llama3.2:3B  0.827685\n",
       "7     LLM:qwen2:7B  0.807675\n",
       "8   LLM:qwen2.5:7B  0.817488\n",
       "9  LLM:qwen2.5:14B  0.832422"
      ]
     },
     "execution_count": 35,
     "metadata": {},
     "output_type": "execute_result"
    }
   ],
   "source": [
    "# https://stackoverflow.com/questions/64796315/how-to-plot-min-max-bars-with-a-bar-plot\n",
    "\n",
    "plt.rcParams[\"patch.force_edgecolor\"] = True\n",
    "\n",
    "df = pd.DataFrame({'Model':algs,'F1':avg})\n",
    "df"
   ]
  },
  {
   "cell_type": "code",
   "execution_count": 36,
   "id": "15a65873-931d-4b8c-9fa9-cad1a0c7c076",
   "metadata": {},
   "outputs": [
    {
     "data": {
      "image/png": "[encoded data removed]",
      "text/plain": [
       "<Figure size 800x500 with 1 Axes>"
      ]
     },
     "metadata": {},
     "output_type": "display_data"
    }
   ],
   "source": [
    "fig, ax = plt.subplots(figsize=(8, 5))\n",
    "\n",
    "df.plot.bar(x='Model', y='F1', ax=ax)\n",
    "\n",
    "for p in ax.patches:\n",
    "    x = p.get_x()  # get the bottom left x corner of the bar\n",
    "    w = p.get_width()  # get width of bar\n",
    "    h = p.get_height()  # get height of bar\n",
    "    min_y = error[h]['min']  # use h to get min from dict z\n",
    "    max_y = error[h]['max']  # use h to get max from dict z\n",
    "    plt.vlines(x+w/2, min_y, max_y, color='k')  # draw a vertical line"
   ]
  },
  {
   "cell_type": "code",
   "execution_count": 37,
   "id": "bb14bdc7-efd7-45e9-8e75-ade91df92b26",
   "metadata": {},
   "outputs": [
    {
     "name": "stdout",
     "output_type": "stream",
     "text": [
      "unbalanced F1 0.8237692979900961\n",
      "unbalanced F1 0.8154884130243473\n",
      "unbalanced F1 0.8144450968878449\n"
     ]
    },
    {
     "data": {
      "text/plain": [
       "[[0.7003467062902426, 0.6884596334819217, 0.6869737493808816],\n",
       " [0.2996532937097573, 0.31154036651807826, 0.3130262506191184],\n",
       " [0.49975235264982665, 0.4967805844477464, 0.5037147102526003],\n",
       " [0.8083209509658247, 0.7929668152550767, 0.8063397721644379],\n",
       " [0.8603268945022289, 0.8712233779098564, 0.8652798415056959],\n",
       " [0.9990094105993066, 0.9980188211986132, 0.9985141158989599],\n",
       " [0.7236255572065379, 0.7052996532937098, 0.7107478949975236],\n",
       " [0.7345220406141655, 0.7379891035165924, 0.7340267459138187],\n",
       " [0.7270926201089648, 0.7265973254086181, 0.7340267459138187],\n",
       " [0.7563150074294205, 0.7672114908370481, 0.7701832590391283]]"
      ]
     },
     "execution_count": 37,
     "metadata": {},
     "output_type": "execute_result"
    }
   ],
   "source": [
    "res_list = [[],[],[],[],[],[]]\n",
    "for n in range(3):\n",
    "    df = df3s[n]\n",
    "    yes, no = binary_df_bias(df)\n",
    "    print('unbalanced F1',f1_from_counts(yes, 0, no, 0))\n",
    "    acc_t, f1_t  = evaluate_df_acc_f1(df,our_evaluator_true,0)\n",
    "    acc_f, f1_f = evaluate_df_acc_f1(df,our_evaluator_false,0)\n",
    "    acc_r, f1_r = evaluate_df_acc_f1(df,our_evaluator_random,0)\n",
    "    acc_a, f1_a = evaluate_df_acc_f1(df,our_evaluator_avg,0.4)\n",
    "    acc_a1, f1_a1 = evaluate_df_acc_f1(df,our_evaluator_new_log_one,0.9)\n",
    "    acc_aM, f1_aM = evaluate_df_acc_f1(df,our_evaluator_new_log_any,0.9)\n",
    "    res_list[0].append(acc_t)\n",
    "    res_list[1].append(acc_f)\n",
    "    res_list[2].append(acc_r)\n",
    "    res_list[3].append(acc_a)\n",
    "    res_list[4].append(acc_a1)\n",
    "    res_list[5].append(acc_aM)\n",
    "# add LLM data from ./notebooks/nlp/distortions/distortions_llm.ipynb\n",
    "res_list.append([0.7236255572065379, 0.7052996532937098, 0.7107478949975236])\n",
    "res_list.append([0.7345220406141655, 0.7379891035165924, 0.7340267459138187])\n",
    "res_list.append([0.7270926201089648, 0.7265973254086181, 0.7340267459138187])\n",
    "res_list.append([0.7563150074294205, 0.7672114908370481, 0.7701832590391283])\n",
    "res_list"
   ]
  },
  {
   "cell_type": "code",
   "execution_count": 38,
   "id": "c65b1da4-d647-4ad4-9e6f-0a4a4107d333",
   "metadata": {},
   "outputs": [
    {
     "data": {
      "text/html": [
       "<div>\n",
       "<style scoped>\n",
       "    .dataframe tbody tr th:only-of-type {\n",
       "        vertical-align: middle;\n",
       "    }\n",
       "\n",
       "    .dataframe tbody tr th {\n",
       "        vertical-align: top;\n",
       "    }\n",
       "\n",
       "    .dataframe thead th {\n",
       "        text-align: right;\n",
       "    }\n",
       "</style>\n",
       "<table border=\"1\" class=\"dataframe\">\n",
       "  <thead>\n",
       "    <tr style=\"text-align: right;\">\n",
       "      <th></th>\n",
       "      <th>Model</th>\n",
       "      <th>Accuracy</th>\n",
       "    </tr>\n",
       "  </thead>\n",
       "  <tbody>\n",
       "    <tr>\n",
       "      <th>0</th>\n",
       "      <td>Const(True)</td>\n",
       "      <td>0.691927</td>\n",
       "    </tr>\n",
       "    <tr>\n",
       "      <th>1</th>\n",
       "      <td>Const(False)</td>\n",
       "      <td>0.308073</td>\n",
       "    </tr>\n",
       "    <tr>\n",
       "      <th>2</th>\n",
       "      <td>Random</td>\n",
       "      <td>0.500083</td>\n",
       "    </tr>\n",
       "    <tr>\n",
       "      <th>3</th>\n",
       "      <td>Aigents(T=0.4)</td>\n",
       "      <td>0.802543</td>\n",
       "    </tr>\n",
       "    <tr>\n",
       "      <th>4</th>\n",
       "      <td>AigentsB(T=0.9)</td>\n",
       "      <td>0.865610</td>\n",
       "    </tr>\n",
       "    <tr>\n",
       "      <th>5</th>\n",
       "      <td>AigentsM(T=0.9)</td>\n",
       "      <td>0.998514</td>\n",
       "    </tr>\n",
       "    <tr>\n",
       "      <th>6</th>\n",
       "      <td>LLM:llama3.2:3B</td>\n",
       "      <td>0.713224</td>\n",
       "    </tr>\n",
       "    <tr>\n",
       "      <th>7</th>\n",
       "      <td>LLM:qwen2:7B</td>\n",
       "      <td>0.735513</td>\n",
       "    </tr>\n",
       "    <tr>\n",
       "      <th>8</th>\n",
       "      <td>LLM:qwen2.5:7B</td>\n",
       "      <td>0.729239</td>\n",
       "    </tr>\n",
       "    <tr>\n",
       "      <th>9</th>\n",
       "      <td>LLM:qwen2.5:14B</td>\n",
       "      <td>0.764570</td>\n",
       "    </tr>\n",
       "  </tbody>\n",
       "</table>\n",
       "</div>"
      ],
      "text/plain": [
       "             Model  Accuracy\n",
       "0      Const(True)  0.691927\n",
       "1     Const(False)  0.308073\n",
       "2           Random  0.500083\n",
       "3   Aigents(T=0.4)  0.802543\n",
       "4  AigentsB(T=0.9)  0.865610\n",
       "5  AigentsM(T=0.9)  0.998514\n",
       "6  LLM:llama3.2:3B  0.713224\n",
       "7     LLM:qwen2:7B  0.735513\n",
       "8   LLM:qwen2.5:7B  0.729239\n",
       "9  LLM:qwen2.5:14B  0.764570"
      ]
     },
     "execution_count": 38,
     "metadata": {},
     "output_type": "execute_result"
    }
   ],
   "source": [
    "algs = ['Const(True)','Const(False)','Random','Aigents(T=0.4)','AigentsB(T=0.9)','AigentsM(T=0.9)',\"LLM:llama3.2:3B\",\"LLM:qwen2:7B\",\"LLM:qwen2.5:7B\",\"LLM:qwen2.5:14B\"]\n",
    "avg = []\n",
    "error = {}\n",
    "for i in range(len(algs)):\n",
    "    average = sum(res_list[i])/3\n",
    "    a_min = min(res_list[i])\n",
    "    a_max = max(res_list[i])\n",
    "    avg.append(average)\n",
    "    error[average] = {'max':a_max,'min':a_min}\n",
    "\n",
    "df = pd.DataFrame({'Model':algs,'Accuracy':avg})\n",
    "df"
   ]
  },
  {
   "cell_type": "code",
   "execution_count": 39,
   "id": "6e1ecd85-aad7-4a9f-b611-60cb2ad58d7e",
   "metadata": {},
   "outputs": [
    {
     "data": {
      "image/png": "[encoded data removed]",
      "text/plain": [
       "<Figure size 800x500 with 1 Axes>"
      ]
     },
     "metadata": {},
     "output_type": "display_data"
    }
   ],
   "source": [
    "plt.rcParams[\"patch.force_edgecolor\"] = True\n",
    "fig, ax = plt.subplots(figsize=(8, 5))\n",
    "\n",
    "df.plot.bar(x='Model', y='Accuracy', ax=ax)\n",
    "\n",
    "for p in ax.patches:\n",
    "    x = p.get_x()  # get the bottom left x corner of the bar\n",
    "    w = p.get_width()  # get width of bar\n",
    "    h = p.get_height()  # get height of bar\n",
    "    min_y = error[h]['min']  # use h to get min from dict z\n",
    "    max_y = error[h]['max']  # use h to get max from dict z\n",
    "    plt.vlines(x+w/2, min_y, max_y, color='k')  # draw a vertical line\n",
    "\n"
   ]
  },
  {
   "cell_type": "code",
   "execution_count": null,
   "id": "99d53111-51a2-4aa7-b86d-99a75914b85b",
   "metadata": {},
   "outputs": [],
   "source": []
  },
  {
   "cell_type": "code",
   "execution_count": null,
   "id": "e2671e81-462f-4d91-89db-2e474e4f30fc",
   "metadata": {},
   "outputs": [],
   "source": []
  }
 ],
 "metadata": {
  "kernelspec": {
   "display_name": "Python 3 (ipykernel)",
   "language": "python",
   "name": "python3"
  },
  "language_info": {
   "codemirror_mode": {
    "name": "ipython",
    "version": 3
   },
   "file_extension": ".py",
   "mimetype": "text/x-python",
   "name": "python",
   "nbconvert_exporter": "python",
   "pygments_lexer": "ipython3",
   "version": "3.11.0"
  }
 },
 "nbformat": 4,
 "nbformat_minor": 5
}
