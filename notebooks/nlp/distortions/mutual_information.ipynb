{
 "cells": [
  {
   "cell_type": "code",
   "execution_count": 10,
   "id": "4e3dda91-402a-4af4-966b-630be2d1c323",
   "metadata": {},
   "outputs": [],
   "source": [
    "import math"
   ]
  },
  {
   "cell_type": "markdown",
   "id": "d0ae1c47-b9fc-4872-a1b3-e20e2015bd60",
   "metadata": {},
   "source": [
    "# Mutual Information\n",
    "\n",
    "- https://en.wikipedia.org/wiki/Mutual_information\n",
    "\n",
    "Mutual information is a measure of the inherent dependence expressed in the joint distribution\n",
    "\n",
    "$log( \\frac{P(x,y)}{P(x),P(y)}  )$\n",
    "\n",
    "Moreover, mutual information is nonnegative\n"
   ]
  },
  {
   "cell_type": "markdown",
   "id": "46cd7729-8e9f-4c82-b6ea-c6db784b8260",
   "metadata": {},
   "source": [
    "```\n",
    "red    tomato chair\n",
    "red    tomato chair\n",
    "red    tomato table\n",
    "red    tomato table\n",
    "red    tomato table\n",
    "yellow lemon  table\n",
    "yellow lemon  table\n",
    "yellow lemon  chair\n",
    "yellow lemon  chair\n",
    "yellow lemon  chair\n",
    "\n",
    "N = 4\n",
    "P(red) = P(yellow) = P(tomato) = P(lemon) = P(chair) = P(table) = 0.5\n",
    "P(red,tomato) = P(yellow,lemon) = 0.5\n",
    "P(tomato,chair) = P(lemon,table) = 0.2\n",
    "P(tomato,table) = P(lemon,chair) = 0.3\n",
    "\n",
    "MI = log(P(x,y)/(P(x),P(y)))\n",
    "```"
   ]
  },
  {
   "cell_type": "code",
   "execution_count": 19,
   "id": "f95d897d-961a-445f-bf0d-3b50a190fa65",
   "metadata": {},
   "outputs": [
    {
     "data": {
      "text/plain": [
       "-0.2231435513142097"
      ]
     },
     "execution_count": 19,
     "metadata": {},
     "output_type": "execute_result"
    }
   ],
   "source": [
    "# P(tomato,chair) = P(lemon,table) - how can it be negative!?\n",
    "math.log( 0.2 / (0.5*0.5) )"
   ]
  },
  {
   "cell_type": "code",
   "execution_count": 21,
   "id": "4fa60ee0-8938-4df2-a70b-24c423c31ec4",
   "metadata": {},
   "outputs": [
    {
     "data": {
      "text/plain": [
       "0.8"
      ]
     },
     "execution_count": 21,
     "metadata": {},
     "output_type": "execute_result"
    }
   ],
   "source": [
    "0.2 / (0.5*0.5)"
   ]
  },
  {
   "cell_type": "code",
   "execution_count": null,
   "id": "3dedb3f9-5ae6-4773-baed-cad22cab9dcd",
   "metadata": {},
   "outputs": [],
   "source": []
  },
  {
   "cell_type": "code",
   "execution_count": 7,
   "id": "40230a44-d365-4b95-a52c-1436f3a96151",
   "metadata": {},
   "outputs": [
    {
     "data": {
      "text/plain": [
       "np.float64(0.5021929300715018)"
      ]
     },
     "execution_count": 7,
     "metadata": {},
     "output_type": "execute_result"
    }
   ],
   "source": [
    "# https://www.blog.trainindata.com/mutual-information-with-python/\n",
    "\n",
    "from scipy.stats.contingency import crosstab\n",
    "from sklearn.metrics import mutual_info_score\n",
    "a = ['A', 'B', 'A', 'A', 'B', 'B', 'A', 'A', 'B', 'B']\n",
    "x = ['X', 'X', 'X', 'Y', 'Z', 'Z', 'Y', 'Y', 'Z', 'Z']\n",
    "c = crosstab(a, x)\n",
    "mutual_info_score(labels_true=None, labels_pred=None, contingency = c[1])"
   ]
  },
  {
   "cell_type": "code",
   "execution_count": null,
   "id": "556e0d4c-71e5-439c-9e1b-a5a47ce33ef0",
   "metadata": {},
   "outputs": [],
   "source": []
  },
  {
   "cell_type": "code",
   "execution_count": null,
   "id": "3f1a9754-eee5-4541-ab44-90502d21449a",
   "metadata": {},
   "outputs": [],
   "source": []
  },
  {
   "cell_type": "code",
   "execution_count": null,
   "id": "0ba3a6b5-3ed4-4370-a2a3-ad5b6b51a483",
   "metadata": {},
   "outputs": [],
   "source": []
  }
 ],
 "metadata": {
  "kernelspec": {
   "display_name": "Python 3 (ipykernel)",
   "language": "python",
   "name": "python3"
  },
  "language_info": {
   "codemirror_mode": {
    "name": "ipython",
    "version": 3
   },
   "file_extension": ".py",
   "mimetype": "text/x-python",
   "name": "python",
   "nbconvert_exporter": "python",
   "pygments_lexer": "ipython3",
   "version": "3.11.0"
  }
 },
 "nbformat": 4,
 "nbformat_minor": 5
}
