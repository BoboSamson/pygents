{
 "cells": [
  {
   "cell_type": "code",
   "execution_count": 1,
   "id": "3f93ed7c",
   "metadata": {},
   "outputs": [],
   "source": [
    "import os, sys\n",
    "cwd = os.getcwd()\n",
    "project_path = cwd[:cwd.find('pygents')+7]\n",
    "if project_path not in sys.path: sys.path.append(project_path)\n",
    "os.chdir(project_path) \n"
   ]
  },
  {
   "cell_type": "code",
   "execution_count": 3,
   "id": "8a3cb56b",
   "metadata": {},
   "outputs": [
    {
     "name": "stdout",
     "output_type": "stream",
     "text": [
      "Parsing dictionary . . .\n"
     ]
    },
    {
     "ename": "IndexError",
     "evalue": "list index out of range",
     "output_type": "error",
     "traceback": [
      "\u001b[0;31m---------------------------------------------------------------------------\u001b[0m",
      "\u001b[0;31mIndexError\u001b[0m                                Traceback (most recent call last)",
      "\u001b[0;32m/var/folders/lb/1m7gbdp17h578qq48pbbtxf40000gn/T/ipykernel_83579/3356229492.py\u001b[0m in \u001b[0;36m<module>\u001b[0;34m\u001b[0m\n\u001b[1;32m     74\u001b[0m \u001b[0;34m\u001b[0m\u001b[0m\n\u001b[1;32m     75\u001b[0m \u001b[0mlist_of_dicts\u001b[0m \u001b[0;34m=\u001b[0m \u001b[0;34m[\u001b[0m\u001b[0;34m]\u001b[0m\u001b[0;34m\u001b[0m\u001b[0;34m\u001b[0m\u001b[0m\n\u001b[0;32m---> 76\u001b[0;31m \u001b[0mparsed_dict\u001b[0m \u001b[0;34m=\u001b[0m \u001b[0mmain\u001b[0m\u001b[0;34m(\u001b[0m\u001b[0;34m)\u001b[0m\u001b[0;34m\u001b[0m\u001b[0;34m\u001b[0m\u001b[0m\n\u001b[0m",
      "\u001b[0;32m/var/folders/lb/1m7gbdp17h578qq48pbbtxf40000gn/T/ipykernel_83579/3356229492.py\u001b[0m in \u001b[0;36mmain\u001b[0;34m()\u001b[0m\n\u001b[1;32m     55\u001b[0m         \u001b[0mprint\u001b[0m\u001b[0;34m(\u001b[0m\u001b[0;34m\"Parsing dictionary . . .\"\u001b[0m\u001b[0;34m)\u001b[0m\u001b[0;34m\u001b[0m\u001b[0;34m\u001b[0m\u001b[0m\n\u001b[1;32m     56\u001b[0m         \u001b[0;32mfor\u001b[0m \u001b[0mline\u001b[0m \u001b[0;32min\u001b[0m \u001b[0mdict_lines\u001b[0m\u001b[0;34m:\u001b[0m\u001b[0;34m\u001b[0m\u001b[0;34m\u001b[0m\u001b[0m\n\u001b[0;32m---> 57\u001b[0;31m                 \u001b[0mparse_line\u001b[0m\u001b[0;34m(\u001b[0m\u001b[0mline\u001b[0m\u001b[0;34m)\u001b[0m\u001b[0;34m\u001b[0m\u001b[0;34m\u001b[0m\u001b[0m\n\u001b[0m\u001b[1;32m     58\u001b[0m \u001b[0;34m\u001b[0m\u001b[0m\n\u001b[1;32m     59\u001b[0m         \u001b[0;31m#remove entries for surnames from the data (optional):\u001b[0m\u001b[0;34m\u001b[0m\u001b[0;34m\u001b[0m\u001b[0;34m\u001b[0m\u001b[0m\n",
      "\u001b[0;32m/var/folders/lb/1m7gbdp17h578qq48pbbtxf40000gn/T/ipykernel_83579/3356229492.py\u001b[0m in \u001b[0;36mparse_line\u001b[0;34m(line)\u001b[0m\n\u001b[1;32m     35\u001b[0m         \u001b[0mtraditional\u001b[0m \u001b[0;34m=\u001b[0m \u001b[0mcharacters\u001b[0m\u001b[0;34m[\u001b[0m\u001b[0;36m0\u001b[0m\u001b[0;34m]\u001b[0m\u001b[0;34m\u001b[0m\u001b[0;34m\u001b[0m\u001b[0m\n\u001b[1;32m     36\u001b[0m         \u001b[0msimplified\u001b[0m \u001b[0;34m=\u001b[0m \u001b[0mcharacters\u001b[0m\u001b[0;34m[\u001b[0m\u001b[0;36m1\u001b[0m\u001b[0;34m]\u001b[0m\u001b[0;34m\u001b[0m\u001b[0;34m\u001b[0m\u001b[0m\n\u001b[0;32m---> 37\u001b[0;31m         \u001b[0mpinyin\u001b[0m \u001b[0;34m=\u001b[0m \u001b[0mchar_and_pinyin\u001b[0m\u001b[0;34m[\u001b[0m\u001b[0;36m1\u001b[0m\u001b[0;34m]\u001b[0m\u001b[0;34m\u001b[0m\u001b[0;34m\u001b[0m\u001b[0m\n\u001b[0m\u001b[1;32m     38\u001b[0m         \u001b[0mpinyin\u001b[0m \u001b[0;34m=\u001b[0m \u001b[0mpinyin\u001b[0m\u001b[0;34m.\u001b[0m\u001b[0mrstrip\u001b[0m\u001b[0;34m(\u001b[0m\u001b[0;34m)\u001b[0m\u001b[0;34m\u001b[0m\u001b[0;34m\u001b[0m\u001b[0m\n\u001b[1;32m     39\u001b[0m         \u001b[0mpinyin\u001b[0m \u001b[0;34m=\u001b[0m \u001b[0mpinyin\u001b[0m\u001b[0;34m.\u001b[0m\u001b[0mrstrip\u001b[0m\u001b[0;34m(\u001b[0m\u001b[0;34m\"]\"\u001b[0m\u001b[0;34m)\u001b[0m\u001b[0;34m\u001b[0m\u001b[0;34m\u001b[0m\u001b[0m\n",
      "\u001b[0;31mIndexError\u001b[0m: list index out of range"
     ]
    }
   ],
   "source": [
    "\n",
    "#https://www.mdbg.net/chinese/dictionary?page=cc-cedict\n",
    "\n",
    "#A parser for the CC-Cedict. Convert the Chinese-English dictionary into a list of python dictionaries with \"traditional\",\"simplified\", \"pinyin\", and \"english\" keys.\n",
    "\n",
    "#Make sure that the cedict_ts.u8 file is in the same folder as this file, and that the name matches the file name on line 13.\n",
    "\n",
    "#Before starting, open the CEDICT text file and delete the copyright information at the top. Otherwise the program will try to parse it and you will get an error message.\n",
    "\n",
    "#Characters that are commonly used as surnames have two entries in CC-CEDICT. This program will remove the surname entry if there is another entry for the character. If you want to include the surnames, simply delete lines 59 and 60.\n",
    "\n",
    "#This code was written by Franki Allegra in February 2020.\n",
    "\n",
    "#open CEDICT file\n",
    "\n",
    "with open('notebooks/nlp/chinese/cedict_ts.u8') as file:\n",
    "    text = file.read()\n",
    "    lines = text.split('\\n')\n",
    "    dict_lines = list(lines)\n",
    "\n",
    "#define functions\n",
    "\n",
    "    def parse_line(line):\n",
    "        parsed = {}\n",
    "        if line == '':\n",
    "            dict_lines.remove(line)\n",
    "            return 0\n",
    "        line = line.rstrip('/')\n",
    "        line = line.split('/')\n",
    "        if len(line) <= 1:\n",
    "            return 0\n",
    "        english = line[1]\n",
    "        char_and_pinyin = line[0].split('[')\n",
    "        characters = char_and_pinyin[0]\n",
    "        characters = characters.split()\n",
    "        traditional = characters[0]\n",
    "        simplified = characters[1]\n",
    "        pinyin = char_and_pinyin[1]\n",
    "        pinyin = pinyin.rstrip()\n",
    "        pinyin = pinyin.rstrip(\"]\")\n",
    "        parsed['traditional'] = traditional\n",
    "        parsed['simplified'] = simplified\n",
    "        parsed['pinyin'] = pinyin\n",
    "        parsed['english'] = english\n",
    "        list_of_dicts.append(parsed)\n",
    "\n",
    "    def remove_surnames():\n",
    "        for x in range(len(list_of_dicts)-1, -1, -1):\n",
    "            if \"surname \" in list_of_dicts[x]['english']:\n",
    "                if list_of_dicts[x]['traditional'] == list_of_dicts[x+1]['traditional']:\n",
    "                    list_of_dicts.pop(x)\n",
    "            \n",
    "    def main():\n",
    "\n",
    "        #make each line into a dictionary\n",
    "        print(\"Parsing dictionary . . .\")\n",
    "        for line in dict_lines:\n",
    "                parse_line(line)\n",
    "        \n",
    "        #remove entries for surnames from the data (optional):\n",
    "\n",
    "        print(\"Removing Surnames . . .\")\n",
    "        remove_surnames()\n",
    "\n",
    "        return list_of_dicts\n",
    "\n",
    "\n",
    "        #If you want to save to a database as JSON objects, create a class Word in the Models file of your Django project:\n",
    "\n",
    "        # print(\"Saving to database (this may take a few minutes) . . .\")\n",
    "        # for one_dict in list_of_dicts:\n",
    "        #     new_word = Word(traditional = one_dict[\"traditional\"], simplified = one_dict[\"simplified\"], english = one_dict[\"english\"], pinyin = one_dict[\"pinyin\"], hsk = one_dict[\"hsk\"])\n",
    "        #     new_word.save()\n",
    "        print('Done!')\n",
    "\n",
    "list_of_dicts = []\n",
    "parsed_dict = main()"
   ]
  },
  {
   "cell_type": "code",
   "execution_count": null,
   "id": "a5f409f8",
   "metadata": {},
   "outputs": [],
   "source": [
    "#error\n"
   ]
  }
 ],
 "metadata": {
  "kernelspec": {
   "display_name": "Python 3 (ipykernel)",
   "language": "python",
   "name": "python3"
  },
  "language_info": {
   "codemirror_mode": {
    "name": "ipython",
    "version": 3
   },
   "file_extension": ".py",
   "mimetype": "text/x-python",
   "name": "python",
   "nbconvert_exporter": "python",
   "pygments_lexer": "ipython3",
   "version": "3.7.7"
  }
 },
 "nbformat": 4,
 "nbformat_minor": 5
}
