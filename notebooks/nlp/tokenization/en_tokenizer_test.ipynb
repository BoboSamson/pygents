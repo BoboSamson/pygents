{
 "cells": [
  {
   "cell_type": "markdown",
   "id": "e824505c",
   "metadata": {},
   "source": [
    "# Massive English Tokenization Test Runs on Parallell-100 Corpus - Test "
   ]
  },
  {
   "cell_type": "markdown",
   "id": "2ad1c4f5",
   "metadata": {},
   "source": [
    "# References\n",
    "\n",
    "- https://www.ncbi.nlm.nih.gov/pmc/articles/PMC2655800/\n",
    "- https://lena-voita.github.io/nlp_course/language_modeling.html\n",
    "- https://en.wikipedia.org/wiki/Perplexity\n",
    "- https://github.com/singnet/language-learning/issues/255\n",
    "- https://medium.com/mlearning-ai/word-embeddings-wordpiece-and-language-agnostic-bert-labse-98c7626878c7\n",
    "\n",
    "\n",
    "- https://github.com/natasha/razdel - razdel tries to mimic segmentation of these 4 datasets: SynTagRus, OpenCorpora, GICRYA and RNC. \n",
    "- https://www.kaggle.com/c/text-normalization-challenge-english-language\n",
    "- https://www.kaggle.com/c/text-normalization-challenge-russian-language\n",
    "\n",
    "\n"
   ]
  },
  {
   "cell_type": "code",
   "execution_count": 1,
   "id": "bb71b44a",
   "metadata": {},
   "outputs": [],
   "source": [
    "import os, sys\n",
    "cwd = os.getcwd()\n",
    "project_path = cwd[:cwd.find('pygents')+7]\n",
    "if project_path not in sys.path: sys.path.append(project_path)\n",
    "os.chdir(project_path) \n",
    "\n",
    "#from importlib import reload  # Python 3.4+\n",
    "\n",
    "import pickle\n",
    "import pandas as pd\n",
    "\n",
    "#force reimport\n",
    "if 'pygents.util' in sys.modules:\n",
    "    del sys.modules['pygents.util']\n",
    "if 'pygents.text' in sys.modules:\n",
    "    del sys.modules['pygents.text']\n",
    "if 'pygents.plot' in sys.modules:\n",
    "    del sys.modules['pygents.plot']\n",
    "if 'pygents.token' in sys.modules:\n",
    "    del sys.modules['pygents.token']\n",
    "\n",
    "\n",
    "from pygents.token import *\n",
    "from pygents.text import *\n",
    "from pygents.util import *\n",
    "from pygents.plot import plot_bars, plot_dict, matrix_plot\n"
   ]
  },
  {
   "cell_type": "code",
   "execution_count": 2,
   "id": "251d8a0a",
   "metadata": {},
   "outputs": [
    {
     "name": "stdout",
     "output_type": "stream",
     "text": [
      "100\n"
     ]
    },
    {
     "data": {
      "text/html": [
       "<div>\n",
       "<style scoped>\n",
       "    .dataframe tbody tr th:only-of-type {\n",
       "        vertical-align: middle;\n",
       "    }\n",
       "\n",
       "    .dataframe tbody tr th {\n",
       "        vertical-align: top;\n",
       "    }\n",
       "\n",
       "    .dataframe thead th {\n",
       "        text-align: right;\n",
       "    }\n",
       "</style>\n",
       "<table border=\"1\" class=\"dataframe\">\n",
       "  <thead>\n",
       "    <tr style=\"text-align: right;\">\n",
       "      <th></th>\n",
       "      <th>en</th>\n",
       "    </tr>\n",
       "  </thead>\n",
       "  <tbody>\n",
       "    <tr>\n",
       "      <th>0</th>\n",
       "      <td>What about medical insurance? As for my family...</td>\n",
       "    </tr>\n",
       "    <tr>\n",
       "      <th>1</th>\n",
       "      <td>For those who have insurance, according to the...</td>\n",
       "    </tr>\n",
       "    <tr>\n",
       "      <th>2</th>\n",
       "      <td>Need to realize the importance of having insur...</td>\n",
       "    </tr>\n",
       "    <tr>\n",
       "      <th>3</th>\n",
       "      <td>In fact, this phenomenon is indeed very common...</td>\n",
       "    </tr>\n",
       "    <tr>\n",
       "      <th>4</th>\n",
       "      <td>It is really necessary for this generation of ...</td>\n",
       "    </tr>\n",
       "    <tr>\n",
       "      <th>...</th>\n",
       "      <td>...</td>\n",
       "    </tr>\n",
       "    <tr>\n",
       "      <th>95</th>\n",
       "      <td>Ant Insurance does not only offer car insuranc...</td>\n",
       "    </tr>\n",
       "    <tr>\n",
       "      <th>96</th>\n",
       "      <td>However, when buying a house, except for the d...</td>\n",
       "    </tr>\n",
       "    <tr>\n",
       "      <th>97</th>\n",
       "      <td>This kind of financial investment has certain ...</td>\n",
       "    </tr>\n",
       "    <tr>\n",
       "      <th>98</th>\n",
       "      <td>If your investment orientation is right, then ...</td>\n",
       "    </tr>\n",
       "    <tr>\n",
       "      <th>99</th>\n",
       "      <td>One more insurance means one more protection.</td>\n",
       "    </tr>\n",
       "  </tbody>\n",
       "</table>\n",
       "<p>100 rows × 1 columns</p>\n",
       "</div>"
      ],
      "text/plain": [
       "                                                   en\n",
       "0   What about medical insurance? As for my family...\n",
       "1   For those who have insurance, according to the...\n",
       "2   Need to realize the importance of having insur...\n",
       "3   In fact, this phenomenon is indeed very common...\n",
       "4   It is really necessary for this generation of ...\n",
       "..                                                ...\n",
       "95  Ant Insurance does not only offer car insuranc...\n",
       "96  However, when buying a house, except for the d...\n",
       "97  This kind of financial investment has certain ...\n",
       "98  If your investment orientation is right, then ...\n",
       "99      One more insurance means one more protection.\n",
       "\n",
       "[100 rows x 1 columns]"
      ]
     },
     "execution_count": 2,
     "metadata": {},
     "output_type": "execute_result"
    }
   ],
   "source": [
    "path = '../../nlp/corpora/Chinese/'\n",
    "test_df = pd.read_csv(os.path.join(path,'magicdata/zh_en_ru_100/CORPUS_ZH_EN_RU.txt'),delimiter='\\t')\n",
    "test_texts = list(test_df['en'])\n",
    "print(len(test_texts))\n",
    "test_df[['en']]"
   ]
  },
  {
   "cell_type": "code",
   "execution_count": 3,
   "id": "c93e6bde",
   "metadata": {
    "scrolled": false
   },
   "outputs": [
    {
     "name": "stdout",
     "output_type": "stream",
     "text": [
      "What about medical insurance? As for my family, either an adult or a child will buy insurance.\n",
      "For those who have insurance, according to the insurance contract, they will get a compensation of 300 thousand yuan.\n",
      "Need to realize the importance of having insurance.\n",
      "In fact, this phenomenon is indeed very common, for instance, for personal accident insurance, the more you buy, the more you insure.\n",
      "It is really necessary for this generation of parents to buy insurance.\n",
      "Well, right now, it's really advisable to buy insurance.\n",
      "A car must be bought in full, and a house can be bought with a loan.\n",
      "You can buy insurance, insurance is of course divided into many categories.\n",
      "Medical insurance is very important.\n",
      "It's the insurance company that pays this part of the money.\n",
      "Xianghubao, I don't know if you ever heard about it, it is insurance in Alipay.\n",
      "Buying a house is actually an investment.\n",
      "Have you ever learned about the training of Ping An Insurance?\n",
      "If it is deposited in the bank, what is the outcome of the compound interest?\n",
      "This sort of insurance is very sound in western countries.\n",
      "There are many industries that insurance may cover, you see it covers a very broad field.\n",
      "However, it is actually encouraging you to buy commercial insurance and life insurance.\n",
      "People who sell insurance all rely on their connections.\n",
      "Uh, social insurance is as well insurance, and your car insurance is, too, insurance.\n",
      "But the money from banks, if you take it out, is a kind of loan.\n",
      "Now it seems to be approaching a negative interest rate.\n",
      "I really have never tried to borrow money from a bank.\n",
      "He asks for no interest, so he simply lends the money and recovers it later.\n",
      "If you got bad credit information, he will not lend you money.\n",
      "Did he buy it through a loan or pay in full?\n",
      "Well, they sometimes have a lot of procedures when applying for a bank card.\n",
      "All kinds of banks, as well as five major banks.\n",
      "Are treasury bonds a type of securities?\n",
      "In fact, trading on the stock exchange itself is considered to have a relatively high-risk factor.\n",
      "Um, the profit would not be very high, it is supposed to be around the interest rate.\n",
      "Then it is used for real estate speculation. After a house has been appreciated, sell it and pay off the loan. Maybe one could earn hundreds of thousands of money.\n",
      "To get started with investing, the first step is to master the basics.\n",
      "Pricing methods for exchange rates include direct pricing and indirect pricing.\n",
      "Anyway, it is an investment behavior, an investment model, and an investment approach.\n",
      "What if I have spare money to buy an apartment for investment?\n",
      "become capital and invest in something else\n",
      "Having the pressure from a loan also means having the motivation to make money. I agree with that.\n",
      "If it is convenient to sign up for online banking?\n",
      "Where did you get the money you invested last time?\n",
      "The changes in bank policies prevent them from lending.\n",
      "An insurance company also provides financial products.\n",
      "It seems that our insurance company has a guaranteed interest rate of 2.8 percent.\n",
      "Many people are disgusted with insurance.\n",
      "They would rather keep the money in the bank for interest.\n",
      "It's great to start money management five years in advance because money management itself is very easy.\n",
      "It means you take a small part of your living expenses as savings.\n",
      "As for a bond fund, it offers a relatively stable profit, which is just like a fixed deposit but with more benefits.\n",
      "How many such acceptance drafts can theoretically be issued.\n",
      "It means that each of us should have our way to manage money, no matter in which way, no matter how much money we have.\n",
      "True, this loan will take more than ten years to pay off.\n",
      " It is fairly risky to start a business.\n",
      "Actually, it is considered a good way of investment, to wait for the appreciation.\n",
      "Actually, their financial management is also worth learning.\n",
      "if financial management is an essential part of our lives\n",
      "For example, I have tried many pieces of personal financial software before.\n",
      "It may probably just help you keep the money, but investment behaviors depend on yourself.\n",
      "I believe that good financial management can improve lives.\n",
      "If you want to buy a car, a house, or some other things, while you don't own enough money, you will be asking for a bank loan, right?\n",
      "A small problem doesn't equivalent to no problem, because your line of credit is not based on how many credit cards you have.\n",
      "for example, the broker-dealer qualification certificate, the banker certificate\n",
      "Actually, I think buying insurance is also beneficial. You can regard it as saving money.\n",
      "What is a claim, what is not?\n",
      "Make a plan, and then choose appropriate commercial insurance.\n",
      "With a tax of approximately 500 thousand yuan, a down payment of 500 thousand yuan, you have to repay a loan for 20 years.\n",
      "And this insurance has very broad coverage.\n",
      "One aged up to eighty and down to eight can be insured.\n",
      "Insurance has been becoming more formal and more standardized.\n",
      "So, now the penetration rate of having insurance is basically over 80%.\n",
      "Because in our country, insurance started relatively late in comparison with Western countries.\n",
      "The one directly bound to the bank card, either a credit card or a debit card can be used.\n",
      "When you apply for insurance, you can't have these infectious diseases.\n",
      "Now the reimbursement rate has been raised, plus commercial insurance as a supplement.\n",
      "that kind with an interest rate reaches 150% or more\n",
      "From a legal point of view, insurance is another contractual action.\n",
      "I slowly realized that it is indeed necessary to get insurance, which is a sort of security for myself and my children.\n",
      "Maternity insurance and basic medical insurance are combined.\n",
      "An insurance bundle is a kind of tie-in sale, in fact, you can make a free match.\n",
      "However, since it is difficult to estimate the value of human life and body, life insurance does not apply this principle.\n",
      "After an accident, the compensation the insured received shall be shared by the insurance company and the insured.\n",
      "The purpose of establishing an insurance system is to deal with specific accidents.\n",
      "Not in the insurable range, so commercial insurance institutions generally do not underwrite this.\n",
      "For example, if you met with a traffic accident, someone was hit, and you, therefore, need to pay a certain amount.\n",
      "For example, a very simple example, such as an earthquake or a fire occurred, do you believe the insurance company will compensate you?\n",
      "Commercial insurance is profitable, and it is a commercial activity.\n",
      "Legally, insuring is a contractual action.\n",
      "Through signing an insurance contract, the rights and obligations of both parties are clarified.\n",
      "The insured pays premiums to obtain compensation within the scope of an insurance contract.\n",
      "The insurance company will not pay you compensation in any amount.\n",
      "Social insurance means the five social insurance and the housing provident fund which are mandatory.\n",
      "through the change of the benchmark interest rate\n",
      "Well, issue loans to some companies, like real estate companies.\n",
      "Installments consumption saved 30% of Apple's market share.\n",
      "Um, how much will you pay for the premium for a year?\n",
      "What kind of insurance does your car have?\n",
      "But the insurance company will settle the claim.\n",
      "Ant Insurance does not only offer car insurance, but I have also seen a variety of insurance.\n",
      "However, when buying a house, except for the down payment, the monthly mortgage is equivalent to rent.\n",
      "This kind of financial investment has certain risks for personal property.\n",
      "If your investment orientation is right, then it has a far greater advantage than deposits.\n",
      "One more insurance means one more protection.\n"
     ]
    }
   ],
   "source": [
    "for text in test_texts:\n",
    "    print(text)"
   ]
  },
  {
   "cell_type": "code",
   "execution_count": 4,
   "id": "5c78c68e",
   "metadata": {},
   "outputs": [],
   "source": [
    "ngram_params = [[1],[2],[3],[4],[5],[6],[7],[1,2],[2,3],[1,2,3],[1,2,3,4],[4,5,6,7],[1,2,3,4,5],[1,2,3,4,5,6,7]]\n",
    "#thresholds = [0.01,0.02,0.05,0.1,0.2,0.3,0.4,0.5,0.6,0.7,0.8,0.9]\n",
    "thresholds = [0.1,0.2,0.3,0.4,0.5,0.6,0.7,0.8,0.9]\n"
   ]
  },
  {
   "cell_type": "code",
   "execution_count": 5,
   "id": "ba92d230",
   "metadata": {},
   "outputs": [],
   "source": [
    "ref_tokenizer = DelimiterTokenizer()"
   ]
  },
  {
   "cell_type": "code",
   "execution_count": 16,
   "id": "accc0b09",
   "metadata": {},
   "outputs": [],
   "source": [
    "#TODO test capitalization!!!\n",
    "brown_chars = FreedomTokenizer(name='data/models/brown_nolines_chars_7a',max_n=7,mode='chars',debug=False)\n",
    "model_compress_with_loss(brown_chars.model,0.0001)\n",
    "tokenizer = FreedomBasedTokenizer(brown_chars,'ddf-','ddf+')\n"
   ]
  },
  {
   "cell_type": "code",
   "execution_count": 21,
   "id": "82570216",
   "metadata": {},
   "outputs": [
    {
     "name": "stdout",
     "output_type": "stream",
     "text": [
      "['Tom', ' ', 'said', ' ', \"'\", \"Jim's\", ' ', 'right', '!', \"'\", ',', ' ', 'Ann']\n",
      "['Tom', ' ', 'said', ' ', \"'\", 'Jim', \"'\", 's', ' ', 'right!', \"'\", ',', ' ', 'Ann']\n",
      "['tom', ' ', 'said', ' ', \"'\", 'jim', \"'\", 's', ' ', 'right!', \"'\", ',', ' ', 'ann']\n",
      "['TOM', ' ', 'SAID', ' ', \"'\", 'JIM', \"'\", 'S', ' ', 'RIGHT!', \"'\", ',', ' ', 'ANN']\n"
     ]
    }
   ],
   "source": [
    "tokenizer.set_options(nlist = [1], threshold=0.35)\n",
    "text = \"Tom said 'Jim's right!', Ann\"\n",
    "#text = \"Call 'Jim !' now\"\n",
    "print(ref_tokenizer.tokenize(text))\n",
    "print(tokenizer.tokenize(text))\n",
    "print(tokenizer.tokenize(text.lower()))\n",
    "print(tokenizer.tokenize(text.upper()))\n"
   ]
  },
  {
   "cell_type": "code",
   "execution_count": 22,
   "id": "a9553499",
   "metadata": {},
   "outputs": [
    {
     "name": "stdout",
     "output_type": "stream",
     "text": [
      "Tom said 'Jim's right!', Ann\n",
      "0.74 ['Tom', ' ', 'said', ' ', \"'\", 'Jim', \"'\", 's', ' ', 'right!', \"'\", ',', ' ', 'Ann']\n",
      "tom said 'jim's right!', ann\n",
      "0.74 ['tom', ' ', 'said', ' ', \"'\", 'jim', \"'\", 's', ' ', 'right!', \"'\", ',', ' ', 'ann']\n",
      "TOM SAID 'JIM'S RIGHT!', ANN\n",
      "0.74 ['TOM', ' ', 'SAID', ' ', \"'\", 'JIM', \"'\", 'S', ' ', 'RIGHT!', \"'\", ',', ' ', 'ANN']\n"
     ]
    },
    {
     "data": {
      "text/plain": [
       "0.74"
      ]
     },
     "execution_count": 22,
     "metadata": {},
     "output_type": "execute_result"
    }
   ],
   "source": [
    "evaluate_tokenizer_f1([text,text.lower(),text.upper()],ref_tokenizer,tokenizer,True)\n"
   ]
  },
  {
   "cell_type": "code",
   "execution_count": 32,
   "id": "898bc711",
   "metadata": {},
   "outputs": [
    {
     "data": {
      "image/png": "[encoded data removed]",
      "text/plain": [
       "<Figure size 1440x216 with 1 Axes>"
      ]
     },
     "metadata": {
      "needs_background": "light"
     },
     "output_type": "display_data"
    },
    {
     "data": {
      "image/png": "[encoded data removed]",
      "text/plain": [
       "<Figure size 1440x216 with 1 Axes>"
      ]
     },
     "metadata": {
      "needs_background": "light"
     },
     "output_type": "display_data"
    },
    {
     "data": {
      "image/png": "[encoded data removed]",
      "text/plain": [
       "<Figure size 1440x216 with 1 Axes>"
      ]
     },
     "metadata": {
      "needs_background": "light"
     },
     "output_type": "display_data"
    }
   ],
   "source": [
    "for i in range(1,1+1):\n",
    "    df = profile_freedoms_ex_df(brown_chars.model,text.lower(),i)\n",
    "    plot_bars(df,'gram',['f-','f+'],title=str(i))\n",
    "    plot_bars(df,'gram',['df-','df+'],title=str(i))\n",
    "    plot_bars(df,'gram',['ddf-','ddf+'],title=str(i))\n"
   ]
  },
  {
   "cell_type": "code",
   "execution_count": 23,
   "id": "c8671049",
   "metadata": {},
   "outputs": [
    {
     "name": "stdout",
     "output_type": "stream",
     "text": [
      "t\t\t\t0.0\t0.0\tT\n",
      "o\t\t\t0.0\t0.11\tTo\n",
      "m\t-\t\t0.0\t0.0\tTom\n",
      " \t\t+\t1.0\t1.0\t \n",
      "s\t\t\t0.0\t0.11\ts\n",
      "a\t\t\t0.0\t0.19\tsa\n",
      "i\t\t\t0.0\t0.0\tsai\n",
      "d\t-\t\t0.0\t0.04\tsaid\n",
      " \t\t+\t1.0\t1.0\t \n",
      "'\t\t+\t0.36\t0.41\t'\n",
      "j\t\t\t0.0\t0.0\tJ\n",
      "i\t\t\t0.0\t0.0\tJi\n",
      "m\t\t\t0.0\t0.0\tJim\n",
      "'\t\t+\t0.36\t0.41\tJim'\n",
      "s\t-\t\t0.0\t0.11\ts\n",
      " \t\t+\t1.0\t1.0\t \n",
      "r\t\t\t0.0\t0.19\tr\n",
      "i\t\t\t0.0\t0.0\tri\n",
      "g\t\t\t0.0\t0.0\trig\n",
      "h\t\t\t0.0\t0.0\trigh\n",
      "t\t\t\t0.0\t0.0\tright\n",
      "!\t\t\t0.0\t0.0\tright!\n",
      "'\t-\t+\t0.36\t0.41\tright!'\n",
      ",\t-\t\t0.49\t0.0\t,\n",
      " \t\t+\t1.0\t1.0\t \n",
      "a\t\t\t0.0\t0.19\tA\n",
      "n\t\t\t0.0\t0.26\tAn\n",
      "n\t\t\t0.0\t0.26\tAnn\n",
      "['Tom', ' ', 'said', ' ', \"'\", \"Jim'\", 's', ' ', \"right!'\", ',', ' ', 'Ann']\n",
      "t\t\t\t0.0\t0.0\tt\n",
      "o\t\t\t0.0\t0.11\tto\n",
      "m\t-\t\t0.0\t0.0\ttom\n",
      " \t\t+\t1.0\t1.0\t \n",
      "s\t\t\t0.0\t0.11\ts\n",
      "a\t\t\t0.0\t0.19\tsa\n",
      "i\t\t\t0.0\t0.0\tsai\n",
      "d\t-\t\t0.0\t0.04\tsaid\n",
      " \t\t+\t1.0\t1.0\t \n",
      "'\t\t+\t0.36\t0.41\t'\n",
      "j\t\t\t0.0\t0.0\tj\n",
      "i\t\t\t0.0\t0.0\tji\n",
      "m\t\t\t0.0\t0.0\tjim\n",
      "'\t\t+\t0.36\t0.41\tjim'\n",
      "s\t-\t\t0.0\t0.11\ts\n",
      " \t\t+\t1.0\t1.0\t \n",
      "r\t\t\t0.0\t0.19\tr\n",
      "i\t\t\t0.0\t0.0\tri\n",
      "g\t\t\t0.0\t0.0\trig\n",
      "h\t\t\t0.0\t0.0\trigh\n",
      "t\t\t\t0.0\t0.0\tright\n",
      "!\t\t\t0.0\t0.0\tright!\n",
      "'\t-\t+\t0.36\t0.41\tright!'\n",
      ",\t-\t\t0.49\t0.0\t,\n",
      " \t\t+\t1.0\t1.0\t \n",
      "a\t\t\t0.0\t0.19\ta\n",
      "n\t\t\t0.0\t0.26\tan\n",
      "n\t\t\t0.0\t0.26\tann\n",
      "['tom', ' ', 'said', ' ', \"'\", \"jim'\", 's', ' ', \"right!'\", ',', ' ', 'ann']\n"
     ]
    }
   ],
   "source": [
    "a = tokenize_with_opposite_metrics(brown_chars.model,text,'ddf-','ddf+',[1],threshold=0.4,profiler=profile_freedoms_avg_df,debug=True)\n",
    "print(a)\n",
    "a = tokenize_with_opposite_metrics(brown_chars.model,text.lower(),'ddf-','ddf+',[1],threshold=0.4,profiler=profile_freedoms_avg_df,debug=True)\n",
    "print(a)\n"
   ]
  },
  {
   "cell_type": "code",
   "execution_count": 27,
   "id": "8b3f4c09",
   "metadata": {},
   "outputs": [
    {
     "data": {
      "text/plain": [
       "{'\"': 350,\n",
       " 'e': 69,\n",
       " 't': 45,\n",
       " '4': 1,\n",
       " 'n': 45,\n",
       " '}': 1,\n",
       " 'g': 21,\n",
       " 'r': 21,\n",
       " 'd': 25,\n",
       " 'o': 18,\n",
       " 'm': 20,\n",
       " 's': 53,\n",
       " 'p': 13,\n",
       " 'a': 12,\n",
       " 'y': 29,\n",
       " 'h': 14,\n",
       " 'w': 14,\n",
       " 'l': 18,\n",
       " 'f': 1,\n",
       " 'k': 9,\n",
       " \"'\": 8,\n",
       " 'c': 3,\n",
       " ',': 1,\n",
       " 'u': 4,\n",
       " 'b': 1}"
      ]
     },
     "execution_count": 27,
     "metadata": {},
     "output_type": "execute_result"
    }
   ],
   "source": [
    "brown_chars.model[2]['!']"
   ]
  },
  {
   "cell_type": "code",
   "execution_count": 28,
   "id": "5bb18c56",
   "metadata": {},
   "outputs": [
    {
     "data": {
      "text/plain": [
       "{'a': 209,\n",
       " 't': 1072,\n",
       " 'y': 749,\n",
       " 'r': 725,\n",
       " 'e': 1360,\n",
       " 'd': 365,\n",
       " 'l': 253,\n",
       " 'n': 3230,\n",
       " 's': 530,\n",
       " ' ': 273,\n",
       " 'o': 274,\n",
       " 'i': 759,\n",
       " 'k': 114,\n",
       " 'u': 368,\n",
       " 'm': 120,\n",
       " '#': 11,\n",
       " '0': 60,\n",
       " 'h': 134,\n",
       " 'w': 42,\n",
       " '&': 20,\n",
       " 'z': 7,\n",
       " 'f': 36,\n",
       " 'b': 42,\n",
       " 'p': 42,\n",
       " 'c': 40,\n",
       " 'g': 109,\n",
       " 'v': 22,\n",
       " '3': 2,\n",
       " '2': 22,\n",
       " '>': 3,\n",
       " 'x': 30,\n",
       " '4': 22,\n",
       " \"'\": 62,\n",
       " '8': 10,\n",
       " '1': 5,\n",
       " '6': 7,\n",
       " '5': 3,\n",
       " '-': 5,\n",
       " '7': 2,\n",
       " '<': 1,\n",
       " '9': 1,\n",
       " '(': 12,\n",
       " '\"': 6,\n",
       " 'q': 1,\n",
       " 'j': 1}"
      ]
     },
     "execution_count": 28,
     "metadata": {},
     "output_type": "execute_result"
    }
   ],
   "source": [
    "brown_chars.model[2]['\\'']"
   ]
  },
  {
   "cell_type": "code",
   "execution_count": null,
   "id": "e03ddd65",
   "metadata": {},
   "outputs": [],
   "source": [
    "#TEST exclamation!!!\n"
   ]
  },
  {
   "cell_type": "code",
   "execution_count": null,
   "id": "51872f60",
   "metadata": {},
   "outputs": [],
   "source": []
  }
 ],
 "metadata": {
  "kernelspec": {
   "display_name": "Python 3 (ipykernel)",
   "language": "python",
   "name": "python3"
  },
  "language_info": {
   "codemirror_mode": {
    "name": "ipython",
    "version": 3
   },
   "file_extension": ".py",
   "mimetype": "text/x-python",
   "name": "python",
   "nbconvert_exporter": "python",
   "pygments_lexer": "ipython3",
   "version": "3.7.7"
  }
 },
 "nbformat": 4,
 "nbformat_minor": 5
}
