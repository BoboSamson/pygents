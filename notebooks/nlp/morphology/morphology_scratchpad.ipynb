{
 "cells": [
  {
   "cell_type": "code",
   "execution_count": 1,
   "id": "7ada0681",
   "metadata": {},
   "outputs": [],
   "source": [
    "import pymorphy2\n",
    "morph = pymorphy2.MorphAnalyzer()\n"
   ]
  },
  {
   "cell_type": "code",
   "execution_count": 2,
   "id": "eecbef34",
   "metadata": {},
   "outputs": [
    {
     "data": {
      "text/plain": [
       "[Parse(word='стали', tag=OpencorporaTag('VERB,perf,intr plur,past,indc'), normal_form='стать', score=0.975342, methods_stack=((DictionaryAnalyzer(), 'стали', 945, 4),)),\n",
       " Parse(word='стали', tag=OpencorporaTag('NOUN,inan,femn sing,gent'), normal_form='сталь', score=0.010958, methods_stack=((DictionaryAnalyzer(), 'стали', 13, 1),)),\n",
       " Parse(word='стали', tag=OpencorporaTag('NOUN,inan,femn plur,nomn'), normal_form='сталь', score=0.005479, methods_stack=((DictionaryAnalyzer(), 'стали', 13, 6),)),\n",
       " Parse(word='стали', tag=OpencorporaTag('NOUN,inan,femn sing,datv'), normal_form='сталь', score=0.002739, methods_stack=((DictionaryAnalyzer(), 'стали', 13, 2),)),\n",
       " Parse(word='стали', tag=OpencorporaTag('NOUN,inan,femn sing,loct'), normal_form='сталь', score=0.002739, methods_stack=((DictionaryAnalyzer(), 'стали', 13, 5),)),\n",
       " Parse(word='стали', tag=OpencorporaTag('NOUN,inan,femn plur,accs'), normal_form='сталь', score=0.002739, methods_stack=((DictionaryAnalyzer(), 'стали', 13, 9),))]"
      ]
     },
     "execution_count": 2,
     "metadata": {},
     "output_type": "execute_result"
    }
   ],
   "source": [
    "morph.parse('стали')\n"
   ]
  },
  {
   "cell_type": "code",
   "execution_count": 3,
   "id": "7d595c51",
   "metadata": {},
   "outputs": [],
   "source": [
    "from nltk.translate.bleu_score import sentence_bleu\n"
   ]
  },
  {
   "cell_type": "code",
   "execution_count": 4,
   "id": "762f4e0d",
   "metadata": {},
   "outputs": [
    {
     "name": "stdout",
     "output_type": "stream",
     "text": [
      "[['this', 'is', 'a', 'dog'], ['it', 'is', 'nice', 'dog'], ['dog', 'it', 'is'], ['a', 'dog,', 'it', 'is']]\n"
     ]
    },
    {
     "name": "stderr",
     "output_type": "stream",
     "text": [
      "/Users/akolonin/Documents/aigents/pygents/env/lib/python3.7/site-packages/nltk/translate/bleu_score.py:552: UserWarning: \n",
      "The hypothesis contains 0 counts of 3-gram overlaps.\n",
      "Therefore the BLEU score evaluates to 0, independently of\n",
      "how many N-gram overlaps of lower order it contains.\n",
      "Consider using lower n-gram order or use SmoothingFunction()\n",
      "  warnings.warn(_msg)\n",
      "/Users/akolonin/Documents/aigents/pygents/env/lib/python3.7/site-packages/nltk/translate/bleu_score.py:552: UserWarning: \n",
      "The hypothesis contains 0 counts of 4-gram overlaps.\n",
      "Therefore the BLEU score evaluates to 0, independently of\n",
      "how many N-gram overlaps of lower order it contains.\n",
      "Consider using lower n-gram order or use SmoothingFunction()\n",
      "  warnings.warn(_msg)\n"
     ]
    },
    {
     "data": {
      "text/plain": [
       "1.254338396921439e-154"
      ]
     },
     "execution_count": 4,
     "metadata": {},
     "output_type": "execute_result"
    }
   ],
   "source": [
    "reference = [\n",
    "    'this is a dog'.split(),\n",
    "    'it is nice dog'.split(),\n",
    "    'dog it is'.split(),\n",
    "    'a dog, it is'.split() \n",
    "]\n",
    "print(reference)\n",
    "candidate = 'it is dog'.split()\n",
    "sentence_bleu(reference, candidate)\n"
   ]
  },
  {
   "cell_type": "code",
   "execution_count": 5,
   "id": "d5d21229",
   "metadata": {},
   "outputs": [
    {
     "name": "stdout",
     "output_type": "stream",
     "text": [
      "[['this', 'is', 'a', 'nice', 'dog'], ['it', 'is', 'a', 'dog', 'pet'], ['dog', 'it', 'is'], ['a', 'dog,', 'it', 'is']]\n"
     ]
    },
    {
     "data": {
      "text/plain": [
       "1.0"
      ]
     },
     "execution_count": 5,
     "metadata": {},
     "output_type": "execute_result"
    }
   ],
   "source": [
    "reference = [\n",
    "    'this is a nice dog'.split(),\n",
    "    'it is a dog pet'.split(),\n",
    "    'dog it is'.split(),\n",
    "    'a dog, it is'.split() \n",
    "]\n",
    "print(reference)\n",
    "candidate = 'it is a dog'.split()\n",
    "sentence_bleu(reference, candidate)\n"
   ]
  },
  {
   "cell_type": "code",
   "execution_count": 6,
   "id": "d2d66e04",
   "metadata": {},
   "outputs": [
    {
     "name": "stdout",
     "output_type": "stream",
     "text": [
      "BLEU score -> 0.8408964152537145\n"
     ]
    }
   ],
   "source": [
    "candidate = 'it is a nice dog'.split()\n",
    "print('BLEU score -> {}'.format(sentence_bleu(reference, candidate)))\n"
   ]
  },
  {
   "cell_type": "code",
   "execution_count": 7,
   "id": "ffa74453",
   "metadata": {},
   "outputs": [
    {
     "data": {
      "text/plain": [
       "0.5045666840058485"
      ]
     },
     "execution_count": 7,
     "metadata": {},
     "output_type": "execute_result"
    }
   ],
   "source": [
    "hypothesis1 = ['It', 'is', 'a', 'guide', 'to', 'action', 'which',\n",
    "'ensures', 'that', 'the', 'military', 'always',\n",
    "'obeys', 'the', 'commands', 'of', 'the', 'party']\n",
    "hypothesis2 = ['It', 'is', 'to', 'insure', 'the', 'troops',\n",
    "'forever', 'hearing', 'the', 'activity', 'guidebook',\n",
    "'that', 'party', 'direct']\n",
    "reference1 = ['It', 'is', 'a', 'guide', 'to', 'action', 'that',\n",
    "'ensures', 'that', 'the', 'military', 'will', 'forever',\n",
    "'heed', 'Party', 'commands']\n",
    "reference2 = ['It', 'is', 'the', 'guiding', 'principle', 'which',\n",
    "'guarantees', 'the', 'military', 'forces', 'always',\n",
    "'being', 'under', 'the', 'command', 'of', 'the',\n",
    "'Party']\n",
    "reference3 = ['It', 'is', 'the', 'practical', 'guide', 'for', 'the',\n",
    "'army', 'always', 'to', 'heed', 'the', 'directions',\n",
    "'of', 'the', 'party']\n",
    "sentence_bleu([reference1, reference2, reference3], hypothesis1) \n"
   ]
  },
  {
   "cell_type": "code",
   "execution_count": 8,
   "id": "7461f408",
   "metadata": {},
   "outputs": [
    {
     "data": {
      "text/plain": [
       "1.0"
      ]
     },
     "execution_count": 8,
     "metadata": {},
     "output_type": "execute_result"
    }
   ],
   "source": [
    "hypothesis1 = ['it', 'is', 'a', 'dog']\n",
    "reference1  = ['it','is','a','fish']\n",
    "reference2  = ['it', 'is', 'a', 'dog']\n",
    "sentence_bleu([reference1,reference2], hypothesis1) \n"
   ]
  },
  {
   "cell_type": "code",
   "execution_count": null,
   "id": "2549c7bf",
   "metadata": {},
   "outputs": [],
   "source": []
  },
  {
   "cell_type": "code",
   "execution_count": 9,
   "id": "958917ea",
   "metadata": {},
   "outputs": [
    {
     "name": "stdout",
     "output_type": "stream",
     "text": [
      "\n",
      "Object raspberrypi functools dict kwargs. Gevent raspberrypi functools. Dunder raspberrypi decorator dict didn't lambda zip import pyramid, she lambda iterate?\n",
      "Kwargs raspberrypi diversity unit object gevent. Import fall integration decorator unit django yield functools twisted. Dunder integration decorator he she future. Python raspberrypi community pypy. Kwargs integration beautiful test reduce gil python closure. Gevent he integration generator fall test kwargs raise didn't visor he itertools...\n",
      "Reduce integration coroutine bdfl he python. Cython didn't integration while beautiful list python didn't nit!\n",
      "Object fall diversity 2to3 dunder script. Python fall for: integration exception dict kwargs dunder pycon. Import raspberrypi beautiful test import six web. Future integration mercurial self script web. Return raspberrypi community test she stable.\n",
      "Django raspberrypi mercurial unit import yield raspberrypi visual rocksdahouse. Dunder raspberrypi mercurial list reduce class test scipy helmet zip?\n",
      "\n",
      "Vizzini: He didn't fall? INCONCEIVABLE! I like it, guys.\n",
      "['__sow', 'vi', 'z', 'zi', 'ni', '__eow', '__sow', ':', '__eow', 'he', 'didn', \"'\", 't', 'fall', '__sow', '?', '__eow', '__sow', 'in', 'co', 'n', 'ce', 'iv', 'ab', 'le', '__eow', '__sow', '!', '__eow', '__sow', 'i', '__eow', '__sow', 'li', 'k', 'e', '__eow', '__sow', 'it', '__eow', '__sow', ',', '__eow', '__sow', 'g', 'u', 'y', 's', '__eow', '.']\n",
      "[25, 108, 82, 83, 71, 24, 25, 154, 24, 14, 10, 11, 12, 13, 25, 85, 24, 25, 140, 59, 39, 157, 87, 165, 114, 24, 25, 148, 24, 25, 26, 24, 25, 115, 168, 27, 24, 25, 42, 24, 25, 124, 24, 25, 54, 35, 37, 30, 24, 2]\n",
      "vizzini : he didn ' t fall ? inconceivable ! i like it , guys .\n"
     ]
    }
   ],
   "source": [
    "from bpe import Encoder\n",
    "\n",
    "test_corpus = '''\n",
    "Object raspberrypi functools dict kwargs. Gevent raspberrypi functools. Dunder raspberrypi decorator dict didn't lambda zip import pyramid, she lambda iterate?\n",
    "Kwargs raspberrypi diversity unit object gevent. Import fall integration decorator unit django yield functools twisted. Dunder integration decorator he she future. Python raspberrypi community pypy. Kwargs integration beautiful test reduce gil python closure. Gevent he integration generator fall test kwargs raise didn't visor he itertools...\n",
    "Reduce integration coroutine bdfl he python. Cython didn't integration while beautiful list python didn't nit!\n",
    "Object fall diversity 2to3 dunder script. Python fall for: integration exception dict kwargs dunder pycon. Import raspberrypi beautiful test import six web. Future integration mercurial self script web. Return raspberrypi community test she stable.\n",
    "Django raspberrypi mercurial unit import yield raspberrypi visual rocksdahouse. Dunder raspberrypi mercurial list reduce class test scipy helmet zip?\n",
    "'''\n",
    "example = \"Vizzini: He didn't fall? INCONCEIVABLE! I like it, guys.\"\n",
    "\n",
    "#test_corpus = test_corpus.replace(' ','=')\n",
    "#example = example.replace(' ','=')\n",
    "print(test_corpus)\n",
    "print(example)\n",
    "\n",
    "encoder = Encoder(200, pct_bpe=0.88)  # params chosen for demonstration purposes\n",
    "encoder.fit(test_corpus.split('\\n'))\n",
    "\n",
    "print(encoder.tokenize(example))\n",
    "# ['__sow', 'vi', 'z', 'zi', 'ni', '__eow', '__sow', ':', '__eow', 'he', 'didn', \"'\", 't', 'fall', '__sow', '?', '__eow', '__sow', 'in', 'co', 'n', 'ce', 'iv', 'ab', 'le', '__eow', '__sow', '!', '__eow']\n",
    "print(next(encoder.transform([example])))\n",
    "# [24, 108, 82, 83, 71, 25, 24, 154, 25, 14, 10, 11, 12, 13, 24, 85, 25, 24, 140, 59, 39, 157, 87, 165, 114, 25, 24, 148, 25]\n",
    "print(next(encoder.inverse_transform(encoder.transform([example]))))\n",
    "# vizzini : he didn ' t fall ? inconceivable !\n"
   ]
  },
  {
   "cell_type": "code",
   "execution_count": 10,
   "id": "f85a8dd0",
   "metadata": {},
   "outputs": [
    {
     "name": "stdout",
     "output_type": "stream",
     "text": [
      "ping~sing~ding~ring~deer~beer~doer~byer~sure~bycicle\n",
      "pure~song\n",
      "['__sow', 'p', 'u', 'r', 'e', '__eow', '__sow', '~', '__eow', '__sow', 's', 'o', 'n', 'g', '__eow']\n",
      "pure ~ song\n",
      "ping sing ding ring deer beer doer byer sure bycicle\n",
      "pure song\n",
      "['__sow', 'p', 'u', 'r', 'e', 'ف', 's', 'o', 'n', 'g', '__eow']\n",
      "pureفsong\n"
     ]
    }
   ],
   "source": [
    "from bpe import Encoder\n",
    "\n",
    "test_corpus = 'ping sing ding ring deer beer doer byer sure bycicle'\n",
    "example_corpus = \"pure song\"\n",
    "\n",
    "test = test_corpus.replace(' ','~')\n",
    "example = example_corpus.replace(' ','~')\n",
    "print(test)\n",
    "print(example)\n",
    "\n",
    "encoder = Encoder(200, pct_bpe=0.99)  # params chosen for demonstration purposes\n",
    "encoder.fit(test)\n",
    "\n",
    "print(encoder.tokenize(example))\n",
    "print(next(encoder.inverse_transform(encoder.transform([example]))))\n",
    "\n",
    "test = test_corpus.replace(' ','ف')\n",
    "example = example_corpus.replace(' ','ف')\n",
    "print(test_corpus)\n",
    "print(example_corpus)\n",
    "\n",
    "encoder = Encoder(200, pct_bpe=0.99)  # params chosen for demonstration purposes\n",
    "encoder.fit(test)\n",
    "\n",
    "print(encoder.tokenize(example))\n",
    "print(next(encoder.inverse_transform(encoder.transform([example]))))\n"
   ]
  },
  {
   "cell_type": "code",
   "execution_count": null,
   "id": "42e6fe83",
   "metadata": {},
   "outputs": [],
   "source": []
  },
  {
   "cell_type": "code",
   "execution_count": null,
   "id": "c4a70b2a",
   "metadata": {},
   "outputs": [],
   "source": []
  }
 ],
 "metadata": {
  "kernelspec": {
   "display_name": "Python 3 (ipykernel)",
   "language": "python",
   "name": "python3"
  },
  "language_info": {
   "codemirror_mode": {
    "name": "ipython",
    "version": 3
   },
   "file_extension": ".py",
   "mimetype": "text/x-python",
   "name": "python",
   "nbconvert_exporter": "python",
   "pygments_lexer": "ipython3",
   "version": "3.7.7"
  }
 },
 "nbformat": 4,
 "nbformat_minor": 5
}
