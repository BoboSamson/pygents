{
 "cells": [
  {
   "cell_type": "code",
   "execution_count": 6,
   "id": "7ada0681",
   "metadata": {},
   "outputs": [],
   "source": [
    "import pymorphy2\n",
    "morph = pymorphy2.MorphAnalyzer()\n"
   ]
  },
  {
   "cell_type": "code",
   "execution_count": 7,
   "id": "eecbef34",
   "metadata": {},
   "outputs": [
    {
     "data": {
      "text/plain": [
       "[Parse(word='стали', tag=OpencorporaTag('VERB,perf,intr plur,past,indc'), normal_form='стать', score=0.975342, methods_stack=((DictionaryAnalyzer(), 'стали', 945, 4),)),\n",
       " Parse(word='стали', tag=OpencorporaTag('NOUN,inan,femn sing,gent'), normal_form='сталь', score=0.010958, methods_stack=((DictionaryAnalyzer(), 'стали', 13, 1),)),\n",
       " Parse(word='стали', tag=OpencorporaTag('NOUN,inan,femn plur,nomn'), normal_form='сталь', score=0.005479, methods_stack=((DictionaryAnalyzer(), 'стали', 13, 6),)),\n",
       " Parse(word='стали', tag=OpencorporaTag('NOUN,inan,femn sing,datv'), normal_form='сталь', score=0.002739, methods_stack=((DictionaryAnalyzer(), 'стали', 13, 2),)),\n",
       " Parse(word='стали', tag=OpencorporaTag('NOUN,inan,femn sing,loct'), normal_form='сталь', score=0.002739, methods_stack=((DictionaryAnalyzer(), 'стали', 13, 5),)),\n",
       " Parse(word='стали', tag=OpencorporaTag('NOUN,inan,femn plur,accs'), normal_form='сталь', score=0.002739, methods_stack=((DictionaryAnalyzer(), 'стали', 13, 9),))]"
      ]
     },
     "execution_count": 7,
     "metadata": {},
     "output_type": "execute_result"
    }
   ],
   "source": [
    "morph.parse('стали')\n"
   ]
  },
  {
   "cell_type": "code",
   "execution_count": 12,
   "id": "9970a0e5",
   "metadata": {},
   "outputs": [
    {
     "name": "stdout",
     "output_type": "stream",
     "text": [
      "Collecting nltk\n",
      "  Using cached nltk-3.7-py3-none-any.whl (1.5 MB)\n",
      "Collecting regex>=2021.8.3\n",
      "  Downloading regex-2022.9.13-cp37-cp37m-macosx_10_9_x86_64.whl (294 kB)\n",
      "\u001b[2K     \u001b[90m━━━━━━━━━━━━━━━━━━━━━━━━━━━━━━━━━━━━━\u001b[0m \u001b[32m294.4/294.4 kB\u001b[0m \u001b[31m967.5 kB/s\u001b[0m eta \u001b[36m0:00:00\u001b[0ma \u001b[36m0:00:01\u001b[0m\n",
      "\u001b[?25hCollecting tqdm\n",
      "  Downloading tqdm-4.64.1-py2.py3-none-any.whl (78 kB)\n",
      "\u001b[2K     \u001b[90m━━━━━━━━━━━━━━━━━━━━━━━━━━━━━━━━━━━━━━━━\u001b[0m \u001b[32m78.5/78.5 kB\u001b[0m \u001b[31m1.8 MB/s\u001b[0m eta \u001b[36m0:00:00\u001b[0ma \u001b[36m0:00:01\u001b[0m\n",
      "\u001b[?25hCollecting click\n",
      "  Using cached click-8.1.3-py3-none-any.whl (96 kB)\n",
      "Requirement already satisfied: joblib in /Users/akolonin/Documents/aigents/pygents/env/lib/python3.7/site-packages (from nltk) (1.1.0)\n",
      "Requirement already satisfied: importlib-metadata in /Users/akolonin/Documents/aigents/pygents/env/lib/python3.7/site-packages (from click->nltk) (4.11.3)\n",
      "Requirement already satisfied: zipp>=0.5 in /Users/akolonin/Documents/aigents/pygents/env/lib/python3.7/site-packages (from importlib-metadata->click->nltk) (3.7.0)\n",
      "Requirement already satisfied: typing-extensions>=3.6.4 in /Users/akolonin/Documents/aigents/pygents/env/lib/python3.7/site-packages (from importlib-metadata->click->nltk) (4.1.1)\n",
      "Installing collected packages: tqdm, regex, click, nltk\n",
      "Successfully installed click-8.1.3 nltk-3.7 regex-2022.9.13 tqdm-4.64.1\n"
     ]
    }
   ],
   "source": [
    "!pip install nltk "
   ]
  },
  {
   "cell_type": "code",
   "execution_count": 21,
   "id": "7d595c51",
   "metadata": {},
   "outputs": [],
   "source": [
    "from nltk.translate.bleu_score import sentence_bleu\n"
   ]
  },
  {
   "cell_type": "code",
   "execution_count": 40,
   "id": "762f4e0d",
   "metadata": {},
   "outputs": [
    {
     "name": "stdout",
     "output_type": "stream",
     "text": [
      "[['this', 'is', 'a', 'dog'], ['it', 'is', 'nice', 'dog'], ['dog', 'it', 'is'], ['a', 'dog,', 'it', 'is']]\n"
     ]
    },
    {
     "data": {
      "text/plain": [
       "1.254338396921439e-154"
      ]
     },
     "execution_count": 40,
     "metadata": {},
     "output_type": "execute_result"
    }
   ],
   "source": [
    "reference = [\n",
    "    'this is a dog'.split(),\n",
    "    'it is nice dog'.split(),\n",
    "    'dog it is'.split(),\n",
    "    'a dog, it is'.split() \n",
    "]\n",
    "print(reference)\n",
    "candidate = 'it is dog'.split()\n",
    "sentence_bleu(reference, candidate)\n"
   ]
  },
  {
   "cell_type": "code",
   "execution_count": 46,
   "id": "d5d21229",
   "metadata": {},
   "outputs": [
    {
     "name": "stdout",
     "output_type": "stream",
     "text": [
      "[['this', 'is', 'a', 'nice', 'dog'], ['it', 'is', 'a', 'dog', 'pet'], ['dog', 'it', 'is'], ['a', 'dog,', 'it', 'is']]\n"
     ]
    },
    {
     "data": {
      "text/plain": [
       "1.0"
      ]
     },
     "execution_count": 46,
     "metadata": {},
     "output_type": "execute_result"
    }
   ],
   "source": [
    "reference = [\n",
    "    'this is a nice dog'.split(),\n",
    "    'it is a dog pet'.split(),\n",
    "    'dog it is'.split(),\n",
    "    'a dog, it is'.split() \n",
    "]\n",
    "print(reference)\n",
    "candidate = 'it is a dog'.split()\n",
    "sentence_bleu(reference, candidate)\n"
   ]
  },
  {
   "cell_type": "code",
   "execution_count": 38,
   "id": "d2d66e04",
   "metadata": {},
   "outputs": [
    {
     "name": "stdout",
     "output_type": "stream",
     "text": [
      "BLEU score -> 1.0270193092081295e-77\n"
     ]
    }
   ],
   "source": [
    "candidate = 'it is a nice dog'.split()\n",
    "print('BLEU score -> {}'.format(sentence_bleu(reference, candidate)))\n"
   ]
  },
  {
   "cell_type": "code",
   "execution_count": null,
   "id": "ffa74453",
   "metadata": {},
   "outputs": [],
   "source": [
    "hypothesis1 = ['It', 'is', 'a', 'guide', 'to', 'action', 'which',\n",
    "'ensures', 'that', 'the', 'military', 'always',\n",
    "'obeys', 'the', 'commands', 'of', 'the', 'party']\n",
    "hypothesis2 = ['It', 'is', 'to', 'insure', 'the', 'troops',\n",
    "'forever', 'hearing', 'the', 'activity', 'guidebook',\n",
    "'that', 'party', 'direct']\n",
    "reference1 = ['It', 'is', 'a', 'guide', 'to', 'action', 'that',\n",
    "'ensures', 'that', 'the', 'military', 'will', 'forever',\n",
    "'heed', 'Party', 'commands']\n",
    "reference2 = ['It', 'is', 'the', 'guiding', 'principle', 'which',\n",
    "'guarantees', 'the', 'military', 'forces', 'always',\n",
    "'being', 'under', 'the', 'command', 'of', 'the',\n",
    "'Party']\n",
    "reference3 = ['It', 'is', 'the', 'practical', 'guide', 'for', 'the',\n",
    "'army', 'always', 'to', 'heed', 'the', 'directions',\n",
    "'of', 'the', 'party']\n",
    "sentence_bleu([reference1, reference2, reference3], hypothesis1) \n"
   ]
  },
  {
   "cell_type": "code",
   "execution_count": 36,
   "id": "7461f408",
   "metadata": {},
   "outputs": [
    {
     "data": {
      "text/plain": [
       "1.0"
      ]
     },
     "execution_count": 36,
     "metadata": {},
     "output_type": "execute_result"
    }
   ],
   "source": [
    "hypothesis1 = ['it', 'is', 'a', 'dog']\n",
    "reference1  = ['it','is','a','fish']\n",
    "reference2  = ['it', 'is', 'a', 'dog']\n",
    "sentence_bleu([reference1,reference2], hypothesis1) \n"
   ]
  },
  {
   "cell_type": "code",
   "execution_count": null,
   "id": "2549c7bf",
   "metadata": {},
   "outputs": [],
   "source": []
  },
  {
   "cell_type": "code",
   "execution_count": 64,
   "id": "958917ea",
   "metadata": {},
   "outputs": [
    {
     "name": "stdout",
     "output_type": "stream",
     "text": [
      "\n",
      "Object raspberrypi functools dict kwargs. Gevent raspberrypi functools. Dunder raspberrypi decorator dict didn't lambda zip import pyramid, she lambda iterate?\n",
      "Kwargs raspberrypi diversity unit object gevent. Import fall integration decorator unit django yield functools twisted. Dunder integration decorator he she future. Python raspberrypi community pypy. Kwargs integration beautiful test reduce gil python closure. Gevent he integration generator fall test kwargs raise didn't visor he itertools...\n",
      "Reduce integration coroutine bdfl he python. Cython didn't integration while beautiful list python didn't nit!\n",
      "Object fall diversity 2to3 dunder script. Python fall for: integration exception dict kwargs dunder pycon. Import raspberrypi beautiful test import six web. Future integration mercurial self script web. Return raspberrypi community test she stable.\n",
      "Django raspberrypi mercurial unit import yield raspberrypi visual rocksdahouse. Dunder raspberrypi mercurial list reduce class test scipy helmet zip?\n",
      "\n",
      "Vizzini: He didn't fall? INCONCEIVABLE! I like it, guys.\n",
      "['__sow', 'vi', 'z', 'zi', 'ni', '__eow', '__sow', ':', '__eow', 'he', 'didn', \"'\", 't', 'fall', '__sow', '?', '__eow', '__sow', 'in', 'co', 'n', 'ce', 'iv', 'ab', 'le', '__eow', '__sow', '!', '__eow', '__sow', 'i', '__eow', '__sow', 'li', 'k', 'e', '__eow', '__sow', 'it', '__eow', '__sow', ',', '__eow', '__sow', 'g', 'u', 'y', 's', '__eow', '.']\n",
      "[24, 108, 82, 83, 71, 25, 24, 154, 25, 14, 10, 11, 12, 13, 24, 85, 25, 24, 140, 59, 39, 157, 87, 165, 114, 25, 24, 148, 25, 24, 26, 25, 24, 115, 168, 27, 25, 24, 42, 25, 24, 124, 25, 24, 54, 35, 37, 30, 25, 2]\n",
      "vizzini : he didn ' t fall ? inconceivable ! i like it , guys .\n"
     ]
    }
   ],
   "source": [
    "from bpe import Encoder\n",
    "\n",
    "test_corpus = '''\n",
    "Object raspberrypi functools dict kwargs. Gevent raspberrypi functools. Dunder raspberrypi decorator dict didn't lambda zip import pyramid, she lambda iterate?\n",
    "Kwargs raspberrypi diversity unit object gevent. Import fall integration decorator unit django yield functools twisted. Dunder integration decorator he she future. Python raspberrypi community pypy. Kwargs integration beautiful test reduce gil python closure. Gevent he integration generator fall test kwargs raise didn't visor he itertools...\n",
    "Reduce integration coroutine bdfl he python. Cython didn't integration while beautiful list python didn't nit!\n",
    "Object fall diversity 2to3 dunder script. Python fall for: integration exception dict kwargs dunder pycon. Import raspberrypi beautiful test import six web. Future integration mercurial self script web. Return raspberrypi community test she stable.\n",
    "Django raspberrypi mercurial unit import yield raspberrypi visual rocksdahouse. Dunder raspberrypi mercurial list reduce class test scipy helmet zip?\n",
    "'''\n",
    "example = \"Vizzini: He didn't fall? INCONCEIVABLE! I like it, guys.\"\n",
    "\n",
    "#test_corpus = test_corpus.replace(' ','=')\n",
    "#example = example.replace(' ','=')\n",
    "print(test_corpus)\n",
    "print(example)\n",
    "\n",
    "encoder = Encoder(200, pct_bpe=0.88)  # params chosen for demonstration purposes\n",
    "encoder.fit(test_corpus.split('\\n'))\n",
    "\n",
    "print(encoder.tokenize(example))\n",
    "# ['__sow', 'vi', 'z', 'zi', 'ni', '__eow', '__sow', ':', '__eow', 'he', 'didn', \"'\", 't', 'fall', '__sow', '?', '__eow', '__sow', 'in', 'co', 'n', 'ce', 'iv', 'ab', 'le', '__eow', '__sow', '!', '__eow']\n",
    "print(next(encoder.transform([example])))\n",
    "# [24, 108, 82, 83, 71, 25, 24, 154, 25, 14, 10, 11, 12, 13, 24, 85, 25, 24, 140, 59, 39, 157, 87, 165, 114, 25, 24, 148, 25]\n",
    "print(next(encoder.inverse_transform(encoder.transform([example]))))\n",
    "# vizzini : he didn ' t fall ? inconceivable !\n"
   ]
  },
  {
   "cell_type": "code",
   "execution_count": 66,
   "id": "f85a8dd0",
   "metadata": {},
   "outputs": [
    {
     "name": "stdout",
     "output_type": "stream",
     "text": [
      "\n",
      "ping\n",
      "sing\n",
      "ding\n",
      "ring\n",
      "deer\n",
      "beer\n",
      "doer\n",
      "byer\n",
      "bycicle\n",
      "\n",
      "pure song\n",
      "['__sow', 'p', '__unk', 'r', 'e', '__eow', '__sow', 's', 'o', 'ng', '__eow']\n",
      "[2, 18, 0, 6, 4, 3, 2, 20, 26, 10, 3]\n",
      "p__unkre song\n"
     ]
    }
   ],
   "source": [
    "test_corpus = '''\n",
    "ping\n",
    "sing\n",
    "ding\n",
    "ring\n",
    "deer\n",
    "beer\n",
    "doer\n",
    "byer\n",
    "bycicle\n",
    "'''\n",
    "example = \"pure song\"\n",
    "\n",
    "#test_corpus = test_corpus.replace(' ','=')\n",
    "#example = example.replace(' ','=')\n",
    "print(test_corpus)\n",
    "print(example)\n",
    "\n",
    "encoder = Encoder(200, pct_bpe=0.99)  # params chosen for demonstration purposes\n",
    "encoder.fit(test_corpus.split('\\n'))\n",
    "\n",
    "print(encoder.tokenize(example))\n",
    "# ['__sow', 'vi', 'z', 'zi', 'ni', '__eow', '__sow', ':', '__eow', 'he', 'didn', \"'\", 't', 'fall', '__sow', '?', '__eow', '__sow', 'in', 'co', 'n', 'ce', 'iv', 'ab', 'le', '__eow', '__sow', '!', '__eow']\n",
    "print(next(encoder.transform([example])))\n",
    "# [24, 108, 82, 83, 71, 25, 24, 154, 25, 14, 10, 11, 12, 13, 24, 85, 25, 24, 140, 59, 39, 157, 87, 165, 114, 25, 24, 148, 25]\n",
    "print(next(encoder.inverse_transform(encoder.transform([example]))))\n",
    "# vizzini : he didn ' t fall ? inconceivable !\n"
   ]
  },
  {
   "cell_type": "code",
   "execution_count": null,
   "id": "42e6fe83",
   "metadata": {},
   "outputs": [],
   "source": []
  },
  {
   "cell_type": "code",
   "execution_count": 10,
   "id": "b35505f0",
   "metadata": {},
   "outputs": [
    {
     "ename": "FileNotFoundError",
     "evalue": "[Errno 2] No such file or directory: 'model.bin'",
     "output_type": "error",
     "traceback": [
      "\u001b[0;31m---------------------------------------------------------------------------\u001b[0m",
      "\u001b[0;31mFileNotFoundError\u001b[0m                         Traceback (most recent call last)",
      "\u001b[0;32m/var/folders/lb/1m7gbdp17h578qq48pbbtxf40000gn/T/ipykernel_67898/637917864.py\u001b[0m in \u001b[0;36m<module>\u001b[0;34m\u001b[0m\n\u001b[1;32m      3\u001b[0m \u001b[0mio\u001b[0m \u001b[0;34m=\u001b[0m \u001b[0mmorfessor\u001b[0m\u001b[0;34m.\u001b[0m\u001b[0mMorfessorIO\u001b[0m\u001b[0;34m(\u001b[0m\u001b[0;34m)\u001b[0m\u001b[0;34m\u001b[0m\u001b[0;34m\u001b[0m\u001b[0m\n\u001b[1;32m      4\u001b[0m \u001b[0;34m\u001b[0m\u001b[0m\n\u001b[0;32m----> 5\u001b[0;31m \u001b[0mmodel\u001b[0m \u001b[0;34m=\u001b[0m \u001b[0mio\u001b[0m\u001b[0;34m.\u001b[0m\u001b[0mread_binary_model_file\u001b[0m\u001b[0;34m(\u001b[0m\u001b[0;34m'model.bin'\u001b[0m\u001b[0;34m)\u001b[0m\u001b[0;34m\u001b[0m\u001b[0;34m\u001b[0m\u001b[0m\n\u001b[0m\u001b[1;32m      6\u001b[0m \u001b[0;34m\u001b[0m\u001b[0m\n\u001b[1;32m      7\u001b[0m \u001b[0mwords\u001b[0m \u001b[0;34m=\u001b[0m \u001b[0;34m[\u001b[0m\u001b[0;34m'words'\u001b[0m\u001b[0;34m,\u001b[0m \u001b[0;34m'segmenting'\u001b[0m\u001b[0;34m,\u001b[0m \u001b[0;34m'morfessor'\u001b[0m\u001b[0;34m,\u001b[0m \u001b[0;34m'unsupervised'\u001b[0m\u001b[0;34m]\u001b[0m\u001b[0;34m\u001b[0m\u001b[0;34m\u001b[0m\u001b[0m\n",
      "\u001b[0;32m~/Documents/aigents/pygents/env/lib/python3.7/site-packages/morfessor/io.py\u001b[0m in \u001b[0;36mread_binary_model_file\u001b[0;34m(self, file_name)\u001b[0m\n\u001b[1;32m    185\u001b[0m         \u001b[0;34m\"\"\"Read a pickled model from file.\"\"\"\u001b[0m\u001b[0;34m\u001b[0m\u001b[0;34m\u001b[0m\u001b[0m\n\u001b[1;32m    186\u001b[0m         \u001b[0m_logger\u001b[0m\u001b[0;34m.\u001b[0m\u001b[0minfo\u001b[0m\u001b[0;34m(\u001b[0m\u001b[0;34m\"Loading model from '%s'...\"\u001b[0m\u001b[0;34m,\u001b[0m \u001b[0mfile_name\u001b[0m\u001b[0;34m)\u001b[0m\u001b[0;34m\u001b[0m\u001b[0;34m\u001b[0m\u001b[0m\n\u001b[0;32m--> 187\u001b[0;31m         \u001b[0mmodel\u001b[0m \u001b[0;34m=\u001b[0m \u001b[0mself\u001b[0m\u001b[0;34m.\u001b[0m\u001b[0mread_binary_file\u001b[0m\u001b[0;34m(\u001b[0m\u001b[0mfile_name\u001b[0m\u001b[0;34m)\u001b[0m\u001b[0;34m\u001b[0m\u001b[0;34m\u001b[0m\u001b[0m\n\u001b[0m\u001b[1;32m    188\u001b[0m         \u001b[0m_logger\u001b[0m\u001b[0;34m.\u001b[0m\u001b[0minfo\u001b[0m\u001b[0;34m(\u001b[0m\u001b[0;34m\"Done.\"\u001b[0m\u001b[0;34m)\u001b[0m\u001b[0;34m\u001b[0m\u001b[0;34m\u001b[0m\u001b[0m\n\u001b[1;32m    189\u001b[0m         \u001b[0;32mreturn\u001b[0m \u001b[0mmodel\u001b[0m\u001b[0;34m\u001b[0m\u001b[0;34m\u001b[0m\u001b[0m\n",
      "\u001b[0;32m~/Documents/aigents/pygents/env/lib/python3.7/site-packages/morfessor/io.py\u001b[0m in \u001b[0;36mread_binary_file\u001b[0;34m(file_name)\u001b[0m\n\u001b[1;32m    192\u001b[0m     \u001b[0;32mdef\u001b[0m \u001b[0mread_binary_file\u001b[0m\u001b[0;34m(\u001b[0m\u001b[0mfile_name\u001b[0m\u001b[0;34m)\u001b[0m\u001b[0;34m:\u001b[0m\u001b[0;34m\u001b[0m\u001b[0;34m\u001b[0m\u001b[0m\n\u001b[1;32m    193\u001b[0m         \u001b[0;34m\"\"\"Read a pickled object from a file.\"\"\"\u001b[0m\u001b[0;34m\u001b[0m\u001b[0;34m\u001b[0m\u001b[0m\n\u001b[0;32m--> 194\u001b[0;31m         \u001b[0;32mwith\u001b[0m \u001b[0mopen\u001b[0m\u001b[0;34m(\u001b[0m\u001b[0mfile_name\u001b[0m\u001b[0;34m,\u001b[0m \u001b[0;34m'rb'\u001b[0m\u001b[0;34m)\u001b[0m \u001b[0;32mas\u001b[0m \u001b[0mfobj\u001b[0m\u001b[0;34m:\u001b[0m\u001b[0;34m\u001b[0m\u001b[0;34m\u001b[0m\u001b[0m\n\u001b[0m\u001b[1;32m    195\u001b[0m             \u001b[0mobj\u001b[0m \u001b[0;34m=\u001b[0m \u001b[0mpickle\u001b[0m\u001b[0;34m.\u001b[0m\u001b[0mload\u001b[0m\u001b[0;34m(\u001b[0m\u001b[0mfobj\u001b[0m\u001b[0;34m)\u001b[0m\u001b[0;34m\u001b[0m\u001b[0;34m\u001b[0m\u001b[0m\n\u001b[1;32m    196\u001b[0m         \u001b[0;32mreturn\u001b[0m \u001b[0mobj\u001b[0m\u001b[0;34m\u001b[0m\u001b[0;34m\u001b[0m\u001b[0m\n",
      "\u001b[0;31mFileNotFoundError\u001b[0m: [Errno 2] No such file or directory: 'model.bin'"
     ]
    }
   ],
   "source": [
    "import morfessor\n",
    "\n",
    "io = morfessor.MorfessorIO()\n",
    "\n",
    "model = io.read_binary_model_file('model.bin')\n",
    "\n",
    "words = ['words', 'segmenting', 'morfessor', 'unsupervised']\n",
    "\n",
    "for word in words:\n",
    "    print(model.viterbi_segment(word))\n"
   ]
  },
  {
   "cell_type": "code",
   "execution_count": null,
   "id": "c4a70b2a",
   "metadata": {},
   "outputs": [],
   "source": []
  }
 ],
 "metadata": {
  "kernelspec": {
   "display_name": "Python 3 (ipykernel)",
   "language": "python",
   "name": "python3"
  },
  "language_info": {
   "codemirror_mode": {
    "name": "ipython",
    "version": 3
   },
   "file_extension": ".py",
   "mimetype": "text/x-python",
   "name": "python",
   "nbconvert_exporter": "python",
   "pygments_lexer": "ipython3",
   "version": "3.7.7"
  }
 },
 "nbformat": 4,
 "nbformat_minor": 5
}
