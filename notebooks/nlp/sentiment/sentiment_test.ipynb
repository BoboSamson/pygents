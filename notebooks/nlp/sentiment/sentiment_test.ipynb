{
 "cells": [
  {
   "cell_type": "markdown",
   "id": "541bdfcb",
   "metadata": {},
   "source": [
    "# Testing Aigents Sentiment Analysis Web API"
   ]
  },
  {
   "cell_type": "code",
   "execution_count": 4,
   "id": "77fc69b3",
   "metadata": {},
   "outputs": [
    {
     "name": "stdout",
     "output_type": "stream",
     "text": [
      "Ok.\n"
     ]
    },
    {
     "data": {
      "text/plain": [
       "<pygents.aigents_api.AigentsSentiment at 0x111f9f650>"
      ]
     },
     "execution_count": 4,
     "metadata": {},
     "output_type": "execute_result"
    }
   ],
   "source": [
    "import os, sys\n",
    "cwd = os.getcwd()\n",
    "project_path = cwd[:cwd.find('pygents')+7]\n",
    "if project_path not in sys.path: sys.path.append(project_path)\n",
    "os.chdir(project_path) \n",
    "\n",
    "import datetime as dt\n",
    "\n",
    "if 'pygents.aigents_api' in sys.modules:\n",
    "    del sys.modules['pygents.aigents_api']\n",
    "\n",
    "from pygents.aigents_api import AigentsSentiment\n",
    "\n",
    "a = AigentsSentiment(api_url='https://aigents.com/al',debug=True)\n",
    "a\n"
   ]
  },
  {
   "cell_type": "code",
   "execution_count": 7,
   "id": "bb8e0fb7",
   "metadata": {},
   "outputs": [
    {
     "name": "stdout",
     "output_type": "stream",
     "text": [
      "--------\n",
      "text: good news\n",
      "json: [{\"negative\":\"0\",\"negatives\":[],\"positive\":\"85\",\"positives\":[\"good\"],\"sentiment\":\"85\",\"text\":\"good news\"}]\n",
      "(0.85, 0.85, -0.0, 0.0, 2, 1)\n",
      "--------\n",
      "text: bad news\n",
      "json: [{\"negative\":\"85\",\"negatives\":[\"bad\"],\"positive\":\"0\",\"positives\":[],\"sentiment\":\"-85\",\"text\":\"bad news\"}]\n",
      "(-0.85, 0.0, -0.85, 0.0, 2, 1)\n",
      "--------\n",
      "text: good bad news\n",
      "json: [{\"negative\":\"77\",\"negatives\":[\"bad\"],\"positive\":\"77\",\"positives\":[\"good\"],\"sentiment\":\"0\",\"text\":\"good bad news\"}]\n",
      "(0.0, 0.77, -0.77, 0.77, 3, 1)\n",
      "--------\n",
      "text: good and pleasant news about bad things\n",
      "json: [{\"negative\":\"59\",\"negatives\":[\"bad\"],\"positive\":\"74\",\"positives\":[\"good\",\"pleasant\"],\"sentiment\":\"14\",\"text\":\"good and pleasant news about bad things\"}]\n",
      "(0.14, 0.74, -0.59, 0.66, 7, 1)\n",
      "--------\n",
      "text: empty spaces\n",
      "json: [{\"negative\":\"0\",\"negatives\":[],\"positive\":\"0\",\"positives\":[],\"sentiment\":\"0\",\"text\":\"empty spaces\"}]\n",
      "(0.0, 0.0, -0.0, 0.0, 2, 1)\n"
     ]
    }
   ],
   "source": [
    "texts = ['good news','bad news','good bad news','good and pleasant news about bad things','empty spaces']\n",
    "for t in texts:\n",
    "    s = a.get_sentiment(t)\n",
    "    print(s)\n"
   ]
  },
  {
   "cell_type": "code",
   "execution_count": 8,
   "id": "a03a3e5d",
   "metadata": {},
   "outputs": [
    {
     "name": "stdout",
     "output_type": "stream",
     "text": [
      "(0.85, 0.85, -0.0, 0.0, 2, 1)\n",
      "(-0.85, 0.0, -0.85, 0.0, 2, 1)\n",
      "(0.0, 0.77, -0.77, 0.77, 3, 1)\n",
      "(0.14, 0.74, -0.59, 0.66, 7, 1)\n",
      "(0.0, 0.0, -0.0, 0.0, 2, 1)\n",
      "(0.85, 0.85, -0.0, 0.0, 2, 1)\n",
      "(-0.85, 0.0, -0.85, 0.0, 2, 1)\n",
      "(0.0, 0.77, -0.77, 0.77, 3, 1)\n",
      "(0.14, 0.74, -0.59, 0.66, 7, 1)\n",
      "(0.0, 0.0, -0.0, 0.0, 2, 1)\n",
      "(0.85, 0.85, -0.0, 0.0, 2, 1)\n",
      "(-0.85, 0.0, -0.85, 0.0, 2, 1)\n",
      "(0.0, 0.77, -0.77, 0.77, 3, 1)\n",
      "(0.14, 0.74, -0.59, 0.66, 7, 1)\n",
      "(0.0, 0.0, -0.0, 0.0, 2, 1)\n",
      "(0.85, 0.85, -0.0, 0.0, 2, 1)\n",
      "(-0.85, 0.0, -0.85, 0.0, 2, 1)\n",
      "(0.0, 0.77, -0.77, 0.77, 3, 1)\n",
      "(0.14, 0.74, -0.59, 0.66, 7, 1)\n",
      "(0.0, 0.0, -0.0, 0.0, 2, 1)\n",
      "(0.85, 0.85, -0.0, 0.0, 2, 1)\n",
      "(-0.85, 0.0, -0.85, 0.0, 2, 1)\n",
      "(0.0, 0.77, -0.77, 0.77, 3, 1)\n",
      "(0.14, 0.74, -0.59, 0.66, 7, 1)\n",
      "(0.0, 0.0, -0.0, 0.0, 2, 1)\n",
      "(0.85, 0.85, -0.0, 0.0, 2, 1)\n",
      "(-0.85, 0.0, -0.85, 0.0, 2, 1)\n",
      "(0.0, 0.77, -0.77, 0.77, 3, 1)\n",
      "(0.14, 0.74, -0.59, 0.66, 7, 1)\n",
      "(0.0, 0.0, -0.0, 0.0, 2, 1)\n",
      "(0.85, 0.85, -0.0, 0.0, 2, 1)\n",
      "(-0.85, 0.0, -0.85, 0.0, 2, 1)\n",
      "(0.0, 0.77, -0.77, 0.77, 3, 1)\n",
      "(0.14, 0.74, -0.59, 0.66, 7, 1)\n",
      "(0.0, 0.0, -0.0, 0.0, 2, 1)\n",
      "(0.85, 0.85, -0.0, 0.0, 2, 1)\n",
      "(-0.85, 0.0, -0.85, 0.0, 2, 1)\n",
      "(0.0, 0.77, -0.77, 0.77, 3, 1)\n",
      "(0.14, 0.74, -0.59, 0.66, 7, 1)\n",
      "(0.0, 0.0, -0.0, 0.0, 2, 1)\n",
      "(0.85, 0.85, -0.0, 0.0, 2, 1)\n",
      "(-0.85, 0.0, -0.85, 0.0, 2, 1)\n",
      "(0.0, 0.77, -0.77, 0.77, 3, 1)\n",
      "(0.14, 0.74, -0.59, 0.66, 7, 1)\n",
      "(0.0, 0.0, -0.0, 0.0, 2, 1)\n",
      "(0.85, 0.85, -0.0, 0.0, 2, 1)\n",
      "(-0.85, 0.0, -0.85, 0.0, 2, 1)\n",
      "(0.0, 0.77, -0.77, 0.77, 3, 1)\n",
      "(0.14, 0.74, -0.59, 0.66, 7, 1)\n",
      "(0.0, 0.0, -0.0, 0.0, 2, 1)\n",
      "(0.85, 0.85, -0.0, 0.0, 2, 1)\n",
      "(-0.85, 0.0, -0.85, 0.0, 2, 1)\n",
      "(0.0, 0.77, -0.77, 0.77, 3, 1)\n",
      "(0.14, 0.74, -0.59, 0.66, 7, 1)\n",
      "(0.0, 0.0, -0.0, 0.0, 2, 1)\n",
      "(0.85, 0.85, -0.0, 0.0, 2, 1)\n",
      "(-0.85, 0.0, -0.85, 0.0, 2, 1)\n",
      "(0.0, 0.77, -0.77, 0.77, 3, 1)\n",
      "(0.14, 0.74, -0.59, 0.66, 7, 1)\n",
      "(0.0, 0.0, -0.0, 0.0, 2, 1)\n",
      "(0.85, 0.85, -0.0, 0.0, 2, 1)\n",
      "(-0.85, 0.0, -0.85, 0.0, 2, 1)\n",
      "(0.0, 0.77, -0.77, 0.77, 3, 1)\n",
      "(0.14, 0.74, -0.59, 0.66, 7, 1)\n",
      "(0.0, 0.0, -0.0, 0.0, 2, 1)\n",
      "(0.85, 0.85, -0.0, 0.0, 2, 1)\n",
      "(-0.85, 0.0, -0.85, 0.0, 2, 1)\n",
      "(0.0, 0.77, -0.77, 0.77, 3, 1)\n",
      "(0.14, 0.74, -0.59, 0.66, 7, 1)\n",
      "(0.0, 0.0, -0.0, 0.0, 2, 1)\n",
      "(0.85, 0.85, -0.0, 0.0, 2, 1)\n",
      "(-0.85, 0.0, -0.85, 0.0, 2, 1)\n",
      "(0.0, 0.77, -0.77, 0.77, 3, 1)\n",
      "(0.14, 0.74, -0.59, 0.66, 7, 1)\n",
      "(0.0, 0.0, -0.0, 0.0, 2, 1)\n",
      "(0.85, 0.85, -0.0, 0.0, 2, 1)\n",
      "(-0.85, 0.0, -0.85, 0.0, 2, 1)\n",
      "(0.0, 0.77, -0.77, 0.77, 3, 1)\n",
      "(0.14, 0.74, -0.59, 0.66, 7, 1)\n",
      "(0.0, 0.0, -0.0, 0.0, 2, 1)\n",
      "(0.85, 0.85, -0.0, 0.0, 2, 1)\n",
      "(-0.85, 0.0, -0.85, 0.0, 2, 1)\n",
      "(0.0, 0.77, -0.77, 0.77, 3, 1)\n",
      "(0.14, 0.74, -0.59, 0.66, 7, 1)\n",
      "(0.0, 0.0, -0.0, 0.0, 2, 1)\n",
      "(0.85, 0.85, -0.0, 0.0, 2, 1)\n",
      "(-0.85, 0.0, -0.85, 0.0, 2, 1)\n",
      "(0.0, 0.77, -0.77, 0.77, 3, 1)\n",
      "(0.14, 0.74, -0.59, 0.66, 7, 1)\n",
      "(0.0, 0.0, -0.0, 0.0, 2, 1)\n",
      "(0.85, 0.85, -0.0, 0.0, 2, 1)\n",
      "(-0.85, 0.0, -0.85, 0.0, 2, 1)\n",
      "(0.0, 0.77, -0.77, 0.77, 3, 1)\n",
      "(0.14, 0.74, -0.59, 0.66, 7, 1)\n",
      "(0.0, 0.0, -0.0, 0.0, 2, 1)\n",
      "(0.85, 0.85, -0.0, 0.0, 2, 1)\n",
      "(-0.85, 0.0, -0.85, 0.0, 2, 1)\n",
      "(0.0, 0.77, -0.77, 0.77, 3, 1)\n",
      "(0.14, 0.74, -0.59, 0.66, 7, 1)\n",
      "(0.0, 0.0, -0.0, 0.0, 2, 1)\n"
     ]
    }
   ],
   "source": [
    "a = AigentsSentiment(api_url='https://aigents.com/al',debug=False)\n",
    "t1 = dt.datetime.now()\n",
    "for c in range(20):\n",
    "    for t in texts:\n",
    "        s = a.get_sentiment(t)\n",
    "        print(s)    \n",
    "t2 = dt.datetime.now()\n"
   ]
  },
  {
   "cell_type": "code",
   "execution_count": 10,
   "id": "d3a35ee9",
   "metadata": {},
   "outputs": [
    {
     "data": {
      "text/plain": [
       "datetime.timedelta(seconds=10, microseconds=522143)"
      ]
     },
     "execution_count": 10,
     "metadata": {},
     "output_type": "execute_result"
    }
   ],
   "source": [
    "t2-t1"
   ]
  },
  {
   "cell_type": "code",
   "execution_count": null,
   "id": "61909987",
   "metadata": {},
   "outputs": [],
   "source": []
  },
  {
   "cell_type": "code",
   "execution_count": 12,
   "id": "b913f9bb",
   "metadata": {},
   "outputs": [
    {
     "data": {
      "text/plain": [
       "(-0.31, 0.0, -0.31, 0.0, 31, 1)"
      ]
     },
     "execution_count": 12,
     "metadata": {},
     "output_type": "execute_result"
    }
   ],
   "source": [
    "a.get_sentiment('Technopolis plans to develop in stages an area of no less than 100,000 square meters in order to host companies working in computer technologies and telecommunications , the statement said .')\n",
    "\n"
   ]
  },
  {
   "cell_type": "code",
   "execution_count": 13,
   "id": "47b4d02e",
   "metadata": {},
   "outputs": [
    {
     "data": {
      "text/plain": [
       "(-0.54, 0.0, -0.54, 0.0, 39, 1)"
      ]
     },
     "execution_count": 13,
     "metadata": {},
     "output_type": "execute_result"
    }
   ],
   "source": [
    "a.get_sentiment(\"For the last quarter of 2010 , Componenta 's net sales doubled to EUR131m from EUR76m for the same period a year earlier , while it moved to a zero pre-tax profit from a pre-tax loss of EUR7m .\")\n"
   ]
  },
  {
   "cell_type": "code",
   "execution_count": 14,
   "id": "4cbbaa63",
   "metadata": {},
   "outputs": [
    {
     "data": {
      "text/plain": [
       "(0.0, 0.0, -0.0, 0.0, 30, 1)"
      ]
     },
     "execution_count": 14,
     "metadata": {},
     "output_type": "execute_result"
    }
   ],
   "source": [
    "a.get_sentiment(\"Clothing retail chain Sepp+Æl+Æ 's sales increased by 8 % to EUR 155.2 mn , and operating profit rose to EUR 31.1 mn from EUR 17.1 mn in 2004 .\")\n",
    "\n"
   ]
  },
  {
   "cell_type": "code",
   "execution_count": 17,
   "id": "f502e078",
   "metadata": {},
   "outputs": [
    {
     "name": "stdout",
     "output_type": "stream",
     "text": [
      "Ok.\n"
     ]
    },
    {
     "data": {
      "text/plain": [
       "<pygents.aigents_api.AigentsSentiment at 0x1120d9a50>"
      ]
     },
     "execution_count": 17,
     "metadata": {},
     "output_type": "execute_result"
    }
   ],
   "source": [
    "a = AigentsSentiment(api_url='https://aigents.com/al',debug=True)\n",
    "a\n"
   ]
  },
  {
   "cell_type": "code",
   "execution_count": 18,
   "id": "b42baee6",
   "metadata": {},
   "outputs": [
    {
     "name": "stdout",
     "output_type": "stream",
     "text": [
      "--------\n",
      "text: Technopolis plans to develop in stages an area of no less than 100,000 square meters in order to host companies working in computer technologies and telecommunications , the statement said .\n",
      "json: [{\"negative\":\"31\",\"negatives\":[\"square\"],\"positive\":\"0\",\"positives\":[],\"sentiment\":\"-31\",\"text\":\"Technopolis plans to develop in stages an area of no less than 100,000 square meters in order to host companies working in computer technologies and telecommunications , the statement said .\"}]\n",
      "(-0.31, 0.0, -0.31, 0.0, 31, 1)\n",
      "--------\n",
      "text: Technopolis plans to develop in stages an area of no less than 100,000 square meters\n",
      "json: [{\"negative\":\"44\",\"negatives\":[\"square\"],\"positive\":\"0\",\"positives\":[],\"sentiment\":\"-44\",\"text\":\"Technopolis plans to develop in stages an area of no less than 100,000 square meters\"}]\n",
      "(-0.44, 0.0, -0.44, 0.0, 15, 1)\n",
      "--------\n",
      "text: Technopolis plans to develop in stages an area of no less than\n",
      "json: [{\"negative\":\"0\",\"negatives\":[],\"positive\":\"0\",\"positives\":[],\"sentiment\":\"0\",\"text\":\"Technopolis plans to develop in stages an area of no less than\"}]\n",
      "(0.0, 0.0, -0.0, 0.0, 12, 1)\n"
     ]
    }
   ],
   "source": [
    "texts = [\n",
    "    'Technopolis plans to develop in stages an area of no less than 100,000 square meters in order to host companies working in computer technologies and telecommunications , the statement said .',\n",
    "    'Technopolis plans to develop in stages an area of no less than 100,000 square meters',\n",
    "    'Technopolis plans to develop in stages an area of no less than'\n",
    "]\n",
    "for t in texts:\n",
    "    s = a.get_sentiment(t)\n",
    "    print(s)\n",
    "    "
   ]
  },
  {
   "cell_type": "code",
   "execution_count": null,
   "id": "02c44e53",
   "metadata": {},
   "outputs": [],
   "source": []
  }
 ],
 "metadata": {
  "kernelspec": {
   "display_name": "Python 3 (ipykernel)",
   "language": "python",
   "name": "python3"
  },
  "language_info": {
   "codemirror_mode": {
    "name": "ipython",
    "version": 3
   },
   "file_extension": ".py",
   "mimetype": "text/x-python",
   "name": "python",
   "nbconvert_exporter": "python",
   "pygments_lexer": "ipython3",
   "version": "3.7.7"
  }
 },
 "nbformat": 4,
 "nbformat_minor": 5
}
