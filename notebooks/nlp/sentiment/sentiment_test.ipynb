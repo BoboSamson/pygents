{
 "cells": [
  {
   "cell_type": "code",
   "execution_count": 1,
   "id": "77fc69b3",
   "metadata": {},
   "outputs": [
    {
     "name": "stdout",
     "output_type": "stream",
     "text": [
      "Ok.\n"
     ]
    },
    {
     "data": {
      "text/plain": [
       "<pygents.aigents_api.AigentsSentiment at 0x1104429d0>"
      ]
     },
     "execution_count": 1,
     "metadata": {},
     "output_type": "execute_result"
    }
   ],
   "source": [
    "import os, sys\n",
    "cwd = os.getcwd()\n",
    "project_path = cwd[:cwd.find('pygents')+7]\n",
    "if project_path not in sys.path: sys.path.append(project_path)\n",
    "os.chdir(project_path) \n",
    "\n",
    "if 'pygents.aigents_api' in sys.modules:\n",
    "    del sys.modules['pygents.aigents_api']\n",
    "\n",
    "from pygents.aigents_api import AigentsSentiment\n",
    "\n",
    "a = AigentsSentiment(api_url='https://aigents.com/al',debug=True)\n",
    "a\n"
   ]
  },
  {
   "cell_type": "code",
   "execution_count": 2,
   "id": "bb8e0fb7",
   "metadata": {},
   "outputs": [
    {
     "name": "stdout",
     "output_type": "stream",
     "text": [
      "--------\n",
      "text: good news\n",
      "json: [{\"negative\":\"0\",\"negatives\":[],\"positive\":\"85\",\"positives\":[\"good\"],\"sentiment\":\"85\",\"text\":\"good news\"}]\n",
      "(0.85, 0.85, -0.0, 0.0, 2, 1)\n",
      "--------\n",
      "text: bad news\n",
      "json: [{\"negative\":\"85\",\"negatives\":[\"bad\"],\"positive\":\"0\",\"positives\":[],\"sentiment\":\"-85\",\"text\":\"bad news\"}]\n",
      "(-0.85, 0.0, -0.85, 0.0, 2, 1)\n",
      "--------\n",
      "text: good bad news\n",
      "json: [{\"negative\":\"77\",\"negatives\":[\"bad\"],\"positive\":\"77\",\"positives\":[\"good\"],\"sentiment\":\"0\",\"text\":\"good bad news\"}]\n",
      "(0.0, 0.77, -0.77, 0.77, 3, 1)\n",
      "--------\n",
      "text: good and pleasant news about bad things\n",
      "json: [{\"negative\":\"59\",\"negatives\":[\"bad\"],\"positive\":\"74\",\"positives\":[\"good\",\"pleasant\"],\"sentiment\":\"14\",\"text\":\"good and pleasant news about bad things\"}]\n",
      "(0.14, 0.74, -0.59, 0.66, 7, 1)\n"
     ]
    }
   ],
   "source": [
    "for t in ['good news','bad news','good bad news','good and pleasant news about bad things']:\n",
    "    s = a.get_sentiment(t)\n",
    "    print(s)\n"
   ]
  },
  {
   "cell_type": "code",
   "execution_count": null,
   "id": "a03a3e5d",
   "metadata": {},
   "outputs": [],
   "source": []
  }
 ],
 "metadata": {
  "kernelspec": {
   "display_name": "Python 3 (ipykernel)",
   "language": "python",
   "name": "python3"
  },
  "language_info": {
   "codemirror_mode": {
    "name": "ipython",
    "version": 3
   },
   "file_extension": ".py",
   "mimetype": "text/x-python",
   "name": "python",
   "nbconvert_exporter": "python",
   "pygments_lexer": "ipython3",
   "version": "3.7.7"
  }
 },
 "nbformat": 4,
 "nbformat_minor": 5
}
