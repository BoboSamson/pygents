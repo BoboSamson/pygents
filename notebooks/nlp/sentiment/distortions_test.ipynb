{
 "cells": [
  {
   "cell_type": "markdown",
   "id": "541bdfcb",
   "metadata": {},
   "source": [
    "# Testing Aigents Sentiment Analysis Web API"
   ]
  },
  {
   "cell_type": "code",
   "execution_count": 1,
   "id": "77fc69b3",
   "metadata": {},
   "outputs": [
    {
     "name": "stdout",
     "output_type": "stream",
     "text": [
      "4\n",
      "6\n"
     ]
    }
   ],
   "source": [
    "import os, sys, math\n",
    "cwd = os.getcwd()\n",
    "project_path = cwd[:cwd.find('pygents')+7]\n",
    "if project_path not in sys.path: sys.path.append(project_path)\n",
    "os.chdir(project_path) \n",
    "\n",
    "import datetime as dt\n",
    "\n",
    "if 'pygents.aigents_api' in sys.modules:\n",
    "    del sys.modules['pygents.aigents_api']\n",
    "if 'pygents.util' in sys.modules:\n",
    "    del sys.modules['pygents.util']\n",
    "\n",
    "from pygents.aigents_api import AigentsSentiment, PygentsSentiment, TextMetrics\n",
    "from pygents.util import vector_proximity\n",
    "\n",
    "\n",
    "def language_metrics(lang,metrics_list):\n",
    "    metrics = {}\n",
    "    for m in metrics_list:\n",
    "        metrics[m] = './data/dict/' + lang + '/' + m + '.txt'\n",
    "    return metrics\n",
    "\n",
    "        \n",
    "p = PygentsSentiment('./data/dict/en/positive.txt',\n",
    "                     './data/dict/en/negative.txt',debug=True)\n",
    "a = TextMetrics(language_metrics('en',['catastrophizing','dichotomous-reasoning']),debug=True)\n",
    "s = TextMetrics(language_metrics('en',['positive','negative']),debug=True)\n",
    "\n",
    "print(a.gram_arity)\n",
    "print(s.gram_arity)\n"
   ]
  },
  {
   "cell_type": "code",
   "execution_count": 2,
   "id": "d1ac4acc",
   "metadata": {},
   "outputs": [
    {
     "data": {
      "text/plain": [
       "{'catastrophizing': {('will', 'be', 'a', 'catastrophe'),\n",
       "  ('will', 'be', 'a', 'disaster'),\n",
       "  ('will', 'be', 'horrible'),\n",
       "  ('will', 'be', 'impossible'),\n",
       "  ('will', 'be', 'terrible'),\n",
       "  ('will', 'end'),\n",
       "  ('will', 'fail'),\n",
       "  ('will', 'go', 'wrong'),\n",
       "  ('will', 'never', 'end'),\n",
       "  ('will', 'not', 'end'),\n",
       "  ('will', 'not', 'happen')},\n",
       " 'dichotomous-reasoning': {('all',),\n",
       "  ('always',),\n",
       "  ('black', 'or', 'white'),\n",
       "  ('either', 'or'),\n",
       "  ('ever',),\n",
       "  ('every',),\n",
       "  ('everybody',),\n",
       "  ('everyone',),\n",
       "  ('everything',),\n",
       "  ('everywhere',),\n",
       "  ('neither',),\n",
       "  ('never',),\n",
       "  ('no', 'one'),\n",
       "  ('nobody',),\n",
       "  ('nor',),\n",
       "  ('not', 'a', 'single'),\n",
       "  ('nothing',),\n",
       "  ('nowhere',),\n",
       "  ('only',),\n",
       "  ('perfect',),\n",
       "  ('the', 'best'),\n",
       "  ('the', 'worst'),\n",
       "  ('worthless',)}}"
      ]
     },
     "execution_count": 2,
     "metadata": {},
     "output_type": "execute_result"
    }
   ],
   "source": [
    "a.metrics\n"
   ]
  },
  {
   "cell_type": "code",
   "execution_count": 3,
   "id": "c467e869",
   "metadata": {
    "scrolled": true
   },
   "outputs": [
    {
     "name": "stdout",
     "output_type": "stream",
     "text": [
      "('revelation', 'of', 'saint', 'john', 'the', 'divine')\n",
      "('feel', 'like', 'a', 'million', 'dollars')\n",
      "('too', 'big', 'for', \"one's\", 'breeches')\n",
      "('pull', 'a', 'fast', 'one', 'on')\n",
      "('respiratory', 'distress', 'syndrome', 'of', 'the', 'newborn')\n"
     ]
    }
   ],
   "source": [
    "for m in s.metrics:\n",
    "    ngrams = s.metrics[m]\n",
    "    for n in ngrams:\n",
    "        if len(n) > 4:\n",
    "            print(n)\n"
   ]
  },
  {
   "cell_type": "code",
   "execution_count": 8,
   "id": "dae1c853",
   "metadata": {},
   "outputs": [
    {
     "name": "stdout",
     "output_type": "stream",
     "text": [
      "(0.85, 0.85, -0.0, 0.0, 2, 1) {'positive': 0.85} good news\n",
      "(-0.85, 0.0, -0.85, 0.0, 2, 1) {'negative': 0.85} bad news\n",
      "(0.0, 0.77, -0.77, 0.77, 3, 1) {'positive': 0.77, 'negative': 0.77} good bad news\n",
      "(0.14, 0.74, -0.59, 0.66, 7, 1) {'positive': 0.74, 'negative': 0.59} good and pleasant news about bad things\n",
      "(0.0, 0.0, -0.0, 0.0, 2, 1) {} empty spaces\n"
     ]
    }
   ],
   "source": [
    "texts = ['good news','bad news','good bad news','good and pleasant news about bad things','empty spaces']\n",
    "for t in texts:\n",
    "    sentiment = p.get_sentiment(t)\n",
    "    metrics = s.get_sentiment_words(t)\n",
    "    assert sentiment[1] == (metrics['positive'] if 'positive' in metrics else 0) \n",
    "    assert sentiment[2] == (-metrics['negative'] if 'negative' in metrics else 0) \n",
    "    print(sentiment,metrics,t)\n"
   ]
  },
  {
   "cell_type": "code",
   "execution_count": 23,
   "id": "a9132e79",
   "metadata": {},
   "outputs": [
    {
     "name": "stdout",
     "output_type": "stream",
     "text": [
      "{} empty spaces\n",
      "{'catastrophizing': 0.92} i will fail\n",
      "{'catastrophizing': 0.71} i will fail without of glass of water\n",
      "{'catastrophizing': 0.62} i will fail without of glass of water and bottle of whiskey\n",
      "{'catastrophizing': 0.59, 'dichotomous-reasoning': 0.46} i will fail without of glass of water and bottle of whiskey every day\n",
      "{'dichotomous-reasoning': 1.0} never ever\n",
      "{} damn cold\n"
     ]
    }
   ],
   "source": [
    "texts = ['empty spaces',\n",
    "         'i will fail',\n",
    "         'i will fail without of glass of water',\n",
    "         'i will fail without of glass of water and bottle of whiskey',\n",
    "         'i will fail without of glass of water and bottle of whiskey every day',\n",
    "         'never ever',\n",
    "         'damn cold']\n",
    "for t in texts:\n",
    "    metrics = a.get_sentiment_words(t)\n",
    "    print(metrics,t)\n"
   ]
  },
  {
   "cell_type": "code",
   "execution_count": 25,
   "id": "06269798",
   "metadata": {},
   "outputs": [
    {
     "name": "stdout",
     "output_type": "stream",
     "text": [
      "{} empty spaces\n",
      "{'catastrophizing': 0.92} i will fail\n",
      "{'catastrophizing': 0.71} i will fail without of glass of water\n",
      "{'catastrophizing': 0.62} i will fail without of glass of water and bottle of whiskey\n",
      "{'catastrophizing': 0.59, 'dichotomous-reasoning': 0.46} i will fail without of glass of water and bottle of whiskey every day\n",
      "{'negative': 0.85, 'dichotomous-reasoning': 1.0} never ever\n",
      "{'negative': 1.0, 'rude': 0.85} damn cold\n"
     ]
    }
   ],
   "source": [
    "labels = ['positive','negative','rude',\n",
    "'catastrophizing','dichotomous-reasoning','disqualifying-positive','emotional-reasoning','fortune-telling',\n",
    "'labeling','magnification','mental-filtering','mindreading','overgeneralizing','personalizing','should-statement']\n",
    "l = TextMetrics(language_metrics('en',labels),debug=False)\n",
    "for t in texts:\n",
    "    metrics = l.get_sentiment_words(t)\n",
    "    print(metrics,t)\n"
   ]
  },
  {
   "cell_type": "code",
   "execution_count": null,
   "id": "ff4c7e3b",
   "metadata": {},
   "outputs": [],
   "source": []
  },
  {
   "cell_type": "code",
   "execution_count": 5,
   "id": "318b2ea3",
   "metadata": {},
   "outputs": [],
   "source": [
    "\n",
    "\n",
    "\n"
   ]
  }
 ],
 "metadata": {
  "kernelspec": {
   "display_name": "Python 3 (ipykernel)",
   "language": "python",
   "name": "python3"
  },
  "language_info": {
   "codemirror_mode": {
    "name": "ipython",
    "version": 3
   },
   "file_extension": ".py",
   "mimetype": "text/x-python",
   "name": "python",
   "nbconvert_exporter": "python",
   "pygments_lexer": "ipython3",
   "version": "3.7.7"
  }
 },
 "nbformat": 4,
 "nbformat_minor": 5
}
