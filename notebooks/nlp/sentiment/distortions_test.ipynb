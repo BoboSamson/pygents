{
 "cells": [
  {
   "cell_type": "markdown",
   "id": "541bdfcb",
   "metadata": {},
   "source": [
    "# Testing Aigents Cognitive Distortions Analysis API\n",
    "\n",
    "Resources:\n",
    "- Basic paper: https://www.pnas.org/doi/10.1073/pnas.2102061118\n",
    "- Descriptions: https://t.me/collectivei/5401\n",
    "- All emojis: https://emojidb.org/language-emojis\n",
    "- Related: https://github.com/YisroelLen/Cognitive-Distortions-LFS\n"
   ]
  },
  {
   "cell_type": "markdown",
   "id": "1d46f3a2",
   "metadata": {},
   "source": [
    "## Rendering distortions\n",
    "- 😱🌋🌊🌪☄️📛Catastrophizing: Exaggerating the importance of negative events \n",
    "- ⚖️⚪️⚫️☯️Dichotomous Reasoning: Thinking that an inherently continuous situation can only fall into two categories \n",
    "- 👎💩Disqualifying the Positive: Unreasonably discounting positive experiences\n",
    "- 💔💖💓🖤Emotional Reasoning: Thinking that something is true based on how one feels, ignoring the evidence to the contrary\n",
    "- 🔮Fortune-telling: Making predictions, usually negative ones, about the future \n",
    "- 🏷Labeling and mislabeling: Labeling yourself or others while discounting evidence that could lead to less disastrous conclusions\n",
    "- 🔬🔭🔎Magnification and Minimization: Magnifying negative aspects or minimizing positive aspects\n",
    "- 🙅Mental Filtering: Paying too much attention to negative details instead of the whole picture\n",
    "- 😎🧙‍♂️🧘‍♂️👳🏽Mindreading: Believing you know what others are thinking\n",
    "- 📉Overgeneralizing: Making sweeping negative conclusions based on a few examples\n",
    "- 🙇🏼🤦🏼Personalizing: Believing others are behaving negatively because of oneself, without considering more plausible or external explanations for behavior\n",
    "- 📌🗜🚫Should statements: Having a fixed idea on how you and/or others should behave\n",
    "- 🎭😊😟🤼‍♂️🤼‍♀️ Contradictive statements: Opposition of positive and negative references to the same situation or context\n",
    "- 😊Positive statements: Emotionally positive sentiment about situation or context \n",
    "- 😟Negative statements: Emotionally negtative sentiment about situation or context \n",
    "- 😳Rude statements: Emotionally rude (obscene vocabulary) expressions about situation or context\n",
    "    \n",
    "Source: https://emojidb.org/"
   ]
  },
  {
   "cell_type": "markdown",
   "id": "2d53f421",
   "metadata": {},
   "source": [
    "## Distortions in Russian (Google Translated)\n",
    "\n",
    "- 😱🌋🌊🌪☄️📛Катастрофизация: преувеличение важности негативных событий.\n",
    "- ⚖️⚪️⚫️☯️Дихотомическое мышление: мысль о том, что непрерывная по своей сути ситуация может делиться только на две категории.\n",
    "- 👎💩Дисквалификация позитива: необоснованное обесценивание позитивного опыта.\n",
    "- 💔💖💓🖤Эмоциональное мышление: думать, что что-то верно, основываясь на своих чувствах, игнорируя доказательства обратного.\n",
    "- 🔮Гадание: предсказания будущего, обычно негативные.\n",
    "- 🏷Навешивание ярлыков и неправильные ярлыки: навешивание ярлыков на себя и других, при этом игнорируя доказательства, которые могли бы привести к менее катастрофическим выводам.\n",
    "- 🔬🔭🔎Увеличение и минимизация: усиление отрицательных аспектов или минимизация положительных аспектов.\n",
    "- 🙅Ментальная фильтрация: слишком много внимания уделяется негативным деталям, а не всей картине.\n",
    "- 😎🧙‍♂️🧘‍♂️👳🏽Чтение мыслей: вера в то, что вы знаете, о чем думают другие.\n",
    "- 📉Чрезмерное обобщение: делать радикальные отрицательные выводы на основе нескольких примеров.\n",
    "- 🤦🙇🏼Персонализация: убеждение, что другие ведут себя негативно из-за себя, без рассмотрения более правдоподобных или внешних объяснений поведения.\n",
    "- 📌🗜🚫Утверждения о том, что следует: наличие фиксированного представления о том, как вам и/или другим следует вести себя.\n",
    "- 🎭Противоречивые утверждения: Противопоставление положительных и отрицательных упоминаний об одной и той же ситуации или контексте.\n",
    "- 😊Позитивные утверждения: эмоционально позитивное отношение к ситуации или контексту.\n",
    "- 😟Негативные утверждения: эмоционально негативное мнение о ситуации или контексте.\n",
    "- 😳Грубые высказывания: эмоционально грубые (нецензурная лексика) выражения о ситуации или контексте.\n"
   ]
  },
  {
   "cell_type": "code",
   "execution_count": 1,
   "id": "77fc69b3",
   "metadata": {},
   "outputs": [
    {
     "name": "stdout",
     "output_type": "stream",
     "text": [
      "4\n",
      "6\n"
     ]
    }
   ],
   "source": [
    "import os, sys, math\n",
    "cwd = os.getcwd()\n",
    "project_path = cwd[:cwd.find('pygents')+7]\n",
    "if project_path not in sys.path: sys.path.append(project_path)\n",
    "os.chdir(project_path) \n",
    "\n",
    "import datetime as dt\n",
    "import matplotlib.pyplot as plt\n",
    "import requests\n",
    "from bs4 import BeautifulSoup\n",
    "\n",
    "if 'pygents.aigents_api' in sys.modules:\n",
    "    del sys.modules['pygents.aigents_api']\n",
    "if 'pygents.util' in sys.modules:\n",
    "    del sys.modules['pygents.util']\n",
    "\n",
    "from pygents.aigents_api import AigentsSentiment, PygentsSentiment, TextMetrics\n",
    "from pygents.util import vector_proximity\n",
    "\n",
    "\n",
    "def language_metrics(lang,metrics_list):\n",
    "    metrics = {}\n",
    "    for m in metrics_list:\n",
    "        metrics[m] = './data/dict/' + lang + '/' + m + '.txt'\n",
    "    return metrics\n",
    "\n",
    "        \n",
    "p = PygentsSentiment('./data/dict/en/positive.txt',\n",
    "                     './data/dict/en/negative.txt',debug=True)\n",
    "a = TextMetrics(language_metrics('en',['catastrophizing','dichotomous-reasoning']),debug=True)\n",
    "s = TextMetrics(language_metrics('en',['positive','negative']),debug=True)\n",
    "\n",
    "print(a.gram_arity)\n",
    "print(s.gram_arity)\n"
   ]
  },
  {
   "cell_type": "code",
   "execution_count": 2,
   "id": "d1ac4acc",
   "metadata": {},
   "outputs": [
    {
     "data": {
      "text/plain": [
       "{'catastrophizing': {('will', 'be', 'a', 'catastrophe'),\n",
       "  ('will', 'be', 'a', 'disaster'),\n",
       "  ('will', 'be', 'horrible'),\n",
       "  ('will', 'be', 'impossible'),\n",
       "  ('will', 'be', 'terrible'),\n",
       "  ('will', 'end'),\n",
       "  ('will', 'fail'),\n",
       "  ('will', 'go', 'wrong'),\n",
       "  ('will', 'never', 'end'),\n",
       "  ('will', 'not', 'end'),\n",
       "  ('will', 'not', 'happen')},\n",
       " 'dichotomous-reasoning': {('all',),\n",
       "  ('always',),\n",
       "  ('black', 'or', 'white'),\n",
       "  ('either', 'or'),\n",
       "  ('ever',),\n",
       "  ('every',),\n",
       "  ('everybody',),\n",
       "  ('everyone',),\n",
       "  ('everything',),\n",
       "  ('everywhere',),\n",
       "  ('neither',),\n",
       "  ('never',),\n",
       "  ('no', 'one'),\n",
       "  ('nobody',),\n",
       "  ('nor',),\n",
       "  ('not', 'a', 'single'),\n",
       "  ('nothing',),\n",
       "  ('nowhere',),\n",
       "  ('only',),\n",
       "  ('perfect',),\n",
       "  ('the', 'best'),\n",
       "  ('the', 'worst'),\n",
       "  ('worthless',)}}"
      ]
     },
     "execution_count": 2,
     "metadata": {},
     "output_type": "execute_result"
    }
   ],
   "source": [
    "a.metrics\n"
   ]
  },
  {
   "cell_type": "code",
   "execution_count": 3,
   "id": "c467e869",
   "metadata": {
    "scrolled": true
   },
   "outputs": [
    {
     "name": "stdout",
     "output_type": "stream",
     "text": [
      "('feel', 'like', 'a', 'million', 'dollars')\n",
      "('revelation', 'of', 'saint', 'john', 'the', 'divine')\n",
      "('too', 'big', 'for', \"one's\", 'breeches')\n",
      "('pull', 'a', 'fast', 'one', 'on')\n",
      "('respiratory', 'distress', 'syndrome', 'of', 'the', 'newborn')\n"
     ]
    }
   ],
   "source": [
    "for m in s.metrics:\n",
    "    ngrams = s.metrics[m]\n",
    "    for n in ngrams:\n",
    "        if len(n) > 4:\n",
    "            print(n)\n"
   ]
  },
  {
   "cell_type": "code",
   "execution_count": 4,
   "id": "dae1c853",
   "metadata": {},
   "outputs": [
    {
     "name": "stdout",
     "output_type": "stream",
     "text": [
      "(0.85, 0.85, -0.0, 0.0, 2, 1) {'positive': 0.85} good news\n",
      "(-0.85, 0.0, -0.85, 0.0, 2, 1) {'negative': 0.85} bad news\n",
      "(0.0, 0.77, -0.77, 0.77, 3, 1) {'positive': 0.77, 'negative': 0.77, 'contradictive': 0.77} good bad news\n",
      "(0.14, 0.74, -0.59, 0.66, 7, 1) {'positive': 0.74, 'negative': 0.59, 'contradictive': 0.66} good and pleasant news about bad things\n",
      "(0.0, 0.77, -0.77, 0.77, 3, 1) {'positive': 0.77, 'negative': 0.77, 'contradictive': 0.77} good bad cloud\n",
      "(0.0, 0.0, -0.0, 0.0, 2, 1) {} empty spaces\n"
     ]
    }
   ],
   "source": [
    "texts = ['good news','bad news','good bad news','good and pleasant news about bad things','good bad cloud','empty spaces']\n",
    "for t in texts:\n",
    "    sentiment = p.get_sentiment(t)\n",
    "    metrics = s.get_sentiment_words(t)\n",
    "    assert sentiment[1] == (metrics['positive'] if 'positive' in metrics else 0) \n",
    "    assert sentiment[2] == (-metrics['negative'] if 'negative' in metrics else 0) \n",
    "    print(sentiment,metrics,t)\n"
   ]
  },
  {
   "cell_type": "code",
   "execution_count": 5,
   "id": "0842952e",
   "metadata": {},
   "outputs": [
    {
     "name": "stdout",
     "output_type": "stream",
     "text": [
      "{} empty spaces\n",
      "{'catastrophizing': 0.92} i will fail\n",
      "{'catastrophizing': 0.71} i will fail without of glass of water\n",
      "{'catastrophizing': 0.62} i will fail without of glass of water and bottle of whiskey\n",
      "{'catastrophizing': 0.59, 'dichotomous-reasoning': 0.46} i will fail without of glass of water and bottle of whiskey every day\n",
      "{'dichotomous-reasoning': 1.0} never ever\n",
      "{} damn cold\n"
     ]
    }
   ],
   "source": [
    "texts = ['empty spaces',\n",
    "         'i will fail',\n",
    "         'i will fail without of glass of water',\n",
    "         'i will fail without of glass of water and bottle of whiskey',\n",
    "         'i will fail without of glass of water and bottle of whiskey every day',\n",
    "         'never ever',\n",
    "         'damn cold']\n",
    "for t in texts:\n",
    "    metrics = a.get_sentiment_words(t)\n",
    "    print(metrics,t)\n"
   ]
  },
  {
   "cell_type": "code",
   "execution_count": 6,
   "id": "e1c82561",
   "metadata": {},
   "outputs": [
    {
     "name": "stdout",
     "output_type": "stream",
     "text": [
      "{} empty spaces\n",
      "{'catastrophizing': 0.92} i will fail\n",
      "{'catastrophizing': 0.71} i will fail without of glass of water\n",
      "{'catastrophizing': 0.62} i will fail without of glass of water and bottle of whiskey\n",
      "{'catastrophizing': 0.59, 'dichotomous-reasoning': 0.46} i will fail without of glass of water and bottle of whiskey every day\n",
      "{'negative': 0.85, 'dichotomous-reasoning': 1.0} never ever\n",
      "{'negative': 1.0, 'rude': 0.85} damn cold\n"
     ]
    }
   ],
   "source": [
    "labels = ['positive','negative','rude',\n",
    "'catastrophizing','dichotomous-reasoning','disqualifying-positive','emotional-reasoning','fortune-telling',\n",
    "'labeling','magnification','mental-filtering','mindreading','overgeneralizing','personalizing','should-statement']\n",
    "l = TextMetrics(language_metrics('en',labels),debug=False)\n",
    "for t in texts:\n",
    "    metrics = l.get_sentiment_words(t)\n",
    "    print(metrics,t)\n"
   ]
  },
  {
   "cell_type": "code",
   "execution_count": 7,
   "id": "f2761fa8",
   "metadata": {
    "scrolled": false
   },
   "outputs": [
    {
     "name": "stdout",
     "output_type": "stream",
     "text": [
      "{'positive': [('good', 'for', 'you'), ('come', 'to'), ('thank', 'you'), ('due',), ('respect',), ('know',), ('honour',), ('highly',), ('reputable',), ('master',), ('truth',), ('just',), ('security',), ('contain',), ('know',), ('just',), ('know',), ('sincerely',), ('humble',), ('highly',), ('trust',), ('account',), ('please',), ('consider',), ('possible',), ('best',)], 'negative': [('does', 'not'), ('get', 'back'), ('have',), ('not',), ('against',), ('sad',), ('mysteriously',), ('death',), ('have',), ('died',), ('death',), ('have',), (\"don't\",), ('have',), ('suffered',), ('incessant',), ('crisis',), ('death',), ('sorrow',)], 'personalizing': [('because', 'i')], 'dichotomous-reasoning': [('nor',), ('only',)], 'rude': [('god',)], 'overgeneralizing': [('completely',)], 'magnification': [('best',)]}\n"
     ]
    },
    {
     "data": {
      "text/plain": [
       "{'positive': 0.45,\n",
       " 'negative': 0.38,\n",
       " 'personalizing': 0.08,\n",
       " 'dichotomous-reasoning': 0.08,\n",
       " 'rude': 0.05,\n",
       " 'overgeneralizing': 0.05,\n",
       " 'magnification': 0.05,\n",
       " 'contradictive': 0.41}"
      ]
     },
     "execution_count": 7,
     "metadata": {},
     "output_type": "execute_result"
    }
   ],
   "source": [
    "text = ''\n",
    "with open('./data/corpora/English/fishing/sample1.txt') as f:\n",
    "    lines = f.readlines()\n",
    "for line in lines:\n",
    "    text += line\n",
    "lists = {}\n",
    "metrics = l.get_sentiment_words(text,lists,debug=False)\n",
    "print(lists)\n",
    "metrics"
   ]
  },
  {
   "cell_type": "markdown",
   "id": "bbddbb2a",
   "metadata": {},
   "source": [
    "## Representing Distortions "
   ]
  },
  {
   "cell_type": "code",
   "execution_count": 36,
   "id": "4cfb8e20",
   "metadata": {},
   "outputs": [],
   "source": [
    "psy_metrics = {'en':[\n",
    "('😊','positive','Positive statements','Emotionally positive sentiment about situation or context'),\n",
    "('😟','negative','Negative statements','Emotionally negtative sentiment about situation or context'),\n",
    "('🎭','contradictive','Contradictive statements','Opposition of positive and negative references to the same situation or context'),\n",
    "('😳','rude','Rude statements','Emotionally rude (obscene vocabulary) expressions about situation or context'),\n",
    "('😱','catastrophizing','Catastrophizing','Exaggerating the importance of negative events'),\n",
    "('⚖️','dichotomous-reasoning','Dichotomous Reasoning','Thinking that an inherently continuous situation can only fall into two categories'),\n",
    "('👎','disqualifying-positive','Disqualifying the Positive','Unreasonably discounting positive experiences'),\n",
    "('💔','emotional-reasoning','Emotional Reasoning','Thinking that something is true based on how one feels, ignoring the evidence to the contrary'),\n",
    "('🔮','fortune-telling','Fortune-telling','Making predictions, usually negative ones, about the future'),\n",
    "('🏷','labeling','Labeling and mislabeling','Labeling yourself or others while discounting evidence that could lead to less disastrous conclusions'),\n",
    "('🔬','magnification','Magnification and Minimization','Magnifying negative aspects or minimizing positive aspects'),\n",
    "('🙅','mental-filtering','Mental Filtering','Paying too much attention to negative details instead of the whole picture'),\n",
    "('😎','mindreading','Mindreading','Believing you know what others are thinking'),\n",
    "('📉','overgeneralizing','Overgeneralizing','Making sweeping negative conclusions based on a few examples'),\n",
    "('🙇🏼','personalizing','Personalizing','Believing others are behaving negatively because of oneself, without considering more plausible or external explanations for behavior'),\n",
    "('📌','should-statement','Should statements','Having a fixed idea on how you and/or others should behave')],\n",
    "'ru':[\n",
    "('😊','positive','Позитивные высказывания','Эмоционально позитивное отношение к ситуации или контексту'),\n",
    "('😟','negative','Негативные высказывания','Эмоционально негативное мнение о ситуации или контексте'),\n",
    "('🎭','contradictive','Противоречивые высказывания','Противопоставление положительных и отрицательных упоминаний об одной и той же ситуации или контексте'),\n",
    "('😳','rude','Грубые высказывания','Эмоционально грубые (нецензурная лексика) выражения о ситуации или контексте'),\n",
    "('😱','catastrophizing','Катастрофизация','Преувеличение важности негативных событий'),\n",
    "('⚖️','dichotomous-reasoning','Дихотомическое мышление','Мысль о том, что непрерывная по своей сути ситуация может делиться только на две категории'),\n",
    "('👎','disqualifying-positive','Дисквалификация позитива','Необоснованное обесценивание позитивного опыта'),\n",
    "('💔','emotional-reasoning','Эмоциональное мышление','Думать, что что-то верно, основываясь на своих чувствах, игнорируя доказательства обратного'),\n",
    "('🔮','fortune-telling','Гадание','Предсказания будущего, обычно негативные'),\n",
    "('🏷','labeling','Навешивание ярлыков','Навешивание ярлыков на себя и других, при этом игнорируя доказательства, которые могли бы привести к менее катастрофическим выводам'),\n",
    "('🔬','magnification','Преувеличение и преуменьшение','Усиление отрицательных аспектов или минимизация положительных аспектов'),\n",
    "('🙅','mental-filtering','Ментальная фильтрация','Слишком много внимания уделяется негативным деталям, а не всей картине'),\n",
    "('😎','mindreading','Чтение мыслей','Вера в то, что вы знаете, о чем думают другие'),\n",
    "('📉','overgeneralizing','Чрезмерное обобщение','Делать радикальные отрицательные выводы на основе нескольких примеров'),\n",
    "('🙇🏼','personalizing','Персонализация','Убеждение, что другие ведут себя негативно из-за себя, без рассмотрения более правдоподобных или внешних объяснений поведения'),\n",
    "('📌','should-statement','Предписывание','Наличие фиксированного представления о том, как вам и/или другим следует вести себя')]}\n",
    "\n",
    "\n",
    "def psy_metric_lists(metrics,lang='en'):\n",
    "    psy_lang_metrics = psy_metrics[lang]\n",
    "    keys = []\n",
    "    vals = []\n",
    "    for m in psy_lang_metrics:\n",
    "        if m[1] in metrics:\n",
    "            keys.append(m[2])\n",
    "            vals.append(metrics[m[1]])\n",
    "    return (keys, vals)\n",
    "    \n",
    "def psy_metric_texts(metrics,lang='en'):\n",
    "    psy_lang_metrics = psy_metrics[lang]\n",
    "    texts = []\n",
    "    for m in psy_lang_metrics:\n",
    "        if m[1] in metrics:\n",
    "            s = m[0]\n",
    "            t = m[2]\n",
    "            v = metrics[m[1]]\n",
    "            s = s+s+s+s if v >= 0.75 else s+s+s if v > 0.5 else s+s if v > 0.25 else s \n",
    "            texts.append(s+t)\n",
    "    return texts\n"
   ]
  },
  {
   "cell_type": "code",
   "execution_count": 37,
   "id": "81000cc2",
   "metadata": {},
   "outputs": [
    {
     "name": "stdout",
     "output_type": "stream",
     "text": [
      "{'positive': [('good', 'for', 'you'), ('come', 'to'), ('thank', 'you'), ('due',), ('respect',), ('know',), ('honour',), ('highly',), ('reputable',), ('master',), ('truth',), ('just',), ('security',), ('contain',), ('know',), ('just',), ('know',), ('sincerely',), ('humble',), ('highly',), ('trust',), ('account',), ('please',), ('consider',), ('possible',), ('best',)], 'negative': [('does', 'not'), ('get', 'back'), ('have',), ('not',), ('against',), ('sad',), ('mysteriously',), ('death',), ('have',), ('died',), ('death',), ('have',), (\"don't\",), ('have',), ('suffered',), ('incessant',), ('crisis',), ('death',), ('sorrow',)], 'personalizing': [('because', 'i')], 'dichotomous-reasoning': [('nor',), ('only',)], 'rude': [('god',)], 'overgeneralizing': [('completely',)], 'magnification': [('best',)]}\n",
      "(['Positive statements', 'Negative statements', 'Contradictive statements', 'Rude statements', 'Dichotomous Reasoning', 'Magnification and Minimization', 'Overgeneralizing', 'Personalizing'], [0.45, 0.38, 0.41, 0.05, 0.08, 0.05, 0.05, 0.08])\n",
      "\n",
      "😊😊Positive statements\n",
      "😟😟Negative statements\n",
      "🎭🎭Contradictive statements\n",
      "😳Rude statements\n",
      "⚖️Dichotomous Reasoning\n",
      "🔬Magnification and Minimization\n",
      "📉Overgeneralizing\n",
      "🙇🏼Personalizing\n"
     ]
    },
    {
     "data": {
      "image/png": "[encoded data removed]",
      "text/plain": [
       "<Figure size 360x360 with 1 Axes>"
      ]
     },
     "metadata": {
      "needs_background": "light"
     },
     "output_type": "display_data"
    }
   ],
   "source": [
    "text = ''\n",
    "with open('./data/corpora/English/fishing/sample1.txt') as f:\n",
    "    lines = f.readlines()\n",
    "for line in lines:\n",
    "    text += line\n",
    "lists = {}\n",
    "metrics = l.get_sentiment_words(text,lists,debug=False)\n",
    "print(lists)\n",
    "metric_lists = psy_metric_lists(metrics)\n",
    "print(metric_lists)\n",
    "print()\n",
    "metric_texts = psy_metric_texts(metrics)\n",
    "print('\\n'.join(metric_texts))\n",
    "plt.rcParams[\"figure.figsize\"] = (5,5)\n",
    "bars = plt.barh(metric_lists[0], metric_lists[1], color='khaki')\n",
    "plt.gca().invert_yaxis()\n",
    "plt.show()"
   ]
  },
  {
   "cell_type": "code",
   "execution_count": 38,
   "id": "18c50348",
   "metadata": {},
   "outputs": [
    {
     "name": "stdout",
     "output_type": "stream",
     "text": [
      "(['Позитивные высказывания', 'Негативные высказывания', 'Противоречивые высказывания', 'Грубые высказывания', 'Дихотомическое мышление', 'Преувеличение и преуменьшение', 'Чрезмерное обобщение', 'Персонализация'], [0.45, 0.38, 0.41, 0.05, 0.08, 0.05, 0.05, 0.08])\n",
      "\n",
      "😊😊Позитивные высказывания\n",
      "😟😟Негативные высказывания\n",
      "🎭🎭Противоречивые высказывания\n",
      "😳Грубые высказывания\n",
      "⚖️Дихотомическое мышление\n",
      "🔬Преувеличение и преуменьшение\n",
      "📉Чрезмерное обобщение\n",
      "🙇🏼Персонализация\n"
     ]
    },
    {
     "data": {
      "image/png": "[encoded data removed]",
      "text/plain": [
       "<Figure size 360x360 with 1 Axes>"
      ]
     },
     "metadata": {
      "needs_background": "light"
     },
     "output_type": "display_data"
    }
   ],
   "source": [
    "metric_lists = psy_metric_lists(metrics,lang='ru')\n",
    "print(metric_lists)\n",
    "print()\n",
    "metric_texts = psy_metric_texts(metrics,lang='ru')\n",
    "print('\\n'.join(metric_texts))\n",
    "plt.rcParams[\"figure.figsize\"] = (5,5)\n",
    "bars = plt.barh(metric_lists[0], metric_lists[1], color='khaki')\n",
    "plt.gca().invert_yaxis()\n",
    "plt.show()"
   ]
  },
  {
   "cell_type": "code",
   "execution_count": 39,
   "id": "06d2f023",
   "metadata": {},
   "outputs": [
    {
     "name": "stdout",
     "output_type": "stream",
     "text": [
      "😊😊Positive statements, 😟😟Negative statements, 🎭🎭Contradictive statements, ⚖️Dichotomous Reasoning, 🔬Magnification and Minimization, 📉Overgeneralizing\n"
     ]
    },
    {
     "data": {
      "image/png": "[encoded data removed]",
      "text/plain": [
       "<Figure size 360x360 with 1 Axes>"
      ]
     },
     "metadata": {
      "needs_background": "light"
     },
     "output_type": "display_data"
    }
   ],
   "source": [
    "link = \"https://www.wired.com/story/fast-forward-ai-powerful-secretive/\"\n",
    "html = requests.get(link).text  \n",
    "soup = BeautifulSoup(html)\n",
    "text = soup.get_text()\n",
    "text\n",
    "lists = {}\n",
    "metrics = l.get_sentiment_words(text,lists,debug=False)\n",
    "metric_texts = psy_metric_texts(metrics)\n",
    "print(', '.join(metric_texts))\n",
    "metric_lists = psy_metric_lists(metrics)\n",
    "bars = plt.barh(metric_lists[0], metric_lists[1], color='khaki')\n",
    "plt.gca().invert_yaxis()\n"
   ]
  },
  {
   "cell_type": "code",
   "execution_count": 40,
   "id": "1d934d9d",
   "metadata": {},
   "outputs": [
    {
     "name": "stdout",
     "output_type": "stream",
     "text": [
      "😊😊Positive statements\n",
      "😟😟Negative statements\n",
      "🎭🎭Contradictive statements\n",
      "😳Rude statements\n",
      "⚖️Dichotomous Reasoning\n",
      "🙇🏼Personalizing\n",
      "📌Should statements\n"
     ]
    },
    {
     "data": {
      "image/png": "[encoded data removed]",
      "text/plain": [
       "<Figure size 360x360 with 1 Axes>"
      ]
     },
     "metadata": {
      "needs_background": "light"
     },
     "output_type": "display_data"
    }
   ],
   "source": [
    "link = \"https://futurism.com/ai-expert-bomb-datacenters\"\n",
    "html = requests.get(link).text  \n",
    "soup = BeautifulSoup(html)\n",
    "text = soup.get_text()\n",
    "text\n",
    "lists = {}\n",
    "metrics = l.get_sentiment_words(text,lists,debug=False)\n",
    "metric_texts = psy_metric_texts(metrics)\n",
    "print('\\n'.join(metric_texts))\n",
    "metric_lists = psy_metric_lists(metrics)\n",
    "bars = plt.barh(metric_lists[0], metric_lists[1], color='khaki')\n",
    "plt.gca().invert_yaxis()"
   ]
  },
  {
   "cell_type": "code",
   "execution_count": null,
   "id": "cfc4b116",
   "metadata": {},
   "outputs": [],
   "source": []
  },
  {
   "cell_type": "code",
   "execution_count": null,
   "id": "203c1aa7",
   "metadata": {},
   "outputs": [],
   "source": []
  },
  {
   "cell_type": "code",
   "execution_count": null,
   "id": "526ac62f",
   "metadata": {},
   "outputs": [],
   "source": []
  },
  {
   "cell_type": "code",
   "execution_count": null,
   "id": "48266321",
   "metadata": {},
   "outputs": [],
   "source": []
  },
  {
   "cell_type": "code",
   "execution_count": 14,
   "id": "318b2ea3",
   "metadata": {},
   "outputs": [],
   "source": [
    "#TODO emotion (overall)\n",
    "\n",
    "\n"
   ]
  }
 ],
 "metadata": {
  "kernelspec": {
   "display_name": "Python 3 (ipykernel)",
   "language": "python",
   "name": "python3"
  },
  "language_info": {
   "codemirror_mode": {
    "name": "ipython",
    "version": 3
   },
   "file_extension": ".py",
   "mimetype": "text/x-python",
   "name": "python",
   "nbconvert_exporter": "python",
   "pygments_lexer": "ipython3",
   "version": "3.7.7"
  }
 },
 "nbformat": 4,
 "nbformat_minor": 5
}
