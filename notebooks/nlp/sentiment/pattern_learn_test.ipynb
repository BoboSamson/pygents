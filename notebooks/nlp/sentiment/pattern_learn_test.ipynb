{
 "cells": [
  {
   "cell_type": "code",
   "execution_count": 1,
   "id": "96119967",
   "metadata": {},
   "outputs": [],
   "source": [
    "import os, sys, math\n",
    "cwd = os.getcwd()\n",
    "project_path = cwd[:cwd.find('pygents')+7]\n",
    "if project_path not in sys.path: sys.path.append(project_path)\n",
    "os.chdir(project_path) \n",
    "\n",
    "import pandas as pd"
   ]
  },
  {
   "cell_type": "code",
   "execution_count": 2,
   "id": "5535b413",
   "metadata": {},
   "outputs": [
    {
     "data": {
      "text/plain": [
       "[(True, 'weather is good!'),\n",
       " (True, 'weather is great!'),\n",
       " (False, 'what is the weather?'),\n",
       " (False, 'what about the weather?')]"
      ]
     },
     "execution_count": 2,
     "metadata": {},
     "output_type": "execute_result"
    }
   ],
   "source": [
    "test = [\n",
    "    (True,\"weather is good!\"),\n",
    "    (True,\"weather is great!\"),\n",
    "    (False,\"what is the weather?\"),\n",
    "    (False,\"what about the weather?\")\n",
    "]\n",
    "test"
   ]
  },
  {
   "cell_type": "code",
   "execution_count": 3,
   "id": "593879d7",
   "metadata": {},
   "outputs": [],
   "source": [
    "from pygents.aigents_api import tokenize_re\n",
    "from pygents.util import dictcount\n",
    "from pygents.plot import plot_dict\n"
   ]
  },
  {
   "cell_type": "code",
   "execution_count": 4,
   "id": "6e733468",
   "metadata": {},
   "outputs": [
    {
     "name": "stdout",
     "output_type": "stream",
     "text": [
      "{'weather': 4, 'is': 3, 'good': 1, '!': 2, 'great': 1, 'what': 2, 'the': 2, '?': 2, 'about': 1}\n",
      "{'weather': 2, 'is': 2, 'good': 1, '!': 2, 'great': 1}\n",
      "{'what': 2, 'is': 1, 'the': 2, 'weather': 2, '?': 2, 'about': 1}\n"
     ]
    }
   ],
   "source": [
    "all_dic = {}\n",
    "cat_dic = {}\n",
    "not_dic = {}\n",
    "\n",
    "tokenized_text = []\n",
    "for t in test:\n",
    "    toks = tokenize_re(t[1])\n",
    "    tokenized_text.append(toks)\n",
    "    for tok in toks:\n",
    "        dictcount(all_dic,tok)\n",
    "        if t[0]:\n",
    "            dictcount(cat_dic,tok)\n",
    "        else:\n",
    "            dictcount(not_dic,tok)\n",
    "    \n",
    "print(all_dic)\n",
    "print(cat_dic)\n",
    "print(not_dic)\n"
   ]
  },
  {
   "cell_type": "code",
   "execution_count": 5,
   "id": "42e8fc9a",
   "metadata": {},
   "outputs": [
    {
     "data": {
      "image/png": "[encoded data removed]",
      "text/plain": [
       "<Figure size 1440x144 with 1 Axes>"
      ]
     },
     "metadata": {
      "needs_background": "light"
     },
     "output_type": "display_data"
    },
    {
     "data": {
      "image/png": "[encoded data removed]",
      "text/plain": [
       "<Figure size 1440x72 with 1 Axes>"
      ]
     },
     "metadata": {
      "needs_background": "light"
     },
     "output_type": "display_data"
    },
    {
     "data": {
      "image/png": "[encoded data removed]",
      "text/plain": [
       "<Figure size 1440x72 with 1 Axes>"
      ]
     },
     "metadata": {
      "needs_background": "light"
     },
     "output_type": "display_data"
    }
   ],
   "source": [
    "plot_dict(all_dic,\"word\",\"count\",\"all\")\n",
    "plot_dict(cat_dic,\"word\",\"count\",\"true\")\n",
    "plot_dict(not_dic,\"word\",\"count\",\"false\")\n",
    "          "
   ]
  },
  {
   "cell_type": "code",
   "execution_count": 6,
   "id": "8da09489",
   "metadata": {},
   "outputs": [],
   "source": [
    "def dic2df(dic):\n",
    "    df = pd.DataFrame([(key, dic[key]) for key in dic],columns=[\"word\",\"count\"])\n",
    "    return df\n",
    "                    "
   ]
  },
  {
   "cell_type": "code",
   "execution_count": 7,
   "id": "5027584e",
   "metadata": {},
   "outputs": [
    {
     "data": {
      "text/html": [
       "<div>\n",
       "<style scoped>\n",
       "    .dataframe tbody tr th:only-of-type {\n",
       "        vertical-align: middle;\n",
       "    }\n",
       "\n",
       "    .dataframe tbody tr th {\n",
       "        vertical-align: top;\n",
       "    }\n",
       "\n",
       "    .dataframe thead th {\n",
       "        text-align: right;\n",
       "    }\n",
       "</style>\n",
       "<table border=\"1\" class=\"dataframe\">\n",
       "  <thead>\n",
       "    <tr style=\"text-align: right;\">\n",
       "      <th></th>\n",
       "      <th>word</th>\n",
       "      <th>count</th>\n",
       "    </tr>\n",
       "  </thead>\n",
       "  <tbody>\n",
       "    <tr>\n",
       "      <th>0</th>\n",
       "      <td>weather</td>\n",
       "      <td>4</td>\n",
       "    </tr>\n",
       "    <tr>\n",
       "      <th>1</th>\n",
       "      <td>is</td>\n",
       "      <td>3</td>\n",
       "    </tr>\n",
       "    <tr>\n",
       "      <th>2</th>\n",
       "      <td>good</td>\n",
       "      <td>1</td>\n",
       "    </tr>\n",
       "    <tr>\n",
       "      <th>3</th>\n",
       "      <td>!</td>\n",
       "      <td>2</td>\n",
       "    </tr>\n",
       "    <tr>\n",
       "      <th>4</th>\n",
       "      <td>great</td>\n",
       "      <td>1</td>\n",
       "    </tr>\n",
       "    <tr>\n",
       "      <th>5</th>\n",
       "      <td>what</td>\n",
       "      <td>2</td>\n",
       "    </tr>\n",
       "    <tr>\n",
       "      <th>6</th>\n",
       "      <td>the</td>\n",
       "      <td>2</td>\n",
       "    </tr>\n",
       "    <tr>\n",
       "      <th>7</th>\n",
       "      <td>?</td>\n",
       "      <td>2</td>\n",
       "    </tr>\n",
       "    <tr>\n",
       "      <th>8</th>\n",
       "      <td>about</td>\n",
       "      <td>1</td>\n",
       "    </tr>\n",
       "  </tbody>\n",
       "</table>\n",
       "</div>"
      ],
      "text/plain": [
       "      word  count\n",
       "0  weather      4\n",
       "1       is      3\n",
       "2     good      1\n",
       "3        !      2\n",
       "4    great      1\n",
       "5     what      2\n",
       "6      the      2\n",
       "7        ?      2\n",
       "8    about      1"
      ]
     },
     "execution_count": 7,
     "metadata": {},
     "output_type": "execute_result"
    }
   ],
   "source": [
    "df_all = dic2df(all_dic)\n",
    "df_all"
   ]
  },
  {
   "cell_type": "code",
   "execution_count": 8,
   "id": "bd9b2156",
   "metadata": {},
   "outputs": [
    {
     "data": {
      "text/html": [
       "<div>\n",
       "<style scoped>\n",
       "    .dataframe tbody tr th:only-of-type {\n",
       "        vertical-align: middle;\n",
       "    }\n",
       "\n",
       "    .dataframe tbody tr th {\n",
       "        vertical-align: top;\n",
       "    }\n",
       "\n",
       "    .dataframe thead th {\n",
       "        text-align: right;\n",
       "    }\n",
       "</style>\n",
       "<table border=\"1\" class=\"dataframe\">\n",
       "  <thead>\n",
       "    <tr style=\"text-align: right;\">\n",
       "      <th></th>\n",
       "      <th>word</th>\n",
       "      <th>count</th>\n",
       "    </tr>\n",
       "  </thead>\n",
       "  <tbody>\n",
       "    <tr>\n",
       "      <th>0</th>\n",
       "      <td>weather</td>\n",
       "      <td>2</td>\n",
       "    </tr>\n",
       "    <tr>\n",
       "      <th>1</th>\n",
       "      <td>is</td>\n",
       "      <td>2</td>\n",
       "    </tr>\n",
       "    <tr>\n",
       "      <th>2</th>\n",
       "      <td>good</td>\n",
       "      <td>1</td>\n",
       "    </tr>\n",
       "    <tr>\n",
       "      <th>3</th>\n",
       "      <td>!</td>\n",
       "      <td>2</td>\n",
       "    </tr>\n",
       "    <tr>\n",
       "      <th>4</th>\n",
       "      <td>great</td>\n",
       "      <td>1</td>\n",
       "    </tr>\n",
       "  </tbody>\n",
       "</table>\n",
       "</div>"
      ],
      "text/plain": [
       "      word  count\n",
       "0  weather      2\n",
       "1       is      2\n",
       "2     good      1\n",
       "3        !      2\n",
       "4    great      1"
      ]
     },
     "execution_count": 8,
     "metadata": {},
     "output_type": "execute_result"
    }
   ],
   "source": [
    "df_cat = dic2df(cat_dic)\n",
    "df_cat\n"
   ]
  },
  {
   "cell_type": "code",
   "execution_count": 17,
   "id": "3bfd8635",
   "metadata": {},
   "outputs": [
    {
     "data": {
      "image/png": "[encoded data removed]",
      "text/plain": [
       "<Figure size 1440x72 with 1 Axes>"
      ]
     },
     "metadata": {
      "needs_background": "light"
     },
     "output_type": "display_data"
    }
   ],
   "source": [
    "import math\n",
    "def dicnormdf(dica,dicb,log=False):\n",
    "    dicc = {}\n",
    "    for a in dica:\n",
    "        x = dica[a] / dicb[a]\n",
    "        dicc[a] = math.log10(x) if log else x\n",
    "    return dicc\n",
    "\n",
    "plot_dict(dicnormdf(cat_dic,all_dic),\"word\",\"count\",\"true/norm\")"
   ]
  },
  {
   "cell_type": "code",
   "execution_count": 15,
   "id": "1e0a0f1a",
   "metadata": {},
   "outputs": [
    {
     "data": {
      "image/png": "[encoded data removed]",
      "text/plain": [
       "<Figure size 1440x72 with 1 Axes>"
      ]
     },
     "metadata": {
      "needs_background": "light"
     },
     "output_type": "display_data"
    }
   ],
   "source": [
    "plot_dict(dicnormdf(not_dic,all_dic),\"word\",\"count\",\"true/norm\")"
   ]
  },
  {
   "cell_type": "code",
   "execution_count": 18,
   "id": "ff433aca",
   "metadata": {},
   "outputs": [
    {
     "data": {
      "text/plain": [
       "-3.0"
      ]
     },
     "execution_count": 18,
     "metadata": {},
     "output_type": "execute_result"
    }
   ],
   "source": [
    "math.log10(0.001)"
   ]
  },
  {
   "cell_type": "code",
   "execution_count": 26,
   "id": "489a5dea",
   "metadata": {},
   "outputs": [
    {
     "data": {
      "text/plain": [
       "{'aaa': 1, 'bbb': 2}"
      ]
     },
     "execution_count": 26,
     "metadata": {},
     "output_type": "execute_result"
    }
   ],
   "source": [
    "dic_test = {}\n",
    "dictcount(dic_test,'aaa')\n",
    "dictcount(dic_test,'bbb')\n",
    "dictcount(dic_test,'bbb')\n",
    "dic_test"
   ]
  },
  {
   "cell_type": "code",
   "execution_count": 27,
   "id": "0464a2f6",
   "metadata": {},
   "outputs": [
    {
     "data": {
      "text/plain": [
       "{'aaa': 2, 'bbb': 4}"
      ]
     },
     "execution_count": 27,
     "metadata": {},
     "output_type": "execute_result"
    }
   ],
   "source": [
    "dictcount(dic_test,('aaa'))\n",
    "dictcount(dic_test,('bbb'))\n",
    "dictcount(dic_test,('bbb'))\n",
    "dic_test"
   ]
  },
  {
   "cell_type": "code",
   "execution_count": 28,
   "id": "0a649d73",
   "metadata": {},
   "outputs": [
    {
     "data": {
      "text/plain": [
       "{'aaa': 2, 'bbb': 4, ('aaa', 'bbb'): 1, ('bbb', 'aaa'): 2}"
      ]
     },
     "execution_count": 28,
     "metadata": {},
     "output_type": "execute_result"
    }
   ],
   "source": [
    "dictcount(dic_test,('aaa','bbb'))\n",
    "dictcount(dic_test,('bbb','aaa'))\n",
    "dictcount(dic_test,('bbb','aaa'))\n",
    "dic_test"
   ]
  },
  {
   "cell_type": "code",
   "execution_count": 29,
   "id": "4409bcb2",
   "metadata": {},
   "outputs": [
    {
     "data": {
      "text/plain": [
       "{'aaa': 5, 'bbb': 7, ('aaa', 'bbb'): 1, ('bbb', 'aaa'): 2}"
      ]
     },
     "execution_count": 29,
     "metadata": {},
     "output_type": "execute_result"
    }
   ],
   "source": [
    "dictcount(dic_test,['aaa','bbb'])\n",
    "dictcount(dic_test,['bbb','aaa'])\n",
    "dictcount(dic_test,['bbb','aaa'])\n",
    "dic_test"
   ]
  },
  {
   "cell_type": "code",
   "execution_count": 31,
   "id": "a63ae82f",
   "metadata": {},
   "outputs": [
    {
     "data": {
      "text/plain": [
       "1"
      ]
     },
     "execution_count": 31,
     "metadata": {},
     "output_type": "execute_result"
    }
   ],
   "source": [
    "x = {}\n",
    "x['a'] = 1\n",
    "x[('a')]"
   ]
  },
  {
   "cell_type": "markdown",
   "id": "fccc60bd",
   "metadata": {},
   "source": [
    "# References\n",
    "https://www.researchgate.net/publication/379458320_Analysis_of_TF-IDF_and_TF-RF_Feature_Extraction_on_Product_Review_Sentiment\n",
    "\n",
    "https://arxiv.org/abs/2202.08965\n",
    "http://webstructor.net/papers/Kolonin-HP-ACA-IC-text.pdf\n",
    "http://webstructor.net/papers/Kolonin-HP-ACA-IC-present.pdf\n",
    "\n",
    "https://ieeexplore.ieee.org/document/7361868\n",
    "https://aigents.com/papers/Kolonin-Automatic-text-classification-and-property-extraction.pdf\n",
    "https://aigents.com/papers/Kolonin-Automatic-text-classification-and-property-extraction-slides.pdf\n"
   ]
  },
  {
   "cell_type": "code",
   "execution_count": null,
   "id": "3b3bb426",
   "metadata": {},
   "outputs": [],
   "source": []
  }
 ],
 "metadata": {
  "kernelspec": {
   "display_name": "Python 3 (ipykernel)",
   "language": "python",
   "name": "python3"
  },
  "language_info": {
   "codemirror_mode": {
    "name": "ipython",
    "version": 3
   },
   "file_extension": ".py",
   "mimetype": "text/x-python",
   "name": "python",
   "nbconvert_exporter": "python",
   "pygments_lexer": "ipython3",
   "version": "3.11.9"
  }
 },
 "nbformat": 4,
 "nbformat_minor": 5
}
