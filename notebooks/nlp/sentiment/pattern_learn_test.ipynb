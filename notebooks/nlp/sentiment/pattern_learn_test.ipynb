{
 "cells": [
  {
   "cell_type": "code",
   "execution_count": 6,
   "id": "96119967",
   "metadata": {},
   "outputs": [],
   "source": [
    "import os, sys, math\n",
    "cwd = os.getcwd()\n",
    "project_path = cwd[:cwd.find('pygents')+7]\n",
    "if project_path not in sys.path: sys.path.append(project_path)\n",
    "os.chdir(project_path) \n",
    "\n",
    "import pandas as pd"
   ]
  },
  {
   "cell_type": "code",
   "execution_count": 7,
   "id": "5535b413",
   "metadata": {},
   "outputs": [
    {
     "data": {
      "text/plain": [
       "[(True, 'weather is good!'),\n",
       " (True, 'weather is great!'),\n",
       " (False, 'what is the weather?'),\n",
       " (False, 'what about the weather?')]"
      ]
     },
     "execution_count": 7,
     "metadata": {},
     "output_type": "execute_result"
    }
   ],
   "source": [
    "test = [\n",
    "    (True,\"weather is good!\"),\n",
    "    (True,\"weather is great!\"),\n",
    "    (False,\"what is the weather?\"),\n",
    "    (False,\"what about the weather?\")\n",
    "]\n",
    "test"
   ]
  },
  {
   "cell_type": "code",
   "execution_count": 8,
   "id": "593879d7",
   "metadata": {},
   "outputs": [],
   "source": [
    "from pygents.aigents_api import tokenize_re\n",
    "from pygents.util import dictcount\n",
    "from pygents.plot import plot_dict\n"
   ]
  },
  {
   "cell_type": "code",
   "execution_count": 9,
   "id": "6e733468",
   "metadata": {},
   "outputs": [
    {
     "name": "stdout",
     "output_type": "stream",
     "text": [
      "{'weather': 4, 'is': 3, 'good': 1, '!': 2, 'great': 1, 'what': 2, 'the': 2, '?': 2, 'about': 1}\n",
      "{'weather': 2, 'is': 2, 'good': 1, '!': 2, 'great': 1}\n",
      "{'what': 2, 'is': 1, 'the': 2, 'weather': 2, '?': 2, 'about': 1}\n"
     ]
    }
   ],
   "source": [
    "all_dic = {}\n",
    "cat_dic = {}\n",
    "not_dic = {}\n",
    "\n",
    "tokenized_text = []\n",
    "for t in test:\n",
    "    toks = tokenize_re(t[1])\n",
    "    tokenized_text.append(toks)\n",
    "    for tok in toks:\n",
    "        dictcount(all_dic,tok)\n",
    "        if t[0]:\n",
    "            dictcount(cat_dic,tok)\n",
    "        else:\n",
    "            dictcount(not_dic,tok)\n",
    "    \n",
    "print(all_dic)\n",
    "print(cat_dic)\n",
    "print(not_dic)\n"
   ]
  },
  {
   "cell_type": "code",
   "execution_count": 10,
   "id": "42e8fc9a",
   "metadata": {},
   "outputs": [
    {
     "data": {
      "image/png": "[encoded data removed]",
      "text/plain": [
       "<Figure size 1440x144 with 1 Axes>"
      ]
     },
     "metadata": {
      "needs_background": "light"
     },
     "output_type": "display_data"
    },
    {
     "data": {
      "image/png": "[encoded data removed]",
      "text/plain": [
       "<Figure size 1440x72 with 1 Axes>"
      ]
     },
     "metadata": {
      "needs_background": "light"
     },
     "output_type": "display_data"
    },
    {
     "data": {
      "image/png": "[encoded data removed]",
      "text/plain": [
       "<Figure size 1440x72 with 1 Axes>"
      ]
     },
     "metadata": {
      "needs_background": "light"
     },
     "output_type": "display_data"
    }
   ],
   "source": [
    "plot_dict(all_dic,\"word\",\"count\",\"all\")\n",
    "plot_dict(cat_dic,\"word\",\"count\",\"true\")\n",
    "plot_dict(not_dic,\"word\",\"count\",\"false\")\n",
    "          "
   ]
  },
  {
   "cell_type": "code",
   "execution_count": 11,
   "id": "8da09489",
   "metadata": {},
   "outputs": [],
   "source": [
    "def dic2df(dic):\n",
    "    df = pd.DataFrame([(key, dic[key]) for key in dic],columns=[\"word\",\"count\"])\n",
    "    return df\n",
    "                    "
   ]
  },
  {
   "cell_type": "code",
   "execution_count": 12,
   "id": "5027584e",
   "metadata": {},
   "outputs": [
    {
     "data": {
      "text/html": [
       "<div>\n",
       "<style scoped>\n",
       "    .dataframe tbody tr th:only-of-type {\n",
       "        vertical-align: middle;\n",
       "    }\n",
       "\n",
       "    .dataframe tbody tr th {\n",
       "        vertical-align: top;\n",
       "    }\n",
       "\n",
       "    .dataframe thead th {\n",
       "        text-align: right;\n",
       "    }\n",
       "</style>\n",
       "<table border=\"1\" class=\"dataframe\">\n",
       "  <thead>\n",
       "    <tr style=\"text-align: right;\">\n",
       "      <th></th>\n",
       "      <th>word</th>\n",
       "      <th>count</th>\n",
       "    </tr>\n",
       "  </thead>\n",
       "  <tbody>\n",
       "    <tr>\n",
       "      <th>0</th>\n",
       "      <td>weather</td>\n",
       "      <td>4</td>\n",
       "    </tr>\n",
       "    <tr>\n",
       "      <th>1</th>\n",
       "      <td>is</td>\n",
       "      <td>3</td>\n",
       "    </tr>\n",
       "    <tr>\n",
       "      <th>2</th>\n",
       "      <td>good</td>\n",
       "      <td>1</td>\n",
       "    </tr>\n",
       "    <tr>\n",
       "      <th>3</th>\n",
       "      <td>!</td>\n",
       "      <td>2</td>\n",
       "    </tr>\n",
       "    <tr>\n",
       "      <th>4</th>\n",
       "      <td>great</td>\n",
       "      <td>1</td>\n",
       "    </tr>\n",
       "    <tr>\n",
       "      <th>5</th>\n",
       "      <td>what</td>\n",
       "      <td>2</td>\n",
       "    </tr>\n",
       "    <tr>\n",
       "      <th>6</th>\n",
       "      <td>the</td>\n",
       "      <td>2</td>\n",
       "    </tr>\n",
       "    <tr>\n",
       "      <th>7</th>\n",
       "      <td>?</td>\n",
       "      <td>2</td>\n",
       "    </tr>\n",
       "    <tr>\n",
       "      <th>8</th>\n",
       "      <td>about</td>\n",
       "      <td>1</td>\n",
       "    </tr>\n",
       "  </tbody>\n",
       "</table>\n",
       "</div>"
      ],
      "text/plain": [
       "      word  count\n",
       "0  weather      4\n",
       "1       is      3\n",
       "2     good      1\n",
       "3        !      2\n",
       "4    great      1\n",
       "5     what      2\n",
       "6      the      2\n",
       "7        ?      2\n",
       "8    about      1"
      ]
     },
     "execution_count": 12,
     "metadata": {},
     "output_type": "execute_result"
    }
   ],
   "source": [
    "df_all = dic2df(all_dic)\n",
    "df_all"
   ]
  },
  {
   "cell_type": "code",
   "execution_count": 13,
   "id": "bd9b2156",
   "metadata": {},
   "outputs": [
    {
     "data": {
      "text/html": [
       "<div>\n",
       "<style scoped>\n",
       "    .dataframe tbody tr th:only-of-type {\n",
       "        vertical-align: middle;\n",
       "    }\n",
       "\n",
       "    .dataframe tbody tr th {\n",
       "        vertical-align: top;\n",
       "    }\n",
       "\n",
       "    .dataframe thead th {\n",
       "        text-align: right;\n",
       "    }\n",
       "</style>\n",
       "<table border=\"1\" class=\"dataframe\">\n",
       "  <thead>\n",
       "    <tr style=\"text-align: right;\">\n",
       "      <th></th>\n",
       "      <th>word</th>\n",
       "      <th>count</th>\n",
       "    </tr>\n",
       "  </thead>\n",
       "  <tbody>\n",
       "    <tr>\n",
       "      <th>0</th>\n",
       "      <td>weather</td>\n",
       "      <td>2</td>\n",
       "    </tr>\n",
       "    <tr>\n",
       "      <th>1</th>\n",
       "      <td>is</td>\n",
       "      <td>2</td>\n",
       "    </tr>\n",
       "    <tr>\n",
       "      <th>2</th>\n",
       "      <td>good</td>\n",
       "      <td>1</td>\n",
       "    </tr>\n",
       "    <tr>\n",
       "      <th>3</th>\n",
       "      <td>!</td>\n",
       "      <td>2</td>\n",
       "    </tr>\n",
       "    <tr>\n",
       "      <th>4</th>\n",
       "      <td>great</td>\n",
       "      <td>1</td>\n",
       "    </tr>\n",
       "  </tbody>\n",
       "</table>\n",
       "</div>"
      ],
      "text/plain": [
       "      word  count\n",
       "0  weather      2\n",
       "1       is      2\n",
       "2     good      1\n",
       "3        !      2\n",
       "4    great      1"
      ]
     },
     "execution_count": 13,
     "metadata": {},
     "output_type": "execute_result"
    }
   ],
   "source": [
    "df_cat = dic2df(cat_dic)\n",
    "df_cat\n"
   ]
  },
  {
   "cell_type": "code",
   "execution_count": 14,
   "id": "3bfd8635",
   "metadata": {},
   "outputs": [
    {
     "data": {
      "image/png": "[encoded data removed]",
      "text/plain": [
       "<Figure size 1440x72 with 1 Axes>"
      ]
     },
     "metadata": {
      "needs_background": "light"
     },
     "output_type": "display_data"
    }
   ],
   "source": [
    "import math\n",
    "def dicnormdf(dica,dicb,log=False):\n",
    "    dicc = {}\n",
    "    for a in dica:\n",
    "        x = dica[a] / dicb[a]\n",
    "        dicc[a] = math.log10(x) if log else x\n",
    "    return dicc\n",
    "\n",
    "plot_dict(dicnormdf(cat_dic,all_dic),\"word\",\"count\",\"true/norm\")"
   ]
  },
  {
   "cell_type": "code",
   "execution_count": 15,
   "id": "1e0a0f1a",
   "metadata": {},
   "outputs": [
    {
     "data": {
      "image/png": "[encoded data removed]",
      "text/plain": [
       "<Figure size 1440x72 with 1 Axes>"
      ]
     },
     "metadata": {
      "needs_background": "light"
     },
     "output_type": "display_data"
    }
   ],
   "source": [
    "plot_dict(dicnormdf(not_dic,all_dic),\"word\",\"count\",\"true/norm\")"
   ]
  },
  {
   "cell_type": "code",
   "execution_count": 16,
   "id": "ff433aca",
   "metadata": {},
   "outputs": [
    {
     "data": {
      "text/plain": [
       "-3.0"
      ]
     },
     "execution_count": 16,
     "metadata": {},
     "output_type": "execute_result"
    }
   ],
   "source": [
    "math.log10(0.001)"
   ]
  },
  {
   "cell_type": "code",
   "execution_count": 17,
   "id": "489a5dea",
   "metadata": {},
   "outputs": [
    {
     "data": {
      "text/plain": [
       "{'aaa': 1, 'bbb': 2}"
      ]
     },
     "execution_count": 17,
     "metadata": {},
     "output_type": "execute_result"
    }
   ],
   "source": [
    "dic_test = {}\n",
    "dictcount(dic_test,'aaa')\n",
    "dictcount(dic_test,'bbb')\n",
    "dictcount(dic_test,'bbb')\n",
    "dic_test"
   ]
  },
  {
   "cell_type": "code",
   "execution_count": 18,
   "id": "0464a2f6",
   "metadata": {},
   "outputs": [
    {
     "data": {
      "text/plain": [
       "{'aaa': 2, 'bbb': 4}"
      ]
     },
     "execution_count": 18,
     "metadata": {},
     "output_type": "execute_result"
    }
   ],
   "source": [
    "dictcount(dic_test,('aaa'))\n",
    "dictcount(dic_test,('bbb'))\n",
    "dictcount(dic_test,('bbb'))\n",
    "dic_test"
   ]
  },
  {
   "cell_type": "code",
   "execution_count": 19,
   "id": "0a649d73",
   "metadata": {},
   "outputs": [
    {
     "data": {
      "text/plain": [
       "{'aaa': 2, 'bbb': 4, ('aaa', 'bbb'): 1, ('bbb', 'aaa'): 2}"
      ]
     },
     "execution_count": 19,
     "metadata": {},
     "output_type": "execute_result"
    }
   ],
   "source": [
    "dictcount(dic_test,('aaa','bbb'))\n",
    "dictcount(dic_test,('bbb','aaa'))\n",
    "dictcount(dic_test,('bbb','aaa'))\n",
    "dic_test"
   ]
  },
  {
   "cell_type": "code",
   "execution_count": 20,
   "id": "4409bcb2",
   "metadata": {},
   "outputs": [
    {
     "data": {
      "text/plain": [
       "{'aaa': 5, 'bbb': 7, ('aaa', 'bbb'): 1, ('bbb', 'aaa'): 2}"
      ]
     },
     "execution_count": 20,
     "metadata": {},
     "output_type": "execute_result"
    }
   ],
   "source": [
    "dictcount(dic_test,['aaa','bbb'])\n",
    "dictcount(dic_test,['bbb','aaa'])\n",
    "dictcount(dic_test,['bbb','aaa'])\n",
    "dic_test"
   ]
  },
  {
   "cell_type": "code",
   "execution_count": 21,
   "id": "a63ae82f",
   "metadata": {},
   "outputs": [
    {
     "data": {
      "text/plain": [
       "1"
      ]
     },
     "execution_count": 21,
     "metadata": {},
     "output_type": "execute_result"
    }
   ],
   "source": [
    "x = {}\n",
    "x['a'] = 1\n",
    "x[('a')]"
   ]
  },
  {
   "cell_type": "markdown",
   "id": "ad8a1d48",
   "metadata": {},
   "source": [
    "## Agenda mining without of clusterting (yet) \n",
    "### Assuming features are topics\n",
    "#### While clusters should be topics instead and clusters should be pased on topics \n",
    "(for instance, cluster \"work day\" should be based on features \"work\" and \"on\")"
   ]
  },
  {
   "cell_type": "code",
   "execution_count": 35,
   "id": "faf34bd5",
   "metadata": {},
   "outputs": [
    {
     "data": {
      "text/plain": [
       "[(1, ['I work on a document', 'I work on a program']),\n",
       " (2, ['I work on a program', 'I work on a project']),\n",
       " (3, ['I work on a project', 'I work on a program']),\n",
       " (4, ['I work on a project', 'I work on a program']),\n",
       " (5, ['I work on a program', 'I work on a document']),\n",
       " (6, ['I ride a horse', 'I ride a horse']),\n",
       " (7, ['I ride a bicycle', 'I ride a bicycle']),\n",
       " (8, ['I work on a program', 'I work on a document']),\n",
       " (9, ['I work on a document', 'I work on a document']),\n",
       " (10, ['I work on a document', 'I work on a project']),\n",
       " (11, ['I work on a program', 'I work on a program']),\n",
       " (12, ['I work on a project', 'I work on a document']),\n",
       " (13, ['I ride a car', 'I ride a bicycle']),\n",
       " (14, ['I ride a horse', 'I ride a car'])]"
      ]
     },
     "execution_count": 35,
     "metadata": {},
     "output_type": "execute_result"
    }
   ],
   "source": [
    "dated_test = [\n",
    "    (1,[\"I work on a document\",\"I work on a program\"]),\n",
    "    (2,[\"I work on a program\",\"I work on a project\"]),\n",
    "    (3,[\"I work on a project\",\"I work on a program\"]),\n",
    "    (4,[\"I work on a project\",\"I work on a program\"]),\n",
    "    (5,[\"I work on a program\",\"I work on a document\"]),\n",
    "    (6,[\"I ride a horse\",\"I ride a horse\"]),\n",
    "    (7,[\"I ride a bicycle\",\"I ride a bicycle\"]),\n",
    "    (8,[\"I work on a program\",\"I work on a document\"]),\n",
    "    (9,[\"I work on a document\",\"I work on a document\"]),\n",
    "    (10,[\"I work on a document\",\"I work on a project\"]),\n",
    "    (11,[\"I work on a program\",\"I work on a program\"]),\n",
    "    (12,[\"I work on a project\",\"I work on a document\"]),\n",
    "    (13,[\"I ride a car\",\"I ride a bicycle\"]),\n",
    "    (14,[\"I ride a horse\",\"I ride a car\"]),\n",
    "]\n",
    "dated_test"
   ]
  },
  {
   "cell_type": "code",
   "execution_count": 36,
   "id": "868ad4da",
   "metadata": {},
   "outputs": [
    {
     "data": {
      "image/png": "[encoded data removed]",
      "text/plain": [
       "<Figure size 1440x144 with 1 Axes>"
      ]
     },
     "metadata": {
      "needs_background": "light"
     },
     "output_type": "display_data"
    }
   ],
   "source": [
    "all_dic = {}\n",
    "\n",
    "def count_all(test):\n",
    "    for t in test:\n",
    "        for text in t[1]:\n",
    "            toks = tokenize_re(text)\n",
    "            for tok in toks:\n",
    "                dictcount(all_dic,tok)\n",
    "            \n",
    "count_all(dated_test)  \n",
    "plot_dict(all_dic,\"word\",\"count\",\"all\")"
   ]
  },
  {
   "cell_type": "code",
   "execution_count": 37,
   "id": "3d6cfeed",
   "metadata": {
    "scrolled": true
   },
   "outputs": [
    {
     "data": {
      "text/plain": [
       "[(1,\n",
       "  {'i': 0.07142857142857142,\n",
       "   'work': 0.1,\n",
       "   'on': 0.1,\n",
       "   'a': 0.07142857142857142,\n",
       "   'document': 0.14285714285714285,\n",
       "   'program': 0.125}),\n",
       " (2,\n",
       "  {'i': 0.07142857142857142,\n",
       "   'work': 0.1,\n",
       "   'on': 0.1,\n",
       "   'a': 0.07142857142857142,\n",
       "   'program': 0.125,\n",
       "   'project': 0.2}),\n",
       " (3,\n",
       "  {'i': 0.07142857142857142,\n",
       "   'work': 0.1,\n",
       "   'on': 0.1,\n",
       "   'a': 0.07142857142857142,\n",
       "   'project': 0.2,\n",
       "   'program': 0.125}),\n",
       " (4,\n",
       "  {'i': 0.07142857142857142,\n",
       "   'work': 0.1,\n",
       "   'on': 0.1,\n",
       "   'a': 0.07142857142857142,\n",
       "   'project': 0.2,\n",
       "   'program': 0.125}),\n",
       " (5,\n",
       "  {'i': 0.07142857142857142,\n",
       "   'work': 0.1,\n",
       "   'on': 0.1,\n",
       "   'a': 0.07142857142857142,\n",
       "   'program': 0.125,\n",
       "   'document': 0.14285714285714285}),\n",
       " (6,\n",
       "  {'i': 0.07142857142857142,\n",
       "   'ride': 0.25,\n",
       "   'a': 0.07142857142857142,\n",
       "   'horse': 0.6666666666666666}),\n",
       " (7,\n",
       "  {'i': 0.07142857142857142,\n",
       "   'ride': 0.25,\n",
       "   'a': 0.07142857142857142,\n",
       "   'bicycle': 0.6666666666666666}),\n",
       " (8,\n",
       "  {'i': 0.07142857142857142,\n",
       "   'work': 0.1,\n",
       "   'on': 0.1,\n",
       "   'a': 0.07142857142857142,\n",
       "   'program': 0.125,\n",
       "   'document': 0.14285714285714285}),\n",
       " (9,\n",
       "  {'i': 0.07142857142857142,\n",
       "   'work': 0.1,\n",
       "   'on': 0.1,\n",
       "   'a': 0.07142857142857142,\n",
       "   'document': 0.2857142857142857}),\n",
       " (10,\n",
       "  {'i': 0.07142857142857142,\n",
       "   'work': 0.1,\n",
       "   'on': 0.1,\n",
       "   'a': 0.07142857142857142,\n",
       "   'document': 0.14285714285714285,\n",
       "   'project': 0.2}),\n",
       " (11,\n",
       "  {'i': 0.07142857142857142,\n",
       "   'work': 0.1,\n",
       "   'on': 0.1,\n",
       "   'a': 0.07142857142857142,\n",
       "   'program': 0.25}),\n",
       " (12,\n",
       "  {'i': 0.07142857142857142,\n",
       "   'work': 0.1,\n",
       "   'on': 0.1,\n",
       "   'a': 0.07142857142857142,\n",
       "   'project': 0.2,\n",
       "   'document': 0.14285714285714285}),\n",
       " (13,\n",
       "  {'i': 0.07142857142857142,\n",
       "   'ride': 0.25,\n",
       "   'a': 0.07142857142857142,\n",
       "   'car': 0.5,\n",
       "   'bicycle': 0.3333333333333333}),\n",
       " (14,\n",
       "  {'i': 0.07142857142857142,\n",
       "   'ride': 0.25,\n",
       "   'a': 0.07142857142857142,\n",
       "   'horse': 0.3333333333333333,\n",
       "   'car': 0.5})]"
      ]
     },
     "execution_count": 37,
     "metadata": {},
     "output_type": "execute_result"
    }
   ],
   "source": [
    "def count_daily(test,threshold = 0):\n",
    "    res_list = []\n",
    "    for t in test:\n",
    "        daily_dic = {}\n",
    "        for text in t[1]:\n",
    "            toks = tokenize_re(text)\n",
    "            for tok in toks:\n",
    "                dictcount(daily_dic,tok)\n",
    "        d = {word: daily_dic[word] / all_dic[word] for word in daily_dic}\n",
    "        d = {word: d[word] for word in d if d[word] > threshold}\n",
    "        res_list.append((t[0],d))\n",
    "    return res_list\n",
    "\n",
    "count_daily(dated_test)"
   ]
  },
  {
   "cell_type": "code",
   "execution_count": 41,
   "id": "f750a667",
   "metadata": {},
   "outputs": [
    {
     "data": {
      "text/plain": [
       "[(1,\n",
       "  {'work': 0.1, 'on': 0.1, 'document': 0.14285714285714285, 'program': 0.125}),\n",
       " (2, {'work': 0.1, 'on': 0.1, 'program': 0.125, 'project': 0.2}),\n",
       " (3, {'work': 0.1, 'on': 0.1, 'project': 0.2, 'program': 0.125}),\n",
       " (4, {'work': 0.1, 'on': 0.1, 'project': 0.2, 'program': 0.125}),\n",
       " (5,\n",
       "  {'work': 0.1, 'on': 0.1, 'program': 0.125, 'document': 0.14285714285714285}),\n",
       " (6, {'ride': 0.25, 'horse': 0.6666666666666666}),\n",
       " (7, {'ride': 0.25, 'bicycle': 0.6666666666666666}),\n",
       " (8,\n",
       "  {'work': 0.1, 'on': 0.1, 'program': 0.125, 'document': 0.14285714285714285}),\n",
       " (9, {'work': 0.1, 'on': 0.1, 'document': 0.2857142857142857}),\n",
       " (10,\n",
       "  {'work': 0.1, 'on': 0.1, 'document': 0.14285714285714285, 'project': 0.2}),\n",
       " (11, {'work': 0.1, 'on': 0.1, 'program': 0.25}),\n",
       " (12,\n",
       "  {'work': 0.1, 'on': 0.1, 'project': 0.2, 'document': 0.14285714285714285}),\n",
       " (13, {'ride': 0.25, 'car': 0.5, 'bicycle': 0.3333333333333333}),\n",
       " (14, {'ride': 0.25, 'horse': 0.3333333333333333, 'car': 0.5})]"
      ]
     },
     "execution_count": 41,
     "metadata": {},
     "output_type": "execute_result"
    }
   ],
   "source": [
    "count_daily(dated_test,0.09)\n"
   ]
  },
  {
   "cell_type": "code",
   "execution_count": 42,
   "id": "1f86a08f",
   "metadata": {},
   "outputs": [
    {
     "data": {
      "text/plain": [
       "[(1, {'document': 0.14285714285714285, 'program': 0.125}),\n",
       " (2, {'program': 0.125, 'project': 0.2}),\n",
       " (3, {'project': 0.2, 'program': 0.125}),\n",
       " (4, {'project': 0.2, 'program': 0.125}),\n",
       " (5, {'program': 0.125, 'document': 0.14285714285714285}),\n",
       " (6, {'ride': 0.25, 'horse': 0.6666666666666666}),\n",
       " (7, {'ride': 0.25, 'bicycle': 0.6666666666666666}),\n",
       " (8, {'program': 0.125, 'document': 0.14285714285714285}),\n",
       " (9, {'document': 0.2857142857142857}),\n",
       " (10, {'document': 0.14285714285714285, 'project': 0.2}),\n",
       " (11, {'program': 0.25}),\n",
       " (12, {'project': 0.2, 'document': 0.14285714285714285}),\n",
       " (13, {'ride': 0.25, 'car': 0.5, 'bicycle': 0.3333333333333333}),\n",
       " (14, {'ride': 0.25, 'horse': 0.3333333333333333, 'car': 0.5})]"
      ]
     },
     "execution_count": 42,
     "metadata": {},
     "output_type": "execute_result"
    }
   ],
   "source": [
    "count_daily(dated_test,0.1)"
   ]
  },
  {
   "cell_type": "code",
   "execution_count": 43,
   "id": "5d2b16c5",
   "metadata": {},
   "outputs": [
    {
     "data": {
      "text/plain": [
       "[(1, {}),\n",
       " (2, {}),\n",
       " (3, {}),\n",
       " (4, {}),\n",
       " (5, {}),\n",
       " (6, {'ride': 0.25, 'horse': 0.6666666666666666}),\n",
       " (7, {'ride': 0.25, 'bicycle': 0.6666666666666666}),\n",
       " (8, {}),\n",
       " (9, {'document': 0.2857142857142857}),\n",
       " (10, {}),\n",
       " (11, {'program': 0.25}),\n",
       " (12, {}),\n",
       " (13, {'ride': 0.25, 'car': 0.5, 'bicycle': 0.3333333333333333}),\n",
       " (14, {'ride': 0.25, 'horse': 0.3333333333333333, 'car': 0.5})]"
      ]
     },
     "execution_count": 43,
     "metadata": {},
     "output_type": "execute_result"
    }
   ],
   "source": [
    "count_daily(dated_test,0.2)"
   ]
  },
  {
   "cell_type": "code",
   "execution_count": 48,
   "id": "d60365ef",
   "metadata": {},
   "outputs": [
    {
     "data": {
      "text/html": [
       "<div>\n",
       "<style scoped>\n",
       "    .dataframe tbody tr th:only-of-type {\n",
       "        vertical-align: middle;\n",
       "    }\n",
       "\n",
       "    .dataframe tbody tr th {\n",
       "        vertical-align: top;\n",
       "    }\n",
       "\n",
       "    .dataframe thead th {\n",
       "        text-align: right;\n",
       "    }\n",
       "</style>\n",
       "<table border=\"1\" class=\"dataframe\">\n",
       "  <thead>\n",
       "    <tr style=\"text-align: right;\">\n",
       "      <th></th>\n",
       "      <th>day</th>\n",
       "      <th>words</th>\n",
       "    </tr>\n",
       "  </thead>\n",
       "  <tbody>\n",
       "    <tr>\n",
       "      <th>0</th>\n",
       "      <td>1</td>\n",
       "      <td>['document', 'program']</td>\n",
       "    </tr>\n",
       "    <tr>\n",
       "      <th>1</th>\n",
       "      <td>2</td>\n",
       "      <td>['program', 'project']</td>\n",
       "    </tr>\n",
       "    <tr>\n",
       "      <th>2</th>\n",
       "      <td>3</td>\n",
       "      <td>['project', 'program']</td>\n",
       "    </tr>\n",
       "    <tr>\n",
       "      <th>3</th>\n",
       "      <td>4</td>\n",
       "      <td>['project', 'program']</td>\n",
       "    </tr>\n",
       "    <tr>\n",
       "      <th>4</th>\n",
       "      <td>5</td>\n",
       "      <td>['program', 'document']</td>\n",
       "    </tr>\n",
       "    <tr>\n",
       "      <th>5</th>\n",
       "      <td>6</td>\n",
       "      <td>['ride', 'horse']</td>\n",
       "    </tr>\n",
       "    <tr>\n",
       "      <th>6</th>\n",
       "      <td>7</td>\n",
       "      <td>['ride', 'bicycle']</td>\n",
       "    </tr>\n",
       "    <tr>\n",
       "      <th>7</th>\n",
       "      <td>8</td>\n",
       "      <td>['program', 'document']</td>\n",
       "    </tr>\n",
       "    <tr>\n",
       "      <th>8</th>\n",
       "      <td>9</td>\n",
       "      <td>['document']</td>\n",
       "    </tr>\n",
       "    <tr>\n",
       "      <th>9</th>\n",
       "      <td>10</td>\n",
       "      <td>['document', 'project']</td>\n",
       "    </tr>\n",
       "    <tr>\n",
       "      <th>10</th>\n",
       "      <td>11</td>\n",
       "      <td>['program']</td>\n",
       "    </tr>\n",
       "    <tr>\n",
       "      <th>11</th>\n",
       "      <td>12</td>\n",
       "      <td>['project', 'document']</td>\n",
       "    </tr>\n",
       "    <tr>\n",
       "      <th>12</th>\n",
       "      <td>13</td>\n",
       "      <td>['ride', 'car', 'bicycle']</td>\n",
       "    </tr>\n",
       "    <tr>\n",
       "      <th>13</th>\n",
       "      <td>14</td>\n",
       "      <td>['ride', 'horse', 'car']</td>\n",
       "    </tr>\n",
       "  </tbody>\n",
       "</table>\n",
       "</div>"
      ],
      "text/plain": [
       "    day                       words\n",
       "0     1     ['document', 'program']\n",
       "1     2      ['program', 'project']\n",
       "2     3      ['project', 'program']\n",
       "3     4      ['project', 'program']\n",
       "4     5     ['program', 'document']\n",
       "5     6           ['ride', 'horse']\n",
       "6     7         ['ride', 'bicycle']\n",
       "7     8     ['program', 'document']\n",
       "8     9                ['document']\n",
       "9    10     ['document', 'project']\n",
       "10   11                 ['program']\n",
       "11   12     ['project', 'document']\n",
       "12   13  ['ride', 'car', 'bicycle']\n",
       "13   14    ['ride', 'horse', 'car']"
      ]
     },
     "execution_count": 48,
     "metadata": {},
     "output_type": "execute_result"
    }
   ],
   "source": [
    "df = pd.DataFrame([(i[0],str(list(i[1]))) for i in count_daily(dated_test,0.1)], columns=['day', 'words'])\n",
    "df"
   ]
  },
  {
   "cell_type": "code",
   "execution_count": 51,
   "id": "9410816f",
   "metadata": {},
   "outputs": [
    {
     "data": {
      "text/plain": [
       "{'work': 0.7142857142857143,\n",
       " 'on': 0.7142857142857143,\n",
       " 'document': 0.42857142857142855,\n",
       " 'program': 0.5,\n",
       " 'project': 0.35714285714285715,\n",
       " 'ride': 0.2857142857142857,\n",
       " 'horse': 0.14285714285714285,\n",
       " 'bicycle': 0.14285714285714285,\n",
       " 'car': 0.14285714285714285}"
      ]
     },
     "execution_count": 51,
     "metadata": {},
     "output_type": "execute_result"
    }
   ],
   "source": [
    "daily_words = count_daily(dated_test,0.09)\n",
    "\n",
    "daily_features = {}\n",
    "for d in daily_words:\n",
    "    for w in d[1]:\n",
    "        dictcount(daily_features,w)\n",
    "\n",
    "daily_features = {feature: daily_features[feature]/len(daily_words) for feature in daily_features}\n",
    "\n",
    "daily_features"
   ]
  },
  {
   "cell_type": "code",
   "execution_count": 55,
   "id": "1f37d8f5",
   "metadata": {},
   "outputs": [
    {
     "data": {
      "image/png": "[encoded data removed]",
      "text/plain": [
       "<Figure size 1440x144 with 1 Axes>"
      ]
     },
     "metadata": {
      "needs_background": "light"
     },
     "output_type": "display_data"
    },
    {
     "data": {
      "image/png": "[encoded data removed]",
      "text/plain": [
       "<Figure size 1440x72 with 1 Axes>"
      ]
     },
     "metadata": {
      "needs_background": "light"
     },
     "output_type": "display_data"
    }
   ],
   "source": [
    "plot_dict(daily_features,\n",
    "          \"feature\",\"count\",\"all daily\")\n",
    "\n",
    "plot_dict({feature: daily_features[feature] for feature in daily_features if daily_features[feature] > 0.2},\n",
    "          \"feature\",\"count\",\"all daily with threshold\")"
   ]
  },
  {
   "cell_type": "code",
   "execution_count": 56,
   "id": "874924fa",
   "metadata": {},
   "outputs": [
    {
     "data": {
      "text/plain": [
       "['document', 'on', 'program', 'project', 'ride', 'work']"
      ]
     },
     "execution_count": 56,
     "metadata": {},
     "output_type": "execute_result"
    }
   ],
   "source": [
    "feature_topics = sorted(list({feature: daily_features[feature] for feature in daily_features if daily_features[feature] > 0.2}))\n",
    "feature_topics"
   ]
  },
  {
   "cell_type": "code",
   "execution_count": 62,
   "id": "ab24209e",
   "metadata": {},
   "outputs": [
    {
     "data": {
      "text/html": [
       "<div>\n",
       "<style scoped>\n",
       "    .dataframe tbody tr th:only-of-type {\n",
       "        vertical-align: middle;\n",
       "    }\n",
       "\n",
       "    .dataframe tbody tr th {\n",
       "        vertical-align: top;\n",
       "    }\n",
       "\n",
       "    .dataframe thead th {\n",
       "        text-align: right;\n",
       "    }\n",
       "</style>\n",
       "<table border=\"1\" class=\"dataframe\">\n",
       "  <thead>\n",
       "    <tr style=\"text-align: right;\">\n",
       "      <th></th>\n",
       "      <th>day</th>\n",
       "      <th>document</th>\n",
       "      <th>on</th>\n",
       "      <th>program</th>\n",
       "      <th>project</th>\n",
       "      <th>ride</th>\n",
       "      <th>work</th>\n",
       "    </tr>\n",
       "  </thead>\n",
       "  <tbody>\n",
       "    <tr>\n",
       "      <th>0</th>\n",
       "      <td>1</td>\n",
       "      <td>0.142857</td>\n",
       "      <td>0.1</td>\n",
       "      <td>0.125</td>\n",
       "      <td>0.0</td>\n",
       "      <td>0.00</td>\n",
       "      <td>0.1</td>\n",
       "    </tr>\n",
       "    <tr>\n",
       "      <th>1</th>\n",
       "      <td>2</td>\n",
       "      <td>0.000000</td>\n",
       "      <td>0.1</td>\n",
       "      <td>0.125</td>\n",
       "      <td>0.2</td>\n",
       "      <td>0.00</td>\n",
       "      <td>0.1</td>\n",
       "    </tr>\n",
       "    <tr>\n",
       "      <th>2</th>\n",
       "      <td>3</td>\n",
       "      <td>0.000000</td>\n",
       "      <td>0.1</td>\n",
       "      <td>0.125</td>\n",
       "      <td>0.2</td>\n",
       "      <td>0.00</td>\n",
       "      <td>0.1</td>\n",
       "    </tr>\n",
       "    <tr>\n",
       "      <th>3</th>\n",
       "      <td>4</td>\n",
       "      <td>0.000000</td>\n",
       "      <td>0.1</td>\n",
       "      <td>0.125</td>\n",
       "      <td>0.2</td>\n",
       "      <td>0.00</td>\n",
       "      <td>0.1</td>\n",
       "    </tr>\n",
       "    <tr>\n",
       "      <th>4</th>\n",
       "      <td>5</td>\n",
       "      <td>0.142857</td>\n",
       "      <td>0.1</td>\n",
       "      <td>0.125</td>\n",
       "      <td>0.0</td>\n",
       "      <td>0.00</td>\n",
       "      <td>0.1</td>\n",
       "    </tr>\n",
       "    <tr>\n",
       "      <th>5</th>\n",
       "      <td>6</td>\n",
       "      <td>0.000000</td>\n",
       "      <td>0.0</td>\n",
       "      <td>0.000</td>\n",
       "      <td>0.0</td>\n",
       "      <td>0.25</td>\n",
       "      <td>0.0</td>\n",
       "    </tr>\n",
       "    <tr>\n",
       "      <th>6</th>\n",
       "      <td>7</td>\n",
       "      <td>0.000000</td>\n",
       "      <td>0.0</td>\n",
       "      <td>0.000</td>\n",
       "      <td>0.0</td>\n",
       "      <td>0.25</td>\n",
       "      <td>0.0</td>\n",
       "    </tr>\n",
       "    <tr>\n",
       "      <th>7</th>\n",
       "      <td>8</td>\n",
       "      <td>0.142857</td>\n",
       "      <td>0.1</td>\n",
       "      <td>0.125</td>\n",
       "      <td>0.0</td>\n",
       "      <td>0.00</td>\n",
       "      <td>0.1</td>\n",
       "    </tr>\n",
       "    <tr>\n",
       "      <th>8</th>\n",
       "      <td>9</td>\n",
       "      <td>0.285714</td>\n",
       "      <td>0.1</td>\n",
       "      <td>0.000</td>\n",
       "      <td>0.0</td>\n",
       "      <td>0.00</td>\n",
       "      <td>0.1</td>\n",
       "    </tr>\n",
       "    <tr>\n",
       "      <th>9</th>\n",
       "      <td>10</td>\n",
       "      <td>0.142857</td>\n",
       "      <td>0.1</td>\n",
       "      <td>0.000</td>\n",
       "      <td>0.2</td>\n",
       "      <td>0.00</td>\n",
       "      <td>0.1</td>\n",
       "    </tr>\n",
       "    <tr>\n",
       "      <th>10</th>\n",
       "      <td>11</td>\n",
       "      <td>0.000000</td>\n",
       "      <td>0.1</td>\n",
       "      <td>0.250</td>\n",
       "      <td>0.0</td>\n",
       "      <td>0.00</td>\n",
       "      <td>0.1</td>\n",
       "    </tr>\n",
       "    <tr>\n",
       "      <th>11</th>\n",
       "      <td>12</td>\n",
       "      <td>0.142857</td>\n",
       "      <td>0.1</td>\n",
       "      <td>0.000</td>\n",
       "      <td>0.2</td>\n",
       "      <td>0.00</td>\n",
       "      <td>0.1</td>\n",
       "    </tr>\n",
       "    <tr>\n",
       "      <th>12</th>\n",
       "      <td>13</td>\n",
       "      <td>0.000000</td>\n",
       "      <td>0.0</td>\n",
       "      <td>0.000</td>\n",
       "      <td>0.0</td>\n",
       "      <td>0.25</td>\n",
       "      <td>0.0</td>\n",
       "    </tr>\n",
       "    <tr>\n",
       "      <th>13</th>\n",
       "      <td>14</td>\n",
       "      <td>0.000000</td>\n",
       "      <td>0.0</td>\n",
       "      <td>0.000</td>\n",
       "      <td>0.0</td>\n",
       "      <td>0.25</td>\n",
       "      <td>0.0</td>\n",
       "    </tr>\n",
       "  </tbody>\n",
       "</table>\n",
       "</div>"
      ],
      "text/plain": [
       "    day  document   on  program  project  ride  work\n",
       "0     1  0.142857  0.1    0.125      0.0  0.00   0.1\n",
       "1     2  0.000000  0.1    0.125      0.2  0.00   0.1\n",
       "2     3  0.000000  0.1    0.125      0.2  0.00   0.1\n",
       "3     4  0.000000  0.1    0.125      0.2  0.00   0.1\n",
       "4     5  0.142857  0.1    0.125      0.0  0.00   0.1\n",
       "5     6  0.000000  0.0    0.000      0.0  0.25   0.0\n",
       "6     7  0.000000  0.0    0.000      0.0  0.25   0.0\n",
       "7     8  0.142857  0.1    0.125      0.0  0.00   0.1\n",
       "8     9  0.285714  0.1    0.000      0.0  0.00   0.1\n",
       "9    10  0.142857  0.1    0.000      0.2  0.00   0.1\n",
       "10   11  0.000000  0.1    0.250      0.0  0.00   0.1\n",
       "11   12  0.142857  0.1    0.000      0.2  0.00   0.1\n",
       "12   13  0.000000  0.0    0.000      0.0  0.25   0.0\n",
       "13   14  0.000000  0.0    0.000      0.0  0.25   0.0"
      ]
     },
     "execution_count": 62,
     "metadata": {},
     "output_type": "execute_result"
    }
   ],
   "source": [
    "daily_topics = []\n",
    "for d in daily_words:\n",
    "    day_topics = [d[0]]\n",
    "    for t in feature_topics:\n",
    "        day_topics.append(d[1][t] if t in d[1] else 0)\n",
    "    daily_topics.append(day_topics)\n",
    "\n",
    "    \n",
    "df = pd.DataFrame( daily_topics, columns=['day']+feature_topics )\n",
    "df"
   ]
  },
  {
   "cell_type": "code",
   "execution_count": 68,
   "id": "61b4162f",
   "metadata": {},
   "outputs": [
    {
     "data": {
      "text/plain": [
       "<AxesSubplot:>"
      ]
     },
     "execution_count": 68,
     "metadata": {},
     "output_type": "execute_result"
    },
    {
     "data": {
      "image/png": "[encoded data removed]",
      "text/plain": [
       "<Figure size 1440x72 with 1 Axes>"
      ]
     },
     "metadata": {
      "needs_background": "light"
     },
     "output_type": "display_data"
    }
   ],
   "source": [
    "df[['work','ride']].plot()"
   ]
  },
  {
   "cell_type": "code",
   "execution_count": null,
   "id": "c0ac2f50",
   "metadata": {},
   "outputs": [],
   "source": []
  },
  {
   "cell_type": "markdown",
   "id": "fccc60bd",
   "metadata": {},
   "source": [
    "# References\n",
    "https://www.researchgate.net/publication/379458320_Analysis_of_TF-IDF_and_TF-RF_Feature_Extraction_on_Product_Review_Sentiment\n",
    "\n",
    "https://arxiv.org/abs/2202.08965\n",
    "http://webstructor.net/papers/Kolonin-HP-ACA-IC-text.pdf\n",
    "http://webstructor.net/papers/Kolonin-HP-ACA-IC-present.pdf\n",
    "\n",
    "https://ieeexplore.ieee.org/document/7361868\n",
    "https://aigents.com/papers/Kolonin-Automatic-text-classification-and-property-extraction.pdf\n",
    "https://aigents.com/papers/Kolonin-Automatic-text-classification-and-property-extraction-slides.pdf\n"
   ]
  },
  {
   "cell_type": "code",
   "execution_count": null,
   "id": "3b3bb426",
   "metadata": {},
   "outputs": [],
   "source": []
  }
 ],
 "metadata": {
  "kernelspec": {
   "display_name": "Python 3 (ipykernel)",
   "language": "python",
   "name": "python3"
  },
  "language_info": {
   "codemirror_mode": {
    "name": "ipython",
    "version": 3
   },
   "file_extension": ".py",
   "mimetype": "text/x-python",
   "name": "python",
   "nbconvert_exporter": "python",
   "pygments_lexer": "ipython3",
   "version": "3.11.9"
  }
 },
 "nbformat": 4,
 "nbformat_minor": 5
}
