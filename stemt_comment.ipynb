{
 "cells": [
  {
   "cell_type": "code",
   "execution_count": 15,
   "id": "88899ac9-9e7f-49dc-b827-923cb75fdbb4",
   "metadata": {},
   "outputs": [],
   "source": [
    "#pip install chardet\n"
   ]
  },
  {
   "cell_type": "code",
   "execution_count": 3,
   "id": "016aa7c7-7c3f-4d9f-b27a-5321a7ffc611",
   "metadata": {},
   "outputs": [],
   "source": [
    "import chardet"
   ]
  },
  {
   "cell_type": "code",
   "execution_count": null,
   "id": "25699b3f-d968-4e03-8ad1-6a97db1a683d",
   "metadata": {},
   "outputs": [],
   "source": [
    "import pandas as pd"
   ]
  },
  {
   "cell_type": "code",
   "execution_count": 4,
   "id": "1a3947f2-89c7-4514-8917-d2a579a65e61",
   "metadata": {},
   "outputs": [
    {
     "name": "stdout",
     "output_type": "stream",
     "text": [
      "{'encoding': None, 'confidence': 0.0, 'language': None}\n"
     ]
    }
   ],
   "source": [
    "\n",
    "\n",
    "# Read a small portion of the file to detect encoding\n",
    "with open(\"steemit_tsv.zip\", \"rb\") as f:\n",
    "    raw_data = f.read(10000)  # Read first 10KB of data\n",
    "result = chardet.detect(raw_data)\n",
    "print(result)  # Output will contain the detected encoding\n"
   ]
  },
  {
   "cell_type": "code",
   "execution_count": 12,
   "id": "56de3b09-6e96-4af2-8748-f0dc31447f49",
   "metadata": {},
   "outputs": [
    {
     "name": "stdout",
     "output_type": "stream",
     "text": [
      "First Ten Comments:\n",
      "         index1                                            index9  \\\n",
      "33   1721567091               Gravity - The Magnet Chain for Web3   \n",
      "47   1721567085                                               NaN   \n",
      "52   1721567082        CONTEST: EDUCATION SYSTEM AND STRUCTURE. 📚   \n",
      "55   1721567082                                               NaN   \n",
      "64   1721567076                                               NaN   \n",
      "72   1721567073                                               NaN   \n",
      "100  1721567064  Boom Up - In the underworld, a unique demon lord   \n",
      "107  1721567064                                               NaN   \n",
      "126  1721567049                                               NaN   \n",
      "154  1721567037                                               NaN   \n",
      "\n",
      "                                               index10  index11  \n",
      "33   # Gravity\\nThe Magnet Chain for Web3\\n\\n---\\n#...      NaN  \n",
      "47      Nice way to Build your portfolio in 5 minutes.      NaN  \n",
      "52   <div class=\"text-justify\">\\n\\n\\n\\n\\n| <center>...      NaN  \n",
      "55   https://x.com/sahar667822/status/1815039987982...      NaN  \n",
      "64    Nice Free, simple, award-winning podcast player.      NaN  \n",
      "72                            Gracias por el apoyo 😃🙏🏻      NaN  \n",
      "100  # Boom Up\\nIn the underworld, a unique demon l...      NaN  \n",
      "107  Muchas gracias por el apoyo @soulfuldreamer\\n\\...      NaN  \n",
      "126  Thank you so much dear friend for bringing a v...      NaN  \n",
      "154  [![image.png](https://cdn.steemitimages.com/DQ...      NaN  \n"
     ]
    }
   ],
   "source": [
    "import pandas as pd\n",
    "import os\n",
    "\n",
    "# Path to the folder containing the .tsv file\n",
    "folder_path = \"steemit_tsv.zip_extracted\"\n",
    "file_name = \"steemit_2024-07-21.tsv\"\n",
    "file_path = os.path.join(folder_path, file_name)\n",
    "\n",
    "# Read the file into a DataFrame\n",
    "try:\n",
    "    # Read the file, skipping invalid lines\n",
    "    df = pd.read_csv(file_path, sep=\"\\t\", header=None, on_bad_lines=\"skip\", encoding=\"utf-8\")\n",
    "\n",
    "    # Rename columns for easier access\n",
    "    df.columns = [f\"index{i}\" for i in range(df.shape[1])]\n",
    "\n",
    "    # Filter rows where index2 is \"comment\"\n",
    "    filtered_df = df[df[\"index2\"].str.lower() == \"comment\"]\n",
    "\n",
    "    # Select relevant columns: index1, index9, index10, index11\n",
    "    selected_columns = filtered_df[[\"index1\", \"index9\", \"index10\", \"index11\"]]\n",
    "\n",
    "    # Display only the first ten rows\n",
    "    first_ten_comments = selected_columns.head(10)\n",
    "    print(\"First Ten Comments:\")\n",
    "    print(first_ten_comments)\n",
    "\n",
    "except FileNotFoundError:\n",
    "    print(f\"File '{file_name}' not found in the folder '{folder_path}'. Please check the file path.\")\n",
    "except pd.errors.ParserError as e:\n",
    "    print(f\"Error parsing the file: {e}\")\n"
   ]
  },
  {
   "cell_type": "code",
   "execution_count": null,
   "id": "47678063-b146-4f81-9e35-3715dda3b214",
   "metadata": {},
   "outputs": [],
   "source": []
  },
  {
   "cell_type": "code",
   "execution_count": null,
   "id": "5735db1b-e246-48eb-9637-a0e5b993d578",
   "metadata": {},
   "outputs": [],
   "source": []
  }
 ],
 "metadata": {
  "kernelspec": {
   "display_name": "Python 3 (ipykernel)",
   "language": "python",
   "name": "python3"
  },
  "language_info": {
   "codemirror_mode": {
    "name": "ipython",
    "version": 3
   },
   "file_extension": ".py",
   "mimetype": "text/x-python",
   "name": "python",
   "nbconvert_exporter": "python",
   "pygments_lexer": "ipython3",
   "version": "3.10.12"
  }
 },
 "nbformat": 4,
 "nbformat_minor": 5
}
