{
 "cells": [
  {
   "cell_type": "code",
   "execution_count": 1,
   "id": "88899ac9-9e7f-49dc-b827-923cb75fdbb4",
   "metadata": {},
   "outputs": [
    {
     "name": "stdout",
     "output_type": "stream",
     "text": [
      "Requirement already satisfied: chardet in /opt/anaconda3/lib/python3.12/site-packages (4.0.0)\n",
      "Note: you may need to restart the kernel to use updated packages.\n"
     ]
    }
   ],
   "source": [
    "pip install chardet\n"
   ]
  },
  {
   "cell_type": "code",
   "execution_count": 2,
   "id": "016aa7c7-7c3f-4d9f-b27a-5321a7ffc611",
   "metadata": {},
   "outputs": [],
   "source": [
    "import chardet"
   ]
  },
  {
   "cell_type": "code",
   "execution_count": 3,
   "id": "25699b3f-d968-4e03-8ad1-6a97db1a683d",
   "metadata": {},
   "outputs": [],
   "source": [
    "import pandas as pd"
   ]
  },
  {
   "cell_type": "code",
   "execution_count": 4,
   "id": "1a3947f2-89c7-4514-8917-d2a579a65e61",
   "metadata": {},
   "outputs": [
    {
     "name": "stdout",
     "output_type": "stream",
     "text": [
      "{'encoding': None, 'confidence': 0.0, 'language': None}\n"
     ]
    }
   ],
   "source": [
    "\n",
    "\n",
    "# Read a small portion of the file to detect encoding\n",
    "with open(\"steemit_tsv.zip\", \"rb\") as f:\n",
    "    raw_data = f.read(10000)  # Read first 10KB of data\n",
    "result = chardet.detect(raw_data)\n",
    "print(result)  # Output will contain the detected encoding\n"
   ]
  },
  {
   "cell_type": "code",
   "execution_count": 5,
   "id": "56de3b09-6e96-4af2-8748-f0dc31447f49",
   "metadata": {},
   "outputs": [
    {
     "name": "stdout",
     "output_type": "stream",
     "text": [
      "File 'steemit_2024-07-21.tsv' not found in the folder 'steemit_tsv.zip_extracted'. Please check the file path.\n"
     ]
    }
   ],
   "source": [
    "import pandas as pd\n",
    "import os\n",
    "\n",
    "# Path to the folder containing the .tsv file\n",
    "folder_path = \"steemit_tsv.zip_extracted\"\n",
    "file_name = \"steemit_2024-07-21.tsv\"\n",
    "file_path = os.path.join(folder_path, file_name)\n",
    "\n",
    "# Read the file into a DataFrame\n",
    "try:\n",
    "    # Read the file, skipping invalid lines\n",
    "    df = pd.read_csv(file_path, sep=\"\\t\", header=None, on_bad_lines=\"skip\", encoding=\"utf-8\")\n",
    "\n",
    "    # Rename columns for easier access\n",
    "    df.columns = [f\"index{i}\" for i in range(df.shape[1])]\n",
    "\n",
    "    # Filter rows where index2 is \"comment\"\n",
    "    filtered_df = df[df[\"index2\"].str.lower() == \"comment\"]\n",
    "\n",
    "    # Select relevant columns: index1, index9, index10, index11\n",
    "    selected_columns = filtered_df[[\"index1\", \"index9\", \"index10\", \"index11\"]]\n",
    "\n",
    "    # Display only the first ten rows\n",
    "    first_ten_comments = selected_columns.head(10)\n",
    "    print(\"First Ten Comments:\")\n",
    "    print(first_ten_comments)\n",
    "\n",
    "except FileNotFoundError:\n",
    "    print(f\"File '{file_name}' not found in the folder '{folder_path}'. Please check the file path.\")\n",
    "except pd.errors.ParserError as e:\n",
    "    print(f\"Error parsing the file: {e}\")\n"
   ]
  },
  {
   "cell_type": "code",
   "execution_count": 6,
   "id": "022a8900-3ce2-43f5-a9b1-f0520eb36367",
   "metadata": {},
   "outputs": [
    {
     "name": "stdout",
     "output_type": "stream",
     "text": [
      "File 'steemit_2024-07-21.tsv' not found in the folder 'steemit_tsv.zip_extracted'. Please check the file path.\n"
     ]
    }
   ],
   "source": [
    "import pandas as pd\n",
    "import os\n",
    "\n",
    "# Path to the folder containing the .tsv file\n",
    "folder_path = \"steemit_tsv.zip_extracted\"\n",
    "file_name = \"steemit_2024-07-21.tsv\"\n",
    "file_path = os.path.join(folder_path, file_name)\n",
    "\n",
    "# Read the file into a DataFrame\n",
    "try:\n",
    "    # Read the file, skipping invalid lines\n",
    "    df = pd.read_csv(file_path, sep=\"\\t\", header=None, on_bad_lines=\"skip\", encoding=\"utf-8\")\n",
    "\n",
    "    # Rename columns for easier access\n",
    "    df.columns = [f\"index{i}\" for i in range(df.shape[1])]\n",
    "\n",
    "    # Filter rows where index2 is \"comment\"\n",
    "    filtered_df = df[df[\"index2\"].str.lower() == \"comment\"]\n",
    "\n",
    "    # Select relevant columns: index1, index9, index10, index11\n",
    "    selected_columns = filtered_df[[\"index1\", \"index9\", \"index10\", \"index11\"]]\n",
    "\n",
    "    # Display only the first ten rows\n",
    "    first_ten_comments = selected_columns.head(10)\n",
    "    print(\"First Ten Comments:\")\n",
    "    print(first_ten_comments)\n",
    "\n",
    "except FileNotFoundError:\n",
    "    print(f\"File '{file_name}' not found in the folder '{folder_path}'. Please check the file path.\")\n",
    "except pd.errors.ParserError as e:\n",
    "    print(f\"Error parsing the file: {e}\")\n"
   ]
  },
  {
   "cell_type": "code",
   "execution_count": 7,
   "id": "185d71d9-de89-436b-a4da-059d62f7bf92",
   "metadata": {},
   "outputs": [
    {
     "name": "stdout",
     "output_type": "stream",
     "text": [
      "File 'steemit_2024-07-21.tsv' not found in the folder 'steemit_tsv.zip_extracted'. Please check the file path.\n"
     ]
    }
   ],
   "source": [
    "import pandas as pd\n",
    "import os\n",
    "\n",
    "# Path to the folder containing the .tsv file\n",
    "folder_path = \"steemit_tsv.zip_extracted\"\n",
    "file_name = \"steemit_2024-07-21.tsv\"\n",
    "file_path = os.path.join(folder_path, file_name)\n",
    "\n",
    "# Read the file into a DataFrame\n",
    "try:\n",
    "    # Read the file, skipping invalid lines\n",
    "    df = pd.read_csv(file_path, sep=\"\\t\", header=None, on_bad_lines=\"skip\", encoding=\"utf-8\")\n",
    "\n",
    "    # Rename columns for easier access\n",
    "    df.columns = [f\"index{i}\" for i in range(df.shape[1])]\n",
    "\n",
    "    # Filter rows where index2 is \"comment\"\n",
    "    filtered_df = df[df[\"index2\"].str.lower() == \"comment\"]\n",
    "\n",
    "    # Select relevant columns: index1, index9, index10, index11\n",
    "    selected_columns = filtered_df[[\"index1\", \"index9\", \"index10\", \"index11\"]]\n",
    "\n",
    "    # Display only the first ten rows\n",
    "    first_ten_comments = selected_columns.head(10)\n",
    "    print(\"First Ten Comments:\")\n",
    "    print(first_ten_comments)\n",
    "\n",
    "except FileNotFoundError:\n",
    "    print(f\"File '{file_name}' not found in the folder '{folder_path}'. Please check the file path.\")\n",
    "except pd.errors.ParserError as e:\n",
    "    print(f\"Error parsing the file: {e}\")\n"
   ]
  },
  {
   "cell_type": "code",
   "execution_count": 8,
   "id": "b360e24c-daea-4efc-87c9-e6920f9d2320",
   "metadata": {},
   "outputs": [
    {
     "name": "stdout",
     "output_type": "stream",
     "text": [
      "File 'steemit_2024-07-21.tsv' not found in the folder 'steemit_tsv.zip_extracted'. Please check the file path.\n"
     ]
    }
   ],
   "source": [
    "import pandas as pd\n",
    "import os\n",
    "\n",
    "# Path to the folder containing the .tsv file\n",
    "folder_path = \"steemit_tsv.zip_extracted\"\n",
    "file_name = \"steemit_2024-07-21.tsv\"\n",
    "file_path = os.path.join(folder_path, file_name)\n",
    "\n",
    "# Read the file into a DataFrame\n",
    "try:\n",
    "    # Read the file, skipping invalid lines\n",
    "    df = pd.read_csv(file_path, sep=\"\\t\", header=None, on_bad_lines=\"skip\", encoding=\"utf-8\")\n",
    "\n",
    "    # Rename columns for easier access\n",
    "    df.columns = [f\"index{i}\" for i in range(df.shape[1])]\n",
    "\n",
    "    # Filter rows where index2 is \"comment\"\n",
    "    filtered_df = df[df[\"index2\"].str.lower() == \"comment\"]\n",
    "\n",
    "    # Select relevant columns: index1, index9, index10, index11\n",
    "    selected_columns = filtered_df[[\"index1\", \"index9\", \"index10\", \"index11\"]]\n",
    "\n",
    "    # Display only the first ten rows\n",
    "    first_ten_comments = selected_columns.head(10)\n",
    "    print(\"First Ten Comments:\")\n",
    "    print(first_ten_comments)\n",
    "\n",
    "except FileNotFoundError:\n",
    "    print(f\"File '{file_name}' not found in the folder '{folder_path}'. Please check the file path.\")\n",
    "except pd.errors.ParserError as e:\n",
    "    print(f\"Error parsing the file: {e}\")\n"
   ]
  },
  {
   "cell_type": "code",
   "execution_count": null,
   "id": "47678063-b146-4f81-9e35-3715dda3b214",
   "metadata": {},
   "outputs": [],
   "source": []
  }
 ],
 "metadata": {
  "kernelspec": {
   "display_name": "base",
   "language": "python",
   "name": "python3"
  },
  "language_info": {
   "codemirror_mode": {
    "name": "ipython",
    "version": 3
   },
   "file_extension": ".py",
   "mimetype": "text/x-python",
   "name": "python",
   "nbconvert_exporter": "python",
   "pygments_lexer": "ipython3",
   "version": "3.12.7"
  }
 },
 "nbformat": 4,
 "nbformat_minor": 5
}
