{
 "cells": [
  {
   "cell_type": "code",
   "execution_count": null,
   "id": "226f645f-a8ad-4a08-b534-a8e17040f1f9",
   "metadata": {},
   "outputs": [],
   "source": [
    "\n",
    "#PREPROCESS STEEMIT DATA SET TO GENERATE TARGET COLUMNS"
   ]
  },
  {
   "cell_type": "code",
   "execution_count": 3,
   "id": "f30651de-1377-4c7e-8bf1-769b7d4df812",
   "metadata": {},
   "outputs": [
    {
     "name": "stdout",
     "output_type": "stream",
     "text": [
      "Processing 263 files...\n"
     ]
    },
    {
     "name": "stderr",
     "output_type": "stream",
     "text": [
      "Processing files: 100%|██████████| 263/263 [24:36<00:00,  5.62s/it]  "
     ]
    },
    {
     "name": "stdout",
     "output_type": "stream",
     "text": [
      "\n",
      "Sample Processed DataFrame:\n",
      "  timestamp                                              title  \\\n",
      "0   2024-07  SEC-S19 / W2 | Terminología culinaria y uso ad...   \n",
      "1   2024-07  Cuando voy a Maracaibo...... Que molleja!!. Me...   \n",
      "2   2024-07                                      빅워크에서 걸음 적립 중   \n",
      "3   2024-07                                             손바닥 지압   \n",
      "4   2024-07  The Diary Game | Lunes 15-07-2024 | Soy yo otr...   \n",
      "\n",
      "                                                text  \\\n",
      "0  |![Picsart_24-07-16_19-56-35-552.jpg](https://...   \n",
      "1  <hr>\\n<hr>\\n\\n|![maracaibo-96833_1280.jpg](htt...   \n",
      "2  ![](https://cdn.steemitimages.com/DQmTSMVJEkCq...   \n",
      "3  며칠전 부터 양쪽 손가락이 아프고 살짝 붓는 느낌이 있어 마사지를 받고나니 좀 부드...   \n",
      "4  <div class=\"text-justify\">\\n\\n\\n\\n### <center>...   \n",
      "\n",
      "                                   concatenated_text  \n",
      "0  SEC-S19 / W2 | Terminología culinaria y uso ad...  \n",
      "1  Cuando voy a Maracaibo...... Que molleja!!. Me...  \n",
      "2  빅워크에서 걸음 적립 중 . ![](https://cdn.steemitimages....  \n",
      "3  손바닥 지압 . 며칠전 부터 양쪽 손가락이 아프고 살짝 붓는 느낌이 있어 마사지를 ...  \n",
      "4  The Diary Game | Lunes 15-07-2024 | Soy yo otr...  \n"
     ]
    },
    {
     "name": "stderr",
     "output_type": "stream",
     "text": [
      "\n"
     ]
    }
   ],
   "source": [
    "import pandas as pd\n",
    "import os\n",
    "import concurrent.futures\n",
    "from tqdm import tqdm\n",
    "\n",
    "# Define input and output folders\n",
    "input_folder = \"steemit_tsv.zip_extracted\"\n",
    "batch_one_folder = \"Batch_one\"\n",
    "\n",
    "# Ensure output directory exists\n",
    "os.makedirs(batch_one_folder, exist_ok=True)\n",
    "\n",
    "def clean_date(timestamp):\n",
    "    \"\"\"Convert timestamp to YYYY-MM format.\"\"\"\n",
    "    try:\n",
    "        return pd.to_datetime(float(timestamp), unit='s').strftime(\"%Y-%m\")\n",
    "    except ValueError:\n",
    "        return \"unknown\"\n",
    "\n",
    "def process_file(file_name):\n",
    "    \"\"\"Process a single file and save the cleaned data.\"\"\"\n",
    "    file_path = os.path.join(input_folder, file_name)\n",
    "    output_path = os.path.join(batch_one_folder, f\"filtered_{file_name.replace('.tsv', '.csv')}\")\n",
    "    \n",
    "    try:\n",
    "        processed_chunks = []\n",
    "        for chunk in pd.read_csv(file_path, sep=\"\\t\", header=None, on_bad_lines=\"skip\", encoding=\"utf-8\", low_memory=True, chunksize=10000):\n",
    "            chunk.columns = [f\"index{i}\" for i in range(chunk.shape[1])]\n",
    "            \n",
    "            if \"index2\" not in chunk or \"index1\" not in chunk:\n",
    "                continue\n",
    "            \n",
    "            filtered_chunk = chunk[chunk[\"index2\"].str.lower() == \"comment\"]\n",
    "            selected_columns = filtered_chunk[[\"index1\", \"index9\", \"index10\"]].copy()\n",
    "            \n",
    "            selected_columns.rename(columns={\"index1\": \"timestamp\", \"index9\": \"title\", \"index10\": \"text\"}, inplace=True)\n",
    "            selected_columns[\"timestamp\"] = selected_columns[\"timestamp\"].apply(clean_date)\n",
    "            selected_columns[[\"title\", \"text\"]] = selected_columns[[\"title\", \"text\"]].fillna(\"N/A\")\n",
    "            selected_columns[\"concatenated_text\"] = selected_columns[\"title\"] + \" . \" + selected_columns[\"text\"]\n",
    "            selected_columns = selected_columns[~selected_columns[\"concatenated_text\"].str.contains(\"N/A\", na=False)]\n",
    "            processed_chunks.append(selected_columns)\n",
    "        \n",
    "        if processed_chunks:\n",
    "            final_df = pd.concat(processed_chunks, ignore_index=True)\n",
    "            final_df.to_csv(output_path, index=False)\n",
    "            return output_path\n",
    "    except Exception as e:\n",
    "        return f\"Error processing {file_name}: {e}\"\n",
    "\n",
    "# Process all files in parallel\n",
    "files = [f for f in os.listdir(input_folder) if f.endswith('.tsv')]\n",
    "print(f\"Processing {len(files)} files...\")\n",
    "\n",
    "with concurrent.futures.ThreadPoolExecutor() as executor:\n",
    "    results = list(tqdm(executor.map(process_file, files), total=len(files), desc=\"Processing files\"))\n",
    "\n",
    "# Display a sample processed DataFrame\n",
    "sample_file = os.path.join(batch_one_folder, os.listdir(batch_one_folder)[0])\n",
    "if os.path.exists(sample_file):\n",
    "    sample_df = pd.read_csv(sample_file, nrows=5)\n",
    "    print(\"\\nSample Processed DataFrame:\")\n",
    "    print(sample_df.head())\n"
   ]
  },
  {
   "cell_type": "code",
   "execution_count": null,
   "id": "61de20c1-6fc4-43a9-8137-7bd01936c6ac",
   "metadata": {},
   "outputs": [],
   "source": [
    " "
   ]
  },
  {
   "cell_type": "code",
   "execution_count": null,
   "id": "e169b085-6c8b-4161-8a19-f16df1141a67",
   "metadata": {},
   "outputs": [],
   "source": []
  }
 ],
 "metadata": {
  "kernelspec": {
   "display_name": "Python 3 (ipykernel)",
   "language": "python",
   "name": "python3"
  },
  "language_info": {
   "codemirror_mode": {
    "name": "ipython",
    "version": 3
   },
   "file_extension": ".py",
   "mimetype": "text/x-python",
   "name": "python",
   "nbconvert_exporter": "python",
   "pygments_lexer": "ipython3",
   "version": "3.10.12"
  }
 },
 "nbformat": 4,
 "nbformat_minor": 5
}
